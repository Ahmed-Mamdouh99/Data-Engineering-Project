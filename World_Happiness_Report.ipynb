{
  "nbformat": 4,
  "nbformat_minor": 0,
  "metadata": {
    "colab": {
      "name": "World Happiness Report.ipynb",
      "provenance": [],
      "collapsed_sections": []
    },
    "kernelspec": {
      "name": "python3",
      "display_name": "Python 3"
    }
  },
  "cells": [
    {
      "cell_type": "code",
      "metadata": {
        "id": "icP2krfXGVlN"
      },
      "source": [
        "import os\n",
        "import pandas as pd\n",
        "import numpy as np\n",
        "import matplotlib.pyplot as plt"
      ],
      "execution_count": 2,
      "outputs": []
    },
    {
      "cell_type": "code",
      "metadata": {
        "id": "HoWW1le3GvIh",
        "outputId": "0f3287be-c0bc-452d-fe15-af3ffee0bf7d",
        "colab": {
          "base_uri": "https://localhost:8080/",
          "height": 306
        }
      },
      "source": [
        "data2015 = pd.read_csv('2015.csv')\n",
        "data2015.drop(['Happiness Rank', 'Standard Error'], axis=1, inplace=True)\n",
        "data2015['Year'] = 2015\n",
        "data2015.head()"
      ],
      "execution_count": 3,
      "outputs": [
        {
          "output_type": "execute_result",
          "data": {
            "text/html": [
              "<div>\n",
              "<style scoped>\n",
              "    .dataframe tbody tr th:only-of-type {\n",
              "        vertical-align: middle;\n",
              "    }\n",
              "\n",
              "    .dataframe tbody tr th {\n",
              "        vertical-align: top;\n",
              "    }\n",
              "\n",
              "    .dataframe thead th {\n",
              "        text-align: right;\n",
              "    }\n",
              "</style>\n",
              "<table border=\"1\" class=\"dataframe\">\n",
              "  <thead>\n",
              "    <tr style=\"text-align: right;\">\n",
              "      <th></th>\n",
              "      <th>Country</th>\n",
              "      <th>Region</th>\n",
              "      <th>Happiness Score</th>\n",
              "      <th>Economy (GDP per Capita)</th>\n",
              "      <th>Family</th>\n",
              "      <th>Health (Life Expectancy)</th>\n",
              "      <th>Freedom</th>\n",
              "      <th>Trust (Government Corruption)</th>\n",
              "      <th>Generosity</th>\n",
              "      <th>Dystopia Residual</th>\n",
              "      <th>Year</th>\n",
              "    </tr>\n",
              "  </thead>\n",
              "  <tbody>\n",
              "    <tr>\n",
              "      <th>0</th>\n",
              "      <td>Switzerland</td>\n",
              "      <td>Western Europe</td>\n",
              "      <td>7.587</td>\n",
              "      <td>1.39651</td>\n",
              "      <td>1.34951</td>\n",
              "      <td>0.94143</td>\n",
              "      <td>0.66557</td>\n",
              "      <td>0.41978</td>\n",
              "      <td>0.29678</td>\n",
              "      <td>2.51738</td>\n",
              "      <td>2015</td>\n",
              "    </tr>\n",
              "    <tr>\n",
              "      <th>1</th>\n",
              "      <td>Iceland</td>\n",
              "      <td>Western Europe</td>\n",
              "      <td>7.561</td>\n",
              "      <td>1.30232</td>\n",
              "      <td>1.40223</td>\n",
              "      <td>0.94784</td>\n",
              "      <td>0.62877</td>\n",
              "      <td>0.14145</td>\n",
              "      <td>0.43630</td>\n",
              "      <td>2.70201</td>\n",
              "      <td>2015</td>\n",
              "    </tr>\n",
              "    <tr>\n",
              "      <th>2</th>\n",
              "      <td>Denmark</td>\n",
              "      <td>Western Europe</td>\n",
              "      <td>7.527</td>\n",
              "      <td>1.32548</td>\n",
              "      <td>1.36058</td>\n",
              "      <td>0.87464</td>\n",
              "      <td>0.64938</td>\n",
              "      <td>0.48357</td>\n",
              "      <td>0.34139</td>\n",
              "      <td>2.49204</td>\n",
              "      <td>2015</td>\n",
              "    </tr>\n",
              "    <tr>\n",
              "      <th>3</th>\n",
              "      <td>Norway</td>\n",
              "      <td>Western Europe</td>\n",
              "      <td>7.522</td>\n",
              "      <td>1.45900</td>\n",
              "      <td>1.33095</td>\n",
              "      <td>0.88521</td>\n",
              "      <td>0.66973</td>\n",
              "      <td>0.36503</td>\n",
              "      <td>0.34699</td>\n",
              "      <td>2.46531</td>\n",
              "      <td>2015</td>\n",
              "    </tr>\n",
              "    <tr>\n",
              "      <th>4</th>\n",
              "      <td>Canada</td>\n",
              "      <td>North America</td>\n",
              "      <td>7.427</td>\n",
              "      <td>1.32629</td>\n",
              "      <td>1.32261</td>\n",
              "      <td>0.90563</td>\n",
              "      <td>0.63297</td>\n",
              "      <td>0.32957</td>\n",
              "      <td>0.45811</td>\n",
              "      <td>2.45176</td>\n",
              "      <td>2015</td>\n",
              "    </tr>\n",
              "  </tbody>\n",
              "</table>\n",
              "</div>"
            ],
            "text/plain": [
              "       Country          Region  ...  Dystopia Residual  Year\n",
              "0  Switzerland  Western Europe  ...            2.51738  2015\n",
              "1      Iceland  Western Europe  ...            2.70201  2015\n",
              "2      Denmark  Western Europe  ...            2.49204  2015\n",
              "3       Norway  Western Europe  ...            2.46531  2015\n",
              "4       Canada   North America  ...            2.45176  2015\n",
              "\n",
              "[5 rows x 11 columns]"
            ]
          },
          "metadata": {
            "tags": []
          },
          "execution_count": 3
        }
      ]
    },
    {
      "cell_type": "code",
      "metadata": {
        "id": "TGHfAvgnHC1y",
        "outputId": "17b76414-28f2-4a0d-d328-851af6c6db4a",
        "colab": {
          "base_uri": "https://localhost:8080/",
          "height": 306
        }
      },
      "source": [
        "data2016 = pd.read_csv('2016.csv')\n",
        "data2016.drop(['Happiness Rank', 'Lower Confidence Interval', 'Upper Confidence Interval'], axis=1, inplace=True)\n",
        "data2016['Year'] = 2016\n",
        "data2016.head()"
      ],
      "execution_count": 4,
      "outputs": [
        {
          "output_type": "execute_result",
          "data": {
            "text/html": [
              "<div>\n",
              "<style scoped>\n",
              "    .dataframe tbody tr th:only-of-type {\n",
              "        vertical-align: middle;\n",
              "    }\n",
              "\n",
              "    .dataframe tbody tr th {\n",
              "        vertical-align: top;\n",
              "    }\n",
              "\n",
              "    .dataframe thead th {\n",
              "        text-align: right;\n",
              "    }\n",
              "</style>\n",
              "<table border=\"1\" class=\"dataframe\">\n",
              "  <thead>\n",
              "    <tr style=\"text-align: right;\">\n",
              "      <th></th>\n",
              "      <th>Country</th>\n",
              "      <th>Region</th>\n",
              "      <th>Happiness Score</th>\n",
              "      <th>Economy (GDP per Capita)</th>\n",
              "      <th>Family</th>\n",
              "      <th>Health (Life Expectancy)</th>\n",
              "      <th>Freedom</th>\n",
              "      <th>Trust (Government Corruption)</th>\n",
              "      <th>Generosity</th>\n",
              "      <th>Dystopia Residual</th>\n",
              "      <th>Year</th>\n",
              "    </tr>\n",
              "  </thead>\n",
              "  <tbody>\n",
              "    <tr>\n",
              "      <th>0</th>\n",
              "      <td>Denmark</td>\n",
              "      <td>Western Europe</td>\n",
              "      <td>7.526</td>\n",
              "      <td>1.44178</td>\n",
              "      <td>1.16374</td>\n",
              "      <td>0.79504</td>\n",
              "      <td>0.57941</td>\n",
              "      <td>0.44453</td>\n",
              "      <td>0.36171</td>\n",
              "      <td>2.73939</td>\n",
              "      <td>2016</td>\n",
              "    </tr>\n",
              "    <tr>\n",
              "      <th>1</th>\n",
              "      <td>Switzerland</td>\n",
              "      <td>Western Europe</td>\n",
              "      <td>7.509</td>\n",
              "      <td>1.52733</td>\n",
              "      <td>1.14524</td>\n",
              "      <td>0.86303</td>\n",
              "      <td>0.58557</td>\n",
              "      <td>0.41203</td>\n",
              "      <td>0.28083</td>\n",
              "      <td>2.69463</td>\n",
              "      <td>2016</td>\n",
              "    </tr>\n",
              "    <tr>\n",
              "      <th>2</th>\n",
              "      <td>Iceland</td>\n",
              "      <td>Western Europe</td>\n",
              "      <td>7.501</td>\n",
              "      <td>1.42666</td>\n",
              "      <td>1.18326</td>\n",
              "      <td>0.86733</td>\n",
              "      <td>0.56624</td>\n",
              "      <td>0.14975</td>\n",
              "      <td>0.47678</td>\n",
              "      <td>2.83137</td>\n",
              "      <td>2016</td>\n",
              "    </tr>\n",
              "    <tr>\n",
              "      <th>3</th>\n",
              "      <td>Norway</td>\n",
              "      <td>Western Europe</td>\n",
              "      <td>7.498</td>\n",
              "      <td>1.57744</td>\n",
              "      <td>1.12690</td>\n",
              "      <td>0.79579</td>\n",
              "      <td>0.59609</td>\n",
              "      <td>0.35776</td>\n",
              "      <td>0.37895</td>\n",
              "      <td>2.66465</td>\n",
              "      <td>2016</td>\n",
              "    </tr>\n",
              "    <tr>\n",
              "      <th>4</th>\n",
              "      <td>Finland</td>\n",
              "      <td>Western Europe</td>\n",
              "      <td>7.413</td>\n",
              "      <td>1.40598</td>\n",
              "      <td>1.13464</td>\n",
              "      <td>0.81091</td>\n",
              "      <td>0.57104</td>\n",
              "      <td>0.41004</td>\n",
              "      <td>0.25492</td>\n",
              "      <td>2.82596</td>\n",
              "      <td>2016</td>\n",
              "    </tr>\n",
              "  </tbody>\n",
              "</table>\n",
              "</div>"
            ],
            "text/plain": [
              "       Country          Region  ...  Dystopia Residual  Year\n",
              "0      Denmark  Western Europe  ...            2.73939  2016\n",
              "1  Switzerland  Western Europe  ...            2.69463  2016\n",
              "2      Iceland  Western Europe  ...            2.83137  2016\n",
              "3       Norway  Western Europe  ...            2.66465  2016\n",
              "4      Finland  Western Europe  ...            2.82596  2016\n",
              "\n",
              "[5 rows x 11 columns]"
            ]
          },
          "metadata": {
            "tags": []
          },
          "execution_count": 4
        }
      ]
    },
    {
      "cell_type": "code",
      "metadata": {
        "id": "1KVtyrkGHHOe",
        "outputId": "c72e2ec5-dd8d-49cd-b750-30473d3c3aff",
        "colab": {
          "base_uri": "https://localhost:8080/",
          "height": 220
        }
      },
      "source": [
        "data2017 = pd.read_csv('2017.csv')\n",
        "data2017.drop(['Happiness.Rank', 'Whisker.high', 'Whisker.low'], axis=1, inplace=True)\n",
        "data2017.rename(columns={'Happiness.Score': 'Happiness Score', 'Economy..GDP.per.Capita.': 'Economy (GDP per Capita)', \n",
        "                         'Health..Life.Expectancy.': 'Health (Life Expectancy)', 'Trust..Government.Corruption.':'Trust (Government Corruption)', 'Dystopia.Residual': 'Dystopia Residual'}, inplace=True)\n",
        "data2017['Year'] = 2017\n",
        "data2017.head()"
      ],
      "execution_count": 5,
      "outputs": [
        {
          "output_type": "execute_result",
          "data": {
            "text/html": [
              "<div>\n",
              "<style scoped>\n",
              "    .dataframe tbody tr th:only-of-type {\n",
              "        vertical-align: middle;\n",
              "    }\n",
              "\n",
              "    .dataframe tbody tr th {\n",
              "        vertical-align: top;\n",
              "    }\n",
              "\n",
              "    .dataframe thead th {\n",
              "        text-align: right;\n",
              "    }\n",
              "</style>\n",
              "<table border=\"1\" class=\"dataframe\">\n",
              "  <thead>\n",
              "    <tr style=\"text-align: right;\">\n",
              "      <th></th>\n",
              "      <th>Country</th>\n",
              "      <th>Happiness Score</th>\n",
              "      <th>Economy (GDP per Capita)</th>\n",
              "      <th>Family</th>\n",
              "      <th>Health (Life Expectancy)</th>\n",
              "      <th>Freedom</th>\n",
              "      <th>Generosity</th>\n",
              "      <th>Trust (Government Corruption)</th>\n",
              "      <th>Dystopia Residual</th>\n",
              "      <th>Year</th>\n",
              "    </tr>\n",
              "  </thead>\n",
              "  <tbody>\n",
              "    <tr>\n",
              "      <th>0</th>\n",
              "      <td>Norway</td>\n",
              "      <td>7.537</td>\n",
              "      <td>1.616463</td>\n",
              "      <td>1.533524</td>\n",
              "      <td>0.796667</td>\n",
              "      <td>0.635423</td>\n",
              "      <td>0.362012</td>\n",
              "      <td>0.315964</td>\n",
              "      <td>2.277027</td>\n",
              "      <td>2017</td>\n",
              "    </tr>\n",
              "    <tr>\n",
              "      <th>1</th>\n",
              "      <td>Denmark</td>\n",
              "      <td>7.522</td>\n",
              "      <td>1.482383</td>\n",
              "      <td>1.551122</td>\n",
              "      <td>0.792566</td>\n",
              "      <td>0.626007</td>\n",
              "      <td>0.355280</td>\n",
              "      <td>0.400770</td>\n",
              "      <td>2.313707</td>\n",
              "      <td>2017</td>\n",
              "    </tr>\n",
              "    <tr>\n",
              "      <th>2</th>\n",
              "      <td>Iceland</td>\n",
              "      <td>7.504</td>\n",
              "      <td>1.480633</td>\n",
              "      <td>1.610574</td>\n",
              "      <td>0.833552</td>\n",
              "      <td>0.627163</td>\n",
              "      <td>0.475540</td>\n",
              "      <td>0.153527</td>\n",
              "      <td>2.322715</td>\n",
              "      <td>2017</td>\n",
              "    </tr>\n",
              "    <tr>\n",
              "      <th>3</th>\n",
              "      <td>Switzerland</td>\n",
              "      <td>7.494</td>\n",
              "      <td>1.564980</td>\n",
              "      <td>1.516912</td>\n",
              "      <td>0.858131</td>\n",
              "      <td>0.620071</td>\n",
              "      <td>0.290549</td>\n",
              "      <td>0.367007</td>\n",
              "      <td>2.276716</td>\n",
              "      <td>2017</td>\n",
              "    </tr>\n",
              "    <tr>\n",
              "      <th>4</th>\n",
              "      <td>Finland</td>\n",
              "      <td>7.469</td>\n",
              "      <td>1.443572</td>\n",
              "      <td>1.540247</td>\n",
              "      <td>0.809158</td>\n",
              "      <td>0.617951</td>\n",
              "      <td>0.245483</td>\n",
              "      <td>0.382612</td>\n",
              "      <td>2.430182</td>\n",
              "      <td>2017</td>\n",
              "    </tr>\n",
              "  </tbody>\n",
              "</table>\n",
              "</div>"
            ],
            "text/plain": [
              "       Country  Happiness Score  ...  Dystopia Residual  Year\n",
              "0       Norway            7.537  ...           2.277027  2017\n",
              "1      Denmark            7.522  ...           2.313707  2017\n",
              "2      Iceland            7.504  ...           2.322715  2017\n",
              "3  Switzerland            7.494  ...           2.276716  2017\n",
              "4      Finland            7.469  ...           2.430182  2017\n",
              "\n",
              "[5 rows x 10 columns]"
            ]
          },
          "metadata": {
            "tags": []
          },
          "execution_count": 5
        }
      ]
    },
    {
      "cell_type": "code",
      "metadata": {
        "id": "uXFQDOFoHH-O",
        "outputId": "c827dfaf-7b52-4499-f36b-f1dd2fb516c9",
        "colab": {
          "base_uri": "https://localhost:8080/",
          "height": 220
        }
      },
      "source": [
        "data2018 = pd.read_csv('2018.csv')\n",
        "data2018.drop(['Overall rank'], axis=1, inplace=True)\n",
        "data2018['Year'] = 2018\n",
        "data2018.head()"
      ],
      "execution_count": 6,
      "outputs": [
        {
          "output_type": "execute_result",
          "data": {
            "text/html": [
              "<div>\n",
              "<style scoped>\n",
              "    .dataframe tbody tr th:only-of-type {\n",
              "        vertical-align: middle;\n",
              "    }\n",
              "\n",
              "    .dataframe tbody tr th {\n",
              "        vertical-align: top;\n",
              "    }\n",
              "\n",
              "    .dataframe thead th {\n",
              "        text-align: right;\n",
              "    }\n",
              "</style>\n",
              "<table border=\"1\" class=\"dataframe\">\n",
              "  <thead>\n",
              "    <tr style=\"text-align: right;\">\n",
              "      <th></th>\n",
              "      <th>Country or region</th>\n",
              "      <th>Score</th>\n",
              "      <th>GDP per capita</th>\n",
              "      <th>Social support</th>\n",
              "      <th>Healthy life expectancy</th>\n",
              "      <th>Freedom to make life choices</th>\n",
              "      <th>Generosity</th>\n",
              "      <th>Perceptions of corruption</th>\n",
              "      <th>Year</th>\n",
              "    </tr>\n",
              "  </thead>\n",
              "  <tbody>\n",
              "    <tr>\n",
              "      <th>0</th>\n",
              "      <td>Finland</td>\n",
              "      <td>7.632</td>\n",
              "      <td>1.305</td>\n",
              "      <td>1.592</td>\n",
              "      <td>0.874</td>\n",
              "      <td>0.681</td>\n",
              "      <td>0.202</td>\n",
              "      <td>0.393</td>\n",
              "      <td>2018</td>\n",
              "    </tr>\n",
              "    <tr>\n",
              "      <th>1</th>\n",
              "      <td>Norway</td>\n",
              "      <td>7.594</td>\n",
              "      <td>1.456</td>\n",
              "      <td>1.582</td>\n",
              "      <td>0.861</td>\n",
              "      <td>0.686</td>\n",
              "      <td>0.286</td>\n",
              "      <td>0.340</td>\n",
              "      <td>2018</td>\n",
              "    </tr>\n",
              "    <tr>\n",
              "      <th>2</th>\n",
              "      <td>Denmark</td>\n",
              "      <td>7.555</td>\n",
              "      <td>1.351</td>\n",
              "      <td>1.590</td>\n",
              "      <td>0.868</td>\n",
              "      <td>0.683</td>\n",
              "      <td>0.284</td>\n",
              "      <td>0.408</td>\n",
              "      <td>2018</td>\n",
              "    </tr>\n",
              "    <tr>\n",
              "      <th>3</th>\n",
              "      <td>Iceland</td>\n",
              "      <td>7.495</td>\n",
              "      <td>1.343</td>\n",
              "      <td>1.644</td>\n",
              "      <td>0.914</td>\n",
              "      <td>0.677</td>\n",
              "      <td>0.353</td>\n",
              "      <td>0.138</td>\n",
              "      <td>2018</td>\n",
              "    </tr>\n",
              "    <tr>\n",
              "      <th>4</th>\n",
              "      <td>Switzerland</td>\n",
              "      <td>7.487</td>\n",
              "      <td>1.420</td>\n",
              "      <td>1.549</td>\n",
              "      <td>0.927</td>\n",
              "      <td>0.660</td>\n",
              "      <td>0.256</td>\n",
              "      <td>0.357</td>\n",
              "      <td>2018</td>\n",
              "    </tr>\n",
              "  </tbody>\n",
              "</table>\n",
              "</div>"
            ],
            "text/plain": [
              "  Country or region  Score  ...  Perceptions of corruption  Year\n",
              "0           Finland  7.632  ...                      0.393  2018\n",
              "1            Norway  7.594  ...                      0.340  2018\n",
              "2           Denmark  7.555  ...                      0.408  2018\n",
              "3           Iceland  7.495  ...                      0.138  2018\n",
              "4       Switzerland  7.487  ...                      0.357  2018\n",
              "\n",
              "[5 rows x 9 columns]"
            ]
          },
          "metadata": {
            "tags": []
          },
          "execution_count": 6
        }
      ]
    },
    {
      "cell_type": "code",
      "metadata": {
        "id": "fX68-CYBHIw-",
        "outputId": "096b58b9-7001-4b38-be38-053079931928",
        "colab": {
          "base_uri": "https://localhost:8080/",
          "height": 220
        }
      },
      "source": [
        "data2019 = pd.read_csv('2019.csv')\n",
        "data2019.drop(['Overall rank'], axis=1, inplace=True)\n",
        "data2019['Year'] = 2019\n",
        "data2019.head()"
      ],
      "execution_count": 7,
      "outputs": [
        {
          "output_type": "execute_result",
          "data": {
            "text/html": [
              "<div>\n",
              "<style scoped>\n",
              "    .dataframe tbody tr th:only-of-type {\n",
              "        vertical-align: middle;\n",
              "    }\n",
              "\n",
              "    .dataframe tbody tr th {\n",
              "        vertical-align: top;\n",
              "    }\n",
              "\n",
              "    .dataframe thead th {\n",
              "        text-align: right;\n",
              "    }\n",
              "</style>\n",
              "<table border=\"1\" class=\"dataframe\">\n",
              "  <thead>\n",
              "    <tr style=\"text-align: right;\">\n",
              "      <th></th>\n",
              "      <th>Country or region</th>\n",
              "      <th>Score</th>\n",
              "      <th>GDP per capita</th>\n",
              "      <th>Social support</th>\n",
              "      <th>Healthy life expectancy</th>\n",
              "      <th>Freedom to make life choices</th>\n",
              "      <th>Generosity</th>\n",
              "      <th>Perceptions of corruption</th>\n",
              "      <th>Year</th>\n",
              "    </tr>\n",
              "  </thead>\n",
              "  <tbody>\n",
              "    <tr>\n",
              "      <th>0</th>\n",
              "      <td>Finland</td>\n",
              "      <td>7.769</td>\n",
              "      <td>1.340</td>\n",
              "      <td>1.587</td>\n",
              "      <td>0.986</td>\n",
              "      <td>0.596</td>\n",
              "      <td>0.153</td>\n",
              "      <td>0.393</td>\n",
              "      <td>2019</td>\n",
              "    </tr>\n",
              "    <tr>\n",
              "      <th>1</th>\n",
              "      <td>Denmark</td>\n",
              "      <td>7.600</td>\n",
              "      <td>1.383</td>\n",
              "      <td>1.573</td>\n",
              "      <td>0.996</td>\n",
              "      <td>0.592</td>\n",
              "      <td>0.252</td>\n",
              "      <td>0.410</td>\n",
              "      <td>2019</td>\n",
              "    </tr>\n",
              "    <tr>\n",
              "      <th>2</th>\n",
              "      <td>Norway</td>\n",
              "      <td>7.554</td>\n",
              "      <td>1.488</td>\n",
              "      <td>1.582</td>\n",
              "      <td>1.028</td>\n",
              "      <td>0.603</td>\n",
              "      <td>0.271</td>\n",
              "      <td>0.341</td>\n",
              "      <td>2019</td>\n",
              "    </tr>\n",
              "    <tr>\n",
              "      <th>3</th>\n",
              "      <td>Iceland</td>\n",
              "      <td>7.494</td>\n",
              "      <td>1.380</td>\n",
              "      <td>1.624</td>\n",
              "      <td>1.026</td>\n",
              "      <td>0.591</td>\n",
              "      <td>0.354</td>\n",
              "      <td>0.118</td>\n",
              "      <td>2019</td>\n",
              "    </tr>\n",
              "    <tr>\n",
              "      <th>4</th>\n",
              "      <td>Netherlands</td>\n",
              "      <td>7.488</td>\n",
              "      <td>1.396</td>\n",
              "      <td>1.522</td>\n",
              "      <td>0.999</td>\n",
              "      <td>0.557</td>\n",
              "      <td>0.322</td>\n",
              "      <td>0.298</td>\n",
              "      <td>2019</td>\n",
              "    </tr>\n",
              "  </tbody>\n",
              "</table>\n",
              "</div>"
            ],
            "text/plain": [
              "  Country or region  Score  ...  Perceptions of corruption  Year\n",
              "0           Finland  7.769  ...                      0.393  2019\n",
              "1           Denmark  7.600  ...                      0.410  2019\n",
              "2            Norway  7.554  ...                      0.341  2019\n",
              "3           Iceland  7.494  ...                      0.118  2019\n",
              "4       Netherlands  7.488  ...                      0.298  2019\n",
              "\n",
              "[5 rows x 9 columns]"
            ]
          },
          "metadata": {
            "tags": []
          },
          "execution_count": 7
        }
      ]
    },
    {
      "cell_type": "code",
      "metadata": {
        "id": "jf-wHri_Jbu2"
      },
      "source": [
        "from collections import Counter\n",
        "def compareSeries(a,b):\n",
        "  C = a.tolist()\n",
        "  D = b.tolist()\n",
        "  return list((Counter(C) - Counter(D)).elements())"
      ],
      "execution_count": 8,
      "outputs": []
    },
    {
      "cell_type": "code",
      "metadata": {
        "id": "ynnNYZFrKVCr"
      },
      "source": [
        "data2015.replace({'Country':'Somaliland region'}, 'Somaliland Region',inplace=True)\n",
        "\n",
        "data2017.replace({'Country':'Taiwan Province of China'}, 'Taiwan',inplace=True)\n",
        "data2017.replace({'Country':'Hong Kong S.A.R., China'}, 'Hong Kong',inplace=True)\n",
        "\n",
        "data2018.replace({'Country or region':'Trinidad & Tobago'}, 'Trinidad and Tobago',inplace=True)\n",
        "\n",
        "data2019.replace({'Country or region':'Trinidad & Tobago'}, 'Trinidad and Tobago',inplace=True)\n",
        "data2019.replace({'Country or region':'Northern Cyprus'}, 'North Cyprus',inplace=True)\n"
      ],
      "execution_count": 9,
      "outputs": []
    },
    {
      "cell_type": "code",
      "metadata": {
        "id": "NmktqRldHJa8",
        "outputId": "d289834c-2bde-447a-e6f0-ef15deda1715",
        "colab": {
          "base_uri": "https://localhost:8080/"
        }
      },
      "source": [
        "allDatasets = [data2015['Country'], data2016['Country'], data2017['Country'], data2018['Country or region'], data2019['Country or region']]\n",
        "for idx1,dataset in enumerate(allDatasets):\n",
        "  for idx2,dataset2 in enumerate(allDatasets):\n",
        "    print(idx1,idx2,compareSeries(dataset,dataset2))\n",
        "    print(idx2,idx1,compareSeries(dataset2, dataset))\n",
        "    print(\"------------------------------------\")\n",
        "    # if dataset.equals(dataset2) and dataset2.equals(dataset):\n",
        "    #   print(\"No Problems\")\n",
        "    # else:\n",
        "    #   print(idx1, idx2)"
      ],
      "execution_count": 10,
      "outputs": [
        {
          "output_type": "stream",
          "text": [
            "0 0 []\n",
            "0 0 []\n",
            "------------------------------------\n",
            "0 1 ['Oman', 'Mozambique', 'Lesotho', 'Swaziland', 'Djibouti', 'Central African Republic']\n",
            "1 0 ['Puerto Rico', 'Belize', 'Somalia', 'Namibia', 'South Sudan']\n",
            "------------------------------------\n",
            "0 2 ['Oman', 'Suriname', 'Somaliland Region', 'Laos', 'Swaziland', 'Djibouti', 'Comoros']\n",
            "2 0 ['Belize', 'Somalia', 'Namibia', 'South Sudan']\n",
            "------------------------------------\n",
            "0 3 ['Oman', 'Suriname', 'North Cyprus', 'Somaliland Region', 'Swaziland', 'Djibouti', 'Comoros']\n",
            "3 0 ['Belize', 'Northern Cyprus', 'Somalia', 'Namibia', 'South Sudan']\n",
            "------------------------------------\n",
            "0 4 ['Oman', 'Suriname', 'Somaliland Region', 'Macedonia', 'Sudan', 'Djibouti', 'Angola']\n",
            "4 0 ['North Macedonia', 'Somalia', 'Namibia', 'Gambia', 'South Sudan']\n",
            "------------------------------------\n",
            "1 0 ['Puerto Rico', 'Belize', 'Somalia', 'Namibia', 'South Sudan']\n",
            "0 1 ['Oman', 'Mozambique', 'Lesotho', 'Swaziland', 'Djibouti', 'Central African Republic']\n",
            "------------------------------------\n",
            "1 1 []\n",
            "1 1 []\n",
            "------------------------------------\n",
            "1 2 ['Puerto Rico', 'Suriname', 'Somaliland Region', 'Laos', 'Comoros']\n",
            "2 1 ['Mozambique', 'Lesotho', 'Central African Republic']\n",
            "------------------------------------\n",
            "1 3 ['Puerto Rico', 'Suriname', 'North Cyprus', 'Somaliland Region', 'Comoros']\n",
            "3 1 ['Northern Cyprus', 'Mozambique', 'Lesotho', 'Central African Republic']\n",
            "------------------------------------\n",
            "1 4 ['Puerto Rico', 'Suriname', 'Belize', 'Macedonia', 'Somaliland Region', 'Sudan', 'Angola']\n",
            "4 1 ['North Macedonia', 'Gambia', 'Mozambique', 'Swaziland', 'Lesotho', 'Central African Republic']\n",
            "------------------------------------\n",
            "2 0 ['Belize', 'Somalia', 'Namibia', 'South Sudan']\n",
            "0 2 ['Oman', 'Suriname', 'Somaliland Region', 'Laos', 'Swaziland', 'Djibouti', 'Comoros']\n",
            "------------------------------------\n",
            "2 1 ['Mozambique', 'Lesotho', 'Central African Republic']\n",
            "1 2 ['Puerto Rico', 'Suriname', 'Somaliland Region', 'Laos', 'Comoros']\n",
            "------------------------------------\n",
            "2 2 []\n",
            "2 2 []\n",
            "------------------------------------\n",
            "2 3 ['North Cyprus']\n",
            "3 2 ['Northern Cyprus', 'Laos']\n",
            "------------------------------------\n",
            "2 4 ['Belize', 'Macedonia', 'Sudan', 'Angola']\n",
            "4 2 ['North Macedonia', 'Laos', 'Gambia', 'Swaziland', 'Comoros']\n",
            "------------------------------------\n",
            "3 0 ['Belize', 'Northern Cyprus', 'Somalia', 'Namibia', 'South Sudan']\n",
            "0 3 ['Oman', 'Suriname', 'North Cyprus', 'Somaliland Region', 'Swaziland', 'Djibouti', 'Comoros']\n",
            "------------------------------------\n",
            "3 1 ['Northern Cyprus', 'Mozambique', 'Lesotho', 'Central African Republic']\n",
            "1 3 ['Puerto Rico', 'Suriname', 'North Cyprus', 'Somaliland Region', 'Comoros']\n",
            "------------------------------------\n",
            "3 2 ['Northern Cyprus', 'Laos']\n",
            "2 3 ['North Cyprus']\n",
            "------------------------------------\n",
            "3 3 []\n",
            "3 3 []\n",
            "------------------------------------\n",
            "3 4 ['Belize', 'Northern Cyprus', 'Macedonia', 'Sudan', 'Angola']\n",
            "4 3 ['North Cyprus', 'North Macedonia', 'Gambia', 'Swaziland', 'Comoros']\n",
            "------------------------------------\n",
            "4 0 ['North Macedonia', 'Somalia', 'Namibia', 'Gambia', 'South Sudan']\n",
            "0 4 ['Oman', 'Suriname', 'Somaliland Region', 'Macedonia', 'Sudan', 'Djibouti', 'Angola']\n",
            "------------------------------------\n",
            "4 1 ['North Macedonia', 'Gambia', 'Mozambique', 'Swaziland', 'Lesotho', 'Central African Republic']\n",
            "1 4 ['Puerto Rico', 'Suriname', 'Belize', 'Macedonia', 'Somaliland Region', 'Sudan', 'Angola']\n",
            "------------------------------------\n",
            "4 2 ['North Macedonia', 'Laos', 'Gambia', 'Swaziland', 'Comoros']\n",
            "2 4 ['Belize', 'Macedonia', 'Sudan', 'Angola']\n",
            "------------------------------------\n",
            "4 3 ['North Cyprus', 'North Macedonia', 'Gambia', 'Swaziland', 'Comoros']\n",
            "3 4 ['Belize', 'Northern Cyprus', 'Macedonia', 'Sudan', 'Angola']\n",
            "------------------------------------\n",
            "4 4 []\n",
            "4 4 []\n",
            "------------------------------------\n"
          ],
          "name": "stdout"
        }
      ]
    },
    {
      "cell_type": "code",
      "metadata": {
        "id": "JYttwp9FJN8j",
        "outputId": "3f97eff8-149c-43de-94fb-1de0a1884ffd",
        "colab": {
          "base_uri": "https://localhost:8080/",
          "height": 254
        }
      },
      "source": [
        "allYearsOld = pd.concat([data2015,data2016, data2017])\n",
        "allYearsOld.sort_values(['Country','Year'], inplace=True, ignore_index=True)\n",
        "allYearsOld.head()"
      ],
      "execution_count": 11,
      "outputs": [
        {
          "output_type": "execute_result",
          "data": {
            "text/html": [
              "<div>\n",
              "<style scoped>\n",
              "    .dataframe tbody tr th:only-of-type {\n",
              "        vertical-align: middle;\n",
              "    }\n",
              "\n",
              "    .dataframe tbody tr th {\n",
              "        vertical-align: top;\n",
              "    }\n",
              "\n",
              "    .dataframe thead th {\n",
              "        text-align: right;\n",
              "    }\n",
              "</style>\n",
              "<table border=\"1\" class=\"dataframe\">\n",
              "  <thead>\n",
              "    <tr style=\"text-align: right;\">\n",
              "      <th></th>\n",
              "      <th>Country</th>\n",
              "      <th>Region</th>\n",
              "      <th>Happiness Score</th>\n",
              "      <th>Economy (GDP per Capita)</th>\n",
              "      <th>Family</th>\n",
              "      <th>Health (Life Expectancy)</th>\n",
              "      <th>Freedom</th>\n",
              "      <th>Trust (Government Corruption)</th>\n",
              "      <th>Generosity</th>\n",
              "      <th>Dystopia Residual</th>\n",
              "      <th>Year</th>\n",
              "    </tr>\n",
              "  </thead>\n",
              "  <tbody>\n",
              "    <tr>\n",
              "      <th>0</th>\n",
              "      <td>Afghanistan</td>\n",
              "      <td>Southern Asia</td>\n",
              "      <td>3.575</td>\n",
              "      <td>0.319820</td>\n",
              "      <td>0.302850</td>\n",
              "      <td>0.303350</td>\n",
              "      <td>0.23414</td>\n",
              "      <td>0.097190</td>\n",
              "      <td>0.365100</td>\n",
              "      <td>1.952100</td>\n",
              "      <td>2015</td>\n",
              "    </tr>\n",
              "    <tr>\n",
              "      <th>1</th>\n",
              "      <td>Afghanistan</td>\n",
              "      <td>Southern Asia</td>\n",
              "      <td>3.360</td>\n",
              "      <td>0.382270</td>\n",
              "      <td>0.110370</td>\n",
              "      <td>0.173440</td>\n",
              "      <td>0.16430</td>\n",
              "      <td>0.071120</td>\n",
              "      <td>0.312680</td>\n",
              "      <td>2.145580</td>\n",
              "      <td>2016</td>\n",
              "    </tr>\n",
              "    <tr>\n",
              "      <th>2</th>\n",
              "      <td>Afghanistan</td>\n",
              "      <td>NaN</td>\n",
              "      <td>3.794</td>\n",
              "      <td>0.401477</td>\n",
              "      <td>0.581543</td>\n",
              "      <td>0.180747</td>\n",
              "      <td>0.10618</td>\n",
              "      <td>0.061158</td>\n",
              "      <td>0.311871</td>\n",
              "      <td>2.150801</td>\n",
              "      <td>2017</td>\n",
              "    </tr>\n",
              "    <tr>\n",
              "      <th>3</th>\n",
              "      <td>Albania</td>\n",
              "      <td>Central and Eastern Europe</td>\n",
              "      <td>4.959</td>\n",
              "      <td>0.878670</td>\n",
              "      <td>0.804340</td>\n",
              "      <td>0.813250</td>\n",
              "      <td>0.35733</td>\n",
              "      <td>0.064130</td>\n",
              "      <td>0.142720</td>\n",
              "      <td>1.898940</td>\n",
              "      <td>2015</td>\n",
              "    </tr>\n",
              "    <tr>\n",
              "      <th>4</th>\n",
              "      <td>Albania</td>\n",
              "      <td>Central and Eastern Europe</td>\n",
              "      <td>4.655</td>\n",
              "      <td>0.955300</td>\n",
              "      <td>0.501630</td>\n",
              "      <td>0.730070</td>\n",
              "      <td>0.31866</td>\n",
              "      <td>0.053010</td>\n",
              "      <td>0.168400</td>\n",
              "      <td>1.928160</td>\n",
              "      <td>2016</td>\n",
              "    </tr>\n",
              "  </tbody>\n",
              "</table>\n",
              "</div>"
            ],
            "text/plain": [
              "       Country                      Region  ...  Dystopia Residual  Year\n",
              "0  Afghanistan               Southern Asia  ...           1.952100  2015\n",
              "1  Afghanistan               Southern Asia  ...           2.145580  2016\n",
              "2  Afghanistan                         NaN  ...           2.150801  2017\n",
              "3      Albania  Central and Eastern Europe  ...           1.898940  2015\n",
              "4      Albania  Central and Eastern Europe  ...           1.928160  2016\n",
              "\n",
              "[5 rows x 11 columns]"
            ]
          },
          "metadata": {
            "tags": []
          },
          "execution_count": 11
        }
      ]
    },
    {
      "cell_type": "code",
      "metadata": {
        "id": "nTMZBqZbT7jw",
        "outputId": "ae8b9d3f-df92-496d-d365-2e9854cb59d1",
        "colab": {
          "base_uri": "https://localhost:8080/",
          "height": 220
        }
      },
      "source": [
        "allYearsNew = pd.concat([data2018, data2019])\n",
        "allYearsNew.sort_values(['Country or region', 'Year'], inplace=True, ignore_index=True)\n",
        "allYearsNew.head()"
      ],
      "execution_count": 12,
      "outputs": [
        {
          "output_type": "execute_result",
          "data": {
            "text/html": [
              "<div>\n",
              "<style scoped>\n",
              "    .dataframe tbody tr th:only-of-type {\n",
              "        vertical-align: middle;\n",
              "    }\n",
              "\n",
              "    .dataframe tbody tr th {\n",
              "        vertical-align: top;\n",
              "    }\n",
              "\n",
              "    .dataframe thead th {\n",
              "        text-align: right;\n",
              "    }\n",
              "</style>\n",
              "<table border=\"1\" class=\"dataframe\">\n",
              "  <thead>\n",
              "    <tr style=\"text-align: right;\">\n",
              "      <th></th>\n",
              "      <th>Country or region</th>\n",
              "      <th>Score</th>\n",
              "      <th>GDP per capita</th>\n",
              "      <th>Social support</th>\n",
              "      <th>Healthy life expectancy</th>\n",
              "      <th>Freedom to make life choices</th>\n",
              "      <th>Generosity</th>\n",
              "      <th>Perceptions of corruption</th>\n",
              "      <th>Year</th>\n",
              "    </tr>\n",
              "  </thead>\n",
              "  <tbody>\n",
              "    <tr>\n",
              "      <th>0</th>\n",
              "      <td>Afghanistan</td>\n",
              "      <td>3.632</td>\n",
              "      <td>0.332</td>\n",
              "      <td>0.537</td>\n",
              "      <td>0.255</td>\n",
              "      <td>0.085</td>\n",
              "      <td>0.191</td>\n",
              "      <td>0.036</td>\n",
              "      <td>2018</td>\n",
              "    </tr>\n",
              "    <tr>\n",
              "      <th>1</th>\n",
              "      <td>Afghanistan</td>\n",
              "      <td>3.203</td>\n",
              "      <td>0.350</td>\n",
              "      <td>0.517</td>\n",
              "      <td>0.361</td>\n",
              "      <td>0.000</td>\n",
              "      <td>0.158</td>\n",
              "      <td>0.025</td>\n",
              "      <td>2019</td>\n",
              "    </tr>\n",
              "    <tr>\n",
              "      <th>2</th>\n",
              "      <td>Albania</td>\n",
              "      <td>4.586</td>\n",
              "      <td>0.916</td>\n",
              "      <td>0.817</td>\n",
              "      <td>0.790</td>\n",
              "      <td>0.419</td>\n",
              "      <td>0.149</td>\n",
              "      <td>0.032</td>\n",
              "      <td>2018</td>\n",
              "    </tr>\n",
              "    <tr>\n",
              "      <th>3</th>\n",
              "      <td>Albania</td>\n",
              "      <td>4.719</td>\n",
              "      <td>0.947</td>\n",
              "      <td>0.848</td>\n",
              "      <td>0.874</td>\n",
              "      <td>0.383</td>\n",
              "      <td>0.178</td>\n",
              "      <td>0.027</td>\n",
              "      <td>2019</td>\n",
              "    </tr>\n",
              "    <tr>\n",
              "      <th>4</th>\n",
              "      <td>Algeria</td>\n",
              "      <td>5.295</td>\n",
              "      <td>0.979</td>\n",
              "      <td>1.154</td>\n",
              "      <td>0.687</td>\n",
              "      <td>0.077</td>\n",
              "      <td>0.055</td>\n",
              "      <td>0.135</td>\n",
              "      <td>2018</td>\n",
              "    </tr>\n",
              "  </tbody>\n",
              "</table>\n",
              "</div>"
            ],
            "text/plain": [
              "  Country or region  Score  ...  Perceptions of corruption  Year\n",
              "0       Afghanistan  3.632  ...                      0.036  2018\n",
              "1       Afghanistan  3.203  ...                      0.025  2019\n",
              "2           Albania  4.586  ...                      0.032  2018\n",
              "3           Albania  4.719  ...                      0.027  2019\n",
              "4           Algeria  5.295  ...                      0.135  2018\n",
              "\n",
              "[5 rows x 9 columns]"
            ]
          },
          "metadata": {
            "tags": []
          },
          "execution_count": 12
        }
      ]
    },
    {
      "cell_type": "code",
      "metadata": {
        "id": "7u_NmjYyVeKo"
      },
      "source": [
        "allYearsOldAdjusted = allYearsOld.drop(['Region', 'Family', 'Dystopia Residual'], axis=1)\n",
        "allYearsNewAdjusted = allYearsNew.rename(columns={'Country or region': 'Country', 'Score': 'Happiness Score', 'GDP per capita':'Economy (GDP per Capita)', 'Healthy life expectancy':'Health (Life Expectancy)', 'Freedom to make life choices':'Freedom', 'Perceptions of corruption':'Trust (Government Corruption)'})\n",
        "allYearsNewAdjusted.drop(['Social support'], axis=1, inplace=True)"
      ],
      "execution_count": 43,
      "outputs": []
    },
    {
      "cell_type": "code",
      "metadata": {
        "id": "3BratV8WUxa-",
        "outputId": "fc481f32-2b47-48c0-9bc5-8ae4e7b2eaf5",
        "colab": {
          "base_uri": "https://localhost:8080/",
          "height": 357
        }
      },
      "source": [
        "allYearsCombined = pd.concat((allYearsOldAdjusted, allYearsNewAdjusted), axis=0)\n",
        "allYearsCombined.sort_values(['Country','Year'], inplace=True, ignore_index=True)\n",
        "allYearsCombined.head(10)"
      ],
      "execution_count": 225,
      "outputs": [
        {
          "output_type": "execute_result",
          "data": {
            "text/html": [
              "<div>\n",
              "<style scoped>\n",
              "    .dataframe tbody tr th:only-of-type {\n",
              "        vertical-align: middle;\n",
              "    }\n",
              "\n",
              "    .dataframe tbody tr th {\n",
              "        vertical-align: top;\n",
              "    }\n",
              "\n",
              "    .dataframe thead th {\n",
              "        text-align: right;\n",
              "    }\n",
              "</style>\n",
              "<table border=\"1\" class=\"dataframe\">\n",
              "  <thead>\n",
              "    <tr style=\"text-align: right;\">\n",
              "      <th></th>\n",
              "      <th>Country</th>\n",
              "      <th>Happiness Score</th>\n",
              "      <th>Economy (GDP per Capita)</th>\n",
              "      <th>Health (Life Expectancy)</th>\n",
              "      <th>Freedom</th>\n",
              "      <th>Trust (Government Corruption)</th>\n",
              "      <th>Generosity</th>\n",
              "      <th>Year</th>\n",
              "    </tr>\n",
              "  </thead>\n",
              "  <tbody>\n",
              "    <tr>\n",
              "      <th>0</th>\n",
              "      <td>Afghanistan</td>\n",
              "      <td>3.575</td>\n",
              "      <td>0.319820</td>\n",
              "      <td>0.303350</td>\n",
              "      <td>0.234140</td>\n",
              "      <td>0.097190</td>\n",
              "      <td>0.365100</td>\n",
              "      <td>2015</td>\n",
              "    </tr>\n",
              "    <tr>\n",
              "      <th>1</th>\n",
              "      <td>Afghanistan</td>\n",
              "      <td>3.360</td>\n",
              "      <td>0.382270</td>\n",
              "      <td>0.173440</td>\n",
              "      <td>0.164300</td>\n",
              "      <td>0.071120</td>\n",
              "      <td>0.312680</td>\n",
              "      <td>2016</td>\n",
              "    </tr>\n",
              "    <tr>\n",
              "      <th>2</th>\n",
              "      <td>Afghanistan</td>\n",
              "      <td>3.794</td>\n",
              "      <td>0.401477</td>\n",
              "      <td>0.180747</td>\n",
              "      <td>0.106180</td>\n",
              "      <td>0.061158</td>\n",
              "      <td>0.311871</td>\n",
              "      <td>2017</td>\n",
              "    </tr>\n",
              "    <tr>\n",
              "      <th>3</th>\n",
              "      <td>Afghanistan</td>\n",
              "      <td>3.632</td>\n",
              "      <td>0.332000</td>\n",
              "      <td>0.255000</td>\n",
              "      <td>0.085000</td>\n",
              "      <td>0.036000</td>\n",
              "      <td>0.191000</td>\n",
              "      <td>2018</td>\n",
              "    </tr>\n",
              "    <tr>\n",
              "      <th>4</th>\n",
              "      <td>Afghanistan</td>\n",
              "      <td>3.203</td>\n",
              "      <td>0.350000</td>\n",
              "      <td>0.361000</td>\n",
              "      <td>0.000000</td>\n",
              "      <td>0.025000</td>\n",
              "      <td>0.158000</td>\n",
              "      <td>2019</td>\n",
              "    </tr>\n",
              "    <tr>\n",
              "      <th>5</th>\n",
              "      <td>Albania</td>\n",
              "      <td>4.959</td>\n",
              "      <td>0.878670</td>\n",
              "      <td>0.813250</td>\n",
              "      <td>0.357330</td>\n",
              "      <td>0.064130</td>\n",
              "      <td>0.142720</td>\n",
              "      <td>2015</td>\n",
              "    </tr>\n",
              "    <tr>\n",
              "      <th>6</th>\n",
              "      <td>Albania</td>\n",
              "      <td>4.655</td>\n",
              "      <td>0.955300</td>\n",
              "      <td>0.730070</td>\n",
              "      <td>0.318660</td>\n",
              "      <td>0.053010</td>\n",
              "      <td>0.168400</td>\n",
              "      <td>2016</td>\n",
              "    </tr>\n",
              "    <tr>\n",
              "      <th>7</th>\n",
              "      <td>Albania</td>\n",
              "      <td>4.644</td>\n",
              "      <td>0.996193</td>\n",
              "      <td>0.731160</td>\n",
              "      <td>0.381499</td>\n",
              "      <td>0.039864</td>\n",
              "      <td>0.201313</td>\n",
              "      <td>2017</td>\n",
              "    </tr>\n",
              "    <tr>\n",
              "      <th>8</th>\n",
              "      <td>Albania</td>\n",
              "      <td>4.586</td>\n",
              "      <td>0.916000</td>\n",
              "      <td>0.790000</td>\n",
              "      <td>0.419000</td>\n",
              "      <td>0.032000</td>\n",
              "      <td>0.149000</td>\n",
              "      <td>2018</td>\n",
              "    </tr>\n",
              "    <tr>\n",
              "      <th>9</th>\n",
              "      <td>Albania</td>\n",
              "      <td>4.719</td>\n",
              "      <td>0.947000</td>\n",
              "      <td>0.874000</td>\n",
              "      <td>0.383000</td>\n",
              "      <td>0.027000</td>\n",
              "      <td>0.178000</td>\n",
              "      <td>2019</td>\n",
              "    </tr>\n",
              "  </tbody>\n",
              "</table>\n",
              "</div>"
            ],
            "text/plain": [
              "       Country  Happiness Score  ...  Generosity  Year\n",
              "0  Afghanistan            3.575  ...    0.365100  2015\n",
              "1  Afghanistan            3.360  ...    0.312680  2016\n",
              "2  Afghanistan            3.794  ...    0.311871  2017\n",
              "3  Afghanistan            3.632  ...    0.191000  2018\n",
              "4  Afghanistan            3.203  ...    0.158000  2019\n",
              "5      Albania            4.959  ...    0.142720  2015\n",
              "6      Albania            4.655  ...    0.168400  2016\n",
              "7      Albania            4.644  ...    0.201313  2017\n",
              "8      Albania            4.586  ...    0.149000  2018\n",
              "9      Albania            4.719  ...    0.178000  2019\n",
              "\n",
              "[10 rows x 8 columns]"
            ]
          },
          "metadata": {
            "tags": []
          },
          "execution_count": 225
        }
      ]
    },
    {
      "cell_type": "code",
      "metadata": {
        "id": "IAO1nyMAgAjq",
        "outputId": "4eb46b7a-efa4-4cba-d82d-daee2f6dd9bf",
        "colab": {
          "base_uri": "https://localhost:8080/"
        }
      },
      "source": [
        "allYearsCombined.isna().sum()"
      ],
      "execution_count": 227,
      "outputs": [
        {
          "output_type": "execute_result",
          "data": {
            "text/plain": [
              "Country                          0\n",
              "Happiness Score                  0\n",
              "Economy (GDP per Capita)         0\n",
              "Health (Life Expectancy)         0\n",
              "Freedom                          0\n",
              "Trust (Government Corruption)    1\n",
              "Generosity                       0\n",
              "Year                             0\n",
              "dtype: int64"
            ]
          },
          "metadata": {
            "tags": []
          },
          "execution_count": 227
        }
      ]
    },
    {
      "cell_type": "code",
      "metadata": {
        "id": "bJWS7lkJgV36",
        "outputId": "4361d012-c0d4-43c1-f8f1-ce1f8961f06a",
        "colab": {
          "base_uri": "https://localhost:8080/",
          "height": 114
        }
      },
      "source": [
        "allYearsCombined[allYearsCombined['Trust (Government Corruption)'].isna()]"
      ],
      "execution_count": 228,
      "outputs": [
        {
          "output_type": "execute_result",
          "data": {
            "text/html": [
              "<div>\n",
              "<style scoped>\n",
              "    .dataframe tbody tr th:only-of-type {\n",
              "        vertical-align: middle;\n",
              "    }\n",
              "\n",
              "    .dataframe tbody tr th {\n",
              "        vertical-align: top;\n",
              "    }\n",
              "\n",
              "    .dataframe thead th {\n",
              "        text-align: right;\n",
              "    }\n",
              "</style>\n",
              "<table border=\"1\" class=\"dataframe\">\n",
              "  <thead>\n",
              "    <tr style=\"text-align: right;\">\n",
              "      <th></th>\n",
              "      <th>Country</th>\n",
              "      <th>Happiness Score</th>\n",
              "      <th>Economy (GDP per Capita)</th>\n",
              "      <th>Health (Life Expectancy)</th>\n",
              "      <th>Freedom</th>\n",
              "      <th>Trust (Government Corruption)</th>\n",
              "      <th>Generosity</th>\n",
              "      <th>Year</th>\n",
              "    </tr>\n",
              "  </thead>\n",
              "  <tbody>\n",
              "    <tr>\n",
              "      <th>735</th>\n",
              "      <td>United Arab Emirates</td>\n",
              "      <td>6.774</td>\n",
              "      <td>2.096</td>\n",
              "      <td>0.67</td>\n",
              "      <td>0.284</td>\n",
              "      <td>NaN</td>\n",
              "      <td>0.186</td>\n",
              "      <td>2018</td>\n",
              "    </tr>\n",
              "  </tbody>\n",
              "</table>\n",
              "</div>"
            ],
            "text/plain": [
              "                  Country  Happiness Score  ...  Generosity  Year\n",
              "735  United Arab Emirates            6.774  ...       0.186  2018\n",
              "\n",
              "[1 rows x 8 columns]"
            ]
          },
          "metadata": {
            "tags": []
          },
          "execution_count": 228
        }
      ]
    },
    {
      "cell_type": "code",
      "metadata": {
        "id": "invrDvXRgmwT"
      },
      "source": [
        "allYearsCombined=allYearsCombined.dropna()"
      ],
      "execution_count": 229,
      "outputs": []
    },
    {
      "cell_type": "code",
      "metadata": {
        "id": "xrYK3400grzK",
        "outputId": "332458f0-aed3-4916-c61e-c21acc0b2c1e",
        "colab": {
          "base_uri": "https://localhost:8080/"
        }
      },
      "source": [
        "allYearsCombined.isna().sum()"
      ],
      "execution_count": 230,
      "outputs": [
        {
          "output_type": "execute_result",
          "data": {
            "text/plain": [
              "Country                          0\n",
              "Happiness Score                  0\n",
              "Economy (GDP per Capita)         0\n",
              "Health (Life Expectancy)         0\n",
              "Freedom                          0\n",
              "Trust (Government Corruption)    0\n",
              "Generosity                       0\n",
              "Year                             0\n",
              "dtype: int64"
            ]
          },
          "metadata": {
            "tags": []
          },
          "execution_count": 230
        }
      ]
    },
    {
      "cell_type": "markdown",
      "metadata": {
        "id": "nkPaQKO-xQZE"
      },
      "source": [
        "# **Data Visualization**"
      ]
    },
    {
      "cell_type": "markdown",
      "metadata": {
        "id": "FzoDiJ8IzlVv"
      },
      "source": [
        "Let's see how correlated the columns are to each other:"
      ]
    },
    {
      "cell_type": "code",
      "metadata": {
        "id": "Zied5vBBxX0h",
        "outputId": "78c1b095-be09-4814-ddaa-e6345f84a2be",
        "colab": {
          "base_uri": "https://localhost:8080/",
          "height": 593
        }
      },
      "source": [
        "import seaborn as sn\n",
        "plt.figure(figsize=(14,7))\n",
        "sn.heatmap(allYearsCombined.corr(), annot=True)"
      ],
      "execution_count": 48,
      "outputs": [
        {
          "output_type": "execute_result",
          "data": {
            "text/plain": [
              "<matplotlib.axes._subplots.AxesSubplot at 0x7f7afc790b38>"
            ]
          },
          "metadata": {
            "tags": []
          },
          "execution_count": 48
        },
        {
          "output_type": "display_data",
          "data": {
            "image/png": "[encoded data removed]",
            "text/plain": [
              "<Figure size 1008x504 with 2 Axes>"
            ]
          },
          "metadata": {
            "tags": [],
            "needs_background": "light"
          }
        }
      ]
    },
    {
      "cell_type": "markdown",
      "metadata": {
        "id": "-sWPc6G4GObs"
      },
      "source": [
        "We can get from this that Happiness Score is correlated with (Economy,Health,Freedom),\n",
        "Economy is related to health. (Correlation≥0.5)"
      ]
    },
    {
      "cell_type": "markdown",
      "metadata": {
        "id": "GaS7KHDv5rt-"
      },
      "source": [
        "Let's create a function for expecting (learning) a variable based on another variable using linear regression"
      ]
    },
    {
      "cell_type": "code",
      "metadata": {
        "id": "aDKNJFI2-4kr"
      },
      "source": [
        "import math\n",
        "# previous implementation of the expect funtion\n",
        "# def expect(dataFrame,columnX,columnY):\n",
        "#   fig, ax = plt.subplots()\n",
        "#   ax.plot(dataFrame[columnX], dataFrame[columnY], '.')\n",
        "#   # To get the linear regression\n",
        "#   # best fit from https://stackoverflow.com/questions/22239691/code-for-best-fit-straight-line-of-a-scatter-plot-in-python\n",
        "#   bestFitX = np.unique(dataFrame[columnX])\n",
        "#   bestFitY = np.poly1d(np.polyfit(dataFrame[columnX], dataFrame[columnY], 1))(np.unique(dataFrame[columnX]))\n",
        "#   # To get the linear regression line equation\n",
        "#   slope = (bestFitY[1]-bestFitY[0])/(bestFitX[1]-bestFitX[0])\n",
        "#   c = (bestFitY[0]-slope*bestFitX[0])\n",
        "#   ax.plot(bestFitX, bestFitY)\n",
        "#   plt.xlabel(columnX)\n",
        "#   plt.ylabel(columnY)\n",
        "#   # To calculate the error (standard deviation):\n",
        "#   variance=0\n",
        "#   numberOfValues=len(dataFrame[columnX])\n",
        "#   for i in range(numberOfValues):\n",
        "#     expectedHappiness=dataFrame[columnX][i]*slope+c\n",
        "#     actualHappiness=dataFrame[columnY][i]\n",
        "#     variance+=(actualHappiness-expectedHappiness)**2\n",
        "#   variance=variance/numberOfValues\n",
        "#   standardDeviation=math.sqrt(variance)\n",
        "#   print(\"For a given \"+columnX+\", \"+columnY+\" will be in the following interval equation with probability 68.27%\")\n",
        "#   print(str(columnY) +\"=\"+ str(slope) + \"*\" + columnX,end=\"\")\n",
        "#   if(c>0):\n",
        "#     print(\"+\"+str(c),end=\"\")\n",
        "#   if(c<0):\n",
        "#     print(c,end=\"\")\n",
        "#   print(\" (±\"+str(standardDeviation)+\")\")\n",
        "\n",
        "def expect(dataFrame,columnX,columnY):\n",
        "  yAxis_Data=dataFrame[columnY].to_numpy()\n",
        "  xAxis_Data=dataFrame[columnX].to_numpy().reshape((-1, 1))\n",
        "  from sklearn.linear_model import LinearRegression\n",
        "  model = LinearRegression().fit(xAxis_Data,yAxis_Data)\n",
        "  c=model.intercept_\n",
        "  slope=model.coef_\n",
        "\n",
        "  variance=0\n",
        "  numberOfValues=len(xAxis_Data)\n",
        "  for i in range(numberOfValues):\n",
        "    expectedHappiness=xAxis_Data[i]*slope[0]+c\n",
        "    actualHappiness=yAxis_Data[i]\n",
        "    variance+=(actualHappiness-expectedHappiness)**2\n",
        "  variance=variance/numberOfValues\n",
        "  standardDeviation=math.sqrt(variance)\n",
        "\n",
        "  print(\"For a given \"+columnX+\", \"+columnY+\" will be in the following interval equation with probability 68.27%\")\n",
        "  print(str(columnY) +\"=\"+ str(slope) + \"*\" + columnX,end=\"\")\n",
        "  if(c>0):\n",
        "    print(\"+\"+str(c),end=\"\")\n",
        "  if(c<0):\n",
        "    print(c,end=\"\")\n",
        "  print(\" (±\"+str(standardDeviation)+\")\")\n",
        "\n",
        "  fig, ax = plt.subplots()\n",
        "  ax.plot(dataFrame[columnX],dataFrame[columnY],  '.')\n",
        "  line=np.arange(min(dataFrame[columnX]),max(dataFrame[columnX]),0.01)\n",
        "  ax.plot(line, [i*slope+c for i in line])"
      ],
      "execution_count": 234,
      "outputs": []
    },
    {
      "cell_type": "markdown",
      "metadata": {
        "id": "z203DEunB5VU"
      },
      "source": [
        "The relation between Happiness Score and Economy GDP\n",
        "(Segma=0.69):"
      ]
    },
    {
      "cell_type": "code",
      "metadata": {
        "id": "MNNvYKojAuBg",
        "outputId": "1dd4343a-2e5d-436a-91e3-fc86dc853bf2",
        "colab": {
          "base_uri": "https://localhost:8080/",
          "height": 303
        }
      },
      "source": [
        "expect(allYearsCombined,'Economy (GDP per Capita)','Happiness Score')"
      ],
      "execution_count": 235,
      "outputs": [
        {
          "output_type": "stream",
          "text": [
            "For a given Economy (GDP per Capita), Happiness Score will be in the following interval equation with probability 68.27%\n",
            "Happiness Score=[2.19552047]*Economy (GDP per Capita)+3.369347795736403 (±0.6909795238620047)\n"
          ],
          "name": "stdout"
        },
        {
          "output_type": "display_data",
          "data": {
            "image/png": "[encoded data removed]",
            "text/plain": [
              "<Figure size 432x288 with 1 Axes>"
            ]
          },
          "metadata": {
            "tags": [],
            "needs_background": "light"
          }
        }
      ]
    },
    {
      "cell_type": "markdown",
      "metadata": {
        "id": "iGRT7RZnk0-v"
      },
      "source": [
        "The relation between Health and Happiness (Segma = 0.75):"
      ]
    },
    {
      "cell_type": "code",
      "metadata": {
        "id": "b81Unt2EA7ID",
        "outputId": "d6b60792-dcb0-49d0-ac75-013e8f50ff56",
        "colab": {
          "base_uri": "https://localhost:8080/",
          "height": 303
        }
      },
      "source": [
        "expect(allYearsCombined,'Health (Life Expectancy)','Happiness Score')"
      ],
      "execution_count": 236,
      "outputs": [
        {
          "output_type": "stream",
          "text": [
            "For a given Health (Life Expectancy), Happiness Score will be in the following interval equation with probability 68.27%\n",
            "Happiness Score=[3.36971546]*Health (Life Expectancy)+3.3138139695311475 (±0.7540525903834274)\n"
          ],
          "name": "stdout"
        },
        {
          "output_type": "display_data",
          "data": {
            "image/png": "[encoded data removed]",
            "text/plain": [
              "<Figure size 432x288 with 1 Axes>"
            ]
          },
          "metadata": {
            "tags": [],
            "needs_background": "light"
          }
        }
      ]
    },
    {
      "cell_type": "markdown",
      "metadata": {
        "id": "wo3FYyt_ksF6"
      },
      "source": [
        "The relation between Freedom and Happiness (Segma = 0.9):"
      ]
    },
    {
      "cell_type": "code",
      "metadata": {
        "id": "-xXxG46gHCdm",
        "outputId": "d3584215-9ab1-4c08-9897-ccd46f13b95b",
        "colab": {
          "base_uri": "https://localhost:8080/",
          "height": 303
        }
      },
      "source": [
        "expect(allYearsCombined,'Freedom','Happiness Score')"
      ],
      "execution_count": 237,
      "outputs": [
        {
          "output_type": "stream",
          "text": [
            "For a given Freedom, Happiness Score will be in the following interval equation with probability 68.27%\n",
            "Happiness Score=[4.07873424]*Freedom+3.699837802100073 (±0.9381803634524931)\n"
          ],
          "name": "stdout"
        },
        {
          "output_type": "display_data",
          "data": {
            "image/png": "[encoded data removed]",
            "text/plain": [
              "<Figure size 432x288 with 1 Axes>"
            ]
          },
          "metadata": {
            "tags": [],
            "needs_background": "light"
          }
        }
      ]
    },
    {
      "cell_type": "markdown",
      "metadata": {
        "id": "kMbA2fFfk7Jo"
      },
      "source": [
        "The relation between Health and Economy (Segma = 0.25):\n",
        "This is significant relationship"
      ]
    },
    {
      "cell_type": "code",
      "metadata": {
        "id": "tyjgYHYKHPPR",
        "outputId": "846b5aa2-fbf2-4b4b-f9a4-3ba53d3ace01",
        "colab": {
          "base_uri": "https://localhost:8080/",
          "height": 300
        }
      },
      "source": [
        "expect(allYearsCombined,'Health (Life Expectancy)','Economy (GDP per Capita)')"
      ],
      "execution_count": 238,
      "outputs": [
        {
          "output_type": "stream",
          "text": [
            "For a given Health (Life Expectancy), Economy (GDP per Capita) will be in the following interval equation with probability 68.27%\n",
            "Economy (GDP per Capita)=[1.28534938]*Health (Life Expectancy)+0.12746344905454965 (±0.24956517434529393)\n"
          ],
          "name": "stdout"
        },
        {
          "output_type": "display_data",
          "data": {
            "image/png": "[encoded data removed]",
            "text/plain": [
              "<Figure size 432x288 with 1 Axes>"
            ]
          },
          "metadata": {
            "tags": [],
            "needs_background": "light"
          }
        }
      ]
    },
    {
      "cell_type": "markdown",
      "metadata": {
        "id": "-fhruAIWK2DL"
      },
      "source": [
        "Let's see if we can get a relation between (Freedom,Happiness) and corruption"
      ]
    },
    {
      "cell_type": "code",
      "metadata": {
        "id": "OFdb0So9LAYA",
        "outputId": "19a25ff9-a4d5-4909-bb12-524c0a41bfbe",
        "colab": {
          "base_uri": "https://localhost:8080/",
          "height": 220
        }
      },
      "source": [
        "allYearsCombinedCorruption=allYearsCombined.copy()\n",
        "# making freedom and happiness have the same start-end interval from [0:1]\n",
        "\n",
        "# min_Freedom=min(allYearsCombinedCorruption['Freedom'])\n",
        "# max_Freedom=max(allYearsCombinedCorruption['Freedom'])\n",
        "# range_Freedom = max_Freedom-min_Freedom\n",
        "\n",
        "# min_Happiness=min(allYearsCombinedCorruption['Happiness Score'])\n",
        "# max_Happiness=max(allYearsCombinedCorruption['Happiness Score'])\n",
        "# range_Happiness=max_Happiness-min_Happiness\n",
        "\n",
        "# allYearsCombinedCorruption['Freedom']=(allYearsCombinedCorruption['Freedom']-min_Freedom)/range_Freedom\n",
        "# allYearsCombinedCorruption['Happiness Score']=(allYearsCombinedCorruption['Happiness Score']-min_Happiness)/range_Happiness\n",
        "\n",
        "# This was used for addition, and got a smaller correlation than multiplication (0.54≥0.51). \n",
        "# Therefore Multiplication was used to get higher correlation value\n",
        "\n",
        "# making the relation freedom*happiness\n",
        "allYearsCombinedCorruption['Freedom*Happiness']=allYearsCombinedCorruption['Freedom']*allYearsCombinedCorruption['Happiness Score']\n",
        "allYearsCombinedCorruption.head()"
      ],
      "execution_count": 242,
      "outputs": [
        {
          "output_type": "execute_result",
          "data": {
            "text/html": [
              "<div>\n",
              "<style scoped>\n",
              "    .dataframe tbody tr th:only-of-type {\n",
              "        vertical-align: middle;\n",
              "    }\n",
              "\n",
              "    .dataframe tbody tr th {\n",
              "        vertical-align: top;\n",
              "    }\n",
              "\n",
              "    .dataframe thead th {\n",
              "        text-align: right;\n",
              "    }\n",
              "</style>\n",
              "<table border=\"1\" class=\"dataframe\">\n",
              "  <thead>\n",
              "    <tr style=\"text-align: right;\">\n",
              "      <th></th>\n",
              "      <th>Country</th>\n",
              "      <th>Happiness Score</th>\n",
              "      <th>Economy (GDP per Capita)</th>\n",
              "      <th>Health (Life Expectancy)</th>\n",
              "      <th>Freedom</th>\n",
              "      <th>Trust (Government Corruption)</th>\n",
              "      <th>Generosity</th>\n",
              "      <th>Year</th>\n",
              "      <th>Freedom*Happiness</th>\n",
              "    </tr>\n",
              "  </thead>\n",
              "  <tbody>\n",
              "    <tr>\n",
              "      <th>0</th>\n",
              "      <td>Afghanistan</td>\n",
              "      <td>3.575</td>\n",
              "      <td>0.319820</td>\n",
              "      <td>0.303350</td>\n",
              "      <td>0.23414</td>\n",
              "      <td>0.097190</td>\n",
              "      <td>0.365100</td>\n",
              "      <td>2015</td>\n",
              "      <td>0.837051</td>\n",
              "    </tr>\n",
              "    <tr>\n",
              "      <th>1</th>\n",
              "      <td>Afghanistan</td>\n",
              "      <td>3.360</td>\n",
              "      <td>0.382270</td>\n",
              "      <td>0.173440</td>\n",
              "      <td>0.16430</td>\n",
              "      <td>0.071120</td>\n",
              "      <td>0.312680</td>\n",
              "      <td>2016</td>\n",
              "      <td>0.552048</td>\n",
              "    </tr>\n",
              "    <tr>\n",
              "      <th>2</th>\n",
              "      <td>Afghanistan</td>\n",
              "      <td>3.794</td>\n",
              "      <td>0.401477</td>\n",
              "      <td>0.180747</td>\n",
              "      <td>0.10618</td>\n",
              "      <td>0.061158</td>\n",
              "      <td>0.311871</td>\n",
              "      <td>2017</td>\n",
              "      <td>0.402845</td>\n",
              "    </tr>\n",
              "    <tr>\n",
              "      <th>3</th>\n",
              "      <td>Afghanistan</td>\n",
              "      <td>3.632</td>\n",
              "      <td>0.332000</td>\n",
              "      <td>0.255000</td>\n",
              "      <td>0.08500</td>\n",
              "      <td>0.036000</td>\n",
              "      <td>0.191000</td>\n",
              "      <td>2018</td>\n",
              "      <td>0.308720</td>\n",
              "    </tr>\n",
              "    <tr>\n",
              "      <th>4</th>\n",
              "      <td>Afghanistan</td>\n",
              "      <td>3.203</td>\n",
              "      <td>0.350000</td>\n",
              "      <td>0.361000</td>\n",
              "      <td>0.00000</td>\n",
              "      <td>0.025000</td>\n",
              "      <td>0.158000</td>\n",
              "      <td>2019</td>\n",
              "      <td>0.000000</td>\n",
              "    </tr>\n",
              "  </tbody>\n",
              "</table>\n",
              "</div>"
            ],
            "text/plain": [
              "       Country  Happiness Score  ...  Year  Freedom*Happiness\n",
              "0  Afghanistan            3.575  ...  2015           0.837051\n",
              "1  Afghanistan            3.360  ...  2016           0.552048\n",
              "2  Afghanistan            3.794  ...  2017           0.402845\n",
              "3  Afghanistan            3.632  ...  2018           0.308720\n",
              "4  Afghanistan            3.203  ...  2019           0.000000\n",
              "\n",
              "[5 rows x 9 columns]"
            ]
          },
          "metadata": {
            "tags": []
          },
          "execution_count": 242
        }
      ]
    },
    {
      "cell_type": "code",
      "metadata": {
        "id": "mgA2UCwPLdNN",
        "outputId": "34d47e53-6020-4416-fa06-8b306c5596c6",
        "colab": {
          "base_uri": "https://localhost:8080/",
          "height": 593
        }
      },
      "source": [
        "# Checking if Freedom*Happiness is correlated with Corruption\n",
        "plt.figure(figsize=(14,7))\n",
        "sn.heatmap(allYearsCombinedCorruption.corr(), annot=True)"
      ],
      "execution_count": 243,
      "outputs": [
        {
          "output_type": "execute_result",
          "data": {
            "text/plain": [
              "<matplotlib.axes._subplots.AxesSubplot at 0x7f7af8f6ba20>"
            ]
          },
          "metadata": {
            "tags": []
          },
          "execution_count": 243
        },
        {
          "output_type": "display_data",
          "data": {
            "image/png": "[encoded data removed]",
            "text/plain": [
              "<Figure size 1008x504 with 2 Axes>"
            ]
          },
          "metadata": {
            "tags": [],
            "needs_background": "light"
          }
        }
      ]
    },
    {
      "cell_type": "markdown",
      "metadata": {
        "id": "KwrCcSxaTHfa"
      },
      "source": [
        "They might be correlated (correlation=0.54), so let's try to get a relation between them:"
      ]
    },
    {
      "cell_type": "code",
      "metadata": {
        "id": "S3JgZjqHTLbf",
        "outputId": "91bad7fa-04e2-41d6-9ac2-9a80d74c3027",
        "colab": {
          "base_uri": "https://localhost:8080/",
          "height": 300
        }
      },
      "source": [
        "expect(allYearsCombinedCorruption, 'Freedom*Happiness', 'Trust (Government Corruption)')"
      ],
      "execution_count": 241,
      "outputs": [
        {
          "output_type": "stream",
          "text": [
            "For a given Freedom*Happiness, Trust (Government Corruption) will be in the following interval equation with probability 68.27%\n",
            "Trust (Government Corruption)=[0.04948559]*Freedom*Happiness+0.011289620146660684 (±0.0892061409922011)\n"
          ],
          "name": "stdout"
        },
        {
          "output_type": "display_data",
          "data": {
            "image/png": "[encoded data removed]",
            "text/plain": [
              "<Figure size 432x288 with 1 Axes>"
            ]
          },
          "metadata": {
            "tags": [],
            "needs_background": "light"
          }
        }
      ]
    },
    {
      "cell_type": "markdown",
      "metadata": {
        "id": "kdJayCWqTW7F"
      },
      "source": [
        "The Linear Regression algorithm was able to find a high correlation between Freedom*Happiness and Government Corruption (Segma=0.09). Which means that this is a significant relationship"
      ]
    }
  ]
}