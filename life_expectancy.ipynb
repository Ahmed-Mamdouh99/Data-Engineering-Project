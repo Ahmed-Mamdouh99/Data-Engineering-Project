{
 "cells": [
  {
   "cell_type": "code",
   "execution_count": null,
   "metadata": {},
   "outputs": [],
   "source": [
    "import math\n",
    "import numpy as np\n",
    "import pandas as pd\n",
    "import seaborn as sns\n",
    "import matplotlib.pyplot as plt\n",
    "import re"
   ]
  },
  {
   "cell_type": "code",
   "execution_count": null,
   "metadata": {},
   "outputs": [],
   "source": [
    "file_path = \"data/Life Expectancy Data.csv\"\n",
    "df_life_exp = pd.read_csv(file_path)"
   ]
  },
  {
   "cell_type": "code",
   "execution_count": null,
   "metadata": {},
   "outputs": [],
   "source": [
    "df_life_exp.info()\n",
    "df_life_exp.head()\n",
    "df_life_exp.describe()"
   ]
  },
  {
   "cell_type": "markdown",
   "metadata": {},
   "source": [
    "### The column names are all wrong. Let's try fixing that."
   ]
  },
  {
   "cell_type": "code",
   "execution_count": null,
   "metadata": {},
   "outputs": [],
   "source": [
    "new_col_names = {}\n",
    "for col_name in df_life_exp.columns:\n",
    "    # Strip the name from extra white space and switch to lower case\n",
    "    new_col_names[col_name] = re.sub(' +', ' ',col_name.strip().lower())\n",
    "    # Display the change in name\n",
    "    print(\"'\"+col_name+\"'\", '->', \"'\"+new_col_names[col_name]+\"'\")\n",
    "# Rename the columns into a new data frame\n",
    "df_life_exp_renamed = df_life_exp.rename(columns=new_col_names)"
   ]
  },
  {
   "cell_type": "code",
   "execution_count": null,
   "metadata": {},
   "outputs": [],
   "source": [
    "# infant deaths and under-five deaths look similar. Let's check that\n",
    "df_diff = df_life_exp_renamed['under-five deaths'] - df_life_exp_renamed['infant deaths']\n",
    "df_diff = df_diff[df_diff != 0]\n",
    "df_diff.max(), df_diff.min(), np.abs(df_diff).sum(), len(df_diff)"
   ]
  },
  {
   "cell_type": "code",
   "execution_count": null,
   "metadata": {},
   "outputs": [],
   "source": [
    "# Let's drop the infant deaths column and keep under-five deaths\n",
    "df_life_exp_renamed.drop('infant deaths', axis=1, inplace=True)\n",
    "df_life_exp_renamed.describe()"
   ]
  },
  {
   "cell_type": "markdown",
   "metadata": {},
   "source": [
    "### There are some missing data points, so let's explore how much of the data is missing."
   ]
  },
  {
   "cell_type": "code",
   "execution_count": null,
   "metadata": {},
   "outputs": [],
   "source": [
    "# Calculate percentage of missing data\n",
    "percent_missing = df_life_exp_renamed.isna().sum() * 100 / len(df_life_exp_renamed)\n",
    "data = zip(df_life_exp_renamed.columns, percent_missing, df_life_exp_renamed.dtypes)\n",
    "# Create data frame with missing data numbers\n",
    "df_missing = pd.DataFrame(data=data, columns=['column name', '% missing', 'dtype'])\n",
    "# Check columns with missing data\n",
    "df_missing = df_missing[df_missing['% missing'] > 0]\n",
    "df_missing"
   ]
  },
  {
   "cell_type": "markdown",
   "metadata": {},
   "source": [
    "### Knowing that there's lots of missing data, we need to impute the missing data as follows:\n",
    "1. Check the distribution of the missing columns.\n",
    "1. Impute the missing values with a function that's appropriate to the distribution."
   ]
  },
  {
   "cell_type": "code",
   "execution_count": null,
   "metadata": {},
   "outputs": [],
   "source": [
    "def plot(df, plotting_func, n_cols=4, n_rows=None, figsize=(20, 15)):\n",
    "    assert (n_cols is None) ^ (n_rows is None), 'Define only one of n_rows or n_cols'\n",
    "    # Get columns\n",
    "    columns = df.columns\n",
    "    # Derive the other dimension\n",
    "    if n_rows != None:\n",
    "        n_cols = math.ceil(len(columns) / n_rows)\n",
    "    else:\n",
    "        n_rows = math.ceil(len(columns) / n_cols)\n",
    "    axes = plt.subplots(n_rows, n_cols, figsize=figsize)[1]\n",
    "    for row in range(n_rows):    \n",
    "        for col in range(n_cols):\n",
    "            index = row * n_cols + col\n",
    "            if index >= len(columns):\n",
    "                break\n",
    "            # Skip columns with non-numeric values\n",
    "            if not pd.api.types.is_numeric_dtype(df[columns[index]]):\n",
    "                continue\n",
    "            plotting_func(df[columns[index]], ax=axes[row, col])\n",
    "    plt.subplots_adjust(top=0.92, bottom=0.1, left=0.10, right=0.95, hspace=0.5, wspace=0.5)\n",
    "\n",
    "\n",
    "# Check the distribution of the columns using box plots\n",
    "plot(df_life_exp_renamed, sns.boxplot)\n",
    "# Check the ditribution of the columns using dist plot (bar plots)\n",
    "plot(df_life_exp_renamed, sns.distplot)"
   ]
  },
  {
   "cell_type": "code",
   "execution_count": null,
   "metadata": {},
   "outputs": [],
   "source": [
    "# TODO: Impute properly\n",
    "# Imputing missing data with mean\n",
    "df_life_exp_imputed = df_life_exp_renamed.copy()\n",
    "df_life_exp_imputed.fillna((df_life_exp_imputed.mean(axis=0)), inplace=True)"
   ]
  },
  {
   "source": [
    "## Now let's take a look at the correlation between columns"
   ],
   "cell_type": "markdown",
   "metadata": {}
  },
  {
   "cell_type": "code",
   "execution_count": null,
   "metadata": {
    "scrolled": false
   },
   "outputs": [],
   "source": [
    "# Let's take a look at the correlation matrix\n",
    "def plot_correlation_matrix(df, title=None, cutoff=50):\n",
    "    # Computer correlation matrix\n",
    "    corr_full = df.corr() * 100\n",
    "    corr_cut = corr_full.copy()\n",
    "    corr_cut[~((corr_cut <= -cutoff) | (corr_cut >= cutoff))] = 0\n",
    "    axs = plt.subplots(2, 1, figsize=(16, 32))[1]\n",
    "    for (corr, ax) in zip([corr_full, corr_cut], axs):\n",
    "        # Generate mask for the upper triangle\n",
    "        mask = np.triu(np.ones_like(corr, dtype=bool))\n",
    "        # Set up figure\n",
    "        # Generate a custom diverging colormap\n",
    "        cmap = sns.diverging_palette(250, 30, l=65, center=\"dark\", as_cmap=True)\n",
    "        # Draw the heatmap with the mask and corrent aspect ratio\n",
    "        sns.heatmap(corr, mask=mask, center=0.0, cmap=cmap, linewidths=.5, cbar_kws={'shrink':.5}, annot=True, ax=ax)\n",
    "        if title:\n",
    "            plt.title(title)\n",
    "    corr_cut[mask] = 0\n",
    "    # Return the cutoff mask\n",
    "    return corr_cut\n",
    "\n",
    "\n",
    "cutoff = 56\n",
    "corr_cut = plot_correlation_matrix(df_life_exp_imputed, 'Feature correlation %', cutoff)\n",
    "# Lets check the joint plots of correlated data above the cutoff\n",
    "corr_cut = corr_cut[corr_cut > 0.0].reset_index()\n",
    "corr_cut = corr_cut.melt(id_vars='index', value_name='corr', var_name='x2')\n",
    "corr_cut = corr_cut[corr_cut['corr'].notna()]\n",
    "for x1, x2, _ in corr_cut.values:\n",
    "    sns.jointplot(x=x1, y=x2, data=df_life_exp_imputed, kind='reg')"
   ]
  },
  {
   "cell_type": "code",
   "execution_count": null,
   "metadata": {},
   "outputs": [],
   "source": [
    "def plot_with_binning(df, x, y, bins=None, func=sns.barplot, title=None, figsize=(12, 7), omit_interval=True):\n",
    "    # Create a subplot for the plot\n",
    "    ax = plt.subplots(figsize=figsize)[1]\n",
    "    ax.set_xlabel(x)\n",
    "    ax.set_ylabel(y)\n",
    "    if title:\n",
    "        ax.set_title(title)\n",
    "    else:\n",
    "        ax.set_title('{} against {}'.format(y, x))\n",
    "    # set bin number\n",
    "    if bins == None:\n",
    "        bins = len(df[x].unique())\n",
    "    # Get the range for the cut\n",
    "    x_range = np.linspace(math.floor(df[x].min()), math.ceil(df[x].max()), bins)\n",
    "    # Get a binned series\n",
    "    binned_series = df.groupby([pd.cut(df[x], x_range)])[y].mean()\n",
    "    # Get x-axis values\n",
    "    x_values = binned_series.index.values\n",
    "    # If omit interval flag is on, only show the right side of the intervals\n",
    "    if omit_interval:\n",
    "        x_values = np.array(['{:.2f}'.format(i.right).rstrip('0.') for i in x_values])\n",
    "    # Get y-axis values\n",
    "    y_values = binned_series.values\n",
    "    # Plot data\n",
    "    func(x=x_values.astype('str'), y=y_values)"
   ]
  }
 ],
 "metadata": {
  "kernelspec": {
   "display_name": "Python 3",
   "language": "python",
   "name": "python3"
  },
  "language_info": {
   "codemirror_mode": {
    "name": "ipython",
    "version": 3
   },
   "file_extension": ".py",
   "mimetype": "text/x-python",
   "name": "python",
   "nbconvert_exporter": "python",
   "pygments_lexer": "ipython3",
   "version": "3.7.6-final"
  }
 },
 "nbformat": 4,
 "nbformat_minor": 2
}