{
 "metadata": {
  "language_info": {
   "codemirror_mode": {
    "name": "ipython",
    "version": 3
   },
   "file_extension": ".py",
   "mimetype": "text/x-python",
   "name": "python",
   "nbconvert_exporter": "python",
   "pygments_lexer": "ipython3",
   "version": "3.7.6-final"
  },
  "orig_nbformat": 2,
  "kernelspec": {
   "name": "python3",
   "display_name": "Python 3"
  }
 },
 "nbformat": 4,
 "nbformat_minor": 2,
 "cells": [
  {
   "cell_type": "code",
   "execution_count": null,
   "metadata": {},
   "outputs": [],
   "source": [
    "import numpy as np\n",
    "import pandas as pd\n",
    "import seaborn as sns\n",
    "import matplotlib.pyplot as plt"
   ]
  },
  {
   "cell_type": "code",
   "execution_count": null,
   "metadata": {},
   "outputs": [],
   "source": [
    "file_path = \"data/Life Expectancy Data.csv\"\n",
    "df_life_exp = pd.read_csv(file_path)"
   ]
  },
  {
   "cell_type": "code",
   "execution_count": null,
   "metadata": {},
   "outputs": [],
   "source": [
    "df_life_exp.info()\n",
    "df_life_exp.head()"
   ]
  },
  {
   "cell_type": "code",
   "execution_count": null,
   "metadata": {},
   "outputs": [],
   "source": [
    "# Something is wrong with the column names\n",
    "# Let's white space from column names\n",
    "new_col_names = {}\n",
    "for col_name in df_life_exp.columns:\n",
    "    new_col_names[col_name] = col_name.strip().lower()\n",
    "    print(\"'\"+col_name+\"'\", '->', \"'\"+new_col_names[col_name]+\"'\")\n",
    "df_life_exp_renamed = df_life_exp.rename(columns=new_col_names)"
   ]
  },
  {
   "cell_type": "code",
   "execution_count": null,
   "metadata": {},
   "outputs": [],
   "source": [
    "percent_missing = df_life_exp_renamed.isna().sum() * 100 / len(df_life_exp_renamed)\n",
    "df_missing = pd.DataFrame({'column_name':df_life_exp_renamed.columns, 'percent_missing':percent_missing, 'dtype':df_life_exp_renamed.dtypes})\n",
    "df_missing[df_missing.percent_missing > 0]"
   ]
  },
  {
   "cell_type": "code",
   "execution_count": null,
   "metadata": {},
   "outputs": [],
   "source": [
    "# We need to impute the missing data\n",
    "from sklearn.impute import SimpleImputer\n",
    "df_life_exp_imputed = df_life_exp_renamed.copy()\n",
    "mean_imputer = SimpleImputer(missing_values=np.nan, strategy='mean')\n",
    "missing_column_mask = (df_missing.percent_missing > 0).values\n",
    "missing_column_names = df_missing[df_missing.percent_missing > 0].column_name\n",
    "df_life_exp_imputed.iloc[:,missing_column_mask] = mean_imputer.fit_transform(df_life_exp_renamed[missing_column_names])"
   ]
  },
  {
   "cell_type": "code",
   "execution_count": null,
   "metadata": {},
   "outputs": [],
   "source": [
    "# Let's take a look at the correlation matrix\n",
    "def plot_correlation_matrix(df, title=None):\n",
    "    # Computer correlation matrix\n",
    "    corr = df.corr() * 100\n",
    "    # Generate mask for the upper triangle\n",
    "    mask = np.triu(np.ones_like(corr, dtype=bool))\n",
    "    # Set up figure\n",
    "    f, ax = plt.subplots(figsize=(16,16))\n",
    "    # Generate a custom diverging colormap\n",
    "    cmap = sns.diverging_palette(250, 30, l=65, center=\"dark\", as_cmap=True)\n",
    "    # Draw the heatmap with the mask and corrent aspect ratio\n",
    "    sns.heatmap(corr, mask=mask, center=0.0, cmap=cmap, linewidths=.5, cbar_kws={'shrink':.5}, annot=True)\n",
    "    if title:\n",
    "        plt.title(title)\n",
    "\n",
    "\n",
    "plot_correlation_matrix(df_life_exp_imputed, 'Feature correlation %')"
   ]
  },
  {
   "source": [
    "## Seeing the correlation matrix, one can confirm some intuitive insights between some features like:\n",
    "- Adult Mortality and LifeExpectancy are negatively correlated.\n",
    "- infant deaths and under-five deaths (correlation is 100%) so we may even drop one of the two columns.\n",
    "- 5-9 years thinness and 1-19 years thinness.\n",
    "----\n",
    "## There are some new insights based on positive relations like:\n",
    "- Percentage of expenditure and GPD are positively correlated.\n",
    "- Schooling and income composition of resources are positively correlated.\n",
    "- Schooling and life expectancy are positively correlated.\n",
    "- Most diseases do not greatly affect mortality rates except for HIV/AIDs"
   ],
   "cell_type": "markdown",
   "metadata": {}
  }
 ]
}