{
 "metadata": {
  "language_info": {
   "codemirror_mode": {
    "name": "ipython",
    "version": 3
   },
   "file_extension": ".py",
   "mimetype": "text/x-python",
   "name": "python",
   "nbconvert_exporter": "python",
   "pygments_lexer": "ipython3",
   "version": "3.7.6-final"
  },
  "orig_nbformat": 2,
  "kernelspec": {
   "name": "python3",
   "display_name": "Python 3"
  }
 },
 "nbformat": 4,
 "nbformat_minor": 2,
 "cells": [
  {
   "cell_type": "code",
   "execution_count": 1,
   "metadata": {},
   "outputs": [],
   "source": [
    "import numpy as np\n",
    "import pandas as pd\n",
    "import seaborn as sns\n",
    "import matplotlib.pyplot as plt"
   ]
  },
  {
   "cell_type": "code",
   "execution_count": 2,
   "metadata": {},
   "outputs": [],
   "source": [
    "file_path = \"data/Life Expectancy Data.csv\"\n",
    "df_life_exp = pd.read_csv(file_path)"
   ]
  },
  {
   "cell_type": "code",
   "execution_count": 3,
   "metadata": {},
   "outputs": [
    {
     "output_type": "stream",
     "name": "stdout",
     "text": [
      "<class 'pandas.core.frame.DataFrame'>\nRangeIndex: 2938 entries, 0 to 2937\nData columns (total 22 columns):\n #   Column                           Non-Null Count  Dtype  \n---  ------                           --------------  -----  \n 0   Country                          2938 non-null   object \n 1   Year                             2938 non-null   int64  \n 2   Status                           2938 non-null   object \n 3   Life expectancy                  2928 non-null   float64\n 4   Adult Mortality                  2928 non-null   float64\n 5   infant deaths                    2938 non-null   int64  \n 6   Alcohol                          2744 non-null   float64\n 7   percentage expenditure           2938 non-null   float64\n 8   Hepatitis B                      2385 non-null   float64\n 9   Measles                          2938 non-null   int64  \n 10   BMI                             2904 non-null   float64\n 11  under-five deaths                2938 non-null   int64  \n 12  Polio                            2919 non-null   float64\n 13  Total expenditure                2712 non-null   float64\n 14  Diphtheria                       2919 non-null   float64\n 15   HIV/AIDS                        2938 non-null   float64\n 16  GDP                              2490 non-null   float64\n 17  Population                       2286 non-null   float64\n 18   thinness  1-19 years            2904 non-null   float64\n 19   thinness 5-9 years              2904 non-null   float64\n 20  Income composition of resources  2771 non-null   float64\n 21  Schooling                        2775 non-null   float64\ndtypes: float64(16), int64(4), object(2)\nmemory usage: 505.1+ KB\n"
     ]
    },
    {
     "output_type": "execute_result",
     "data": {
      "text/plain": [
       "       Country  Year      Status  Life expectancy   Adult Mortality  \\\n",
       "0  Afghanistan  2015  Developing              65.0            263.0   \n",
       "1  Afghanistan  2014  Developing              59.9            271.0   \n",
       "2  Afghanistan  2013  Developing              59.9            268.0   \n",
       "3  Afghanistan  2012  Developing              59.5            272.0   \n",
       "4  Afghanistan  2011  Developing              59.2            275.0   \n",
       "\n",
       "   infant deaths  Alcohol  percentage expenditure  Hepatitis B  Measles   ...  \\\n",
       "0             62     0.01               71.279624         65.0      1154  ...   \n",
       "1             64     0.01               73.523582         62.0       492  ...   \n",
       "2             66     0.01               73.219243         64.0       430  ...   \n",
       "3             69     0.01               78.184215         67.0      2787  ...   \n",
       "4             71     0.01                7.097109         68.0      3013  ...   \n",
       "\n",
       "   Polio  Total expenditure  Diphtheria    HIV/AIDS         GDP  Population  \\\n",
       "0    6.0               8.16         65.0        0.1  584.259210  33736494.0   \n",
       "1   58.0               8.18         62.0        0.1  612.696514    327582.0   \n",
       "2   62.0               8.13         64.0        0.1  631.744976  31731688.0   \n",
       "3   67.0               8.52         67.0        0.1  669.959000   3696958.0   \n",
       "4   68.0               7.87         68.0        0.1   63.537231   2978599.0   \n",
       "\n",
       "    thinness  1-19 years   thinness 5-9 years  \\\n",
       "0                   17.2                 17.3   \n",
       "1                   17.5                 17.5   \n",
       "2                   17.7                 17.7   \n",
       "3                   17.9                 18.0   \n",
       "4                   18.2                 18.2   \n",
       "\n",
       "   Income composition of resources  Schooling  \n",
       "0                            0.479       10.1  \n",
       "1                            0.476       10.0  \n",
       "2                            0.470        9.9  \n",
       "3                            0.463        9.8  \n",
       "4                            0.454        9.5  \n",
       "\n",
       "[5 rows x 22 columns]"
      ],
      "text/html": "<div>\n<style scoped>\n    .dataframe tbody tr th:only-of-type {\n        vertical-align: middle;\n    }\n\n    .dataframe tbody tr th {\n        vertical-align: top;\n    }\n\n    .dataframe thead th {\n        text-align: right;\n    }\n</style>\n<table border=\"1\" class=\"dataframe\">\n  <thead>\n    <tr style=\"text-align: right;\">\n      <th></th>\n      <th>Country</th>\n      <th>Year</th>\n      <th>Status</th>\n      <th>Life expectancy</th>\n      <th>Adult Mortality</th>\n      <th>infant deaths</th>\n      <th>Alcohol</th>\n      <th>percentage expenditure</th>\n      <th>Hepatitis B</th>\n      <th>Measles</th>\n      <th>...</th>\n      <th>Polio</th>\n      <th>Total expenditure</th>\n      <th>Diphtheria</th>\n      <th>HIV/AIDS</th>\n      <th>GDP</th>\n      <th>Population</th>\n      <th>thinness  1-19 years</th>\n      <th>thinness 5-9 years</th>\n      <th>Income composition of resources</th>\n      <th>Schooling</th>\n    </tr>\n  </thead>\n  <tbody>\n    <tr>\n      <th>0</th>\n      <td>Afghanistan</td>\n      <td>2015</td>\n      <td>Developing</td>\n      <td>65.0</td>\n      <td>263.0</td>\n      <td>62</td>\n      <td>0.01</td>\n      <td>71.279624</td>\n      <td>65.0</td>\n      <td>1154</td>\n      <td>...</td>\n      <td>6.0</td>\n      <td>8.16</td>\n      <td>65.0</td>\n      <td>0.1</td>\n      <td>584.259210</td>\n      <td>33736494.0</td>\n      <td>17.2</td>\n      <td>17.3</td>\n      <td>0.479</td>\n      <td>10.1</td>\n    </tr>\n    <tr>\n      <th>1</th>\n      <td>Afghanistan</td>\n      <td>2014</td>\n      <td>Developing</td>\n      <td>59.9</td>\n      <td>271.0</td>\n      <td>64</td>\n      <td>0.01</td>\n      <td>73.523582</td>\n      <td>62.0</td>\n      <td>492</td>\n      <td>...</td>\n      <td>58.0</td>\n      <td>8.18</td>\n      <td>62.0</td>\n      <td>0.1</td>\n      <td>612.696514</td>\n      <td>327582.0</td>\n      <td>17.5</td>\n      <td>17.5</td>\n      <td>0.476</td>\n      <td>10.0</td>\n    </tr>\n    <tr>\n      <th>2</th>\n      <td>Afghanistan</td>\n      <td>2013</td>\n      <td>Developing</td>\n      <td>59.9</td>\n      <td>268.0</td>\n      <td>66</td>\n      <td>0.01</td>\n      <td>73.219243</td>\n      <td>64.0</td>\n      <td>430</td>\n      <td>...</td>\n      <td>62.0</td>\n      <td>8.13</td>\n      <td>64.0</td>\n      <td>0.1</td>\n      <td>631.744976</td>\n      <td>31731688.0</td>\n      <td>17.7</td>\n      <td>17.7</td>\n      <td>0.470</td>\n      <td>9.9</td>\n    </tr>\n    <tr>\n      <th>3</th>\n      <td>Afghanistan</td>\n      <td>2012</td>\n      <td>Developing</td>\n      <td>59.5</td>\n      <td>272.0</td>\n      <td>69</td>\n      <td>0.01</td>\n      <td>78.184215</td>\n      <td>67.0</td>\n      <td>2787</td>\n      <td>...</td>\n      <td>67.0</td>\n      <td>8.52</td>\n      <td>67.0</td>\n      <td>0.1</td>\n      <td>669.959000</td>\n      <td>3696958.0</td>\n      <td>17.9</td>\n      <td>18.0</td>\n      <td>0.463</td>\n      <td>9.8</td>\n    </tr>\n    <tr>\n      <th>4</th>\n      <td>Afghanistan</td>\n      <td>2011</td>\n      <td>Developing</td>\n      <td>59.2</td>\n      <td>275.0</td>\n      <td>71</td>\n      <td>0.01</td>\n      <td>7.097109</td>\n      <td>68.0</td>\n      <td>3013</td>\n      <td>...</td>\n      <td>68.0</td>\n      <td>7.87</td>\n      <td>68.0</td>\n      <td>0.1</td>\n      <td>63.537231</td>\n      <td>2978599.0</td>\n      <td>18.2</td>\n      <td>18.2</td>\n      <td>0.454</td>\n      <td>9.5</td>\n    </tr>\n  </tbody>\n</table>\n<p>5 rows × 22 columns</p>\n</div>"
     },
     "metadata": {},
     "execution_count": 3
    }
   ],
   "source": [
    "df_life_exp.info()\n",
    "df_life_exp.head()"
   ]
  },
  {
   "cell_type": "code",
   "execution_count": 4,
   "metadata": {},
   "outputs": [
    {
     "output_type": "stream",
     "name": "stdout",
     "text": [
      "'Country' -> 'country'\n'Year' -> 'year'\n'Status' -> 'status'\n'Life expectancy ' -> 'life expectancy'\n'Adult Mortality' -> 'adult mortality'\n'infant deaths' -> 'infant deaths'\n'Alcohol' -> 'alcohol'\n'percentage expenditure' -> 'percentage expenditure'\n'Hepatitis B' -> 'hepatitis b'\n'Measles ' -> 'measles'\n' BMI ' -> 'bmi'\n'under-five deaths ' -> 'under-five deaths'\n'Polio' -> 'polio'\n'Total expenditure' -> 'total expenditure'\n'Diphtheria ' -> 'diphtheria'\n' HIV/AIDS' -> 'hiv/aids'\n'GDP' -> 'gdp'\n'Population' -> 'population'\n' thinness  1-19 years' -> 'thinness  1-19 years'\n' thinness 5-9 years' -> 'thinness 5-9 years'\n'Income composition of resources' -> 'income composition of resources'\n'Schooling' -> 'schooling'\n"
     ]
    }
   ],
   "source": [
    "# Something is wrong with the column names\n",
    "# Let's white space from column names\n",
    "df_life_exp_renamed = df_life_exp.copy()\n",
    "new_col_names = {}\n",
    "for col_name in df_life_exp.columns:\n",
    "    new_col_names[col_name] = col_name.strip().lower()\n",
    "    print(\"'\"+col_name+\"'\", '->', \"'\"+new_col_names[col_name]+\"'\")\n",
    "_ = df_life_exp_renamed.rename(columns=new_col_names)"
   ]
  },
  {
   "cell_type": "code",
   "execution_count": 5,
   "metadata": {},
   "outputs": [
    {
     "output_type": "execute_result",
     "data": {
      "text/plain": [
       "                                                     column_name  \\\n",
       "Life expectancy                                 Life expectancy    \n",
       "Adult Mortality                                  Adult Mortality   \n",
       "Alcohol                                                  Alcohol   \n",
       "Hepatitis B                                          Hepatitis B   \n",
       " BMI                                                        BMI    \n",
       "Polio                                                      Polio   \n",
       "Total expenditure                              Total expenditure   \n",
       "Diphtheria                                           Diphtheria    \n",
       "GDP                                                          GDP   \n",
       "Population                                            Population   \n",
       " thinness  1-19 years                       thinness  1-19 years   \n",
       " thinness 5-9 years                           thinness 5-9 years   \n",
       "Income composition of resources  Income composition of resources   \n",
       "Schooling                                              Schooling   \n",
       "\n",
       "                                 percent_missing    dtype  \n",
       "Life expectancy                         0.340368  float64  \n",
       "Adult Mortality                         0.340368  float64  \n",
       "Alcohol                                 6.603131  float64  \n",
       "Hepatitis B                            18.822328  float64  \n",
       " BMI                                    1.157250  float64  \n",
       "Polio                                   0.646698  float64  \n",
       "Total expenditure                       7.692308  float64  \n",
       "Diphtheria                              0.646698  float64  \n",
       "GDP                                    15.248468  float64  \n",
       "Population                             22.191967  float64  \n",
       " thinness  1-19 years                   1.157250  float64  \n",
       " thinness 5-9 years                     1.157250  float64  \n",
       "Income composition of resources         5.684139  float64  \n",
       "Schooling                               5.547992  float64  "
      ],
      "text/html": "<div>\n<style scoped>\n    .dataframe tbody tr th:only-of-type {\n        vertical-align: middle;\n    }\n\n    .dataframe tbody tr th {\n        vertical-align: top;\n    }\n\n    .dataframe thead th {\n        text-align: right;\n    }\n</style>\n<table border=\"1\" class=\"dataframe\">\n  <thead>\n    <tr style=\"text-align: right;\">\n      <th></th>\n      <th>column_name</th>\n      <th>percent_missing</th>\n      <th>dtype</th>\n    </tr>\n  </thead>\n  <tbody>\n    <tr>\n      <th>Life expectancy</th>\n      <td>Life expectancy</td>\n      <td>0.340368</td>\n      <td>float64</td>\n    </tr>\n    <tr>\n      <th>Adult Mortality</th>\n      <td>Adult Mortality</td>\n      <td>0.340368</td>\n      <td>float64</td>\n    </tr>\n    <tr>\n      <th>Alcohol</th>\n      <td>Alcohol</td>\n      <td>6.603131</td>\n      <td>float64</td>\n    </tr>\n    <tr>\n      <th>Hepatitis B</th>\n      <td>Hepatitis B</td>\n      <td>18.822328</td>\n      <td>float64</td>\n    </tr>\n    <tr>\n      <th>BMI</th>\n      <td>BMI</td>\n      <td>1.157250</td>\n      <td>float64</td>\n    </tr>\n    <tr>\n      <th>Polio</th>\n      <td>Polio</td>\n      <td>0.646698</td>\n      <td>float64</td>\n    </tr>\n    <tr>\n      <th>Total expenditure</th>\n      <td>Total expenditure</td>\n      <td>7.692308</td>\n      <td>float64</td>\n    </tr>\n    <tr>\n      <th>Diphtheria</th>\n      <td>Diphtheria</td>\n      <td>0.646698</td>\n      <td>float64</td>\n    </tr>\n    <tr>\n      <th>GDP</th>\n      <td>GDP</td>\n      <td>15.248468</td>\n      <td>float64</td>\n    </tr>\n    <tr>\n      <th>Population</th>\n      <td>Population</td>\n      <td>22.191967</td>\n      <td>float64</td>\n    </tr>\n    <tr>\n      <th>thinness  1-19 years</th>\n      <td>thinness  1-19 years</td>\n      <td>1.157250</td>\n      <td>float64</td>\n    </tr>\n    <tr>\n      <th>thinness 5-9 years</th>\n      <td>thinness 5-9 years</td>\n      <td>1.157250</td>\n      <td>float64</td>\n    </tr>\n    <tr>\n      <th>Income composition of resources</th>\n      <td>Income composition of resources</td>\n      <td>5.684139</td>\n      <td>float64</td>\n    </tr>\n    <tr>\n      <th>Schooling</th>\n      <td>Schooling</td>\n      <td>5.547992</td>\n      <td>float64</td>\n    </tr>\n  </tbody>\n</table>\n</div>"
     },
     "metadata": {},
     "execution_count": 5
    }
   ],
   "source": [
    "percent_missing = df_life_exp_renamed.isna().sum() * 100 / len(df_life_exp_renamed)\n",
    "df_missing = pd.DataFrame({'column_name':df_life_exp_renamed.columns, 'percent_missing':percent_missing, 'dtype':df_life_exp_renamed.dtypes})\n",
    "df_missing[df_missing.percent_missing > 0]"
   ]
  },
  {
   "cell_type": "code",
   "execution_count": 6,
   "metadata": {},
   "outputs": [],
   "source": [
    "# We need to impute the missing data\n",
    "from sklearn.impute import SimpleImputer\n",
    "df_life_exp_imputed = df_life_exp_renamed.copy()\n",
    "mean_imputer = SimpleImputer(missing_values=np.nan, strategy='mean')\n",
    "missing_column_mask = (df_missing.percent_missing > 0).values\n",
    "missing_column_names = df_missing[df_missing.percent_missing > 0].column_name\n",
    "df_life_exp_imputed.iloc[:,missing_column_mask] = mean_imputer.fit_transform(df_life_exp_renamed[missing_column_names])"
   ]
  }
 ]
}