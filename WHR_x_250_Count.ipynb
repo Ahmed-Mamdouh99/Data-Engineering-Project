{
  "nbformat": 4,
  "nbformat_minor": 0,
  "metadata": {
    "colab": {
      "name": "WHR x 250 Count.ipynb",
      "provenance": [],
      "collapsed_sections": []
    },
    "kernelspec": {
      "name": "python3",
      "display_name": "Python 3"
    }
  },
  "cells": [
    {
      "cell_type": "code",
      "metadata": {
        "id": "icP2krfXGVlN"
      },
      "source": [
        "import os\n",
        "import pandas as pd\n",
        "import numpy as np\n",
        "import matplotlib.pyplot as plt"
      ],
      "execution_count": 1,
      "outputs": []
    },
    {
      "cell_type": "code",
      "metadata": {
        "id": "tmmKULO23VKH",
        "colab": {
          "base_uri": "https://localhost:8080/",
          "height": 603
        },
        "outputId": "8ed01194-cff4-450d-fbe9-0d8643fa8169"
      },
      "source": [
        "data2015 = pd.read_csv('2015.csv')\n",
        "data2015"
      ],
      "execution_count": 2,
      "outputs": [
        {
          "output_type": "execute_result",
          "data": {
            "text/html": [
              "<div>\n",
              "<style scoped>\n",
              "    .dataframe tbody tr th:only-of-type {\n",
              "        vertical-align: middle;\n",
              "    }\n",
              "\n",
              "    .dataframe tbody tr th {\n",
              "        vertical-align: top;\n",
              "    }\n",
              "\n",
              "    .dataframe thead th {\n",
              "        text-align: right;\n",
              "    }\n",
              "</style>\n",
              "<table border=\"1\" class=\"dataframe\">\n",
              "  <thead>\n",
              "    <tr style=\"text-align: right;\">\n",
              "      <th></th>\n",
              "      <th>Country</th>\n",
              "      <th>Region</th>\n",
              "      <th>Happiness Rank</th>\n",
              "      <th>Happiness Score</th>\n",
              "      <th>Standard Error</th>\n",
              "      <th>Economy (GDP per Capita)</th>\n",
              "      <th>Family</th>\n",
              "      <th>Health (Life Expectancy)</th>\n",
              "      <th>Freedom</th>\n",
              "      <th>Trust (Government Corruption)</th>\n",
              "      <th>Generosity</th>\n",
              "      <th>Dystopia Residual</th>\n",
              "    </tr>\n",
              "  </thead>\n",
              "  <tbody>\n",
              "    <tr>\n",
              "      <th>0</th>\n",
              "      <td>Switzerland</td>\n",
              "      <td>Western Europe</td>\n",
              "      <td>1</td>\n",
              "      <td>7.587</td>\n",
              "      <td>0.03411</td>\n",
              "      <td>1.39651</td>\n",
              "      <td>1.34951</td>\n",
              "      <td>0.94143</td>\n",
              "      <td>0.66557</td>\n",
              "      <td>0.41978</td>\n",
              "      <td>0.29678</td>\n",
              "      <td>2.51738</td>\n",
              "    </tr>\n",
              "    <tr>\n",
              "      <th>1</th>\n",
              "      <td>Iceland</td>\n",
              "      <td>Western Europe</td>\n",
              "      <td>2</td>\n",
              "      <td>7.561</td>\n",
              "      <td>0.04884</td>\n",
              "      <td>1.30232</td>\n",
              "      <td>1.40223</td>\n",
              "      <td>0.94784</td>\n",
              "      <td>0.62877</td>\n",
              "      <td>0.14145</td>\n",
              "      <td>0.43630</td>\n",
              "      <td>2.70201</td>\n",
              "    </tr>\n",
              "    <tr>\n",
              "      <th>2</th>\n",
              "      <td>Denmark</td>\n",
              "      <td>Western Europe</td>\n",
              "      <td>3</td>\n",
              "      <td>7.527</td>\n",
              "      <td>0.03328</td>\n",
              "      <td>1.32548</td>\n",
              "      <td>1.36058</td>\n",
              "      <td>0.87464</td>\n",
              "      <td>0.64938</td>\n",
              "      <td>0.48357</td>\n",
              "      <td>0.34139</td>\n",
              "      <td>2.49204</td>\n",
              "    </tr>\n",
              "    <tr>\n",
              "      <th>3</th>\n",
              "      <td>Norway</td>\n",
              "      <td>Western Europe</td>\n",
              "      <td>4</td>\n",
              "      <td>7.522</td>\n",
              "      <td>0.03880</td>\n",
              "      <td>1.45900</td>\n",
              "      <td>1.33095</td>\n",
              "      <td>0.88521</td>\n",
              "      <td>0.66973</td>\n",
              "      <td>0.36503</td>\n",
              "      <td>0.34699</td>\n",
              "      <td>2.46531</td>\n",
              "    </tr>\n",
              "    <tr>\n",
              "      <th>4</th>\n",
              "      <td>Canada</td>\n",
              "      <td>North America</td>\n",
              "      <td>5</td>\n",
              "      <td>7.427</td>\n",
              "      <td>0.03553</td>\n",
              "      <td>1.32629</td>\n",
              "      <td>1.32261</td>\n",
              "      <td>0.90563</td>\n",
              "      <td>0.63297</td>\n",
              "      <td>0.32957</td>\n",
              "      <td>0.45811</td>\n",
              "      <td>2.45176</td>\n",
              "    </tr>\n",
              "    <tr>\n",
              "      <th>...</th>\n",
              "      <td>...</td>\n",
              "      <td>...</td>\n",
              "      <td>...</td>\n",
              "      <td>...</td>\n",
              "      <td>...</td>\n",
              "      <td>...</td>\n",
              "      <td>...</td>\n",
              "      <td>...</td>\n",
              "      <td>...</td>\n",
              "      <td>...</td>\n",
              "      <td>...</td>\n",
              "      <td>...</td>\n",
              "    </tr>\n",
              "    <tr>\n",
              "      <th>153</th>\n",
              "      <td>Rwanda</td>\n",
              "      <td>Sub-Saharan Africa</td>\n",
              "      <td>154</td>\n",
              "      <td>3.465</td>\n",
              "      <td>0.03464</td>\n",
              "      <td>0.22208</td>\n",
              "      <td>0.77370</td>\n",
              "      <td>0.42864</td>\n",
              "      <td>0.59201</td>\n",
              "      <td>0.55191</td>\n",
              "      <td>0.22628</td>\n",
              "      <td>0.67042</td>\n",
              "    </tr>\n",
              "    <tr>\n",
              "      <th>154</th>\n",
              "      <td>Benin</td>\n",
              "      <td>Sub-Saharan Africa</td>\n",
              "      <td>155</td>\n",
              "      <td>3.340</td>\n",
              "      <td>0.03656</td>\n",
              "      <td>0.28665</td>\n",
              "      <td>0.35386</td>\n",
              "      <td>0.31910</td>\n",
              "      <td>0.48450</td>\n",
              "      <td>0.08010</td>\n",
              "      <td>0.18260</td>\n",
              "      <td>1.63328</td>\n",
              "    </tr>\n",
              "    <tr>\n",
              "      <th>155</th>\n",
              "      <td>Syria</td>\n",
              "      <td>Middle East and Northern Africa</td>\n",
              "      <td>156</td>\n",
              "      <td>3.006</td>\n",
              "      <td>0.05015</td>\n",
              "      <td>0.66320</td>\n",
              "      <td>0.47489</td>\n",
              "      <td>0.72193</td>\n",
              "      <td>0.15684</td>\n",
              "      <td>0.18906</td>\n",
              "      <td>0.47179</td>\n",
              "      <td>0.32858</td>\n",
              "    </tr>\n",
              "    <tr>\n",
              "      <th>156</th>\n",
              "      <td>Burundi</td>\n",
              "      <td>Sub-Saharan Africa</td>\n",
              "      <td>157</td>\n",
              "      <td>2.905</td>\n",
              "      <td>0.08658</td>\n",
              "      <td>0.01530</td>\n",
              "      <td>0.41587</td>\n",
              "      <td>0.22396</td>\n",
              "      <td>0.11850</td>\n",
              "      <td>0.10062</td>\n",
              "      <td>0.19727</td>\n",
              "      <td>1.83302</td>\n",
              "    </tr>\n",
              "    <tr>\n",
              "      <th>157</th>\n",
              "      <td>Togo</td>\n",
              "      <td>Sub-Saharan Africa</td>\n",
              "      <td>158</td>\n",
              "      <td>2.839</td>\n",
              "      <td>0.06727</td>\n",
              "      <td>0.20868</td>\n",
              "      <td>0.13995</td>\n",
              "      <td>0.28443</td>\n",
              "      <td>0.36453</td>\n",
              "      <td>0.10731</td>\n",
              "      <td>0.16681</td>\n",
              "      <td>1.56726</td>\n",
              "    </tr>\n",
              "  </tbody>\n",
              "</table>\n",
              "<p>158 rows × 12 columns</p>\n",
              "</div>"
            ],
            "text/plain": [
              "         Country  ... Dystopia Residual\n",
              "0    Switzerland  ...           2.51738\n",
              "1        Iceland  ...           2.70201\n",
              "2        Denmark  ...           2.49204\n",
              "3         Norway  ...           2.46531\n",
              "4         Canada  ...           2.45176\n",
              "..           ...  ...               ...\n",
              "153       Rwanda  ...           0.67042\n",
              "154        Benin  ...           1.63328\n",
              "155        Syria  ...           0.32858\n",
              "156      Burundi  ...           1.83302\n",
              "157         Togo  ...           1.56726\n",
              "\n",
              "[158 rows x 12 columns]"
            ]
          },
          "metadata": {
            "tags": []
          },
          "execution_count": 2
        }
      ]
    },
    {
      "cell_type": "code",
      "metadata": {
        "id": "PKHTQ9tE2K0K",
        "colab": {
          "base_uri": "https://localhost:8080/",
          "height": 670
        },
        "outputId": "27b0fa42-7c4f-483a-b636-927a3947fe8c"
      },
      "source": [
        "data2015_sorted = data2015.sort_values(by=['Country'], ascending=True).reset_index()\n",
        "data2015_sorted"
      ],
      "execution_count": 3,
      "outputs": [
        {
          "output_type": "execute_result",
          "data": {
            "text/html": [
              "<div>\n",
              "<style scoped>\n",
              "    .dataframe tbody tr th:only-of-type {\n",
              "        vertical-align: middle;\n",
              "    }\n",
              "\n",
              "    .dataframe tbody tr th {\n",
              "        vertical-align: top;\n",
              "    }\n",
              "\n",
              "    .dataframe thead th {\n",
              "        text-align: right;\n",
              "    }\n",
              "</style>\n",
              "<table border=\"1\" class=\"dataframe\">\n",
              "  <thead>\n",
              "    <tr style=\"text-align: right;\">\n",
              "      <th></th>\n",
              "      <th>index</th>\n",
              "      <th>Country</th>\n",
              "      <th>Region</th>\n",
              "      <th>Happiness Rank</th>\n",
              "      <th>Happiness Score</th>\n",
              "      <th>Standard Error</th>\n",
              "      <th>Economy (GDP per Capita)</th>\n",
              "      <th>Family</th>\n",
              "      <th>Health (Life Expectancy)</th>\n",
              "      <th>Freedom</th>\n",
              "      <th>Trust (Government Corruption)</th>\n",
              "      <th>Generosity</th>\n",
              "      <th>Dystopia Residual</th>\n",
              "    </tr>\n",
              "  </thead>\n",
              "  <tbody>\n",
              "    <tr>\n",
              "      <th>0</th>\n",
              "      <td>152</td>\n",
              "      <td>Afghanistan</td>\n",
              "      <td>Southern Asia</td>\n",
              "      <td>153</td>\n",
              "      <td>3.575</td>\n",
              "      <td>0.03084</td>\n",
              "      <td>0.31982</td>\n",
              "      <td>0.30285</td>\n",
              "      <td>0.30335</td>\n",
              "      <td>0.23414</td>\n",
              "      <td>0.09719</td>\n",
              "      <td>0.36510</td>\n",
              "      <td>1.95210</td>\n",
              "    </tr>\n",
              "    <tr>\n",
              "      <th>1</th>\n",
              "      <td>94</td>\n",
              "      <td>Albania</td>\n",
              "      <td>Central and Eastern Europe</td>\n",
              "      <td>95</td>\n",
              "      <td>4.959</td>\n",
              "      <td>0.05013</td>\n",
              "      <td>0.87867</td>\n",
              "      <td>0.80434</td>\n",
              "      <td>0.81325</td>\n",
              "      <td>0.35733</td>\n",
              "      <td>0.06413</td>\n",
              "      <td>0.14272</td>\n",
              "      <td>1.89894</td>\n",
              "    </tr>\n",
              "    <tr>\n",
              "      <th>2</th>\n",
              "      <td>67</td>\n",
              "      <td>Algeria</td>\n",
              "      <td>Middle East and Northern Africa</td>\n",
              "      <td>68</td>\n",
              "      <td>5.605</td>\n",
              "      <td>0.05099</td>\n",
              "      <td>0.93929</td>\n",
              "      <td>1.07772</td>\n",
              "      <td>0.61766</td>\n",
              "      <td>0.28579</td>\n",
              "      <td>0.17383</td>\n",
              "      <td>0.07822</td>\n",
              "      <td>2.43209</td>\n",
              "    </tr>\n",
              "    <tr>\n",
              "      <th>3</th>\n",
              "      <td>136</td>\n",
              "      <td>Angola</td>\n",
              "      <td>Sub-Saharan Africa</td>\n",
              "      <td>137</td>\n",
              "      <td>4.033</td>\n",
              "      <td>0.04758</td>\n",
              "      <td>0.75778</td>\n",
              "      <td>0.86040</td>\n",
              "      <td>0.16683</td>\n",
              "      <td>0.10384</td>\n",
              "      <td>0.07122</td>\n",
              "      <td>0.12344</td>\n",
              "      <td>1.94939</td>\n",
              "    </tr>\n",
              "    <tr>\n",
              "      <th>4</th>\n",
              "      <td>29</td>\n",
              "      <td>Argentina</td>\n",
              "      <td>Latin America and Caribbean</td>\n",
              "      <td>30</td>\n",
              "      <td>6.574</td>\n",
              "      <td>0.04612</td>\n",
              "      <td>1.05351</td>\n",
              "      <td>1.24823</td>\n",
              "      <td>0.78723</td>\n",
              "      <td>0.44974</td>\n",
              "      <td>0.08484</td>\n",
              "      <td>0.11451</td>\n",
              "      <td>2.83600</td>\n",
              "    </tr>\n",
              "    <tr>\n",
              "      <th>...</th>\n",
              "      <td>...</td>\n",
              "      <td>...</td>\n",
              "      <td>...</td>\n",
              "      <td>...</td>\n",
              "      <td>...</td>\n",
              "      <td>...</td>\n",
              "      <td>...</td>\n",
              "      <td>...</td>\n",
              "      <td>...</td>\n",
              "      <td>...</td>\n",
              "      <td>...</td>\n",
              "      <td>...</td>\n",
              "      <td>...</td>\n",
              "    </tr>\n",
              "    <tr>\n",
              "      <th>153</th>\n",
              "      <td>22</td>\n",
              "      <td>Venezuela</td>\n",
              "      <td>Latin America and Caribbean</td>\n",
              "      <td>23</td>\n",
              "      <td>6.810</td>\n",
              "      <td>0.06476</td>\n",
              "      <td>1.04424</td>\n",
              "      <td>1.25596</td>\n",
              "      <td>0.72052</td>\n",
              "      <td>0.42908</td>\n",
              "      <td>0.11069</td>\n",
              "      <td>0.05841</td>\n",
              "      <td>3.19131</td>\n",
              "    </tr>\n",
              "    <tr>\n",
              "      <th>154</th>\n",
              "      <td>74</td>\n",
              "      <td>Vietnam</td>\n",
              "      <td>Southeastern Asia</td>\n",
              "      <td>75</td>\n",
              "      <td>5.360</td>\n",
              "      <td>0.03107</td>\n",
              "      <td>0.63216</td>\n",
              "      <td>0.91226</td>\n",
              "      <td>0.74676</td>\n",
              "      <td>0.59444</td>\n",
              "      <td>0.10441</td>\n",
              "      <td>0.16860</td>\n",
              "      <td>2.20173</td>\n",
              "    </tr>\n",
              "    <tr>\n",
              "      <th>155</th>\n",
              "      <td>135</td>\n",
              "      <td>Yemen</td>\n",
              "      <td>Middle East and Northern Africa</td>\n",
              "      <td>136</td>\n",
              "      <td>4.077</td>\n",
              "      <td>0.04367</td>\n",
              "      <td>0.54649</td>\n",
              "      <td>0.68093</td>\n",
              "      <td>0.40064</td>\n",
              "      <td>0.35571</td>\n",
              "      <td>0.07854</td>\n",
              "      <td>0.09131</td>\n",
              "      <td>1.92313</td>\n",
              "    </tr>\n",
              "    <tr>\n",
              "      <th>156</th>\n",
              "      <td>84</td>\n",
              "      <td>Zambia</td>\n",
              "      <td>Sub-Saharan Africa</td>\n",
              "      <td>85</td>\n",
              "      <td>5.129</td>\n",
              "      <td>0.06988</td>\n",
              "      <td>0.47038</td>\n",
              "      <td>0.91612</td>\n",
              "      <td>0.29924</td>\n",
              "      <td>0.48827</td>\n",
              "      <td>0.12468</td>\n",
              "      <td>0.19591</td>\n",
              "      <td>2.63430</td>\n",
              "    </tr>\n",
              "    <tr>\n",
              "      <th>157</th>\n",
              "      <td>114</td>\n",
              "      <td>Zimbabwe</td>\n",
              "      <td>Sub-Saharan Africa</td>\n",
              "      <td>115</td>\n",
              "      <td>4.610</td>\n",
              "      <td>0.04290</td>\n",
              "      <td>0.27100</td>\n",
              "      <td>1.03276</td>\n",
              "      <td>0.33475</td>\n",
              "      <td>0.25861</td>\n",
              "      <td>0.08079</td>\n",
              "      <td>0.18987</td>\n",
              "      <td>2.44191</td>\n",
              "    </tr>\n",
              "  </tbody>\n",
              "</table>\n",
              "<p>158 rows × 13 columns</p>\n",
              "</div>"
            ],
            "text/plain": [
              "     index      Country  ... Generosity  Dystopia Residual\n",
              "0      152  Afghanistan  ...    0.36510            1.95210\n",
              "1       94      Albania  ...    0.14272            1.89894\n",
              "2       67      Algeria  ...    0.07822            2.43209\n",
              "3      136       Angola  ...    0.12344            1.94939\n",
              "4       29    Argentina  ...    0.11451            2.83600\n",
              "..     ...          ...  ...        ...                ...\n",
              "153     22    Venezuela  ...    0.05841            3.19131\n",
              "154     74      Vietnam  ...    0.16860            2.20173\n",
              "155    135        Yemen  ...    0.09131            1.92313\n",
              "156     84       Zambia  ...    0.19591            2.63430\n",
              "157    114     Zimbabwe  ...    0.18987            2.44191\n",
              "\n",
              "[158 rows x 13 columns]"
            ]
          },
          "metadata": {
            "tags": []
          },
          "execution_count": 3
        }
      ]
    },
    {
      "cell_type": "code",
      "metadata": {
        "id": "HoWW1le3GvIh",
        "colab": {
          "base_uri": "https://localhost:8080/",
          "height": 296
        },
        "outputId": "4a0863ad-444a-43af-98c6-f2d620465558"
      },
      "source": [
        "data2015 = pd.read_csv('2015.csv')\n",
        "data2015.drop(['Happiness Rank', 'Standard Error'], axis=1, inplace=True)\n",
        "data2015['Year'] = 2015\n",
        "data2015.head()"
      ],
      "execution_count": 4,
      "outputs": [
        {
          "output_type": "execute_result",
          "data": {
            "text/html": [
              "<div>\n",
              "<style scoped>\n",
              "    .dataframe tbody tr th:only-of-type {\n",
              "        vertical-align: middle;\n",
              "    }\n",
              "\n",
              "    .dataframe tbody tr th {\n",
              "        vertical-align: top;\n",
              "    }\n",
              "\n",
              "    .dataframe thead th {\n",
              "        text-align: right;\n",
              "    }\n",
              "</style>\n",
              "<table border=\"1\" class=\"dataframe\">\n",
              "  <thead>\n",
              "    <tr style=\"text-align: right;\">\n",
              "      <th></th>\n",
              "      <th>Country</th>\n",
              "      <th>Region</th>\n",
              "      <th>Happiness Score</th>\n",
              "      <th>Economy (GDP per Capita)</th>\n",
              "      <th>Family</th>\n",
              "      <th>Health (Life Expectancy)</th>\n",
              "      <th>Freedom</th>\n",
              "      <th>Trust (Government Corruption)</th>\n",
              "      <th>Generosity</th>\n",
              "      <th>Dystopia Residual</th>\n",
              "      <th>Year</th>\n",
              "    </tr>\n",
              "  </thead>\n",
              "  <tbody>\n",
              "    <tr>\n",
              "      <th>0</th>\n",
              "      <td>Switzerland</td>\n",
              "      <td>Western Europe</td>\n",
              "      <td>7.587</td>\n",
              "      <td>1.39651</td>\n",
              "      <td>1.34951</td>\n",
              "      <td>0.94143</td>\n",
              "      <td>0.66557</td>\n",
              "      <td>0.41978</td>\n",
              "      <td>0.29678</td>\n",
              "      <td>2.51738</td>\n",
              "      <td>2015</td>\n",
              "    </tr>\n",
              "    <tr>\n",
              "      <th>1</th>\n",
              "      <td>Iceland</td>\n",
              "      <td>Western Europe</td>\n",
              "      <td>7.561</td>\n",
              "      <td>1.30232</td>\n",
              "      <td>1.40223</td>\n",
              "      <td>0.94784</td>\n",
              "      <td>0.62877</td>\n",
              "      <td>0.14145</td>\n",
              "      <td>0.43630</td>\n",
              "      <td>2.70201</td>\n",
              "      <td>2015</td>\n",
              "    </tr>\n",
              "    <tr>\n",
              "      <th>2</th>\n",
              "      <td>Denmark</td>\n",
              "      <td>Western Europe</td>\n",
              "      <td>7.527</td>\n",
              "      <td>1.32548</td>\n",
              "      <td>1.36058</td>\n",
              "      <td>0.87464</td>\n",
              "      <td>0.64938</td>\n",
              "      <td>0.48357</td>\n",
              "      <td>0.34139</td>\n",
              "      <td>2.49204</td>\n",
              "      <td>2015</td>\n",
              "    </tr>\n",
              "    <tr>\n",
              "      <th>3</th>\n",
              "      <td>Norway</td>\n",
              "      <td>Western Europe</td>\n",
              "      <td>7.522</td>\n",
              "      <td>1.45900</td>\n",
              "      <td>1.33095</td>\n",
              "      <td>0.88521</td>\n",
              "      <td>0.66973</td>\n",
              "      <td>0.36503</td>\n",
              "      <td>0.34699</td>\n",
              "      <td>2.46531</td>\n",
              "      <td>2015</td>\n",
              "    </tr>\n",
              "    <tr>\n",
              "      <th>4</th>\n",
              "      <td>Canada</td>\n",
              "      <td>North America</td>\n",
              "      <td>7.427</td>\n",
              "      <td>1.32629</td>\n",
              "      <td>1.32261</td>\n",
              "      <td>0.90563</td>\n",
              "      <td>0.63297</td>\n",
              "      <td>0.32957</td>\n",
              "      <td>0.45811</td>\n",
              "      <td>2.45176</td>\n",
              "      <td>2015</td>\n",
              "    </tr>\n",
              "  </tbody>\n",
              "</table>\n",
              "</div>"
            ],
            "text/plain": [
              "       Country          Region  ...  Dystopia Residual  Year\n",
              "0  Switzerland  Western Europe  ...            2.51738  2015\n",
              "1      Iceland  Western Europe  ...            2.70201  2015\n",
              "2      Denmark  Western Europe  ...            2.49204  2015\n",
              "3       Norway  Western Europe  ...            2.46531  2015\n",
              "4       Canada   North America  ...            2.45176  2015\n",
              "\n",
              "[5 rows x 11 columns]"
            ]
          },
          "metadata": {
            "tags": []
          },
          "execution_count": 4
        }
      ]
    },
    {
      "cell_type": "code",
      "metadata": {
        "id": "TGHfAvgnHC1y",
        "colab": {
          "base_uri": "https://localhost:8080/",
          "height": 435
        },
        "outputId": "6ccdccf6-03b6-4a65-9c72-41ae52126074"
      },
      "source": [
        "data2016 = pd.read_csv('2016.csv')\n",
        "data2016.drop(['Happiness Rank', 'Lower Confidence Interval', 'Upper Confidence Interval'], axis=1, inplace=True)\n",
        "data2016['Year'] = 2016\n",
        "data2016"
      ],
      "execution_count": 5,
      "outputs": [
        {
          "output_type": "execute_result",
          "data": {
            "text/html": [
              "<div>\n",
              "<style scoped>\n",
              "    .dataframe tbody tr th:only-of-type {\n",
              "        vertical-align: middle;\n",
              "    }\n",
              "\n",
              "    .dataframe tbody tr th {\n",
              "        vertical-align: top;\n",
              "    }\n",
              "\n",
              "    .dataframe thead th {\n",
              "        text-align: right;\n",
              "    }\n",
              "</style>\n",
              "<table border=\"1\" class=\"dataframe\">\n",
              "  <thead>\n",
              "    <tr style=\"text-align: right;\">\n",
              "      <th></th>\n",
              "      <th>Country</th>\n",
              "      <th>Region</th>\n",
              "      <th>Happiness Score</th>\n",
              "      <th>Economy (GDP per Capita)</th>\n",
              "      <th>Family</th>\n",
              "      <th>Health (Life Expectancy)</th>\n",
              "      <th>Freedom</th>\n",
              "      <th>Trust (Government Corruption)</th>\n",
              "      <th>Generosity</th>\n",
              "      <th>Dystopia Residual</th>\n",
              "      <th>Year</th>\n",
              "    </tr>\n",
              "  </thead>\n",
              "  <tbody>\n",
              "    <tr>\n",
              "      <th>0</th>\n",
              "      <td>Denmark</td>\n",
              "      <td>Western Europe</td>\n",
              "      <td>7.526</td>\n",
              "      <td>1.44178</td>\n",
              "      <td>1.16374</td>\n",
              "      <td>0.79504</td>\n",
              "      <td>0.57941</td>\n",
              "      <td>0.44453</td>\n",
              "      <td>0.36171</td>\n",
              "      <td>2.73939</td>\n",
              "      <td>2016</td>\n",
              "    </tr>\n",
              "    <tr>\n",
              "      <th>1</th>\n",
              "      <td>Switzerland</td>\n",
              "      <td>Western Europe</td>\n",
              "      <td>7.509</td>\n",
              "      <td>1.52733</td>\n",
              "      <td>1.14524</td>\n",
              "      <td>0.86303</td>\n",
              "      <td>0.58557</td>\n",
              "      <td>0.41203</td>\n",
              "      <td>0.28083</td>\n",
              "      <td>2.69463</td>\n",
              "      <td>2016</td>\n",
              "    </tr>\n",
              "    <tr>\n",
              "      <th>2</th>\n",
              "      <td>Iceland</td>\n",
              "      <td>Western Europe</td>\n",
              "      <td>7.501</td>\n",
              "      <td>1.42666</td>\n",
              "      <td>1.18326</td>\n",
              "      <td>0.86733</td>\n",
              "      <td>0.56624</td>\n",
              "      <td>0.14975</td>\n",
              "      <td>0.47678</td>\n",
              "      <td>2.83137</td>\n",
              "      <td>2016</td>\n",
              "    </tr>\n",
              "    <tr>\n",
              "      <th>3</th>\n",
              "      <td>Norway</td>\n",
              "      <td>Western Europe</td>\n",
              "      <td>7.498</td>\n",
              "      <td>1.57744</td>\n",
              "      <td>1.12690</td>\n",
              "      <td>0.79579</td>\n",
              "      <td>0.59609</td>\n",
              "      <td>0.35776</td>\n",
              "      <td>0.37895</td>\n",
              "      <td>2.66465</td>\n",
              "      <td>2016</td>\n",
              "    </tr>\n",
              "    <tr>\n",
              "      <th>4</th>\n",
              "      <td>Finland</td>\n",
              "      <td>Western Europe</td>\n",
              "      <td>7.413</td>\n",
              "      <td>1.40598</td>\n",
              "      <td>1.13464</td>\n",
              "      <td>0.81091</td>\n",
              "      <td>0.57104</td>\n",
              "      <td>0.41004</td>\n",
              "      <td>0.25492</td>\n",
              "      <td>2.82596</td>\n",
              "      <td>2016</td>\n",
              "    </tr>\n",
              "    <tr>\n",
              "      <th>...</th>\n",
              "      <td>...</td>\n",
              "      <td>...</td>\n",
              "      <td>...</td>\n",
              "      <td>...</td>\n",
              "      <td>...</td>\n",
              "      <td>...</td>\n",
              "      <td>...</td>\n",
              "      <td>...</td>\n",
              "      <td>...</td>\n",
              "      <td>...</td>\n",
              "      <td>...</td>\n",
              "    </tr>\n",
              "    <tr>\n",
              "      <th>152</th>\n",
              "      <td>Benin</td>\n",
              "      <td>Sub-Saharan Africa</td>\n",
              "      <td>3.484</td>\n",
              "      <td>0.39499</td>\n",
              "      <td>0.10419</td>\n",
              "      <td>0.21028</td>\n",
              "      <td>0.39747</td>\n",
              "      <td>0.06681</td>\n",
              "      <td>0.20180</td>\n",
              "      <td>2.10812</td>\n",
              "      <td>2016</td>\n",
              "    </tr>\n",
              "    <tr>\n",
              "      <th>153</th>\n",
              "      <td>Afghanistan</td>\n",
              "      <td>Southern Asia</td>\n",
              "      <td>3.360</td>\n",
              "      <td>0.38227</td>\n",
              "      <td>0.11037</td>\n",
              "      <td>0.17344</td>\n",
              "      <td>0.16430</td>\n",
              "      <td>0.07112</td>\n",
              "      <td>0.31268</td>\n",
              "      <td>2.14558</td>\n",
              "      <td>2016</td>\n",
              "    </tr>\n",
              "    <tr>\n",
              "      <th>154</th>\n",
              "      <td>Togo</td>\n",
              "      <td>Sub-Saharan Africa</td>\n",
              "      <td>3.303</td>\n",
              "      <td>0.28123</td>\n",
              "      <td>0.00000</td>\n",
              "      <td>0.24811</td>\n",
              "      <td>0.34678</td>\n",
              "      <td>0.11587</td>\n",
              "      <td>0.17517</td>\n",
              "      <td>2.13540</td>\n",
              "      <td>2016</td>\n",
              "    </tr>\n",
              "    <tr>\n",
              "      <th>155</th>\n",
              "      <td>Syria</td>\n",
              "      <td>Middle East and Northern Africa</td>\n",
              "      <td>3.069</td>\n",
              "      <td>0.74719</td>\n",
              "      <td>0.14866</td>\n",
              "      <td>0.62994</td>\n",
              "      <td>0.06912</td>\n",
              "      <td>0.17233</td>\n",
              "      <td>0.48397</td>\n",
              "      <td>0.81789</td>\n",
              "      <td>2016</td>\n",
              "    </tr>\n",
              "    <tr>\n",
              "      <th>156</th>\n",
              "      <td>Burundi</td>\n",
              "      <td>Sub-Saharan Africa</td>\n",
              "      <td>2.905</td>\n",
              "      <td>0.06831</td>\n",
              "      <td>0.23442</td>\n",
              "      <td>0.15747</td>\n",
              "      <td>0.04320</td>\n",
              "      <td>0.09419</td>\n",
              "      <td>0.20290</td>\n",
              "      <td>2.10404</td>\n",
              "      <td>2016</td>\n",
              "    </tr>\n",
              "  </tbody>\n",
              "</table>\n",
              "<p>157 rows × 11 columns</p>\n",
              "</div>"
            ],
            "text/plain": [
              "         Country                           Region  ...  Dystopia Residual  Year\n",
              "0        Denmark                   Western Europe  ...            2.73939  2016\n",
              "1    Switzerland                   Western Europe  ...            2.69463  2016\n",
              "2        Iceland                   Western Europe  ...            2.83137  2016\n",
              "3         Norway                   Western Europe  ...            2.66465  2016\n",
              "4        Finland                   Western Europe  ...            2.82596  2016\n",
              "..           ...                              ...  ...                ...   ...\n",
              "152        Benin               Sub-Saharan Africa  ...            2.10812  2016\n",
              "153  Afghanistan                    Southern Asia  ...            2.14558  2016\n",
              "154         Togo               Sub-Saharan Africa  ...            2.13540  2016\n",
              "155        Syria  Middle East and Northern Africa  ...            0.81789  2016\n",
              "156      Burundi               Sub-Saharan Africa  ...            2.10404  2016\n",
              "\n",
              "[157 rows x 11 columns]"
            ]
          },
          "metadata": {
            "tags": []
          },
          "execution_count": 5
        }
      ]
    },
    {
      "cell_type": "code",
      "metadata": {
        "id": "1KVtyrkGHHOe",
        "colab": {
          "base_uri": "https://localhost:8080/",
          "height": 435
        },
        "outputId": "4c0f20a1-b59a-4645-9baa-13f4d641bf3e"
      },
      "source": [
        "data2017 = pd.read_csv('2017.csv')\n",
        "data2017.drop(['Happiness.Rank', 'Whisker.high', 'Whisker.low'], axis=1, inplace=True)\n",
        "data2017.rename(columns={'Happiness.Score': 'Happiness Score', 'Economy..GDP.per.Capita.': 'Economy (GDP per Capita)', \n",
        "                         'Health..Life.Expectancy.': 'Health (Life Expectancy)', 'Trust..Government.Corruption.':'Trust (Government Corruption)', 'Dystopia.Residual': 'Dystopia Residual'}, inplace=True)\n",
        "data2017['Year'] = 2017\n",
        "data2017"
      ],
      "execution_count": 6,
      "outputs": [
        {
          "output_type": "execute_result",
          "data": {
            "text/html": [
              "<div>\n",
              "<style scoped>\n",
              "    .dataframe tbody tr th:only-of-type {\n",
              "        vertical-align: middle;\n",
              "    }\n",
              "\n",
              "    .dataframe tbody tr th {\n",
              "        vertical-align: top;\n",
              "    }\n",
              "\n",
              "    .dataframe thead th {\n",
              "        text-align: right;\n",
              "    }\n",
              "</style>\n",
              "<table border=\"1\" class=\"dataframe\">\n",
              "  <thead>\n",
              "    <tr style=\"text-align: right;\">\n",
              "      <th></th>\n",
              "      <th>Country</th>\n",
              "      <th>Happiness Score</th>\n",
              "      <th>Economy (GDP per Capita)</th>\n",
              "      <th>Family</th>\n",
              "      <th>Health (Life Expectancy)</th>\n",
              "      <th>Freedom</th>\n",
              "      <th>Generosity</th>\n",
              "      <th>Trust (Government Corruption)</th>\n",
              "      <th>Dystopia Residual</th>\n",
              "      <th>Year</th>\n",
              "    </tr>\n",
              "  </thead>\n",
              "  <tbody>\n",
              "    <tr>\n",
              "      <th>0</th>\n",
              "      <td>Norway</td>\n",
              "      <td>7.537</td>\n",
              "      <td>1.616463</td>\n",
              "      <td>1.533524</td>\n",
              "      <td>0.796667</td>\n",
              "      <td>0.635423</td>\n",
              "      <td>0.362012</td>\n",
              "      <td>0.315964</td>\n",
              "      <td>2.277027</td>\n",
              "      <td>2017</td>\n",
              "    </tr>\n",
              "    <tr>\n",
              "      <th>1</th>\n",
              "      <td>Denmark</td>\n",
              "      <td>7.522</td>\n",
              "      <td>1.482383</td>\n",
              "      <td>1.551122</td>\n",
              "      <td>0.792566</td>\n",
              "      <td>0.626007</td>\n",
              "      <td>0.355280</td>\n",
              "      <td>0.400770</td>\n",
              "      <td>2.313707</td>\n",
              "      <td>2017</td>\n",
              "    </tr>\n",
              "    <tr>\n",
              "      <th>2</th>\n",
              "      <td>Iceland</td>\n",
              "      <td>7.504</td>\n",
              "      <td>1.480633</td>\n",
              "      <td>1.610574</td>\n",
              "      <td>0.833552</td>\n",
              "      <td>0.627163</td>\n",
              "      <td>0.475540</td>\n",
              "      <td>0.153527</td>\n",
              "      <td>2.322715</td>\n",
              "      <td>2017</td>\n",
              "    </tr>\n",
              "    <tr>\n",
              "      <th>3</th>\n",
              "      <td>Switzerland</td>\n",
              "      <td>7.494</td>\n",
              "      <td>1.564980</td>\n",
              "      <td>1.516912</td>\n",
              "      <td>0.858131</td>\n",
              "      <td>0.620071</td>\n",
              "      <td>0.290549</td>\n",
              "      <td>0.367007</td>\n",
              "      <td>2.276716</td>\n",
              "      <td>2017</td>\n",
              "    </tr>\n",
              "    <tr>\n",
              "      <th>4</th>\n",
              "      <td>Finland</td>\n",
              "      <td>7.469</td>\n",
              "      <td>1.443572</td>\n",
              "      <td>1.540247</td>\n",
              "      <td>0.809158</td>\n",
              "      <td>0.617951</td>\n",
              "      <td>0.245483</td>\n",
              "      <td>0.382612</td>\n",
              "      <td>2.430182</td>\n",
              "      <td>2017</td>\n",
              "    </tr>\n",
              "    <tr>\n",
              "      <th>...</th>\n",
              "      <td>...</td>\n",
              "      <td>...</td>\n",
              "      <td>...</td>\n",
              "      <td>...</td>\n",
              "      <td>...</td>\n",
              "      <td>...</td>\n",
              "      <td>...</td>\n",
              "      <td>...</td>\n",
              "      <td>...</td>\n",
              "      <td>...</td>\n",
              "    </tr>\n",
              "    <tr>\n",
              "      <th>150</th>\n",
              "      <td>Rwanda</td>\n",
              "      <td>3.471</td>\n",
              "      <td>0.368746</td>\n",
              "      <td>0.945707</td>\n",
              "      <td>0.326425</td>\n",
              "      <td>0.581844</td>\n",
              "      <td>0.252756</td>\n",
              "      <td>0.455220</td>\n",
              "      <td>0.540061</td>\n",
              "      <td>2017</td>\n",
              "    </tr>\n",
              "    <tr>\n",
              "      <th>151</th>\n",
              "      <td>Syria</td>\n",
              "      <td>3.462</td>\n",
              "      <td>0.777153</td>\n",
              "      <td>0.396103</td>\n",
              "      <td>0.500533</td>\n",
              "      <td>0.081539</td>\n",
              "      <td>0.493664</td>\n",
              "      <td>0.151347</td>\n",
              "      <td>1.061574</td>\n",
              "      <td>2017</td>\n",
              "    </tr>\n",
              "    <tr>\n",
              "      <th>152</th>\n",
              "      <td>Tanzania</td>\n",
              "      <td>3.349</td>\n",
              "      <td>0.511136</td>\n",
              "      <td>1.041990</td>\n",
              "      <td>0.364509</td>\n",
              "      <td>0.390018</td>\n",
              "      <td>0.354256</td>\n",
              "      <td>0.066035</td>\n",
              "      <td>0.621130</td>\n",
              "      <td>2017</td>\n",
              "    </tr>\n",
              "    <tr>\n",
              "      <th>153</th>\n",
              "      <td>Burundi</td>\n",
              "      <td>2.905</td>\n",
              "      <td>0.091623</td>\n",
              "      <td>0.629794</td>\n",
              "      <td>0.151611</td>\n",
              "      <td>0.059901</td>\n",
              "      <td>0.204435</td>\n",
              "      <td>0.084148</td>\n",
              "      <td>1.683024</td>\n",
              "      <td>2017</td>\n",
              "    </tr>\n",
              "    <tr>\n",
              "      <th>154</th>\n",
              "      <td>Central African Republic</td>\n",
              "      <td>2.693</td>\n",
              "      <td>0.000000</td>\n",
              "      <td>0.000000</td>\n",
              "      <td>0.018773</td>\n",
              "      <td>0.270842</td>\n",
              "      <td>0.280876</td>\n",
              "      <td>0.056565</td>\n",
              "      <td>2.066005</td>\n",
              "      <td>2017</td>\n",
              "    </tr>\n",
              "  </tbody>\n",
              "</table>\n",
              "<p>155 rows × 10 columns</p>\n",
              "</div>"
            ],
            "text/plain": [
              "                      Country  Happiness Score  ...  Dystopia Residual  Year\n",
              "0                      Norway            7.537  ...           2.277027  2017\n",
              "1                     Denmark            7.522  ...           2.313707  2017\n",
              "2                     Iceland            7.504  ...           2.322715  2017\n",
              "3                 Switzerland            7.494  ...           2.276716  2017\n",
              "4                     Finland            7.469  ...           2.430182  2017\n",
              "..                        ...              ...  ...                ...   ...\n",
              "150                    Rwanda            3.471  ...           0.540061  2017\n",
              "151                     Syria            3.462  ...           1.061574  2017\n",
              "152                  Tanzania            3.349  ...           0.621130  2017\n",
              "153                   Burundi            2.905  ...           1.683024  2017\n",
              "154  Central African Republic            2.693  ...           2.066005  2017\n",
              "\n",
              "[155 rows x 10 columns]"
            ]
          },
          "metadata": {
            "tags": []
          },
          "execution_count": 6
        }
      ]
    },
    {
      "cell_type": "code",
      "metadata": {
        "id": "uXFQDOFoHH-O",
        "colab": {
          "base_uri": "https://localhost:8080/",
          "height": 435
        },
        "outputId": "9489f5a0-c612-4756-a7c1-91b3401846e1"
      },
      "source": [
        "data2018 = pd.read_csv('2018.csv')\n",
        "data2018.drop(['Overall rank'], axis=1, inplace=True)\n",
        "data2018['Year'] = 2018\n",
        "data2018"
      ],
      "execution_count": 7,
      "outputs": [
        {
          "output_type": "execute_result",
          "data": {
            "text/html": [
              "<div>\n",
              "<style scoped>\n",
              "    .dataframe tbody tr th:only-of-type {\n",
              "        vertical-align: middle;\n",
              "    }\n",
              "\n",
              "    .dataframe tbody tr th {\n",
              "        vertical-align: top;\n",
              "    }\n",
              "\n",
              "    .dataframe thead th {\n",
              "        text-align: right;\n",
              "    }\n",
              "</style>\n",
              "<table border=\"1\" class=\"dataframe\">\n",
              "  <thead>\n",
              "    <tr style=\"text-align: right;\">\n",
              "      <th></th>\n",
              "      <th>Country or region</th>\n",
              "      <th>Score</th>\n",
              "      <th>GDP per capita</th>\n",
              "      <th>Social support</th>\n",
              "      <th>Healthy life expectancy</th>\n",
              "      <th>Freedom to make life choices</th>\n",
              "      <th>Generosity</th>\n",
              "      <th>Perceptions of corruption</th>\n",
              "      <th>Year</th>\n",
              "    </tr>\n",
              "  </thead>\n",
              "  <tbody>\n",
              "    <tr>\n",
              "      <th>0</th>\n",
              "      <td>Finland</td>\n",
              "      <td>7.632</td>\n",
              "      <td>1.305</td>\n",
              "      <td>1.592</td>\n",
              "      <td>0.874</td>\n",
              "      <td>0.681</td>\n",
              "      <td>0.202</td>\n",
              "      <td>0.393</td>\n",
              "      <td>2018</td>\n",
              "    </tr>\n",
              "    <tr>\n",
              "      <th>1</th>\n",
              "      <td>Norway</td>\n",
              "      <td>7.594</td>\n",
              "      <td>1.456</td>\n",
              "      <td>1.582</td>\n",
              "      <td>0.861</td>\n",
              "      <td>0.686</td>\n",
              "      <td>0.286</td>\n",
              "      <td>0.340</td>\n",
              "      <td>2018</td>\n",
              "    </tr>\n",
              "    <tr>\n",
              "      <th>2</th>\n",
              "      <td>Denmark</td>\n",
              "      <td>7.555</td>\n",
              "      <td>1.351</td>\n",
              "      <td>1.590</td>\n",
              "      <td>0.868</td>\n",
              "      <td>0.683</td>\n",
              "      <td>0.284</td>\n",
              "      <td>0.408</td>\n",
              "      <td>2018</td>\n",
              "    </tr>\n",
              "    <tr>\n",
              "      <th>3</th>\n",
              "      <td>Iceland</td>\n",
              "      <td>7.495</td>\n",
              "      <td>1.343</td>\n",
              "      <td>1.644</td>\n",
              "      <td>0.914</td>\n",
              "      <td>0.677</td>\n",
              "      <td>0.353</td>\n",
              "      <td>0.138</td>\n",
              "      <td>2018</td>\n",
              "    </tr>\n",
              "    <tr>\n",
              "      <th>4</th>\n",
              "      <td>Switzerland</td>\n",
              "      <td>7.487</td>\n",
              "      <td>1.420</td>\n",
              "      <td>1.549</td>\n",
              "      <td>0.927</td>\n",
              "      <td>0.660</td>\n",
              "      <td>0.256</td>\n",
              "      <td>0.357</td>\n",
              "      <td>2018</td>\n",
              "    </tr>\n",
              "    <tr>\n",
              "      <th>...</th>\n",
              "      <td>...</td>\n",
              "      <td>...</td>\n",
              "      <td>...</td>\n",
              "      <td>...</td>\n",
              "      <td>...</td>\n",
              "      <td>...</td>\n",
              "      <td>...</td>\n",
              "      <td>...</td>\n",
              "      <td>...</td>\n",
              "    </tr>\n",
              "    <tr>\n",
              "      <th>151</th>\n",
              "      <td>Yemen</td>\n",
              "      <td>3.355</td>\n",
              "      <td>0.442</td>\n",
              "      <td>1.073</td>\n",
              "      <td>0.343</td>\n",
              "      <td>0.244</td>\n",
              "      <td>0.083</td>\n",
              "      <td>0.064</td>\n",
              "      <td>2018</td>\n",
              "    </tr>\n",
              "    <tr>\n",
              "      <th>152</th>\n",
              "      <td>Tanzania</td>\n",
              "      <td>3.303</td>\n",
              "      <td>0.455</td>\n",
              "      <td>0.991</td>\n",
              "      <td>0.381</td>\n",
              "      <td>0.481</td>\n",
              "      <td>0.270</td>\n",
              "      <td>0.097</td>\n",
              "      <td>2018</td>\n",
              "    </tr>\n",
              "    <tr>\n",
              "      <th>153</th>\n",
              "      <td>South Sudan</td>\n",
              "      <td>3.254</td>\n",
              "      <td>0.337</td>\n",
              "      <td>0.608</td>\n",
              "      <td>0.177</td>\n",
              "      <td>0.112</td>\n",
              "      <td>0.224</td>\n",
              "      <td>0.106</td>\n",
              "      <td>2018</td>\n",
              "    </tr>\n",
              "    <tr>\n",
              "      <th>154</th>\n",
              "      <td>Central African Republic</td>\n",
              "      <td>3.083</td>\n",
              "      <td>0.024</td>\n",
              "      <td>0.000</td>\n",
              "      <td>0.010</td>\n",
              "      <td>0.305</td>\n",
              "      <td>0.218</td>\n",
              "      <td>0.038</td>\n",
              "      <td>2018</td>\n",
              "    </tr>\n",
              "    <tr>\n",
              "      <th>155</th>\n",
              "      <td>Burundi</td>\n",
              "      <td>2.905</td>\n",
              "      <td>0.091</td>\n",
              "      <td>0.627</td>\n",
              "      <td>0.145</td>\n",
              "      <td>0.065</td>\n",
              "      <td>0.149</td>\n",
              "      <td>0.076</td>\n",
              "      <td>2018</td>\n",
              "    </tr>\n",
              "  </tbody>\n",
              "</table>\n",
              "<p>156 rows × 9 columns</p>\n",
              "</div>"
            ],
            "text/plain": [
              "            Country or region  Score  ...  Perceptions of corruption  Year\n",
              "0                     Finland  7.632  ...                      0.393  2018\n",
              "1                      Norway  7.594  ...                      0.340  2018\n",
              "2                     Denmark  7.555  ...                      0.408  2018\n",
              "3                     Iceland  7.495  ...                      0.138  2018\n",
              "4                 Switzerland  7.487  ...                      0.357  2018\n",
              "..                        ...    ...  ...                        ...   ...\n",
              "151                     Yemen  3.355  ...                      0.064  2018\n",
              "152                  Tanzania  3.303  ...                      0.097  2018\n",
              "153               South Sudan  3.254  ...                      0.106  2018\n",
              "154  Central African Republic  3.083  ...                      0.038  2018\n",
              "155                   Burundi  2.905  ...                      0.076  2018\n",
              "\n",
              "[156 rows x 9 columns]"
            ]
          },
          "metadata": {
            "tags": []
          },
          "execution_count": 7
        }
      ]
    },
    {
      "cell_type": "code",
      "metadata": {
        "id": "fX68-CYBHIw-",
        "colab": {
          "base_uri": "https://localhost:8080/",
          "height": 435
        },
        "outputId": "24315cc1-bcbc-428e-ed88-90bce6d33cbd"
      },
      "source": [
        "data2019 = pd.read_csv('2019.csv')\n",
        "data2019.drop(['Overall rank'], axis=1, inplace=True)\n",
        "data2019['Year'] = 2019\n",
        "data2019"
      ],
      "execution_count": 8,
      "outputs": [
        {
          "output_type": "execute_result",
          "data": {
            "text/html": [
              "<div>\n",
              "<style scoped>\n",
              "    .dataframe tbody tr th:only-of-type {\n",
              "        vertical-align: middle;\n",
              "    }\n",
              "\n",
              "    .dataframe tbody tr th {\n",
              "        vertical-align: top;\n",
              "    }\n",
              "\n",
              "    .dataframe thead th {\n",
              "        text-align: right;\n",
              "    }\n",
              "</style>\n",
              "<table border=\"1\" class=\"dataframe\">\n",
              "  <thead>\n",
              "    <tr style=\"text-align: right;\">\n",
              "      <th></th>\n",
              "      <th>Country or region</th>\n",
              "      <th>Score</th>\n",
              "      <th>GDP per capita</th>\n",
              "      <th>Social support</th>\n",
              "      <th>Healthy life expectancy</th>\n",
              "      <th>Freedom to make life choices</th>\n",
              "      <th>Generosity</th>\n",
              "      <th>Perceptions of corruption</th>\n",
              "      <th>Year</th>\n",
              "    </tr>\n",
              "  </thead>\n",
              "  <tbody>\n",
              "    <tr>\n",
              "      <th>0</th>\n",
              "      <td>Finland</td>\n",
              "      <td>7.769</td>\n",
              "      <td>1.340</td>\n",
              "      <td>1.587</td>\n",
              "      <td>0.986</td>\n",
              "      <td>0.596</td>\n",
              "      <td>0.153</td>\n",
              "      <td>0.393</td>\n",
              "      <td>2019</td>\n",
              "    </tr>\n",
              "    <tr>\n",
              "      <th>1</th>\n",
              "      <td>Denmark</td>\n",
              "      <td>7.600</td>\n",
              "      <td>1.383</td>\n",
              "      <td>1.573</td>\n",
              "      <td>0.996</td>\n",
              "      <td>0.592</td>\n",
              "      <td>0.252</td>\n",
              "      <td>0.410</td>\n",
              "      <td>2019</td>\n",
              "    </tr>\n",
              "    <tr>\n",
              "      <th>2</th>\n",
              "      <td>Norway</td>\n",
              "      <td>7.554</td>\n",
              "      <td>1.488</td>\n",
              "      <td>1.582</td>\n",
              "      <td>1.028</td>\n",
              "      <td>0.603</td>\n",
              "      <td>0.271</td>\n",
              "      <td>0.341</td>\n",
              "      <td>2019</td>\n",
              "    </tr>\n",
              "    <tr>\n",
              "      <th>3</th>\n",
              "      <td>Iceland</td>\n",
              "      <td>7.494</td>\n",
              "      <td>1.380</td>\n",
              "      <td>1.624</td>\n",
              "      <td>1.026</td>\n",
              "      <td>0.591</td>\n",
              "      <td>0.354</td>\n",
              "      <td>0.118</td>\n",
              "      <td>2019</td>\n",
              "    </tr>\n",
              "    <tr>\n",
              "      <th>4</th>\n",
              "      <td>Netherlands</td>\n",
              "      <td>7.488</td>\n",
              "      <td>1.396</td>\n",
              "      <td>1.522</td>\n",
              "      <td>0.999</td>\n",
              "      <td>0.557</td>\n",
              "      <td>0.322</td>\n",
              "      <td>0.298</td>\n",
              "      <td>2019</td>\n",
              "    </tr>\n",
              "    <tr>\n",
              "      <th>...</th>\n",
              "      <td>...</td>\n",
              "      <td>...</td>\n",
              "      <td>...</td>\n",
              "      <td>...</td>\n",
              "      <td>...</td>\n",
              "      <td>...</td>\n",
              "      <td>...</td>\n",
              "      <td>...</td>\n",
              "      <td>...</td>\n",
              "    </tr>\n",
              "    <tr>\n",
              "      <th>151</th>\n",
              "      <td>Rwanda</td>\n",
              "      <td>3.334</td>\n",
              "      <td>0.359</td>\n",
              "      <td>0.711</td>\n",
              "      <td>0.614</td>\n",
              "      <td>0.555</td>\n",
              "      <td>0.217</td>\n",
              "      <td>0.411</td>\n",
              "      <td>2019</td>\n",
              "    </tr>\n",
              "    <tr>\n",
              "      <th>152</th>\n",
              "      <td>Tanzania</td>\n",
              "      <td>3.231</td>\n",
              "      <td>0.476</td>\n",
              "      <td>0.885</td>\n",
              "      <td>0.499</td>\n",
              "      <td>0.417</td>\n",
              "      <td>0.276</td>\n",
              "      <td>0.147</td>\n",
              "      <td>2019</td>\n",
              "    </tr>\n",
              "    <tr>\n",
              "      <th>153</th>\n",
              "      <td>Afghanistan</td>\n",
              "      <td>3.203</td>\n",
              "      <td>0.350</td>\n",
              "      <td>0.517</td>\n",
              "      <td>0.361</td>\n",
              "      <td>0.000</td>\n",
              "      <td>0.158</td>\n",
              "      <td>0.025</td>\n",
              "      <td>2019</td>\n",
              "    </tr>\n",
              "    <tr>\n",
              "      <th>154</th>\n",
              "      <td>Central African Republic</td>\n",
              "      <td>3.083</td>\n",
              "      <td>0.026</td>\n",
              "      <td>0.000</td>\n",
              "      <td>0.105</td>\n",
              "      <td>0.225</td>\n",
              "      <td>0.235</td>\n",
              "      <td>0.035</td>\n",
              "      <td>2019</td>\n",
              "    </tr>\n",
              "    <tr>\n",
              "      <th>155</th>\n",
              "      <td>South Sudan</td>\n",
              "      <td>2.853</td>\n",
              "      <td>0.306</td>\n",
              "      <td>0.575</td>\n",
              "      <td>0.295</td>\n",
              "      <td>0.010</td>\n",
              "      <td>0.202</td>\n",
              "      <td>0.091</td>\n",
              "      <td>2019</td>\n",
              "    </tr>\n",
              "  </tbody>\n",
              "</table>\n",
              "<p>156 rows × 9 columns</p>\n",
              "</div>"
            ],
            "text/plain": [
              "            Country or region  Score  ...  Perceptions of corruption  Year\n",
              "0                     Finland  7.769  ...                      0.393  2019\n",
              "1                     Denmark  7.600  ...                      0.410  2019\n",
              "2                      Norway  7.554  ...                      0.341  2019\n",
              "3                     Iceland  7.494  ...                      0.118  2019\n",
              "4                 Netherlands  7.488  ...                      0.298  2019\n",
              "..                        ...    ...  ...                        ...   ...\n",
              "151                    Rwanda  3.334  ...                      0.411  2019\n",
              "152                  Tanzania  3.231  ...                      0.147  2019\n",
              "153               Afghanistan  3.203  ...                      0.025  2019\n",
              "154  Central African Republic  3.083  ...                      0.035  2019\n",
              "155               South Sudan  2.853  ...                      0.091  2019\n",
              "\n",
              "[156 rows x 9 columns]"
            ]
          },
          "metadata": {
            "tags": []
          },
          "execution_count": 8
        }
      ]
    },
    {
      "cell_type": "code",
      "metadata": {
        "id": "jf-wHri_Jbu2"
      },
      "source": [
        "from collections import Counter\n",
        "def compareSeries(a,b):\n",
        "  C = a.tolist()\n",
        "  D = b.tolist()\n",
        "  return list((Counter(C) - Counter(D)).elements())"
      ],
      "execution_count": 9,
      "outputs": []
    },
    {
      "cell_type": "code",
      "metadata": {
        "id": "ynnNYZFrKVCr"
      },
      "source": [
        "data2015.replace({'Country':'Somaliland region'}, 'Somaliland Region',inplace=True)\n",
        "\n",
        "data2017.replace({'Country':'Taiwan Province of China'}, 'Taiwan',inplace=True)\n",
        "data2017.replace({'Country':'Hong Kong S.A.R., China'}, 'Hong Kong',inplace=True)\n",
        "\n",
        "data2018.replace({'Country or region':'Trinidad & Tobago'}, 'Trinidad and Tobago',inplace=True)\n",
        "\n",
        "data2019.replace({'Country or region':'Trinidad & Tobago'}, 'Trinidad and Tobago',inplace=True)\n",
        "data2019.replace({'Country or region':'Northern Cyprus'}, 'North Cyprus',inplace=True)\n"
      ],
      "execution_count": 10,
      "outputs": []
    },
    {
      "cell_type": "code",
      "metadata": {
        "id": "NmktqRldHJa8",
        "colab": {
          "base_uri": "https://localhost:8080/"
        },
        "outputId": "5f6e80f1-984e-48d9-a209-345d07aa4bef"
      },
      "source": [
        "allDatasets = [data2015['Country'], data2016['Country'], data2017['Country'], data2018['Country or region'], data2019['Country or region']]\n",
        "for idx1,dataset in enumerate(allDatasets):\n",
        "  for idx2,dataset2 in enumerate(allDatasets):\n",
        "    print(idx1,idx2,compareSeries(dataset,dataset2))\n",
        "    print(idx2,idx1,compareSeries(dataset2, dataset))\n",
        "    print(\"------------------------------------\")\n",
        "    # if dataset.equals(dataset2) and dataset2.equals(dataset):\n",
        "    #   print(\"No Problems\")\n",
        "    # else:\n",
        "    #   print(idx1, idx2)"
      ],
      "execution_count": 11,
      "outputs": [
        {
          "output_type": "stream",
          "text": [
            "0 0 []\n",
            "0 0 []\n",
            "------------------------------------\n",
            "0 1 ['Oman', 'Mozambique', 'Lesotho', 'Swaziland', 'Djibouti', 'Central African Republic']\n",
            "1 0 ['Puerto Rico', 'Belize', 'Somalia', 'Namibia', 'South Sudan']\n",
            "------------------------------------\n",
            "0 2 ['Oman', 'Suriname', 'Somaliland Region', 'Laos', 'Swaziland', 'Djibouti', 'Comoros']\n",
            "2 0 ['Belize', 'Somalia', 'Namibia', 'South Sudan']\n",
            "------------------------------------\n",
            "0 3 ['Oman', 'Suriname', 'North Cyprus', 'Somaliland Region', 'Swaziland', 'Djibouti', 'Comoros']\n",
            "3 0 ['Belize', 'Northern Cyprus', 'Somalia', 'Namibia', 'South Sudan']\n",
            "------------------------------------\n",
            "0 4 ['Oman', 'Suriname', 'Somaliland Region', 'Macedonia', 'Sudan', 'Djibouti', 'Angola']\n",
            "4 0 ['North Macedonia', 'Somalia', 'Namibia', 'Gambia', 'South Sudan']\n",
            "------------------------------------\n",
            "1 0 ['Puerto Rico', 'Belize', 'Somalia', 'Namibia', 'South Sudan']\n",
            "0 1 ['Oman', 'Mozambique', 'Lesotho', 'Swaziland', 'Djibouti', 'Central African Republic']\n",
            "------------------------------------\n",
            "1 1 []\n",
            "1 1 []\n",
            "------------------------------------\n",
            "1 2 ['Puerto Rico', 'Suriname', 'Somaliland Region', 'Laos', 'Comoros']\n",
            "2 1 ['Mozambique', 'Lesotho', 'Central African Republic']\n",
            "------------------------------------\n",
            "1 3 ['Puerto Rico', 'Suriname', 'North Cyprus', 'Somaliland Region', 'Comoros']\n",
            "3 1 ['Northern Cyprus', 'Mozambique', 'Lesotho', 'Central African Republic']\n",
            "------------------------------------\n",
            "1 4 ['Puerto Rico', 'Suriname', 'Belize', 'Macedonia', 'Somaliland Region', 'Sudan', 'Angola']\n",
            "4 1 ['North Macedonia', 'Gambia', 'Mozambique', 'Swaziland', 'Lesotho', 'Central African Republic']\n",
            "------------------------------------\n",
            "2 0 ['Belize', 'Somalia', 'Namibia', 'South Sudan']\n",
            "0 2 ['Oman', 'Suriname', 'Somaliland Region', 'Laos', 'Swaziland', 'Djibouti', 'Comoros']\n",
            "------------------------------------\n",
            "2 1 ['Mozambique', 'Lesotho', 'Central African Republic']\n",
            "1 2 ['Puerto Rico', 'Suriname', 'Somaliland Region', 'Laos', 'Comoros']\n",
            "------------------------------------\n",
            "2 2 []\n",
            "2 2 []\n",
            "------------------------------------\n",
            "2 3 ['North Cyprus']\n",
            "3 2 ['Northern Cyprus', 'Laos']\n",
            "------------------------------------\n",
            "2 4 ['Belize', 'Macedonia', 'Sudan', 'Angola']\n",
            "4 2 ['North Macedonia', 'Laos', 'Gambia', 'Swaziland', 'Comoros']\n",
            "------------------------------------\n",
            "3 0 ['Belize', 'Northern Cyprus', 'Somalia', 'Namibia', 'South Sudan']\n",
            "0 3 ['Oman', 'Suriname', 'North Cyprus', 'Somaliland Region', 'Swaziland', 'Djibouti', 'Comoros']\n",
            "------------------------------------\n",
            "3 1 ['Northern Cyprus', 'Mozambique', 'Lesotho', 'Central African Republic']\n",
            "1 3 ['Puerto Rico', 'Suriname', 'North Cyprus', 'Somaliland Region', 'Comoros']\n",
            "------------------------------------\n",
            "3 2 ['Northern Cyprus', 'Laos']\n",
            "2 3 ['North Cyprus']\n",
            "------------------------------------\n",
            "3 3 []\n",
            "3 3 []\n",
            "------------------------------------\n",
            "3 4 ['Belize', 'Northern Cyprus', 'Macedonia', 'Sudan', 'Angola']\n",
            "4 3 ['North Cyprus', 'North Macedonia', 'Gambia', 'Swaziland', 'Comoros']\n",
            "------------------------------------\n",
            "4 0 ['North Macedonia', 'Somalia', 'Namibia', 'Gambia', 'South Sudan']\n",
            "0 4 ['Oman', 'Suriname', 'Somaliland Region', 'Macedonia', 'Sudan', 'Djibouti', 'Angola']\n",
            "------------------------------------\n",
            "4 1 ['North Macedonia', 'Gambia', 'Mozambique', 'Swaziland', 'Lesotho', 'Central African Republic']\n",
            "1 4 ['Puerto Rico', 'Suriname', 'Belize', 'Macedonia', 'Somaliland Region', 'Sudan', 'Angola']\n",
            "------------------------------------\n",
            "4 2 ['North Macedonia', 'Laos', 'Gambia', 'Swaziland', 'Comoros']\n",
            "2 4 ['Belize', 'Macedonia', 'Sudan', 'Angola']\n",
            "------------------------------------\n",
            "4 3 ['North Cyprus', 'North Macedonia', 'Gambia', 'Swaziland', 'Comoros']\n",
            "3 4 ['Belize', 'Northern Cyprus', 'Macedonia', 'Sudan', 'Angola']\n",
            "------------------------------------\n",
            "4 4 []\n",
            "4 4 []\n",
            "------------------------------------\n"
          ],
          "name": "stdout"
        }
      ]
    },
    {
      "cell_type": "code",
      "metadata": {
        "id": "JYttwp9FJN8j",
        "colab": {
          "base_uri": "https://localhost:8080/",
          "height": 246
        },
        "outputId": "04efcb40-d1db-4b05-a121-ea42deab09ae"
      },
      "source": [
        "allYearsOld = pd.concat([data2015,data2016, data2017])\n",
        "allYearsOld.sort_values(['Country','Year'], inplace=True, ignore_index=True)\n",
        "allYearsOld.head()"
      ],
      "execution_count": 12,
      "outputs": [
        {
          "output_type": "execute_result",
          "data": {
            "text/html": [
              "<div>\n",
              "<style scoped>\n",
              "    .dataframe tbody tr th:only-of-type {\n",
              "        vertical-align: middle;\n",
              "    }\n",
              "\n",
              "    .dataframe tbody tr th {\n",
              "        vertical-align: top;\n",
              "    }\n",
              "\n",
              "    .dataframe thead th {\n",
              "        text-align: right;\n",
              "    }\n",
              "</style>\n",
              "<table border=\"1\" class=\"dataframe\">\n",
              "  <thead>\n",
              "    <tr style=\"text-align: right;\">\n",
              "      <th></th>\n",
              "      <th>Country</th>\n",
              "      <th>Region</th>\n",
              "      <th>Happiness Score</th>\n",
              "      <th>Economy (GDP per Capita)</th>\n",
              "      <th>Family</th>\n",
              "      <th>Health (Life Expectancy)</th>\n",
              "      <th>Freedom</th>\n",
              "      <th>Trust (Government Corruption)</th>\n",
              "      <th>Generosity</th>\n",
              "      <th>Dystopia Residual</th>\n",
              "      <th>Year</th>\n",
              "    </tr>\n",
              "  </thead>\n",
              "  <tbody>\n",
              "    <tr>\n",
              "      <th>0</th>\n",
              "      <td>Afghanistan</td>\n",
              "      <td>Southern Asia</td>\n",
              "      <td>3.575</td>\n",
              "      <td>0.319820</td>\n",
              "      <td>0.302850</td>\n",
              "      <td>0.303350</td>\n",
              "      <td>0.23414</td>\n",
              "      <td>0.097190</td>\n",
              "      <td>0.365100</td>\n",
              "      <td>1.952100</td>\n",
              "      <td>2015</td>\n",
              "    </tr>\n",
              "    <tr>\n",
              "      <th>1</th>\n",
              "      <td>Afghanistan</td>\n",
              "      <td>Southern Asia</td>\n",
              "      <td>3.360</td>\n",
              "      <td>0.382270</td>\n",
              "      <td>0.110370</td>\n",
              "      <td>0.173440</td>\n",
              "      <td>0.16430</td>\n",
              "      <td>0.071120</td>\n",
              "      <td>0.312680</td>\n",
              "      <td>2.145580</td>\n",
              "      <td>2016</td>\n",
              "    </tr>\n",
              "    <tr>\n",
              "      <th>2</th>\n",
              "      <td>Afghanistan</td>\n",
              "      <td>NaN</td>\n",
              "      <td>3.794</td>\n",
              "      <td>0.401477</td>\n",
              "      <td>0.581543</td>\n",
              "      <td>0.180747</td>\n",
              "      <td>0.10618</td>\n",
              "      <td>0.061158</td>\n",
              "      <td>0.311871</td>\n",
              "      <td>2.150801</td>\n",
              "      <td>2017</td>\n",
              "    </tr>\n",
              "    <tr>\n",
              "      <th>3</th>\n",
              "      <td>Albania</td>\n",
              "      <td>Central and Eastern Europe</td>\n",
              "      <td>4.959</td>\n",
              "      <td>0.878670</td>\n",
              "      <td>0.804340</td>\n",
              "      <td>0.813250</td>\n",
              "      <td>0.35733</td>\n",
              "      <td>0.064130</td>\n",
              "      <td>0.142720</td>\n",
              "      <td>1.898940</td>\n",
              "      <td>2015</td>\n",
              "    </tr>\n",
              "    <tr>\n",
              "      <th>4</th>\n",
              "      <td>Albania</td>\n",
              "      <td>Central and Eastern Europe</td>\n",
              "      <td>4.655</td>\n",
              "      <td>0.955300</td>\n",
              "      <td>0.501630</td>\n",
              "      <td>0.730070</td>\n",
              "      <td>0.31866</td>\n",
              "      <td>0.053010</td>\n",
              "      <td>0.168400</td>\n",
              "      <td>1.928160</td>\n",
              "      <td>2016</td>\n",
              "    </tr>\n",
              "  </tbody>\n",
              "</table>\n",
              "</div>"
            ],
            "text/plain": [
              "       Country                      Region  ...  Dystopia Residual  Year\n",
              "0  Afghanistan               Southern Asia  ...           1.952100  2015\n",
              "1  Afghanistan               Southern Asia  ...           2.145580  2016\n",
              "2  Afghanistan                         NaN  ...           2.150801  2017\n",
              "3      Albania  Central and Eastern Europe  ...           1.898940  2015\n",
              "4      Albania  Central and Eastern Europe  ...           1.928160  2016\n",
              "\n",
              "[5 rows x 11 columns]"
            ]
          },
          "metadata": {
            "tags": []
          },
          "execution_count": 12
        }
      ]
    },
    {
      "cell_type": "code",
      "metadata": {
        "id": "nTMZBqZbT7jw",
        "colab": {
          "base_uri": "https://localhost:8080/",
          "height": 212
        },
        "outputId": "f88bc2d0-0c81-424e-f264-c786149e9adf"
      },
      "source": [
        "allYearsNew = pd.concat([data2018, data2019])\n",
        "allYearsNew.sort_values(['Country or region', 'Year'], inplace=True, ignore_index=True)\n",
        "allYearsNew.head()"
      ],
      "execution_count": 13,
      "outputs": [
        {
          "output_type": "execute_result",
          "data": {
            "text/html": [
              "<div>\n",
              "<style scoped>\n",
              "    .dataframe tbody tr th:only-of-type {\n",
              "        vertical-align: middle;\n",
              "    }\n",
              "\n",
              "    .dataframe tbody tr th {\n",
              "        vertical-align: top;\n",
              "    }\n",
              "\n",
              "    .dataframe thead th {\n",
              "        text-align: right;\n",
              "    }\n",
              "</style>\n",
              "<table border=\"1\" class=\"dataframe\">\n",
              "  <thead>\n",
              "    <tr style=\"text-align: right;\">\n",
              "      <th></th>\n",
              "      <th>Country or region</th>\n",
              "      <th>Score</th>\n",
              "      <th>GDP per capita</th>\n",
              "      <th>Social support</th>\n",
              "      <th>Healthy life expectancy</th>\n",
              "      <th>Freedom to make life choices</th>\n",
              "      <th>Generosity</th>\n",
              "      <th>Perceptions of corruption</th>\n",
              "      <th>Year</th>\n",
              "    </tr>\n",
              "  </thead>\n",
              "  <tbody>\n",
              "    <tr>\n",
              "      <th>0</th>\n",
              "      <td>Afghanistan</td>\n",
              "      <td>3.632</td>\n",
              "      <td>0.332</td>\n",
              "      <td>0.537</td>\n",
              "      <td>0.255</td>\n",
              "      <td>0.085</td>\n",
              "      <td>0.191</td>\n",
              "      <td>0.036</td>\n",
              "      <td>2018</td>\n",
              "    </tr>\n",
              "    <tr>\n",
              "      <th>1</th>\n",
              "      <td>Afghanistan</td>\n",
              "      <td>3.203</td>\n",
              "      <td>0.350</td>\n",
              "      <td>0.517</td>\n",
              "      <td>0.361</td>\n",
              "      <td>0.000</td>\n",
              "      <td>0.158</td>\n",
              "      <td>0.025</td>\n",
              "      <td>2019</td>\n",
              "    </tr>\n",
              "    <tr>\n",
              "      <th>2</th>\n",
              "      <td>Albania</td>\n",
              "      <td>4.586</td>\n",
              "      <td>0.916</td>\n",
              "      <td>0.817</td>\n",
              "      <td>0.790</td>\n",
              "      <td>0.419</td>\n",
              "      <td>0.149</td>\n",
              "      <td>0.032</td>\n",
              "      <td>2018</td>\n",
              "    </tr>\n",
              "    <tr>\n",
              "      <th>3</th>\n",
              "      <td>Albania</td>\n",
              "      <td>4.719</td>\n",
              "      <td>0.947</td>\n",
              "      <td>0.848</td>\n",
              "      <td>0.874</td>\n",
              "      <td>0.383</td>\n",
              "      <td>0.178</td>\n",
              "      <td>0.027</td>\n",
              "      <td>2019</td>\n",
              "    </tr>\n",
              "    <tr>\n",
              "      <th>4</th>\n",
              "      <td>Algeria</td>\n",
              "      <td>5.295</td>\n",
              "      <td>0.979</td>\n",
              "      <td>1.154</td>\n",
              "      <td>0.687</td>\n",
              "      <td>0.077</td>\n",
              "      <td>0.055</td>\n",
              "      <td>0.135</td>\n",
              "      <td>2018</td>\n",
              "    </tr>\n",
              "  </tbody>\n",
              "</table>\n",
              "</div>"
            ],
            "text/plain": [
              "  Country or region  Score  ...  Perceptions of corruption  Year\n",
              "0       Afghanistan  3.632  ...                      0.036  2018\n",
              "1       Afghanistan  3.203  ...                      0.025  2019\n",
              "2           Albania  4.586  ...                      0.032  2018\n",
              "3           Albania  4.719  ...                      0.027  2019\n",
              "4           Algeria  5.295  ...                      0.135  2018\n",
              "\n",
              "[5 rows x 9 columns]"
            ]
          },
          "metadata": {
            "tags": []
          },
          "execution_count": 13
        }
      ]
    },
    {
      "cell_type": "code",
      "metadata": {
        "id": "7u_NmjYyVeKo"
      },
      "source": [
        "allYearsOldAdjusted = allYearsOld.drop(['Region', 'Family', 'Dystopia Residual'], axis=1)\n",
        "allYearsNewAdjusted = allYearsNew.rename(columns={'Country or region': 'Country', 'Score': 'Happiness Score', 'GDP per capita':'Economy (GDP per Capita)', 'Healthy life expectancy':'Health (Life Expectancy)', 'Freedom to make life choices':'Freedom', 'Perceptions of corruption':'Trust (Government Corruption)'})\n",
        "allYearsNewAdjusted.drop(['Social support'], axis=1, inplace=True)"
      ],
      "execution_count": 14,
      "outputs": []
    },
    {
      "cell_type": "code",
      "metadata": {
        "id": "3BratV8WUxa-",
        "colab": {
          "base_uri": "https://localhost:8080/",
          "height": 195
        },
        "outputId": "aa2e8371-bc9d-4f79-e047-fd42f5d52028"
      },
      "source": [
        "allYearsCombined = pd.concat((allYearsOldAdjusted, allYearsNewAdjusted), axis=0)\n",
        "allYearsCombined.sort_values(['Country','Year'], inplace=True, ignore_index=True)\n",
        "allYearsCombined.head()"
      ],
      "execution_count": 15,
      "outputs": [
        {
          "output_type": "execute_result",
          "data": {
            "text/html": [
              "<div>\n",
              "<style scoped>\n",
              "    .dataframe tbody tr th:only-of-type {\n",
              "        vertical-align: middle;\n",
              "    }\n",
              "\n",
              "    .dataframe tbody tr th {\n",
              "        vertical-align: top;\n",
              "    }\n",
              "\n",
              "    .dataframe thead th {\n",
              "        text-align: right;\n",
              "    }\n",
              "</style>\n",
              "<table border=\"1\" class=\"dataframe\">\n",
              "  <thead>\n",
              "    <tr style=\"text-align: right;\">\n",
              "      <th></th>\n",
              "      <th>Country</th>\n",
              "      <th>Happiness Score</th>\n",
              "      <th>Economy (GDP per Capita)</th>\n",
              "      <th>Health (Life Expectancy)</th>\n",
              "      <th>Freedom</th>\n",
              "      <th>Trust (Government Corruption)</th>\n",
              "      <th>Generosity</th>\n",
              "      <th>Year</th>\n",
              "    </tr>\n",
              "  </thead>\n",
              "  <tbody>\n",
              "    <tr>\n",
              "      <th>0</th>\n",
              "      <td>Afghanistan</td>\n",
              "      <td>3.575</td>\n",
              "      <td>0.319820</td>\n",
              "      <td>0.303350</td>\n",
              "      <td>0.23414</td>\n",
              "      <td>0.097190</td>\n",
              "      <td>0.365100</td>\n",
              "      <td>2015</td>\n",
              "    </tr>\n",
              "    <tr>\n",
              "      <th>1</th>\n",
              "      <td>Afghanistan</td>\n",
              "      <td>3.360</td>\n",
              "      <td>0.382270</td>\n",
              "      <td>0.173440</td>\n",
              "      <td>0.16430</td>\n",
              "      <td>0.071120</td>\n",
              "      <td>0.312680</td>\n",
              "      <td>2016</td>\n",
              "    </tr>\n",
              "    <tr>\n",
              "      <th>2</th>\n",
              "      <td>Afghanistan</td>\n",
              "      <td>3.794</td>\n",
              "      <td>0.401477</td>\n",
              "      <td>0.180747</td>\n",
              "      <td>0.10618</td>\n",
              "      <td>0.061158</td>\n",
              "      <td>0.311871</td>\n",
              "      <td>2017</td>\n",
              "    </tr>\n",
              "    <tr>\n",
              "      <th>3</th>\n",
              "      <td>Afghanistan</td>\n",
              "      <td>3.632</td>\n",
              "      <td>0.332000</td>\n",
              "      <td>0.255000</td>\n",
              "      <td>0.08500</td>\n",
              "      <td>0.036000</td>\n",
              "      <td>0.191000</td>\n",
              "      <td>2018</td>\n",
              "    </tr>\n",
              "    <tr>\n",
              "      <th>4</th>\n",
              "      <td>Afghanistan</td>\n",
              "      <td>3.203</td>\n",
              "      <td>0.350000</td>\n",
              "      <td>0.361000</td>\n",
              "      <td>0.00000</td>\n",
              "      <td>0.025000</td>\n",
              "      <td>0.158000</td>\n",
              "      <td>2019</td>\n",
              "    </tr>\n",
              "  </tbody>\n",
              "</table>\n",
              "</div>"
            ],
            "text/plain": [
              "       Country  Happiness Score  ...  Generosity  Year\n",
              "0  Afghanistan            3.575  ...    0.365100  2015\n",
              "1  Afghanistan            3.360  ...    0.312680  2016\n",
              "2  Afghanistan            3.794  ...    0.311871  2017\n",
              "3  Afghanistan            3.632  ...    0.191000  2018\n",
              "4  Afghanistan            3.203  ...    0.158000  2019\n",
              "\n",
              "[5 rows x 8 columns]"
            ]
          },
          "metadata": {
            "tags": []
          },
          "execution_count": 15
        }
      ]
    },
    {
      "cell_type": "code",
      "metadata": {
        "id": "hcIszSF61JEJ"
      },
      "source": [
        ""
      ],
      "execution_count": 15,
      "outputs": []
    },
    {
      "cell_type": "code",
      "metadata": {
        "id": "gvOTFNB0XNWj",
        "colab": {
          "base_uri": "https://localhost:8080/",
          "height": 262
        },
        "outputId": "df1bd9a3-0fb7-4961-eb8b-8def8d852263"
      },
      "source": [
        "countryData = pd.read_csv('/content/250 Country Data.csv', index_col=0)\n",
        "\n",
        "countryData['Real Growth Rating(%)'] = countryData['Real Growth Rating(%)'].str.extract('(\\S+)%')[0].str.replace('–', '-').astype(float)\n",
        "countryData['Literacy Rate(%)'] = countryData['Literacy Rate(%)'].str.extract('(\\S+)%')[0].str.replace('–', '-').astype(float)\n",
        "countryData['Inflation(%)'] = countryData['Inflation(%)'].str.extract('(\\S+)%')[0].str.replace('–', '-').astype(float)\n",
        "countryData['Unemployement(%)'] = countryData['Unemployement(%)'].str.extract('(\\d+\\.?\\d*)\\D*%')[0].str.replace('–', '-').astype(float)\n",
        "\n",
        "countryData = countryData.drop(countryData[countryData['subregion'].isna()].index)\n",
        "\n",
        "\n",
        "indicies = countryData[countryData['area'].isna()]['area'].index \n",
        "countryData.loc[indicies, 'area'] = [34.2, 83534, 1628, 1128, 374, 6220, 2512, 420, 3903, 61399]\n",
        "\n",
        "countryData.fillna(countryData.mean(), inplace=True)\n",
        "\n",
        "countryData.head()"
      ],
      "execution_count": 16,
      "outputs": [
        {
          "output_type": "execute_result",
          "data": {
            "text/html": [
              "<div>\n",
              "<style scoped>\n",
              "    .dataframe tbody tr th:only-of-type {\n",
              "        vertical-align: middle;\n",
              "    }\n",
              "\n",
              "    .dataframe tbody tr th {\n",
              "        vertical-align: top;\n",
              "    }\n",
              "\n",
              "    .dataframe thead th {\n",
              "        text-align: right;\n",
              "    }\n",
              "</style>\n",
              "<table border=\"1\" class=\"dataframe\">\n",
              "  <thead>\n",
              "    <tr style=\"text-align: right;\">\n",
              "      <th></th>\n",
              "      <th>name</th>\n",
              "      <th>region</th>\n",
              "      <th>subregion</th>\n",
              "      <th>population</th>\n",
              "      <th>area</th>\n",
              "      <th>gini</th>\n",
              "      <th>Real Growth Rating(%)</th>\n",
              "      <th>Literacy Rate(%)</th>\n",
              "      <th>Inflation(%)</th>\n",
              "      <th>Unemployement(%)</th>\n",
              "    </tr>\n",
              "  </thead>\n",
              "  <tbody>\n",
              "    <tr>\n",
              "      <th>0</th>\n",
              "      <td>Afghanistan</td>\n",
              "      <td>Asia</td>\n",
              "      <td>Southern Asia</td>\n",
              "      <td>27657145</td>\n",
              "      <td>652230.0</td>\n",
              "      <td>27.800000</td>\n",
              "      <td>3.100000</td>\n",
              "      <td>28.100000</td>\n",
              "      <td>6.800000</td>\n",
              "      <td>35.000000</td>\n",
              "    </tr>\n",
              "    <tr>\n",
              "      <th>1</th>\n",
              "      <td>Åland Islands</td>\n",
              "      <td>Europe</td>\n",
              "      <td>Northern Europe</td>\n",
              "      <td>28875</td>\n",
              "      <td>1580.0</td>\n",
              "      <td>40.177124</td>\n",
              "      <td>3.372121</td>\n",
              "      <td>84.492659</td>\n",
              "      <td>4.383436</td>\n",
              "      <td>14.770671</td>\n",
              "    </tr>\n",
              "    <tr>\n",
              "      <th>2</th>\n",
              "      <td>Albania</td>\n",
              "      <td>Europe</td>\n",
              "      <td>Southern Europe</td>\n",
              "      <td>2886026</td>\n",
              "      <td>28748.0</td>\n",
              "      <td>34.500000</td>\n",
              "      <td>0.700000</td>\n",
              "      <td>98.700000</td>\n",
              "      <td>1.700000</td>\n",
              "      <td>16.900000</td>\n",
              "    </tr>\n",
              "    <tr>\n",
              "      <th>3</th>\n",
              "      <td>Algeria</td>\n",
              "      <td>Africa</td>\n",
              "      <td>Northern Africa</td>\n",
              "      <td>40400000</td>\n",
              "      <td>2381741.0</td>\n",
              "      <td>35.300000</td>\n",
              "      <td>3.100000</td>\n",
              "      <td>79.000000</td>\n",
              "      <td>3.900000</td>\n",
              "      <td>10.300000</td>\n",
              "    </tr>\n",
              "    <tr>\n",
              "      <th>4</th>\n",
              "      <td>American Samoa</td>\n",
              "      <td>Oceania</td>\n",
              "      <td>Polynesia</td>\n",
              "      <td>57100</td>\n",
              "      <td>199.0</td>\n",
              "      <td>40.177124</td>\n",
              "      <td>3.000000</td>\n",
              "      <td>97.000000</td>\n",
              "      <td>4.383436</td>\n",
              "      <td>14.770671</td>\n",
              "    </tr>\n",
              "  </tbody>\n",
              "</table>\n",
              "</div>"
            ],
            "text/plain": [
              "             name   region  ... Inflation(%)  Unemployement(%)\n",
              "0     Afghanistan     Asia  ...     6.800000         35.000000\n",
              "1   Åland Islands   Europe  ...     4.383436         14.770671\n",
              "2         Albania   Europe  ...     1.700000         16.900000\n",
              "3         Algeria   Africa  ...     3.900000         10.300000\n",
              "4  American Samoa  Oceania  ...     4.383436         14.770671\n",
              "\n",
              "[5 rows x 10 columns]"
            ]
          },
          "metadata": {
            "tags": []
          },
          "execution_count": 16
        }
      ]
    },
    {
      "cell_type": "code",
      "metadata": {
        "colab": {
          "base_uri": "https://localhost:8080/",
          "height": 350
        },
        "id": "fqaWTq4n2mRH",
        "outputId": "c99d0494-6c77-4583-f28e-4c8ecd74efda"
      },
      "source": [
        "whr_250Country = pd.merge(allYearsCombined, countryData, left_on='Country',right_on='name',suffixes=('_2015D','_countryD'), how='inner')\n",
        "\n",
        "# print(df_inner['Country'].unique())\n",
        "whr_250Country.head()"
      ],
      "execution_count": 17,
      "outputs": [
        {
          "output_type": "execute_result",
          "data": {
            "text/html": [
              "<div>\n",
              "<style scoped>\n",
              "    .dataframe tbody tr th:only-of-type {\n",
              "        vertical-align: middle;\n",
              "    }\n",
              "\n",
              "    .dataframe tbody tr th {\n",
              "        vertical-align: top;\n",
              "    }\n",
              "\n",
              "    .dataframe thead th {\n",
              "        text-align: right;\n",
              "    }\n",
              "</style>\n",
              "<table border=\"1\" class=\"dataframe\">\n",
              "  <thead>\n",
              "    <tr style=\"text-align: right;\">\n",
              "      <th></th>\n",
              "      <th>Country</th>\n",
              "      <th>Happiness Score</th>\n",
              "      <th>Economy (GDP per Capita)</th>\n",
              "      <th>Health (Life Expectancy)</th>\n",
              "      <th>Freedom</th>\n",
              "      <th>Trust (Government Corruption)</th>\n",
              "      <th>Generosity</th>\n",
              "      <th>Year</th>\n",
              "      <th>name</th>\n",
              "      <th>region</th>\n",
              "      <th>subregion</th>\n",
              "      <th>population</th>\n",
              "      <th>area</th>\n",
              "      <th>gini</th>\n",
              "      <th>Real Growth Rating(%)</th>\n",
              "      <th>Literacy Rate(%)</th>\n",
              "      <th>Inflation(%)</th>\n",
              "      <th>Unemployement(%)</th>\n",
              "    </tr>\n",
              "  </thead>\n",
              "  <tbody>\n",
              "    <tr>\n",
              "      <th>0</th>\n",
              "      <td>Afghanistan</td>\n",
              "      <td>3.575</td>\n",
              "      <td>0.319820</td>\n",
              "      <td>0.303350</td>\n",
              "      <td>0.23414</td>\n",
              "      <td>0.097190</td>\n",
              "      <td>0.365100</td>\n",
              "      <td>2015</td>\n",
              "      <td>Afghanistan</td>\n",
              "      <td>Asia</td>\n",
              "      <td>Southern Asia</td>\n",
              "      <td>27657145</td>\n",
              "      <td>652230.0</td>\n",
              "      <td>27.8</td>\n",
              "      <td>3.1</td>\n",
              "      <td>28.1</td>\n",
              "      <td>6.8</td>\n",
              "      <td>35.0</td>\n",
              "    </tr>\n",
              "    <tr>\n",
              "      <th>1</th>\n",
              "      <td>Afghanistan</td>\n",
              "      <td>3.360</td>\n",
              "      <td>0.382270</td>\n",
              "      <td>0.173440</td>\n",
              "      <td>0.16430</td>\n",
              "      <td>0.071120</td>\n",
              "      <td>0.312680</td>\n",
              "      <td>2016</td>\n",
              "      <td>Afghanistan</td>\n",
              "      <td>Asia</td>\n",
              "      <td>Southern Asia</td>\n",
              "      <td>27657145</td>\n",
              "      <td>652230.0</td>\n",
              "      <td>27.8</td>\n",
              "      <td>3.1</td>\n",
              "      <td>28.1</td>\n",
              "      <td>6.8</td>\n",
              "      <td>35.0</td>\n",
              "    </tr>\n",
              "    <tr>\n",
              "      <th>2</th>\n",
              "      <td>Afghanistan</td>\n",
              "      <td>3.794</td>\n",
              "      <td>0.401477</td>\n",
              "      <td>0.180747</td>\n",
              "      <td>0.10618</td>\n",
              "      <td>0.061158</td>\n",
              "      <td>0.311871</td>\n",
              "      <td>2017</td>\n",
              "      <td>Afghanistan</td>\n",
              "      <td>Asia</td>\n",
              "      <td>Southern Asia</td>\n",
              "      <td>27657145</td>\n",
              "      <td>652230.0</td>\n",
              "      <td>27.8</td>\n",
              "      <td>3.1</td>\n",
              "      <td>28.1</td>\n",
              "      <td>6.8</td>\n",
              "      <td>35.0</td>\n",
              "    </tr>\n",
              "    <tr>\n",
              "      <th>3</th>\n",
              "      <td>Afghanistan</td>\n",
              "      <td>3.632</td>\n",
              "      <td>0.332000</td>\n",
              "      <td>0.255000</td>\n",
              "      <td>0.08500</td>\n",
              "      <td>0.036000</td>\n",
              "      <td>0.191000</td>\n",
              "      <td>2018</td>\n",
              "      <td>Afghanistan</td>\n",
              "      <td>Asia</td>\n",
              "      <td>Southern Asia</td>\n",
              "      <td>27657145</td>\n",
              "      <td>652230.0</td>\n",
              "      <td>27.8</td>\n",
              "      <td>3.1</td>\n",
              "      <td>28.1</td>\n",
              "      <td>6.8</td>\n",
              "      <td>35.0</td>\n",
              "    </tr>\n",
              "    <tr>\n",
              "      <th>4</th>\n",
              "      <td>Afghanistan</td>\n",
              "      <td>3.203</td>\n",
              "      <td>0.350000</td>\n",
              "      <td>0.361000</td>\n",
              "      <td>0.00000</td>\n",
              "      <td>0.025000</td>\n",
              "      <td>0.158000</td>\n",
              "      <td>2019</td>\n",
              "      <td>Afghanistan</td>\n",
              "      <td>Asia</td>\n",
              "      <td>Southern Asia</td>\n",
              "      <td>27657145</td>\n",
              "      <td>652230.0</td>\n",
              "      <td>27.8</td>\n",
              "      <td>3.1</td>\n",
              "      <td>28.1</td>\n",
              "      <td>6.8</td>\n",
              "      <td>35.0</td>\n",
              "    </tr>\n",
              "  </tbody>\n",
              "</table>\n",
              "</div>"
            ],
            "text/plain": [
              "       Country  Happiness Score  ...  Inflation(%)  Unemployement(%)\n",
              "0  Afghanistan            3.575  ...           6.8              35.0\n",
              "1  Afghanistan            3.360  ...           6.8              35.0\n",
              "2  Afghanistan            3.794  ...           6.8              35.0\n",
              "3  Afghanistan            3.632  ...           6.8              35.0\n",
              "4  Afghanistan            3.203  ...           6.8              35.0\n",
              "\n",
              "[5 rows x 18 columns]"
            ]
          },
          "metadata": {
            "tags": []
          },
          "execution_count": 17
        }
      ]
    },
    {
      "cell_type": "code",
      "metadata": {
        "colab": {
          "base_uri": "https://localhost:8080/",
          "height": 592
        },
        "id": "Yj5SNzMy96Nm",
        "outputId": "f6abe50e-bda0-4aa8-ea3e-2b49d3900991"
      },
      "source": [
        "import seaborn as sn\n",
        "plt.figure(figsize=(14,7))\n",
        "sn.heatmap(whr_250Country.corr(), annot=True)"
      ],
      "execution_count": 18,
      "outputs": [
        {
          "output_type": "execute_result",
          "data": {
            "text/plain": [
              "<matplotlib.axes._subplots.AxesSubplot at 0x7fb236178048>"
            ]
          },
          "metadata": {
            "tags": []
          },
          "execution_count": 18
        },
        {
          "output_type": "display_data",
          "data": {
            "image/png": "[encoded data removed]",
            "text/plain": [
              "<Figure size 1008x504 with 2 Axes>"
            ]
          },
          "metadata": {
            "tags": [],
            "needs_background": "light"
          }
        }
      ]
    },
    {
      "cell_type": "markdown",
      "metadata": {
        "id": "F7Lv10L21A1I"
      },
      "source": [
        ""
      ]
    },
    {
      "cell_type": "markdown",
      "metadata": {
        "id": "4u3-8kPI1n1g"
      },
      "source": [
        "# Looking at relations between the Economy, the Health and the Happiness score.\n"
      ]
    },
    {
      "cell_type": "code",
      "metadata": {
        "colab": {
          "base_uri": "https://localhost:8080/",
          "height": 285
        },
        "id": "IYCC2hMm0dVM",
        "outputId": "581f07e1-9382-438b-d769-3e6c1417ab2f"
      },
      "source": [
        "plt.scatter(whr_250Country['Economy (GDP per Capita)'],whr_250Country['Happiness Score'])"
      ],
      "execution_count": 76,
      "outputs": [
        {
          "output_type": "execute_result",
          "data": {
            "text/plain": [
              "<matplotlib.collections.PathCollection at 0x7fb224c10c18>"
            ]
          },
          "metadata": {
            "tags": []
          },
          "execution_count": 76
        },
        {
          "output_type": "display_data",
          "data": {
            "image/png": "[encoded data removed]",
            "text/plain": [
              "<Figure size 432x288 with 1 Axes>"
            ]
          },
          "metadata": {
            "tags": [],
            "needs_background": "light"
          }
        }
      ]
    },
    {
      "cell_type": "code",
      "metadata": {
        "colab": {
          "base_uri": "https://localhost:8080/",
          "height": 285
        },
        "id": "XBYb__CL0qwl",
        "outputId": "8e49508b-5c95-4de7-fdaa-dea1da5f67bd"
      },
      "source": [
        "plt.scatter(whr_250Country['Health (Life Expectancy)'],whr_250Country['Happiness Score'])"
      ],
      "execution_count": 77,
      "outputs": [
        {
          "output_type": "execute_result",
          "data": {
            "text/plain": [
              "<matplotlib.collections.PathCollection at 0x7fb225517588>"
            ]
          },
          "metadata": {
            "tags": []
          },
          "execution_count": 77
        },
        {
          "output_type": "display_data",
          "data": {
            "image/png": "[encoded data removed]",
            "text/plain": [
              "<Figure size 432x288 with 1 Axes>"
            ]
          },
          "metadata": {
            "tags": [],
            "needs_background": "light"
          }
        }
      ]
    },
    {
      "cell_type": "code",
      "metadata": {
        "colab": {
          "base_uri": "https://localhost:8080/",
          "height": 542
        },
        "id": "2rw2-0la023T",
        "outputId": "bfa29f3a-973b-4698-a02d-0300241ad83d"
      },
      "source": [
        "import plotly.express as px\n",
        "fig = px.scatter_3d(whr_250Country, x='Economy (GDP per Capita)', y='Health (Life Expectancy)', z='Happiness Score',\n",
        "              color='Year',size_max=1,opacity=0.7)\n",
        "fig.show()"
      ],
      "execution_count": 78,
      "outputs": [
        {
          "output_type": "display_data",
          "data": {
            "text/html": [
              "<html>\n",
              "<head><meta charset=\"utf-8\" /></head>\n",
              "<body>\n",
              "    <div>\n",
              "            <script src=\"https://cdnjs.cloudflare.com/ajax/libs/mathjax/2.7.5/MathJax.js?config=TeX-AMS-MML_SVG\"></script><script type=\"text/javascript\">if (window.MathJax) {MathJax.Hub.Config({SVG: {font: \"STIX-Web\"}});}</script>\n",
              "                <script type=\"text/javascript\">window.PlotlyConfig = {MathJaxConfig: 'local'};</script>\n",
              "        <script src=\"https://cdn.plot.ly/plotly-latest.min.js\"></script>    \n",
              "            <div id=\"da7fe399-0376-4ed7-9a2c-825c98d3bfec\" class=\"plotly-graph-div\" style=\"height:525px; width:100%;\"></div>\n",
              "            <script type=\"text/javascript\">\n",
              "                \n",
              "                    window.PLOTLYENV=window.PLOTLYENV || {};\n",
              "                    \n",
              "                if (document.getElementById(\"da7fe399-0376-4ed7-9a2c-825c98d3bfec\")) {\n",
              "                    Plotly.newPlot(\n",
              "                        'da7fe399-0376-4ed7-9a2c-825c98d3bfec',\n",
              "                        [{\"hoverlabel\": {\"namelength\": 0}, \"hovertemplate\": \"Economy (GDP per Capita)=%{x}<br>Health (Life Expectancy)=%{y}<br>Happiness Score=%{z}<br>Year=%{marker.color}\", \"legendgroup\": \"\", \"marker\": {\"color\": [2015, 2016, 2017, 2018, 2019, 2015, 2016, 2017, 2018, 2019, 2015, 2016, 2017, 2018, 2019, 2015, 2016, 2017, 2018, 2015, 2016, 2017, 2018, 2019, 2015, 2016, 2017, 2018, 2019, 2015, 2016, 2017, 2018, 2019, 2015, 2016, 2017, 2018, 2019, 2015, 2016, 2017, 2018, 2019, 2015, 2016, 2017, 2018, 2019, 2015, 2016, 2017, 2018, 2019, 2015, 2016, 2017, 2018, 2019, 2015, 2016, 2017, 2018, 2019, 2016, 2017, 2018, 2015, 2016, 2017, 2018, 2019, 2015, 2016, 2017, 2018, 2019, 2015, 2016, 2017, 2018, 2019, 2015, 2016, 2017, 2018, 2019, 2015, 2016, 2017, 2018, 2019, 2015, 2016, 2017, 2018, 2019, 2015, 2016, 2017, 2018, 2019, 2015, 2016, 2017, 2018, 2019, 2015, 2016, 2017, 2018, 2019, 2015, 2016, 2017, 2018, 2019, 2015, 2016, 2017, 2018, 2019, 2015, 2017, 2018, 2019, 2015, 2016, 2017, 2018, 2019, 2015, 2016, 2017, 2018, 2019, 2015, 2016, 2017, 2018, 2019, 2015, 2016, 2017, 2018, 2019, 2015, 2016, 2019, 2015, 2016, 2017, 2018, 2019, 2015, 2016, 2017, 2018, 2019, 2015, 2016, 2017, 2018, 2019, 2015, 2016, 2017, 2018, 2019, 2015, 2016, 2017, 2018, 2019, 2015, 2015, 2016, 2017, 2018, 2019, 2015, 2016, 2017, 2018, 2019, 2015, 2016, 2017, 2018, 2019, 2015, 2016, 2017, 2018, 2019, 2015, 2016, 2017, 2018, 2019, 2015, 2016, 2017, 2018, 2019, 2015, 2016, 2017, 2018, 2019, 2015, 2016, 2017, 2018, 2019, 2015, 2016, 2017, 2018, 2019, 2019, 2015, 2016, 2017, 2018, 2019, 2015, 2016, 2017, 2018, 2019, 2015, 2016, 2017, 2018, 2019, 2015, 2016, 2017, 2018, 2019, 2015, 2016, 2017, 2018, 2019, 2015, 2016, 2017, 2018, 2019, 2015, 2016, 2017, 2018, 2019, 2015, 2016, 2017, 2018, 2019, 2015, 2016, 2017, 2018, 2019, 2015, 2016, 2017, 2018, 2019, 2015, 2016, 2017, 2018, 2019, 2015, 2016, 2017, 2018, 2019, 2015, 2016, 2017, 2018, 2019, 2015, 2016, 2017, 2018, 2019, 2015, 2016, 2017, 2018, 2019, 2015, 2016, 2017, 2018, 2019, 2015, 2016, 2017, 2018, 2019, 2015, 2016, 2017, 2018, 2019, 2015, 2016, 2017, 2018, 2019, 2015, 2016, 2017, 2018, 2019, 2015, 2016, 2017, 2018, 2019, 2015, 2016, 2017, 2018, 2019, 2015, 2016, 2017, 2018, 2019, 2015, 2016, 2017, 2018, 2019, 2015, 2016, 2017, 2018, 2019, 2015, 2016, 2017, 2018, 2019, 2015, 2017, 2018, 2019, 2015, 2016, 2017, 2018, 2019, 2015, 2016, 2017, 2018, 2019, 2015, 2016, 2017, 2018, 2019, 2015, 2016, 2017, 2018, 2019, 2015, 2016, 2017, 2018, 2019, 2015, 2016, 2017, 2018, 2019, 2015, 2016, 2017, 2018, 2019, 2015, 2016, 2017, 2018, 2019, 2015, 2016, 2017, 2018, 2019, 2015, 2016, 2017, 2018, 2019, 2015, 2016, 2017, 2018, 2019, 2015, 2016, 2017, 2018, 2019, 2015, 2016, 2017, 2018, 2019, 2015, 2016, 2017, 2018, 2019, 2015, 2016, 2017, 2018, 2019, 2015, 2017, 2018, 2019, 2015, 2016, 2017, 2018, 2019, 2016, 2017, 2018, 2019, 2015, 2016, 2017, 2018, 2019, 2015, 2016, 2017, 2018, 2019, 2015, 2016, 2017, 2018, 2019, 2015, 2016, 2017, 2018, 2019, 2015, 2016, 2017, 2018, 2019, 2015, 2016, 2017, 2018, 2019, 2015, 2016, 2017, 2018, 2019, 2015, 2015, 2016, 2017, 2018, 2019, 2015, 2016, 2017, 2018, 2019, 2015, 2016, 2017, 2018, 2019, 2015, 2016, 2017, 2018, 2019, 2015, 2016, 2017, 2018, 2019, 2015, 2016, 2017, 2018, 2019, 2015, 2016, 2017, 2018, 2019, 2016, 2015, 2016, 2017, 2018, 2019, 2015, 2016, 2017, 2018, 2019, 2015, 2016, 2017, 2018, 2019, 2015, 2016, 2017, 2018, 2019, 2015, 2016, 2017, 2018, 2019, 2015, 2016, 2017, 2018, 2019, 2015, 2016, 2017, 2018, 2019, 2015, 2016, 2017, 2018, 2019, 2015, 2016, 2017, 2018, 2019, 2015, 2016, 2017, 2018, 2019, 2016, 2017, 2018, 2019, 2015, 2016, 2017, 2018, 2019, 2016, 2017, 2018, 2019, 2015, 2016, 2017, 2018, 2019, 2015, 2016, 2017, 2018, 2019, 2015, 2016, 2017, 2018, 2015, 2016, 2015, 2019, 2015, 2016, 2017, 2018, 2019, 2015, 2016, 2017, 2018, 2019, 2015, 2016, 2017, 2018, 2019, 2015, 2016, 2017, 2018, 2019, 2015, 2016, 2017, 2018, 2019, 2015, 2016, 2017, 2018, 2019, 2015, 2016, 2017, 2018, 2019, 2015, 2016, 2017, 2018, 2019, 2015, 2016, 2017, 2018, 2019, 2015, 2016, 2017, 2018, 2019, 2015, 2016, 2017, 2018, 2019, 2015, 2016, 2017, 2018, 2019, 2015, 2016, 2017, 2018, 2019, 2015, 2016, 2017, 2018, 2019, 2015, 2016, 2017, 2018, 2019, 2015, 2016, 2017, 2018, 2019, 2015, 2016, 2017, 2018, 2019, 2015, 2016, 2017, 2018, 2019], \"coloraxis\": \"coloraxis\", \"opacity\": 0.7, \"symbol\": \"circle\"}, \"mode\": \"markers\", \"name\": \"\", \"scene\": \"scene\", \"showlegend\": false, \"type\": \"scatter3d\", \"x\": [0.31982, 0.38227, 0.401477217674255, 0.332, 0.35, 0.8786700000000001, 0.9553, 0.996192753314972, 0.9159999999999999, 0.9470000000000001, 0.93929, 1.05266, 1.09186446666718, 0.9790000000000001, 1.002, 0.75778, 0.84731, 0.8584281802177429, 0.73, 1.05351, 1.15137, 1.18529546260834, 1.073, 1.092, 0.7682100000000001, 0.8608600000000001, 0.900596737861633, 0.816, 0.85, 1.33358, 1.4444299999999999, 1.4844149351120002, 1.34, 1.3719999999999999, 1.33723, 1.45038, 1.4870972633361799, 1.341, 1.376, 1.02389, 1.12373, 1.1536017656326298, 1.024, 1.043, 1.32376, 1.44024, 1.4884122610092199, 1.338, 1.3619999999999999, 0.39753, 0.54177, 0.586682975292206, 0.532, 0.562, 1.0319200000000002, 1.1306200000000002, 1.15655755996704, 1.0390000000000001, 1.067, 1.30782, 1.42539, 1.4637807607650801, 1.324, 1.3559999999999999, 0.87616, 0.907975316047668, 0.807, 0.28665, 0.39499, 0.43108540773391707, 0.37799999999999995, 0.39299999999999996, 0.77042, 0.8527, 0.885416388511658, 0.7959999999999999, 0.813, 0.8322299999999999, 0.9338299999999999, 0.982409417629242, 0.915, 0.945, 0.99355, 1.09426, 1.12209415435791, 1.0170000000000001, 1.041, 0.98124, 1.08754, 1.1073532104492199, 0.986, 1.004, 1.01216, 1.11306, 1.1614590883255, 1.054, 1.092, 0.25811999999999996, 0.31995, 0.35022771358490007, 0.314, 0.331, 0.0153, 0.06831, 0.09162256866693501, 0.091, 0.046, 0.46038, 0.55604, 0.6017650961875921, 0.5489999999999999, 0.574, 0.4225, 0.5249699999999999, 0.564305365085602, 0.535, 0.5489999999999999, 1.32629, 1.44015, 1.47920441627502, 1.33, 1.365, 0.0785, 0.0, 0.024, 0.026000000000000002, 0.34193, 0.42213999999999996, 0.43801298737525896, 0.358, 0.35, 1.10715, 1.2167, 1.25278460979462, 1.131, 1.159, 0.89012, 1.0278, 1.08116579055786, 0.9890000000000001, 1.0290000000000001, 0.91861, 1.0303200000000001, 1.07062232494354, 0.96, 0.985, 0.23906, 0.27509, 0.27399999999999997, 0.95578, 1.06879, 1.10970628261566, 1.01, 1.034, 1.08254, 1.18649, 1.22255623340607, 1.115, 1.155, 1.20813, 1.31857, 1.3559380769729599, 1.229, 1.263, 1.17898, 1.30915, 1.35268235206604, 1.2329999999999999, 1.2690000000000001, 1.32548, 1.4417799999999998, 1.48238301277161, 1.351, 1.383, 0.44025, 0.8953700000000001, 1.02787, 1.07937383651733, 0.982, 1.015, 0.8640200000000001, 0.97306, 1.00082039833069, 0.889, 0.912, 0.8818, 0.95395, 0.989701807498932, 0.885, 0.9129999999999999, 0.76454, 0.8737, 0.9097844958305359, 0.8059999999999999, 0.794, 1.15174, 1.2796399999999999, 1.3208793401718102, 1.2, 1.237, 0.19072999999999998, 0.29283000000000003, 0.339233845472336, 0.308, 0.336, 1.29025, 1.40598, 1.44357192516327, 1.305, 1.34, 1.27778, 1.39488, 1.43092346191406, 1.2930000000000001, 1.324, 1.06024, 1.15851, 1.1982102394104, 1.036, 1.057, 0.308, 0.7419, 0.8379200000000001, 0.950612664222717, 0.853, 0.8859999999999999, 1.32792, 1.44787, 1.48792338371277, 1.34, 1.3730000000000002, 0.5455800000000001, 0.63107, 0.667224824428558, 0.5920000000000001, 0.611, 1.15406, 1.24886, 1.28948748111725, 1.1540000000000001, 1.181, 0.74553, 0.83454, 0.872001945972443, 0.7809999999999999, 0.8, 0.17417, 0.22415, 0.24454993009567302, 0.344, 0.38, 0.26673, 0.34097, 0.368610262870789, 0.315, 0.32299999999999995, 0.59532, 0.69429, 0.730573117733002, 0.62, 0.642, 1.38604, 1.5107, 1.55167484283447, 1.405, 1.4380000000000002, 1.12094, 1.24142, 1.2860119342803997, 1.171, 1.2009999999999998, 1.3023200000000001, 1.42666, 1.480633020401, 1.3430000000000002, 1.38, 0.64499, 0.74036, 0.7922212481498722, 0.721, 0.755, 0.8282700000000001, 0.95104, 0.995538592338562, 0.899, 0.9309999999999999, 0.98549, 1.07474, 1.1027104854583702, 1.01, 1.043, 1.33596, 1.4834100000000001, 1.5357066392898602, 1.4480000000000002, 1.499, 1.2285700000000002, 1.33766, 1.3753824234008798, 1.301, 1.276, 1.25114, 1.35495, 1.3950666189193701, 1.264, 1.294, 0.81038, 0.89333, 0.925579309463501, 0.8190000000000001, 0.831, 1.27074, 1.3800700000000001, 1.41691517829895, 1.294, 1.327, 0.9019799999999999, 0.9967299999999999, 0.9910123944282528, 0.8220000000000001, 0.8370000000000001, 1.1225399999999999, 1.22943, 1.2845562696456898, 1.143, 1.173, 0.36471, 0.52267, 0.560479462146759, 0.493, 0.512, 1.5542200000000002, 1.61714, 1.63295245170593, 1.474, 1.5, 0.47428000000000003, 0.5604399999999999, 0.5962200760841371, 0.53, 0.551, 1.11312, 1.2178799999999999, 1.26074862480164, 1.148, 1.187, 1.0256399999999999, 1.12268, 1.07498753070831, 0.965, 0.987, 0.37545, 0.521021246910095, 0.47200000000000003, 0.489, 0.0712, 0.10705999999999999, 0.11904179304838199, 0.076, 0.073, 1.13145, 1.0668799999999998, 1.1018030643463101, 0.985, 1.044, 1.14723, 1.2692, 1.3145823478698702, 1.197, 1.238, 1.5639100000000001, 1.6975200000000001, 1.74194359779358, 1.5759999999999998, 1.609, 0.20824, 0.27954, 0.305808693170547, 0.262, 0.27399999999999997, 0.016040000000000002, 0.08709, 0.233442038297653, 0.18600000000000003, 0.191, 1.12486, 1.25142, 1.29121541976929, 1.161, 1.2209999999999999, 0.26074, 0.31292, 0.476180493831635, 0.37, 0.385, 1.2074, 1.30782, 1.34327983856201, 1.27, 1.3, 0.45407, 0.6139100000000001, 0.6484572887420649, 0.557, 0.57, 1.0076100000000001, 1.14372, 1.1893955469131499, 1.09, 1.12, 1.02054, 1.1150799999999998, 1.1531838178634601, 1.038, 1.07, 0.82819, 0.9885299999999999, 1.0272358655929599, 0.914, 0.948, 0.9743799999999999, 1.07838, 1.12112903594971, 1.0170000000000001, 1.051, 0.7347899999999999, 0.8405799999999999, 0.8781145811080929, 0.779, 0.8009999999999999, 0.08308, 0.23430564999580397, 0.198, 0.204, 0.27108000000000004, 0.34112, 0.36711055040359497, 0.682, 0.71, 0.9328700000000001, 0.964434325695038, 0.8740000000000001, 0.879, 0.35996999999999996, 0.44626000000000005, 0.479820191860199, 0.425, 0.446, 1.32944, 1.46468, 1.50394463539124, 1.361, 1.396, 1.2501799999999998, 1.36066, 1.40570604801178, 1.268, 1.3030000000000002, 0.59325, 0.69384, 0.737299203872681, 0.6679999999999999, 0.6940000000000001, 0.0694, 0.1327, 0.16192533075809498, 0.131, 0.138, 0.65435, 0.75216, 0.783756256103516, 0.6890000000000001, 0.696, 1.459, 1.57744, 1.6164631843566901, 1.456, 1.4880000000000002, 1.36011, 0.59543, 0.68816, 0.7268835306167599, 0.652, 0.677, 1.0635299999999999, 1.18306, 1.23374843597412, 1.112, 1.149, 0.75985, 0.8937299999999999, 0.932537317276001, 0.835, 0.855, 0.9001899999999999, 0.9960200000000001, 1.0352252721786501, 0.934, 0.96, 0.70532, 0.81217, 0.85769921541214, 0.775, 0.807, 1.12555, 1.24585, 1.29178786277771, 1.176, 1.206, 1.15991, 1.27607, 1.3151752948761002, 1.188, 1.2209999999999999, 1.35943, 1.69042, 1.82427, 1.8707656860351598, 1.649, 1.6840000000000002, 1.04345, 1.1697, 1.21768391132355, 1.1159999999999999, 1.162, 0.22208000000000003, 0.32846, 0.368745893239975, 0.332, 0.359, 1.39541, 1.48953, 1.53062355518341, 1.379, 1.403, 0.36498, 0.44314, 0.479309022426605, 0.429, 0.45, 0.92053, 1.03437, 1.06931757926941, 0.975, 1.004, 0.33024000000000003, 0.36485, 0.36842092871666, 0.256, 0.268, 1.52186, 1.64555, 1.69227766990662, 1.5290000000000001, 1.5719999999999998, 1.1689100000000001, 1.27973, 1.32539355754852, 1.21, 1.246, 1.18498, 1.2994700000000001, 1.3412059545516999, 1.219, 1.258, 0.0, 0.0226431842893362, 0.0, 0.0, 0.9204899999999999, 1.02416, 1.05469870567322, 0.94, 0.96, 0.39394, 0.39724862575531, 0.337, 0.306, 1.23011, 1.34253, 1.38439786434174, 1.251, 1.286, 0.83524, 0.9731799999999999, 1.00985014438629, 0.9179999999999999, 0.9490000000000001, 0.52107, 0.63069, 0.6595166921615601, 0.605, 0.99534, 1.09686, 0.71206, 0.8109999999999999, 1.33171, 1.45181, 1.49438726902008, 1.355, 1.3869999999999998, 1.3965100000000001, 1.5273299999999999, 1.5649795532226598, 1.42, 1.452, 1.29098, 1.39729, 1.4336265325546298, 1.365, 1.368, 0.39047, 0.48835, 0.524713635444641, 0.474, 0.493, 0.9669, 1.0893, 1.12786877155304, 1.016, 1.05, 0.20868, 0.28123000000000004, 0.30544471740722695, 0.259, 0.275, 1.21183, 1.32572, 1.36135590076447, 1.2229999999999999, 1.2309999999999999, 0.88113, 0.97724, 1.00726580619812, 0.9, 0.9209999999999999, 1.06098, 1.1649200000000002, 1.1982743740081798, 1.148, 1.183, 0.95847, 1.08017, 1.1307767629623402, 1.016, 1.052, 0.21101999999999999, 0.34719, 0.381430715322495, 0.322, 0.332, 0.79907, 0.87287, 0.89465194940567, 0.7929999999999999, 0.82, 1.42727, 1.57352, 1.6263433694839498, 2.096, 1.5030000000000001, 1.06166, 1.18157, 1.2175596952438401, 1.093, 1.124, 0.63244, 0.7359100000000001, 0.786441087722778, 0.7190000000000001, 0.745, 0.5464899999999999, 0.57939, 0.5916834473609921, 0.442, 0.287, 0.47038, 0.61202, 0.6364067792892459, 0.562, 0.578, 0.271, 0.35041, 0.37584653496742204, 0.35700000000000004, 0.366], \"y\": [0.30335, 0.17344, 0.18074677884578697, 0.255, 0.361, 0.81325, 0.73007, 0.731159746646881, 0.79, 0.8740000000000001, 0.61766, 0.6180399999999999, 0.6175846457481379, 0.687, 0.785, 0.16683, 0.04991, 0.0498686656355858, 0.26899999999999996, 0.78723, 0.69711, 0.695137083530426, 0.7440000000000001, 0.8809999999999999, 0.7299, 0.64083, 0.637524425983429, 0.6659999999999999, 0.815, 0.93156, 0.8512, 0.84388679265976, 0.91, 1.036, 0.8904200000000001, 0.80565, 0.8153284192085269, 0.8909999999999999, 1.016, 0.64045, 0.54504, 0.5407757759094239, 0.603, 0.769, 0.74716, 0.65696, 0.653133034706116, 0.698, 0.871, 0.60164, 0.52989, 0.533241033554077, 0.579, 0.723, 0.7360800000000001, 0.6310399999999999, 0.6377142667770389, 0.7, 0.789, 0.8966700000000001, 0.8195899999999999, 0.8180918693542479, 0.894, 0.986, 0.45569, 0.45019176602363603, 0.474, 0.3191, 0.21028000000000002, 0.20993021130561804, 0.24, 0.397, 0.57407, 0.49759, 0.495879292488098, 0.527, 0.604, 0.79081, 0.7076600000000001, 0.705186307430267, 0.758, 0.845, 0.047760000000000004, 0.34752, 0.34175550937652605, 0.41700000000000004, 0.5379999999999999, 0.69702, 0.61415, 0.6165523529052729, 0.675, 0.802, 0.76649, 0.67806, 0.708217680454254, 0.7120000000000001, 0.815, 0.27125, 0.21297, 0.21584425866603896, 0.254, 0.38, 0.22396, 0.15747, 0.151610791683197, 0.145, 0.38, 0.61114, 0.42494, 0.429783403873444, 0.457, 0.637, 0.23401999999999998, 0.12697999999999998, 0.132892116904259, 0.182, 0.331, 0.9056299999999999, 0.8276, 0.83455765247345, 0.8959999999999999, 1.0390000000000001, 0.06699, 0.0187726859003305, 0.01, 0.105, 0.1501, 0.038239999999999996, 0.0411347150802612, 0.053, 0.192, 0.85857, 0.8188300000000001, 0.8194797039031979, 0.8079999999999999, 0.92, 0.81658, 0.73561, 0.741415500640869, 0.799, 0.893, 0.69077, 0.59659, 0.595027923583984, 0.635, 0.841, 0.36315, 0.29980999999999997, 0.505, 0.8602700000000001, 0.76146, 0.7595092654228209, 0.8170000000000001, 0.963, 0.78805, 0.70524, 0.701288521289825, 0.737, 0.914, 0.92356, 0.8488, 0.84471470117569, 0.909, 1.042, 0.84483, 0.76376, 0.754444003105164, 0.8540000000000001, 0.92, 0.87464, 0.79504, 0.7925655245780941, 0.868, 0.996, 0.36291, 0.66825, 0.5766899999999999, 0.574873745441437, 0.614, 0.779, 0.79075, 0.68613, 0.685636222362518, 0.736, 0.868, 0.61712, 0.5211600000000001, 0.520187258720398, 0.5529999999999999, 0.644, 0.67737, 0.596, 0.596018552780151, 0.639, 0.789, 0.77361, 0.68098, 0.695168316364288, 0.737, 0.8740000000000001, 0.44055, 0.34578000000000003, 0.35340970754623396, 0.391, 0.532, 0.8891100000000001, 0.81091, 0.80915766954422, 0.8740000000000001, 0.986, 0.9457899999999999, 0.83795, 0.8444658517837521, 0.9079999999999999, 1.045, 0.43372, 0.3494, 0.35657858848571794, 0.40399999999999997, 0.5710000000000001, 0.428, 0.72926, 0.64035, 0.649546980857849, 0.643, 0.752, 0.89186, 0.81487, 0.798950731754303, 0.861, 0.987, 0.40131999999999995, 0.29681, 0.29563772678375205, 0.337, 0.486, 0.88213, 0.80029, 0.8101989030838009, 0.879, 0.9990000000000001, 0.64425, 0.5403899999999999, 0.540239989757538, 0.608, 0.746, 0.24009, 0.18829, 0.194129139184952, 0.21100000000000002, 0.375, 0.38847, 0.27494, 0.277321130037308, 0.289, 0.449, 0.6951, 0.5838300000000001, 0.582569479942322, 0.622, 0.828, 1.01328, 0.9527700000000001, 0.943062424659729, 1.03, 1.122, 0.75905, 0.67608, 0.6877634525299069, 0.732, 0.828, 0.94784, 0.8673299999999999, 0.8335521221160892, 0.914, 1.026, 0.5152899999999999, 0.45091000000000003, 0.455427616834641, 0.485, 0.588, 0.63793, 0.49373999999999996, 0.49234572052955605, 0.522, 0.66, 0.60237, 0.51076, 0.501180469989777, 0.536, 0.574, 0.89533, 0.81455, 0.8097826242446899, 0.8759999999999999, 0.9990000000000001, 0.9138700000000001, 0.8491700000000001, 0.83840399980545, 0.883, 1.0290000000000001, 0.9544600000000001, 0.8510200000000001, 0.8531443476676941, 0.946, 1.0390000000000001, 0.6874100000000001, 0.5946899999999999, 0.6410223841667181, 0.693, 0.831, 0.99111, 0.91491, 0.9134758710861209, 0.988, 1.088, 0.69639, 0.60712, 0.6045900583267211, 0.645, 0.815, 0.64368, 0.57386, 0.6060415506362921, 0.631, 0.7290000000000001, 0.41435, 0.30146999999999996, 0.30998834967613204, 0.45399999999999996, 0.581, 0.72492, 0.63569, 0.6321057081222529, 0.675, 0.8079999999999999, 0.65088, 0.5544899999999999, 0.553457796573639, 0.594, 0.723, 0.72437, 0.63952, 0.638566970825195, 0.6709999999999999, 0.812, 0.83947, 0.76171, 0.7350810766220089, 0.785, 0.815, 0.07612000000000001, 0.0, 0.079, 0.168, 0.34201, 0.23165, 0.229918196797371, 0.267, 0.44299999999999995, 0.7038, 0.52304, 0.520169019699097, 0.5529999999999999, 0.6729999999999999, 0.73128, 0.64674, 0.62894994020462, 0.716, 0.818, 0.91894, 0.8454200000000001, 0.845089495182037, 0.8959999999999999, 1.012, 0.46721, 0.37109000000000003, 0.375223308801651, 0.402, 0.555, 0.22562, 0.29364, 0.315089583396912, 0.306, 0.495, 0.7239399999999999, 0.62366, 0.618784427642822, 0.669, 0.828, 0.20583, 0.16347, 0.16936567425727803, 0.152, 0.308, 0.88721, 0.80315, 0.821944236755371, 0.884, 0.9990000000000001, 0.35874, 0.28639000000000003, 0.285349279642105, 0.292, 0.489, 0.7095, 0.66189, 0.6380074620246889, 0.684, 0.7979999999999999, 0.8144399999999999, 0.71143, 0.709978997707367, 0.7609999999999999, 0.861, 0.60268, 0.55469, 0.557783484458923, 0.575, 0.667, 0.72521, 0.6353300000000001, 0.6674646735191351, 0.7290000000000001, 0.871, 0.60954, 0.5947100000000001, 0.59771066904068, 0.669, 0.782, 0.09131, 0.10665443539619399, 0.17300000000000001, 0.39, 0.48246000000000006, 0.3988, 0.397522568702698, 0.429, 0.555, 0.34745, 0.33861181139946, 0.365, 0.47700000000000004, 0.5687399999999999, 0.50073, 0.504130780696869, 0.539, 0.677, 0.89284, 0.8123100000000001, 0.8106961250305179, 0.878, 0.9990000000000001, 0.9083700000000001, 0.83096, 0.816759705543518, 0.8759999999999999, 1.026, 0.7431399999999999, 0.65213, 0.6530959606170649, 0.7, 0.835, 0.29707, 0.26161999999999996, 0.26850500702858, 0.221, 0.366, 0.16007000000000002, 0.05108, 0.0569157302379608, 0.048, 0.245, 0.88521, 0.79579, 0.796666502952576, 0.861, 1.028, 0.76276, 0.51466, 0.40306, 0.40204778313636796, 0.424, 0.535, 0.79661, 0.70835, 0.706156134605408, 0.759, 0.91, 0.66098, 0.58295, 0.579250693321228, 0.615, 0.777, 0.73017, 0.6299399999999999, 0.6301661133766171, 0.674, 0.8540000000000001, 0.58114, 0.47036000000000006, 0.46800905466079706, 0.513, 0.657, 0.77903, 0.69058, 0.699475347995758, 0.7809999999999999, 0.884, 0.8751899999999999, 0.7936300000000001, 0.795843541622162, 0.884, 0.9990000000000001, 0.77758, 0.79733, 0.71723, 0.7100980877876278, 0.748, 0.871, 0.7689, 0.67602, 0.6851583123207089, 0.726, 0.825, 0.42863999999999997, 0.31865, 0.326424807310104, 0.4, 0.614, 0.72025, 0.59267, 0.590148329734802, 0.633, 0.795, 0.4354, 0.40457, 0.409362852573395, 0.433, 0.5710000000000001, 0.74836, 0.6458, 0.65078467130661, 0.685, 0.8540000000000001, 0.0, 0.0, 0.005564753897488121, 0.0, 0.242, 1.02525, 0.94719, 0.9494923949241642, 1.008, 1.141, 0.7890199999999999, 0.70367, 0.712732911109924, 0.7759999999999999, 0.8809999999999999, 0.8733700000000001, 0.79151, 0.7908282279968258, 0.856, 0.953, 0.11465999999999998, 0.11398913711309401, 0.115, 0.268, 0.27688, 0.18611, 0.18708007037639604, 0.33, 0.469, 0.15780999999999998, 0.163486003875732, 0.177, 0.295, 0.95562, 0.8789600000000001, 0.888960599899292, 0.965, 1.062, 0.70806, 0.62007, 0.625130832195282, 0.672, 0.831, 0.36878, 0.29759, 0.290920823812485, 0.312, 0.6082, 0.5093300000000001, 0.07566, 0.0, 0.9108700000000001, 0.83121, 0.830875158309937, 0.9129999999999999, 1.0090000000000001, 0.9414299999999999, 0.86303, 0.858131289482117, 0.927, 1.052, 0.8753, 0.79565, 0.793984234333038, 0.857, 0.914, 0.5737899999999999, 0.5311899999999999, 0.5292351245880129, 0.598, 0.718, 0.7385, 0.64915, 0.647239029407501, 0.7070000000000001, 0.828, 0.28443, 0.24811, 0.247105568647385, 0.253, 0.41, 0.61483, 0.52608, 0.5199832916259771, 0.564, 0.713, 0.73793, 0.59577, 0.613212049007416, 0.69, 0.815, 0.73172, 0.64718, 0.6376056075096129, 0.6859999999999999, 0.8079999999999999, 0.53886, 0.44006000000000006, 0.437726080417633, 0.517, 0.657, 0.33860999999999997, 0.19625, 0.21763260662555703, 0.237, 0.44299999999999995, 0.6739, 0.58628, 0.575903952121735, 0.609, 0.7390000000000001, 0.80925, 0.72993, 0.726798236370087, 0.67, 0.825, 0.8116, 0.72183, 0.719216823577881, 0.7709999999999999, 0.8909999999999999, 0.59772, 0.50163, 0.498272627592087, 0.605, 0.7559999999999999, 0.40064, 0.31048000000000003, 0.310080915689468, 0.34299999999999997, 0.46299999999999997, 0.29924, 0.23573000000000002, 0.25783589482307395, 0.295, 0.426, 0.33475, 0.1595, 0.19676375389099102, 0.248, 0.433], \"z\": [3.575, 3.36, 3.7939999103546103, 3.6319999999999997, 3.2030000000000003, 4.959, 4.655, 4.64400005340576, 4.586, 4.718999999999999, 5.605, 6.355, 5.872000217437741, 5.295, 5.211, 4.033, 3.866, 3.79500007629395, 3.795, 6.574, 6.65, 6.59899997711182, 6.388, 6.086, 4.35, 4.36, 4.37599992752075, 4.321000000000001, 4.559, 7.284, 7.313, 7.28399991989136, 7.272, 7.228, 7.2, 7.119, 7.00600004196167, 7.138999999999999, 7.246, 5.212000000000001, 5.291, 5.234000205993651, 5.2010000000000005, 5.207999999999999, 5.96, 6.218, 6.08699989318848, 6.105, 6.199, 4.694, 4.643, 4.60799980163574, 4.5, 4.456, 5.813, 5.8020000000000005, 5.5689997673034695, 5.483, 5.3229999999999995, 6.937, 6.928999999999999, 6.89099979400635, 6.9270000000000005, 6.922999999999999, 5.956, 5.955999851226809, 5.956, 3.34, 3.484, 3.65700006484985, 4.141, 4.883, 5.252999999999999, 5.196000000000001, 5.01100015640259, 5.082, 5.082, 4.949, 5.162999999999999, 5.18200016021729, 5.129, 5.386, 4.332, 3.9739999999999998, 3.7660000324249303, 3.59, 3.488, 6.983, 6.952000000000001, 6.6350002288818395, 6.419, 6.3, 4.218, 4.217, 4.71400022506714, 4.933, 5.011, 3.5869999999999997, 3.739, 4.03200006484985, 4.4239999999999995, 4.587, 2.905, 2.905, 2.90499997138977, 2.905, 3.775, 3.819, 3.907, 4.1680002212524405, 4.433, 4.7, 4.252, 4.513, 4.69500017166138, 4.975, 5.044, 7.4270000000000005, 7.404, 7.31599998474121, 7.327999999999999, 7.278, 3.678, 2.69300007820129, 3.083, 3.083, 3.667, 3.763, 3.9360001087188703, 4.301, 4.35, 6.67, 6.705, 6.65199995040894, 6.476, 6.444, 5.14, 5.245, 5.2729997634887695, 5.246, 5.191, 6.477, 6.481, 6.35699987411499, 6.26, 6.125, 3.9560000000000004, 3.9560000000000004, 3.9730000000000003, 7.226, 7.087000000000001, 7.0789999961853, 7.072, 7.167000000000001, 5.7589999999999995, 5.4879999999999995, 5.2930002212524405, 5.321000000000001, 5.432, 5.689, 5.546, 5.62099981307983, 5.7620000000000005, 6.046, 6.505, 6.596, 6.60900020599365, 6.711, 6.852, 7.527, 7.526, 7.52199983596802, 7.555, 7.6, 4.369, 4.885, 5.155, 5.230000019073491, 5.3020000000000005, 5.425, 5.975, 5.976, 6.00799989700317, 5.973, 6.028, 4.194, 4.362, 4.7350001335144, 4.419, 4.166, 6.13, 6.068, 6.002999782562259, 6.167000000000001, 6.252999999999999, 5.428999999999999, 5.517, 5.61100006103516, 5.739, 5.893, 4.512, 4.508, 4.46000003814697, 4.35, 4.2860000000000005, 7.406000000000001, 7.412999999999999, 7.468999862670901, 7.632000000000001, 7.769, 6.575, 6.478, 6.44199991226196, 6.489, 6.5920000000000005, 3.8960000000000004, 4.121, 4.46500015258789, 4.758, 4.7989999999999995, 4.516, 4.297, 4.252, 4.28599977493286, 4.34, 4.519, 6.75, 6.994, 6.9510002136230495, 6.965, 6.985, 4.633, 4.276, 4.11999988555908, 4.657, 4.996, 4.857, 5.033, 5.2270002365112305, 5.358, 5.287000000000001, 6.122999999999999, 6.324, 6.4539999961853, 6.382000000000001, 6.436, 3.656, 3.6069999999999998, 3.50699996948242, 3.964, 4.534, 4.518, 4.0280000000000005, 3.6029999256133998, 3.582, 3.597, 4.788, 4.871, 5.1810002326965305, 5.504, 5.86, 5.474, 5.457999999999999, 5.47200012207031, 5.43, 5.43, 4.8, 5.145, 5.32399988174438, 5.62, 5.757999999999999, 7.561, 7.501, 7.50400018692017, 7.495, 7.494, 4.565, 4.404, 4.31500005722046, 4.19, 4.015, 5.399, 5.314, 5.26200008392334, 5.093, 5.192, 4.677, 4.575, 4.49700021743774, 4.456, 4.437, 6.94, 6.907, 6.9770002365112305, 6.977, 7.021, 7.278, 7.267, 7.212999820709231, 6.814, 7.138999999999999, 5.9479999999999995, 5.977, 5.96400022506714, 6.0, 6.223, 5.709, 5.51, 5.31099987030029, 5.89, 5.89, 5.987, 5.921, 5.92000007629395, 5.915, 5.886, 5.192, 5.303, 5.33599996566772, 5.1610000000000005, 4.906000000000001, 5.855, 5.919, 5.8189997673034695, 5.79, 5.809, 4.419, 4.356, 4.55299997329712, 4.41, 4.5089999999999995, 6.295, 6.239, 6.10500001907349, 6.082999999999999, 6.021, 5.2860000000000005, 5.185, 5.0040001869201705, 5.131, 5.261, 5.098, 5.56, 5.849999904632571, 5.933, 5.94, 4.8389999999999995, 5.129, 5.22499990463257, 5.358, 5.197, 4.898, 3.80800008773804, 3.8080000000000003, 3.802, 4.571000000000001, 3.622, 3.5329999923706095, 3.495, 3.975, 5.754, 5.615, 5.525000095367429, 5.566, 5.525, 5.832999999999999, 5.813, 5.90199995040894, 5.952000000000001, 6.149, 6.946000000000001, 6.871, 6.86299991607666, 6.91, 7.09, 3.681, 3.695, 3.64400005340576, 3.7739999999999996, 3.9330000000000003, 4.292, 4.156000000000001, 3.97000002861023, 3.5869999999999997, 3.41, 5.77, 6.005, 6.08400011062622, 6.322, 5.3389999999999995, 3.995, 4.073, 4.19000005722046, 4.447, 4.39, 6.3020000000000005, 6.4879999999999995, 6.52699995040894, 6.627000000000001, 6.726, 4.436, 4.2010000000000005, 4.29199981689453, 4.356, 4.49, 5.477, 5.648, 5.62900018692017, 5.891, 5.888, 7.187, 6.778, 6.57800006866455, 6.4879999999999995, 6.595, 4.874, 4.907, 4.95499992370605, 5.125, 5.285, 5.192, 5.1610000000000005, 5.23699998855591, 5.347, 5.523, 5.013, 5.151, 5.2350001335144, 5.254, 5.207999999999999, 4.971, 4.550000190734861, 4.417, 4.466, 4.3069999999999995, 4.395, 4.54500007629395, 4.308, 4.36, 4.574, 4.57399988174438, 4.441, 4.638999999999999, 4.513999999999999, 4.793, 4.961999893188481, 4.88, 4.913, 7.377999999999999, 7.3389999999999995, 7.3769998550415, 7.441, 7.4879999999999995, 7.2860000000000005, 7.334, 7.31400012969971, 7.324, 7.307, 5.827999999999999, 5.992000000000001, 6.07100009918213, 6.141, 6.105, 3.845, 3.8560000000000003, 4.02799987792969, 4.166, 4.628, 5.268, 4.875, 5.07399988174438, 5.155, 5.265, 7.522, 7.497999999999999, 7.537000179290769, 7.593999999999999, 7.553999999999999, 6.853, 5.194, 5.132000000000001, 5.26900005340576, 5.472, 5.653, 6.7860000000000005, 6.7010000000000005, 6.4520001411438, 6.43, 6.321000000000001, 5.877999999999999, 5.537999999999999, 5.493000030517581, 5.681, 5.742999999999999, 5.824, 5.742999999999999, 5.71500015258789, 5.662999999999999, 5.697, 5.073, 5.279, 5.42999982833862, 5.524, 5.631, 5.791, 5.835, 5.97300004959106, 6.122999999999999, 6.182, 5.102, 5.122999999999999, 5.19500017166138, 5.41, 5.693, 7.039, 6.611000000000001, 6.375, 6.375, 6.374, 6.374, 5.124, 5.528, 5.824999809265139, 5.945, 6.07, 3.465, 3.515, 3.47099995613098, 3.408, 3.3339999999999996, 6.4110000000000005, 6.379, 6.343999862670901, 6.371, 6.375, 3.904, 4.218999999999999, 4.53499984741211, 4.631, 4.681, 5.122999999999999, 5.1770000000000005, 5.39499998092651, 5.398, 5.603, 4.507, 4.635, 4.70900011062622, 4.571000000000001, 4.374, 6.797999999999999, 6.739, 6.57200002670288, 6.343, 6.2620000000000005, 5.995, 6.077999999999999, 6.09800004959106, 6.172999999999999, 6.1979999999999995, 5.848, 5.768, 5.75799989700317, 5.9479999999999995, 6.117999999999999, 5.44, 5.151000022888179, 4.982, 4.668, 4.6419999999999995, 4.459, 4.8289999961853, 4.724, 4.7219999999999995, 3.832, 3.5910000801086404, 3.2539999999999996, 2.853, 6.329, 6.361000000000001, 6.40299987792969, 6.31, 6.354, 4.271, 4.415, 4.44000005722046, 4.471, 4.3660000000000005, 4.55, 4.138999999999999, 4.138999938964839, 4.138999999999999, 6.269, 6.269, 4.867, 4.212, 7.364, 7.291, 7.28399991989136, 7.314, 7.343, 7.587000000000001, 7.5089999999999995, 7.49399995803833, 7.487, 7.48, 6.297999999999999, 6.379, 6.42199993133545, 6.441, 6.446000000000001, 4.7860000000000005, 4.996, 5.04099988937378, 5.199, 5.4670000000000005, 6.455, 6.474, 6.4239997863769505, 6.072, 6.007999999999999, 2.839, 3.303, 3.4949998855590803, 3.9989999999999997, 4.085, 6.167999999999999, 6.167999999999999, 6.1680002212524405, 6.192, 6.192, 4.739, 5.045, 4.80499982833862, 4.592, 4.461, 5.332000000000001, 5.388999999999999, 5.5, 5.483, 5.372999999999999, 5.547999999999999, 5.6579999999999995, 5.82200002670288, 5.636, 5.247000000000001, 3.931, 3.739, 4.08099985122681, 4.1610000000000005, 4.189, 4.681, 4.324, 4.09600019454956, 4.103, 4.332, 6.901, 6.5729999999999995, 6.6479997634887695, 6.774, 6.825, 6.485, 6.545, 6.4539999961853, 6.379, 6.292999999999999, 6.002999999999999, 5.987, 5.97100019454956, 6.096, 6.1739999999999995, 4.077, 3.7239999999999998, 3.59299993515015, 3.355, 3.38, 5.129, 4.795, 4.513999938964839, 4.377, 4.107, 4.61, 4.1930000000000005, 3.875, 3.6919999999999997, 3.6630000000000003]}],\n",
              "                        {\"coloraxis\": {\"colorbar\": {\"title\": {\"text\": \"Year\"}}, \"colorscale\": [[0.0, \"#0d0887\"], [0.1111111111111111, \"#46039f\"], [0.2222222222222222, \"#7201a8\"], [0.3333333333333333, \"#9c179e\"], [0.4444444444444444, \"#bd3786\"], [0.5555555555555556, \"#d8576b\"], [0.6666666666666666, \"#ed7953\"], [0.7777777777777778, \"#fb9f3a\"], [0.8888888888888888, \"#fdca26\"], [1.0, \"#f0f921\"]]}, \"legend\": {\"tracegroupgap\": 0}, \"margin\": {\"t\": 60}, \"scene\": {\"domain\": {\"x\": [0.0, 1.0], \"y\": [0.0, 1.0]}, \"xaxis\": {\"title\": {\"text\": \"Economy (GDP per Capita)\"}}, \"yaxis\": {\"title\": {\"text\": \"Health (Life Expectancy)\"}}, \"zaxis\": {\"title\": {\"text\": \"Happiness Score\"}}}, \"template\": {\"data\": {\"bar\": [{\"error_x\": {\"color\": \"#2a3f5f\"}, \"error_y\": {\"color\": \"#2a3f5f\"}, \"marker\": {\"line\": {\"color\": \"#E5ECF6\", \"width\": 0.5}}, \"type\": \"bar\"}], \"barpolar\": [{\"marker\": {\"line\": {\"color\": \"#E5ECF6\", \"width\": 0.5}}, \"type\": \"barpolar\"}], \"carpet\": [{\"aaxis\": {\"endlinecolor\": \"#2a3f5f\", \"gridcolor\": \"white\", \"linecolor\": \"white\", \"minorgridcolor\": \"white\", \"startlinecolor\": \"#2a3f5f\"}, \"baxis\": {\"endlinecolor\": \"#2a3f5f\", \"gridcolor\": \"white\", \"linecolor\": \"white\", \"minorgridcolor\": \"white\", \"startlinecolor\": \"#2a3f5f\"}, \"type\": \"carpet\"}], \"choropleth\": [{\"colorbar\": {\"outlinewidth\": 0, \"ticks\": \"\"}, \"type\": \"choropleth\"}], \"contour\": [{\"colorbar\": {\"outlinewidth\": 0, \"ticks\": \"\"}, \"colorscale\": [[0.0, \"#0d0887\"], [0.1111111111111111, \"#46039f\"], [0.2222222222222222, \"#7201a8\"], [0.3333333333333333, \"#9c179e\"], [0.4444444444444444, \"#bd3786\"], [0.5555555555555556, \"#d8576b\"], [0.6666666666666666, \"#ed7953\"], [0.7777777777777778, \"#fb9f3a\"], [0.8888888888888888, \"#fdca26\"], [1.0, \"#f0f921\"]], \"type\": \"contour\"}], \"contourcarpet\": [{\"colorbar\": {\"outlinewidth\": 0, \"ticks\": \"\"}, \"type\": \"contourcarpet\"}], \"heatmap\": [{\"colorbar\": {\"outlinewidth\": 0, \"ticks\": \"\"}, \"colorscale\": [[0.0, \"#0d0887\"], [0.1111111111111111, \"#46039f\"], [0.2222222222222222, \"#7201a8\"], [0.3333333333333333, \"#9c179e\"], [0.4444444444444444, \"#bd3786\"], [0.5555555555555556, \"#d8576b\"], [0.6666666666666666, \"#ed7953\"], [0.7777777777777778, \"#fb9f3a\"], [0.8888888888888888, \"#fdca26\"], [1.0, \"#f0f921\"]], \"type\": \"heatmap\"}], \"heatmapgl\": [{\"colorbar\": {\"outlinewidth\": 0, \"ticks\": \"\"}, \"colorscale\": [[0.0, \"#0d0887\"], [0.1111111111111111, \"#46039f\"], [0.2222222222222222, \"#7201a8\"], [0.3333333333333333, \"#9c179e\"], [0.4444444444444444, \"#bd3786\"], [0.5555555555555556, \"#d8576b\"], [0.6666666666666666, \"#ed7953\"], [0.7777777777777778, \"#fb9f3a\"], [0.8888888888888888, \"#fdca26\"], [1.0, \"#f0f921\"]], \"type\": \"heatmapgl\"}], \"histogram\": [{\"marker\": {\"colorbar\": {\"outlinewidth\": 0, \"ticks\": \"\"}}, \"type\": \"histogram\"}], \"histogram2d\": [{\"colorbar\": {\"outlinewidth\": 0, \"ticks\": \"\"}, \"colorscale\": [[0.0, \"#0d0887\"], [0.1111111111111111, \"#46039f\"], [0.2222222222222222, \"#7201a8\"], [0.3333333333333333, \"#9c179e\"], [0.4444444444444444, \"#bd3786\"], [0.5555555555555556, \"#d8576b\"], [0.6666666666666666, \"#ed7953\"], [0.7777777777777778, \"#fb9f3a\"], [0.8888888888888888, \"#fdca26\"], [1.0, \"#f0f921\"]], \"type\": \"histogram2d\"}], \"histogram2dcontour\": [{\"colorbar\": {\"outlinewidth\": 0, \"ticks\": \"\"}, \"colorscale\": [[0.0, \"#0d0887\"], [0.1111111111111111, \"#46039f\"], [0.2222222222222222, \"#7201a8\"], [0.3333333333333333, \"#9c179e\"], [0.4444444444444444, \"#bd3786\"], [0.5555555555555556, \"#d8576b\"], [0.6666666666666666, \"#ed7953\"], [0.7777777777777778, \"#fb9f3a\"], [0.8888888888888888, \"#fdca26\"], [1.0, \"#f0f921\"]], \"type\": \"histogram2dcontour\"}], \"mesh3d\": [{\"colorbar\": {\"outlinewidth\": 0, \"ticks\": \"\"}, \"type\": \"mesh3d\"}], \"parcoords\": [{\"line\": {\"colorbar\": {\"outlinewidth\": 0, \"ticks\": \"\"}}, \"type\": \"parcoords\"}], \"pie\": [{\"automargin\": true, \"type\": \"pie\"}], \"scatter\": [{\"marker\": {\"colorbar\": {\"outlinewidth\": 0, \"ticks\": \"\"}}, \"type\": \"scatter\"}], \"scatter3d\": [{\"line\": {\"colorbar\": {\"outlinewidth\": 0, \"ticks\": \"\"}}, \"marker\": {\"colorbar\": {\"outlinewidth\": 0, \"ticks\": \"\"}}, \"type\": \"scatter3d\"}], \"scattercarpet\": [{\"marker\": {\"colorbar\": {\"outlinewidth\": 0, \"ticks\": \"\"}}, \"type\": \"scattercarpet\"}], \"scattergeo\": [{\"marker\": {\"colorbar\": {\"outlinewidth\": 0, \"ticks\": \"\"}}, \"type\": \"scattergeo\"}], \"scattergl\": [{\"marker\": {\"colorbar\": {\"outlinewidth\": 0, \"ticks\": \"\"}}, \"type\": \"scattergl\"}], \"scattermapbox\": [{\"marker\": {\"colorbar\": {\"outlinewidth\": 0, \"ticks\": \"\"}}, \"type\": \"scattermapbox\"}], \"scatterpolar\": [{\"marker\": {\"colorbar\": {\"outlinewidth\": 0, \"ticks\": \"\"}}, \"type\": \"scatterpolar\"}], \"scatterpolargl\": [{\"marker\": {\"colorbar\": {\"outlinewidth\": 0, \"ticks\": \"\"}}, \"type\": \"scatterpolargl\"}], \"scatterternary\": [{\"marker\": {\"colorbar\": {\"outlinewidth\": 0, \"ticks\": \"\"}}, \"type\": \"scatterternary\"}], \"surface\": [{\"colorbar\": {\"outlinewidth\": 0, \"ticks\": \"\"}, \"colorscale\": [[0.0, \"#0d0887\"], [0.1111111111111111, \"#46039f\"], [0.2222222222222222, \"#7201a8\"], [0.3333333333333333, \"#9c179e\"], [0.4444444444444444, \"#bd3786\"], [0.5555555555555556, \"#d8576b\"], [0.6666666666666666, \"#ed7953\"], [0.7777777777777778, \"#fb9f3a\"], [0.8888888888888888, \"#fdca26\"], [1.0, \"#f0f921\"]], \"type\": \"surface\"}], \"table\": [{\"cells\": {\"fill\": {\"color\": \"#EBF0F8\"}, \"line\": {\"color\": \"white\"}}, \"header\": {\"fill\": {\"color\": \"#C8D4E3\"}, \"line\": {\"color\": \"white\"}}, \"type\": \"table\"}]}, \"layout\": {\"annotationdefaults\": {\"arrowcolor\": \"#2a3f5f\", \"arrowhead\": 0, \"arrowwidth\": 1}, \"coloraxis\": {\"colorbar\": {\"outlinewidth\": 0, \"ticks\": \"\"}}, \"colorscale\": {\"diverging\": [[0, \"#8e0152\"], [0.1, \"#c51b7d\"], [0.2, \"#de77ae\"], [0.3, \"#f1b6da\"], [0.4, \"#fde0ef\"], [0.5, \"#f7f7f7\"], [0.6, \"#e6f5d0\"], [0.7, \"#b8e186\"], [0.8, \"#7fbc41\"], [0.9, \"#4d9221\"], [1, \"#276419\"]], \"sequential\": [[0.0, \"#0d0887\"], [0.1111111111111111, \"#46039f\"], [0.2222222222222222, \"#7201a8\"], [0.3333333333333333, \"#9c179e\"], [0.4444444444444444, \"#bd3786\"], [0.5555555555555556, \"#d8576b\"], [0.6666666666666666, \"#ed7953\"], [0.7777777777777778, \"#fb9f3a\"], [0.8888888888888888, \"#fdca26\"], [1.0, \"#f0f921\"]], \"sequentialminus\": [[0.0, \"#0d0887\"], [0.1111111111111111, \"#46039f\"], [0.2222222222222222, \"#7201a8\"], [0.3333333333333333, \"#9c179e\"], [0.4444444444444444, \"#bd3786\"], [0.5555555555555556, \"#d8576b\"], [0.6666666666666666, \"#ed7953\"], [0.7777777777777778, \"#fb9f3a\"], [0.8888888888888888, \"#fdca26\"], [1.0, \"#f0f921\"]]}, \"colorway\": [\"#636efa\", \"#EF553B\", \"#00cc96\", \"#ab63fa\", \"#FFA15A\", \"#19d3f3\", \"#FF6692\", \"#B6E880\", \"#FF97FF\", \"#FECB52\"], \"font\": {\"color\": \"#2a3f5f\"}, \"geo\": {\"bgcolor\": \"white\", \"lakecolor\": \"white\", \"landcolor\": \"#E5ECF6\", \"showlakes\": true, \"showland\": true, \"subunitcolor\": \"white\"}, \"hoverlabel\": {\"align\": \"left\"}, \"hovermode\": \"closest\", \"mapbox\": {\"style\": \"light\"}, \"paper_bgcolor\": \"white\", \"plot_bgcolor\": \"#E5ECF6\", \"polar\": {\"angularaxis\": {\"gridcolor\": \"white\", \"linecolor\": \"white\", \"ticks\": \"\"}, \"bgcolor\": \"#E5ECF6\", \"radialaxis\": {\"gridcolor\": \"white\", \"linecolor\": \"white\", \"ticks\": \"\"}}, \"scene\": {\"xaxis\": {\"backgroundcolor\": \"#E5ECF6\", \"gridcolor\": \"white\", \"gridwidth\": 2, \"linecolor\": \"white\", \"showbackground\": true, \"ticks\": \"\", \"zerolinecolor\": \"white\"}, \"yaxis\": {\"backgroundcolor\": \"#E5ECF6\", \"gridcolor\": \"white\", \"gridwidth\": 2, \"linecolor\": \"white\", \"showbackground\": true, \"ticks\": \"\", \"zerolinecolor\": \"white\"}, \"zaxis\": {\"backgroundcolor\": \"#E5ECF6\", \"gridcolor\": \"white\", \"gridwidth\": 2, \"linecolor\": \"white\", \"showbackground\": true, \"ticks\": \"\", \"zerolinecolor\": \"white\"}}, \"shapedefaults\": {\"line\": {\"color\": \"#2a3f5f\"}}, \"ternary\": {\"aaxis\": {\"gridcolor\": \"white\", \"linecolor\": \"white\", \"ticks\": \"\"}, \"baxis\": {\"gridcolor\": \"white\", \"linecolor\": \"white\", \"ticks\": \"\"}, \"bgcolor\": \"#E5ECF6\", \"caxis\": {\"gridcolor\": \"white\", \"linecolor\": \"white\", \"ticks\": \"\"}}, \"title\": {\"x\": 0.05}, \"xaxis\": {\"automargin\": true, \"gridcolor\": \"white\", \"linecolor\": \"white\", \"ticks\": \"\", \"title\": {\"standoff\": 15}, \"zerolinecolor\": \"white\", \"zerolinewidth\": 2}, \"yaxis\": {\"automargin\": true, \"gridcolor\": \"white\", \"linecolor\": \"white\", \"ticks\": \"\", \"title\": {\"standoff\": 15}, \"zerolinecolor\": \"white\", \"zerolinewidth\": 2}}}},\n",
              "                        {\"responsive\": true}\n",
              "                    ).then(function(){\n",
              "                            \n",
              "var gd = document.getElementById('da7fe399-0376-4ed7-9a2c-825c98d3bfec');\n",
              "var x = new MutationObserver(function (mutations, observer) {{\n",
              "        var display = window.getComputedStyle(gd).display;\n",
              "        if (!display || display === 'none') {{\n",
              "            console.log([gd, 'removed!']);\n",
              "            Plotly.purge(gd);\n",
              "            observer.disconnect();\n",
              "        }}\n",
              "}});\n",
              "\n",
              "// Listen for the removal of the full notebook cells\n",
              "var notebookContainer = gd.closest('#notebook-container');\n",
              "if (notebookContainer) {{\n",
              "    x.observe(notebookContainer, {childList: true});\n",
              "}}\n",
              "\n",
              "// Listen for the clearing of the current output cell\n",
              "var outputEl = gd.closest('.output');\n",
              "if (outputEl) {{\n",
              "    x.observe(outputEl, {childList: true});\n",
              "}}\n",
              "\n",
              "                        })\n",
              "                };\n",
              "                \n",
              "            </script>\n",
              "        </div>\n",
              "</body>\n",
              "</html>"
            ]
          },
          "metadata": {
            "tags": []
          }
        }
      ]
    },
    {
      "cell_type": "markdown",
      "metadata": {
        "id": "RwMIVjfrV4z9"
      },
      "source": [
        "# Looking at relations between the Literacy rate, the Unemployment% and the Happiness score.\n",
        "We notice that when the Literacy rate increses the Happiness score increases, and when the unemployment% increases the Happiness score also increases."
      ]
    },
    {
      "cell_type": "code",
      "metadata": {
        "colab": {
          "base_uri": "https://localhost:8080/",
          "height": 285
        },
        "id": "_h4v_SBy2G2f",
        "outputId": "ad313b31-ad28-4672-bada-5f84813e2524"
      },
      "source": [
        "plt.scatter(whr_250Country['Literacy Rate(%)'],whr_250Country['Happiness Score'])"
      ],
      "execution_count": 19,
      "outputs": [
        {
          "output_type": "execute_result",
          "data": {
            "text/plain": [
              "<matplotlib.collections.PathCollection at 0x7fb232aeb550>"
            ]
          },
          "metadata": {
            "tags": []
          },
          "execution_count": 19
        },
        {
          "output_type": "display_data",
          "data": {
            "image/png": "[encoded data removed]",
            "text/plain": [
              "<Figure size 432x288 with 1 Axes>"
            ]
          },
          "metadata": {
            "tags": [],
            "needs_background": "light"
          }
        }
      ]
    },
    {
      "cell_type": "code",
      "metadata": {
        "colab": {
          "base_uri": "https://localhost:8080/",
          "height": 285
        },
        "id": "mu2We_ui6R2H",
        "outputId": "097390cf-e1a0-4a15-c02f-e0867eafdfa7"
      },
      "source": [
        "plt.scatter(whr_250Country['Unemployement(%)'],whr_250Country['Happiness Score'])"
      ],
      "execution_count": 22,
      "outputs": [
        {
          "output_type": "execute_result",
          "data": {
            "text/plain": [
              "<matplotlib.collections.PathCollection at 0x7fb2312adb00>"
            ]
          },
          "metadata": {
            "tags": []
          },
          "execution_count": 22
        },
        {
          "output_type": "display_data",
          "data": {
            "image/png": "[encoded data removed]",
            "text/plain": [
              "<Figure size 432x288 with 1 Axes>"
            ]
          },
          "metadata": {
            "tags": [],
            "needs_background": "light"
          }
        }
      ]
    },
    {
      "cell_type": "code",
      "metadata": {
        "colab": {
          "base_uri": "https://localhost:8080/",
          "height": 282
        },
        "id": "eec4WnTQeO_x",
        "outputId": "fc7ed9e1-b86f-43d4-eeb8-edb4e5b38d4b"
      },
      "source": [
        "plt.scatter(whr_250Country['Literacy Rate(%)'],whr_250Country['Unemployement(%)'])"
      ],
      "execution_count": 57,
      "outputs": [
        {
          "output_type": "execute_result",
          "data": {
            "text/plain": [
              "<matplotlib.collections.PathCollection at 0x7fb22510dda0>"
            ]
          },
          "metadata": {
            "tags": []
          },
          "execution_count": 57
        },
        {
          "output_type": "display_data",
          "data": {
            "image/png": "[encoded data removed]",
            "text/plain": [
              "<Figure size 432x288 with 1 Axes>"
            ]
          },
          "metadata": {
            "tags": [],
            "needs_background": "light"
          }
        }
      ]
    },
    {
      "cell_type": "markdown",
      "metadata": {
        "id": "lnDdUWT0e-qB"
      },
      "source": [
        "Let's plot the three columns together to get a full view of the relation."
      ]
    },
    {
      "cell_type": "code",
      "metadata": {
        "id": "7dPXO_EK-o2b",
        "colab": {
          "base_uri": "https://localhost:8080/",
          "height": 542
        },
        "outputId": "6563b21e-c73e-4c85-ffb9-d6f569a907c4"
      },
      "source": [
        "import plotly.express as px\n",
        "fig = px.scatter_3d(whr_250Country, x='Literacy Rate(%)', y='Unemployement(%)', z='Happiness Score',\n",
        "              color='Year',size_max=1,opacity=0.7)\n",
        "fig.show()"
      ],
      "execution_count": 28,
      "outputs": [
        {
          "output_type": "display_data",
          "data": {
            "text/html": [
              "<html>\n",
              "<head><meta charset=\"utf-8\" /></head>\n",
              "<body>\n",
              "    <div>\n",
              "            <script src=\"https://cdnjs.cloudflare.com/ajax/libs/mathjax/2.7.5/MathJax.js?config=TeX-AMS-MML_SVG\"></script><script type=\"text/javascript\">if (window.MathJax) {MathJax.Hub.Config({SVG: {font: \"STIX-Web\"}});}</script>\n",
              "                <script type=\"text/javascript\">window.PlotlyConfig = {MathJaxConfig: 'local'};</script>\n",
              "        <script src=\"https://cdn.plot.ly/plotly-latest.min.js\"></script>    \n",
              "            <div id=\"cbc3d3bb-c97f-4704-9ae2-2decd34fedf3\" class=\"plotly-graph-div\" style=\"height:525px; width:100%;\"></div>\n",
              "            <script type=\"text/javascript\">\n",
              "                \n",
              "                    window.PLOTLYENV=window.PLOTLYENV || {};\n",
              "                    \n",
              "                if (document.getElementById(\"cbc3d3bb-c97f-4704-9ae2-2decd34fedf3\")) {\n",
              "                    Plotly.newPlot(\n",
              "                        'cbc3d3bb-c97f-4704-9ae2-2decd34fedf3',\n",
              "                        [{\"hoverlabel\": {\"namelength\": 0}, \"hovertemplate\": \"Literacy Rate(%)=%{x}<br>Unemployement(%)=%{y}<br>Happiness Score=%{z}<br>Year=%{marker.color}\", \"legendgroup\": \"\", \"marker\": {\"color\": [2015, 2016, 2017, 2018, 2019, 2015, 2016, 2017, 2018, 2019, 2015, 2016, 2017, 2018, 2019, 2015, 2016, 2017, 2018, 2015, 2016, 2017, 2018, 2019, 2015, 2016, 2017, 2018, 2019, 2015, 2016, 2017, 2018, 2019, 2015, 2016, 2017, 2018, 2019, 2015, 2016, 2017, 2018, 2019, 2015, 2016, 2017, 2018, 2019, 2015, 2016, 2017, 2018, 2019, 2015, 2016, 2017, 2018, 2019, 2015, 2016, 2017, 2018, 2019, 2016, 2017, 2018, 2015, 2016, 2017, 2018, 2019, 2015, 2016, 2017, 2018, 2019, 2015, 2016, 2017, 2018, 2019, 2015, 2016, 2017, 2018, 2019, 2015, 2016, 2017, 2018, 2019, 2015, 2016, 2017, 2018, 2019, 2015, 2016, 2017, 2018, 2019, 2015, 2016, 2017, 2018, 2019, 2015, 2016, 2017, 2018, 2019, 2015, 2016, 2017, 2018, 2019, 2015, 2016, 2017, 2018, 2019, 2015, 2017, 2018, 2019, 2015, 2016, 2017, 2018, 2019, 2015, 2016, 2017, 2018, 2019, 2015, 2016, 2017, 2018, 2019, 2015, 2016, 2017, 2018, 2019, 2015, 2016, 2019, 2015, 2016, 2017, 2018, 2019, 2015, 2016, 2017, 2018, 2019, 2015, 2016, 2017, 2018, 2019, 2015, 2016, 2017, 2018, 2019, 2015, 2016, 2017, 2018, 2019, 2015, 2015, 2016, 2017, 2018, 2019, 2015, 2016, 2017, 2018, 2019, 2015, 2016, 2017, 2018, 2019, 2015, 2016, 2017, 2018, 2019, 2015, 2016, 2017, 2018, 2019, 2015, 2016, 2017, 2018, 2019, 2015, 2016, 2017, 2018, 2019, 2015, 2016, 2017, 2018, 2019, 2015, 2016, 2017, 2018, 2019, 2019, 2015, 2016, 2017, 2018, 2019, 2015, 2016, 2017, 2018, 2019, 2015, 2016, 2017, 2018, 2019, 2015, 2016, 2017, 2018, 2019, 2015, 2016, 2017, 2018, 2019, 2015, 2016, 2017, 2018, 2019, 2015, 2016, 2017, 2018, 2019, 2015, 2016, 2017, 2018, 2019, 2015, 2016, 2017, 2018, 2019, 2015, 2016, 2017, 2018, 2019, 2015, 2016, 2017, 2018, 2019, 2015, 2016, 2017, 2018, 2019, 2015, 2016, 2017, 2018, 2019, 2015, 2016, 2017, 2018, 2019, 2015, 2016, 2017, 2018, 2019, 2015, 2016, 2017, 2018, 2019, 2015, 2016, 2017, 2018, 2019, 2015, 2016, 2017, 2018, 2019, 2015, 2016, 2017, 2018, 2019, 2015, 2016, 2017, 2018, 2019, 2015, 2016, 2017, 2018, 2019, 2015, 2016, 2017, 2018, 2019, 2015, 2016, 2017, 2018, 2019, 2015, 2016, 2017, 2018, 2019, 2015, 2016, 2017, 2018, 2019, 2015, 2016, 2017, 2018, 2019, 2015, 2017, 2018, 2019, 2015, 2016, 2017, 2018, 2019, 2015, 2016, 2017, 2018, 2019, 2015, 2016, 2017, 2018, 2019, 2015, 2016, 2017, 2018, 2019, 2015, 2016, 2017, 2018, 2019, 2015, 2016, 2017, 2018, 2019, 2015, 2016, 2017, 2018, 2019, 2015, 2016, 2017, 2018, 2019, 2015, 2016, 2017, 2018, 2019, 2015, 2016, 2017, 2018, 2019, 2015, 2016, 2017, 2018, 2019, 2015, 2016, 2017, 2018, 2019, 2015, 2016, 2017, 2018, 2019, 2015, 2016, 2017, 2018, 2019, 2015, 2016, 2017, 2018, 2019, 2015, 2017, 2018, 2019, 2015, 2016, 2017, 2018, 2019, 2016, 2017, 2018, 2019, 2015, 2016, 2017, 2018, 2019, 2015, 2016, 2017, 2018, 2019, 2015, 2016, 2017, 2018, 2019, 2015, 2016, 2017, 2018, 2019, 2015, 2016, 2017, 2018, 2019, 2015, 2016, 2017, 2018, 2019, 2015, 2016, 2017, 2018, 2019, 2015, 2015, 2016, 2017, 2018, 2019, 2015, 2016, 2017, 2018, 2019, 2015, 2016, 2017, 2018, 2019, 2015, 2016, 2017, 2018, 2019, 2015, 2016, 2017, 2018, 2019, 2015, 2016, 2017, 2018, 2019, 2015, 2016, 2017, 2018, 2019, 2016, 2015, 2016, 2017, 2018, 2019, 2015, 2016, 2017, 2018, 2019, 2015, 2016, 2017, 2018, 2019, 2015, 2016, 2017, 2018, 2019, 2015, 2016, 2017, 2018, 2019, 2015, 2016, 2017, 2018, 2019, 2015, 2016, 2017, 2018, 2019, 2015, 2016, 2017, 2018, 2019, 2015, 2016, 2017, 2018, 2019, 2015, 2016, 2017, 2018, 2019, 2016, 2017, 2018, 2019, 2015, 2016, 2017, 2018, 2019, 2016, 2017, 2018, 2019, 2015, 2016, 2017, 2018, 2019, 2015, 2016, 2017, 2018, 2019, 2015, 2016, 2017, 2018, 2015, 2016, 2015, 2019, 2015, 2016, 2017, 2018, 2019, 2015, 2016, 2017, 2018, 2019, 2015, 2016, 2017, 2018, 2019, 2015, 2016, 2017, 2018, 2019, 2015, 2016, 2017, 2018, 2019, 2015, 2016, 2017, 2018, 2019, 2015, 2016, 2017, 2018, 2019, 2015, 2016, 2017, 2018, 2019, 2015, 2016, 2017, 2018, 2019, 2015, 2016, 2017, 2018, 2019, 2015, 2016, 2017, 2018, 2019, 2015, 2016, 2017, 2018, 2019, 2015, 2016, 2017, 2018, 2019, 2015, 2016, 2017, 2018, 2019, 2015, 2016, 2017, 2018, 2019, 2015, 2016, 2017, 2018, 2019, 2015, 2016, 2017, 2018, 2019, 2015, 2016, 2017, 2018, 2019], \"coloraxis\": \"coloraxis\", \"opacity\": 0.7, \"symbol\": \"circle\"}, \"mode\": \"markers\", \"name\": \"\", \"scene\": \"scene\", \"showlegend\": false, \"type\": \"scatter3d\", \"x\": [28.1, 28.1, 28.1, 28.1, 28.1, 98.7, 98.7, 98.7, 98.7, 98.7, 79.0, 79.0, 79.0, 79.0, 79.0, 70.4, 70.4, 70.4, 70.4, 97.9, 97.9, 97.9, 97.9, 97.9, 99.4, 99.4, 99.4, 99.4, 99.4, 99.0, 99.0, 99.0, 99.0, 99.0, 98.0, 98.0, 98.0, 98.0, 98.0, 99.8, 99.8, 99.8, 99.8, 99.8, 84.49265895953761, 84.49265895953761, 84.49265895953761, 84.49265895953761, 84.49265895953761, 57.7, 57.7, 57.7, 57.7, 57.7, 99.6, 99.6, 99.6, 99.6, 99.6, 99.0, 99.0, 99.0, 99.0, 99.0, 76.9, 76.9, 76.9, 42.4, 42.4, 42.4, 42.4, 42.4, 52.8, 52.8, 52.8, 52.8, 52.8, 84.49265895953761, 84.49265895953761, 84.49265895953761, 84.49265895953761, 84.49265895953761, 85.1, 85.1, 85.1, 85.1, 85.1, 88.6, 88.6, 88.6, 88.6, 88.6, 98.4, 98.4, 98.4, 98.4, 98.4, 28.7, 28.7, 28.7, 28.7, 28.7, 67.2, 67.2, 67.2, 67.2, 67.2, 73.6, 73.6, 73.6, 73.6, 73.6, 75.9, 75.9, 75.9, 75.9, 75.9, 84.49265895953761, 84.49265895953761, 84.49265895953761, 84.49265895953761, 84.49265895953761, 56.6, 56.6, 56.6, 56.6, 35.4, 35.4, 35.4, 35.4, 35.4, 97.5, 97.5, 97.5, 97.5, 97.5, 84.49265895953761, 84.49265895953761, 84.49265895953761, 84.49265895953761, 84.49265895953761, 94.2, 94.2, 94.2, 94.2, 94.2, 75.5, 75.5, 75.5, 96.3, 96.3, 96.3, 96.3, 96.3, 98.9, 98.9, 98.9, 98.9, 98.9, 98.7, 98.7, 98.7, 98.7, 98.7, 99.0, 99.0, 99.0, 99.0, 99.0, 99.0, 99.0, 99.0, 99.0, 99.0, 67.9, 90.1, 90.1, 90.1, 90.1, 90.1, 91.6, 91.6, 91.6, 91.6, 91.6, 73.9, 73.9, 73.9, 73.9, 73.9, 84.5, 84.5, 84.5, 84.5, 84.5, 84.49265895953761, 84.49265895953761, 84.49265895953761, 84.49265895953761, 84.49265895953761, 39.0, 39.0, 39.0, 39.0, 39.0, 100.0, 100.0, 100.0, 100.0, 100.0, 99.0, 99.0, 99.0, 99.0, 99.0, 82.3, 82.3, 82.3, 82.3, 82.3, 52.0, 99.7, 99.7, 99.7, 99.7, 99.7, 99.0, 99.0, 99.0, 99.0, 99.0, 71.5, 71.5, 71.5, 71.5, 71.5, 97.3, 97.3, 97.3, 97.3, 97.3, 71.0, 71.0, 71.0, 71.0, 71.0, 41.0, 41.0, 41.0, 41.0, 41.0, 48.7, 48.7, 48.7, 48.7, 48.7, 85.1, 85.1, 85.1, 85.1, 85.1, 84.49265895953761, 84.49265895953761, 84.49265895953761, 84.49265895953761, 84.49265895953761, 99.1, 99.1, 99.1, 99.1, 99.1, 99.0, 99.0, 99.0, 99.0, 99.0, 62.8, 62.8, 62.8, 62.8, 62.8, 92.8, 92.8, 92.8, 92.8, 92.8, 78.5, 78.5, 78.5, 78.5, 78.5, 99.0, 99.0, 99.0, 99.0, 99.0, 97.0, 97.0, 97.0, 97.0, 97.0, 99.0, 99.0, 99.0, 99.0, 99.0, 87.0, 87.0, 87.0, 87.0, 87.0, 99.0, 99.0, 99.0, 99.0, 99.0, 92.6, 92.6, 92.6, 92.6, 92.6, 99.7, 99.7, 99.7, 99.7, 99.7, 87.4, 87.4, 87.4, 87.4, 87.4, 93.3, 93.3, 93.3, 93.3, 93.3, 99.2, 99.2, 99.2, 99.2, 99.2, 84.49265895953761, 84.49265895953761, 84.49265895953761, 84.49265895953761, 84.49265895953761, 89.6, 89.6, 89.6, 89.6, 89.6, 89.6, 89.6, 89.6, 89.6, 60.8, 60.8, 60.8, 60.8, 60.8, 89.5, 89.5, 89.5, 89.5, 89.5, 84.49265895953761, 84.49265895953761, 84.49265895953761, 84.49265895953761, 84.49265895953761, 100.0, 100.0, 100.0, 100.0, 100.0, 64.5, 64.5, 64.5, 64.5, 64.5, 74.8, 74.8, 74.8, 74.8, 74.8, 93.1, 93.1, 93.1, 93.1, 93.1, 33.4, 33.4, 33.4, 33.4, 33.4, 92.4, 92.4, 92.4, 92.4, 92.4, 58.6, 58.6, 58.6, 58.6, 58.6, 88.8, 88.8, 88.8, 88.8, 88.8, 93.5, 93.5, 93.5, 93.5, 93.5, 97.4, 97.4, 97.4, 97.4, 97.4, 98.5, 98.5, 98.5, 98.5, 98.5, 68.5, 68.5, 68.5, 68.5, 68.5, 56.1, 56.1, 56.1, 56.1, 92.7, 92.7, 92.7, 92.7, 92.7, 88.8, 88.8, 88.8, 88.8, 57.4, 57.4, 57.4, 57.4, 57.4, 99.0, 99.0, 99.0, 99.0, 99.0, 99.0, 99.0, 99.0, 99.0, 99.0, 78.0, 78.0, 78.0, 78.0, 78.0, 19.1, 19.1, 19.1, 19.1, 19.1, 61.3, 61.3, 61.3, 61.3, 61.3, 100.0, 100.0, 100.0, 100.0, 100.0, 86.9, 54.9, 54.9, 54.9, 54.9, 54.9, 94.1, 94.1, 94.1, 94.1, 94.1, 93.9, 93.9, 93.9, 93.9, 93.9, 94.2, 94.2, 94.2, 94.2, 94.2, 95.4, 95.4, 95.4, 95.4, 95.4, 99.7, 99.7, 99.7, 99.7, 99.7, 95.4, 95.4, 95.4, 95.4, 95.4, 94.1, 96.3, 96.3, 96.3, 96.3, 96.3, 84.49265895953761, 84.49265895953761, 84.49265895953761, 84.49265895953761, 84.49265895953761, 71.1, 71.1, 71.1, 71.1, 71.1, 87.2, 87.2, 87.2, 87.2, 87.2, 49.7, 49.7, 49.7, 49.7, 49.7, 98.0, 98.0, 98.0, 98.0, 98.0, 43.3, 43.3, 43.3, 43.3, 43.3, 95.9, 95.9, 95.9, 95.9, 95.9, 99.6, 99.6, 99.6, 99.6, 99.6, 99.7, 99.7, 99.7, 99.7, 99.7, 37.8, 37.8, 37.8, 37.8, 93.0, 93.0, 93.0, 93.0, 93.0, 27.0, 27.0, 27.0, 27.0, 97.7, 97.7, 97.7, 97.7, 97.7, 91.2, 91.2, 91.2, 91.2, 91.2, 71.9, 71.9, 71.9, 71.9, 94.7, 94.7, 84.49265895953761, 84.49265895953761, 99.0, 99.0, 99.0, 99.0, 99.0, 99.0, 99.0, 99.0, 99.0, 99.0, 96.1, 96.1, 96.1, 96.1, 96.1, 99.7, 99.7, 99.7, 99.7, 99.7, 93.5, 93.5, 93.5, 93.5, 93.5, 60.4, 60.4, 60.4, 60.4, 60.4, 98.8, 98.8, 98.8, 98.8, 98.8, 79.1, 79.1, 79.1, 79.1, 79.1, 94.1, 94.1, 94.1, 94.1, 94.1, 99.6, 99.6, 99.6, 99.6, 99.6, 73.2, 73.2, 73.2, 73.2, 73.2, 99.7, 99.7, 99.7, 99.7, 99.7, 90.0, 90.0, 90.0, 90.0, 90.0, 98.1, 98.1, 98.1, 98.1, 98.1, 99.4, 99.4, 99.4, 99.4, 99.4, 65.3, 65.3, 65.3, 65.3, 65.3, 61.4, 61.4, 61.4, 61.4, 61.4, 84.49265895953761, 84.49265895953761, 84.49265895953761, 84.49265895953761, 84.49265895953761], \"y\": [35.0, 35.0, 35.0, 35.0, 35.0, 16.9, 16.9, 16.9, 16.9, 16.9, 10.3, 10.3, 10.3, 10.3, 10.3, 14.770671140939596, 14.770671140939596, 14.770671140939596, 14.770671140939596, 7.5, 7.5, 7.5, 7.5, 7.5, 14.770671140939596, 14.770671140939596, 14.770671140939596, 14.770671140939596, 14.770671140939596, 5.7, 5.7, 5.7, 5.7, 5.7, 4.9, 4.9, 4.9, 4.9, 4.9, 6.0, 6.0, 6.0, 6.0, 6.0, 14.770671140939596, 14.770671140939596, 14.770671140939596, 14.770671140939596, 14.770671140939596, 5.0, 5.0, 5.0, 5.0, 5.0, 1.0, 1.0, 1.0, 1.0, 1.0, 8.8, 8.8, 8.8, 8.8, 8.8, 15.5, 15.5, 15.5, 14.770671140939596, 14.770671140939596, 14.770671140939596, 14.770671140939596, 14.770671140939596, 2.1, 2.1, 2.1, 2.1, 2.1, 14.770671140939596, 14.770671140939596, 14.770671140939596, 14.770671140939596, 14.770671140939596, 17.8, 17.8, 17.8, 17.8, 17.8, 6.0, 6.0, 6.0, 6.0, 6.0, 11.6, 11.6, 11.6, 11.6, 11.6, 77.0, 77.0, 77.0, 77.0, 77.0, 14.770671140939596, 14.770671140939596, 14.770671140939596, 14.770671140939596, 14.770671140939596, 0.0, 0.0, 0.0, 0.0, 0.0, 30.0, 30.0, 30.0, 30.0, 30.0, 14.770671140939596, 14.770671140939596, 14.770671140939596, 14.770671140939596, 14.770671140939596, 8.0, 8.0, 8.0, 8.0, 14.770671140939596, 14.770671140939596, 14.770671140939596, 14.770671140939596, 14.770671140939596, 14.770671140939596, 14.770671140939596, 14.770671140939596, 14.770671140939596, 14.770671140939596, 14.770671140939596, 14.770671140939596, 14.770671140939596, 14.770671140939596, 14.770671140939596, 14.770671140939596, 14.770671140939596, 14.770671140939596, 14.770671140939596, 14.770671140939596, 14.770671140939596, 14.770671140939596, 14.770671140939596, 7.9, 7.9, 7.9, 7.9, 7.9, 21.6, 21.6, 21.6, 21.6, 21.6, 17.4, 17.4, 17.4, 17.4, 17.4, 7.1, 7.1, 7.1, 7.1, 7.1, 6.0, 6.0, 6.0, 6.0, 6.0, 59.0, 15.0, 15.0, 15.0, 15.0, 15.0, 4.2, 4.2, 4.2, 4.2, 4.2, 13.4, 13.4, 13.4, 13.4, 13.4, 6.3, 6.3, 6.3, 6.3, 6.3, 10.9, 10.9, 10.9, 10.9, 10.9, 17.5, 17.5, 17.5, 17.5, 17.5, 8.6, 8.6, 8.6, 8.6, 8.6, 9.7, 9.7, 9.7, 9.7, 9.7, 21.0, 21.0, 21.0, 21.0, 21.0, 14.770671140939596, 14.9, 14.9, 14.9, 14.9, 14.9, 6.0, 6.0, 6.0, 6.0, 6.0, 11.0, 11.0, 11.0, 11.0, 11.0, 27.9, 27.9, 27.9, 27.9, 27.9, 4.1, 4.1, 4.1, 4.1, 4.1, 14.770671140939596, 14.770671140939596, 14.770671140939596, 14.770671140939596, 14.770671140939596, 40.6, 40.6, 40.6, 40.6, 40.6, 4.5, 4.5, 4.5, 4.5, 4.5, 14.770671140939596, 14.770671140939596, 14.770671140939596, 14.770671140939596, 14.770671140939596, 14.770671140939596, 14.770671140939596, 14.770671140939596, 14.770671140939596, 14.770671140939596, 4.5, 4.5, 4.5, 4.5, 4.5, 8.8, 8.8, 8.8, 8.8, 8.8, 6.6, 6.6, 6.6, 6.6, 6.6, 16.0, 16.0, 16.0, 16.0, 16.0, 13.5, 13.5, 13.5, 13.5, 13.5, 1.7, 1.7, 1.7, 1.7, 1.7, 12.4, 12.4, 12.4, 12.4, 12.4, 14.770671140939596, 14.770671140939596, 14.770671140939596, 14.770671140939596, 14.770671140939596, 4.1, 4.1, 4.1, 4.1, 4.1, 12.3, 12.3, 12.3, 12.3, 12.3, 5.3, 5.3, 5.3, 5.3, 5.3, 40.0, 40.0, 40.0, 40.0, 40.0, 2.2, 2.2, 2.2, 2.2, 2.2, 8.6, 8.6, 8.6, 8.6, 8.6, 9.8, 9.8, 9.8, 9.8, 9.8, 9.2, 9.2, 9.2, 9.2, 9.2, 25.0, 25.0, 25.0, 25.0, 85.0, 85.0, 85.0, 85.0, 85.0, 30.0, 30.0, 30.0, 30.0, 30.0, 12.4, 12.4, 12.4, 12.4, 12.4, 14.770671140939596, 14.770671140939596, 14.770671140939596, 14.770671140939596, 14.770671140939596, 14.770671140939596, 14.770671140939596, 14.770671140939596, 14.770671140939596, 14.770671140939596, 14.770671140939596, 14.770671140939596, 14.770671140939596, 14.770671140939596, 14.770671140939596, 3.1, 3.1, 3.1, 3.1, 3.1, 30.0, 30.0, 30.0, 30.0, 30.0, 6.4, 6.4, 6.4, 6.4, 6.4, 30.0, 30.0, 30.0, 30.0, 30.0, 8.3, 8.3, 8.3, 8.3, 8.3, 4.9, 4.9, 4.9, 4.9, 4.9, 9.0, 9.0, 9.0, 9.0, 9.0, 19.1, 19.1, 19.1, 19.1, 19.1, 9.9, 9.9, 9.9, 9.9, 9.9, 17.0, 17.0, 17.0, 17.0, 5.2, 5.2, 5.2, 5.2, 5.2, 51.2, 51.2, 51.2, 51.2, 46.0, 46.0, 46.0, 46.0, 46.0, 8.3, 8.3, 8.3, 8.3, 8.3, 6.43, 6.43, 6.43, 6.43, 6.43, 7.2, 7.2, 7.2, 7.2, 7.2, 14.770671140939596, 14.770671140939596, 14.770671140939596, 14.770671140939596, 14.770671140939596, 23.9, 23.9, 23.9, 23.9, 23.9, 3.6, 3.6, 3.6, 3.6, 3.6, 15.0, 6.6, 6.6, 6.6, 6.6, 6.6, 4.5, 4.5, 4.5, 4.5, 4.5, 6.6, 6.6, 6.6, 6.6, 6.6, 14.770671140939596, 14.770671140939596, 14.770671140939596, 14.770671140939596, 14.770671140939596, 7.4, 7.4, 7.4, 7.4, 7.4, 10.3, 10.3, 10.3, 10.3, 10.3, 14.770671140939596, 14.770671140939596, 14.770671140939596, 14.770671140939596, 14.770671140939596, 12.0, 0.3, 0.3, 0.3, 0.3, 0.3, 14.770671140939596, 14.770671140939596, 14.770671140939596, 14.770671140939596, 14.770671140939596, 14.770671140939596, 14.770671140939596, 14.770671140939596, 14.770671140939596, 14.770671140939596, 10.5, 10.5, 10.5, 10.5, 10.5, 48.0, 48.0, 48.0, 48.0, 48.0, 20.1, 20.1, 20.1, 20.1, 20.1, 14.770671140939596, 14.770671140939596, 14.770671140939596, 14.770671140939596, 14.770671140939596, 1.9, 1.9, 1.9, 1.9, 1.9, 14.4, 14.4, 14.4, 14.4, 14.4, 13.1, 13.1, 13.1, 13.1, 13.1, 14.770671140939596, 14.770671140939596, 14.770671140939596, 14.770671140939596, 14.770671140939596, 14.770671140939596, 14.770671140939596, 14.770671140939596, 14.770671140939596, 14.770671140939596, 14.770671140939596, 14.770671140939596, 14.770671140939596, 26.3, 26.3, 26.3, 26.3, 26.3, 5.1, 5.1, 5.1, 5.1, 5.1, 20.0, 20.0, 20.0, 20.0, 9.0, 9.0, 14.770671140939596, 14.770671140939596, 8.1, 8.1, 8.1, 8.1, 8.1, 3.2, 3.2, 3.2, 3.2, 3.2, 4.1, 4.1, 4.1, 4.1, 4.1, 2.5, 2.5, 2.5, 2.5, 2.5, 0.7, 0.7, 0.7, 0.7, 0.7, 14.770671140939596, 14.770671140939596, 14.770671140939596, 14.770671140939596, 14.770671140939596, 5.9, 5.9, 5.9, 5.9, 5.9, 17.2, 17.2, 17.2, 17.2, 17.2, 9.3, 9.3, 9.3, 9.3, 9.3, 60.0, 60.0, 60.0, 60.0, 60.0, 14.770671140939596, 14.770671140939596, 14.770671140939596, 14.770671140939596, 14.770671140939596, 8.0, 8.0, 8.0, 8.0, 8.0, 2.4, 2.4, 2.4, 2.4, 2.4, 6.5, 6.5, 6.5, 6.5, 6.5, 4.9, 4.9, 4.9, 4.9, 4.9, 35.0, 35.0, 35.0, 35.0, 35.0, 15.0, 15.0, 15.0, 15.0, 15.0, 14.770671140939596, 14.770671140939596, 14.770671140939596, 14.770671140939596, 14.770671140939596], \"z\": [3.575, 3.36, 3.7939999103546103, 3.6319999999999997, 3.2030000000000003, 4.959, 4.655, 4.64400005340576, 4.586, 4.718999999999999, 5.605, 6.355, 5.872000217437741, 5.295, 5.211, 4.033, 3.866, 3.79500007629395, 3.795, 6.574, 6.65, 6.59899997711182, 6.388, 6.086, 4.35, 4.36, 4.37599992752075, 4.321000000000001, 4.559, 7.284, 7.313, 7.28399991989136, 7.272, 7.228, 7.2, 7.119, 7.00600004196167, 7.138999999999999, 7.246, 5.212000000000001, 5.291, 5.234000205993651, 5.2010000000000005, 5.207999999999999, 5.96, 6.218, 6.08699989318848, 6.105, 6.199, 4.694, 4.643, 4.60799980163574, 4.5, 4.456, 5.813, 5.8020000000000005, 5.5689997673034695, 5.483, 5.3229999999999995, 6.937, 6.928999999999999, 6.89099979400635, 6.9270000000000005, 6.922999999999999, 5.956, 5.955999851226809, 5.956, 3.34, 3.484, 3.65700006484985, 4.141, 4.883, 5.252999999999999, 5.196000000000001, 5.01100015640259, 5.082, 5.082, 4.949, 5.162999999999999, 5.18200016021729, 5.129, 5.386, 4.332, 3.9739999999999998, 3.7660000324249303, 3.59, 3.488, 6.983, 6.952000000000001, 6.6350002288818395, 6.419, 6.3, 4.218, 4.217, 4.71400022506714, 4.933, 5.011, 3.5869999999999997, 3.739, 4.03200006484985, 4.4239999999999995, 4.587, 2.905, 2.905, 2.90499997138977, 2.905, 3.775, 3.819, 3.907, 4.1680002212524405, 4.433, 4.7, 4.252, 4.513, 4.69500017166138, 4.975, 5.044, 7.4270000000000005, 7.404, 7.31599998474121, 7.327999999999999, 7.278, 3.678, 2.69300007820129, 3.083, 3.083, 3.667, 3.763, 3.9360001087188703, 4.301, 4.35, 6.67, 6.705, 6.65199995040894, 6.476, 6.444, 5.14, 5.245, 5.2729997634887695, 5.246, 5.191, 6.477, 6.481, 6.35699987411499, 6.26, 6.125, 3.9560000000000004, 3.9560000000000004, 3.9730000000000003, 7.226, 7.087000000000001, 7.0789999961853, 7.072, 7.167000000000001, 5.7589999999999995, 5.4879999999999995, 5.2930002212524405, 5.321000000000001, 5.432, 5.689, 5.546, 5.62099981307983, 5.7620000000000005, 6.046, 6.505, 6.596, 6.60900020599365, 6.711, 6.852, 7.527, 7.526, 7.52199983596802, 7.555, 7.6, 4.369, 4.885, 5.155, 5.230000019073491, 5.3020000000000005, 5.425, 5.975, 5.976, 6.00799989700317, 5.973, 6.028, 4.194, 4.362, 4.7350001335144, 4.419, 4.166, 6.13, 6.068, 6.002999782562259, 6.167000000000001, 6.252999999999999, 5.428999999999999, 5.517, 5.61100006103516, 5.739, 5.893, 4.512, 4.508, 4.46000003814697, 4.35, 4.2860000000000005, 7.406000000000001, 7.412999999999999, 7.468999862670901, 7.632000000000001, 7.769, 6.575, 6.478, 6.44199991226196, 6.489, 6.5920000000000005, 3.8960000000000004, 4.121, 4.46500015258789, 4.758, 4.7989999999999995, 4.516, 4.297, 4.252, 4.28599977493286, 4.34, 4.519, 6.75, 6.994, 6.9510002136230495, 6.965, 6.985, 4.633, 4.276, 4.11999988555908, 4.657, 4.996, 4.857, 5.033, 5.2270002365112305, 5.358, 5.287000000000001, 6.122999999999999, 6.324, 6.4539999961853, 6.382000000000001, 6.436, 3.656, 3.6069999999999998, 3.50699996948242, 3.964, 4.534, 4.518, 4.0280000000000005, 3.6029999256133998, 3.582, 3.597, 4.788, 4.871, 5.1810002326965305, 5.504, 5.86, 5.474, 5.457999999999999, 5.47200012207031, 5.43, 5.43, 4.8, 5.145, 5.32399988174438, 5.62, 5.757999999999999, 7.561, 7.501, 7.50400018692017, 7.495, 7.494, 4.565, 4.404, 4.31500005722046, 4.19, 4.015, 5.399, 5.314, 5.26200008392334, 5.093, 5.192, 4.677, 4.575, 4.49700021743774, 4.456, 4.437, 6.94, 6.907, 6.9770002365112305, 6.977, 7.021, 7.278, 7.267, 7.212999820709231, 6.814, 7.138999999999999, 5.9479999999999995, 5.977, 5.96400022506714, 6.0, 6.223, 5.709, 5.51, 5.31099987030029, 5.89, 5.89, 5.987, 5.921, 5.92000007629395, 5.915, 5.886, 5.192, 5.303, 5.33599996566772, 5.1610000000000005, 4.906000000000001, 5.855, 5.919, 5.8189997673034695, 5.79, 5.809, 4.419, 4.356, 4.55299997329712, 4.41, 4.5089999999999995, 6.295, 6.239, 6.10500001907349, 6.082999999999999, 6.021, 5.2860000000000005, 5.185, 5.0040001869201705, 5.131, 5.261, 5.098, 5.56, 5.849999904632571, 5.933, 5.94, 4.8389999999999995, 5.129, 5.22499990463257, 5.358, 5.197, 4.898, 3.80800008773804, 3.8080000000000003, 3.802, 4.571000000000001, 3.622, 3.5329999923706095, 3.495, 3.975, 5.754, 5.615, 5.525000095367429, 5.566, 5.525, 5.832999999999999, 5.813, 5.90199995040894, 5.952000000000001, 6.149, 6.946000000000001, 6.871, 6.86299991607666, 6.91, 7.09, 3.681, 3.695, 3.64400005340576, 3.7739999999999996, 3.9330000000000003, 4.292, 4.156000000000001, 3.97000002861023, 3.5869999999999997, 3.41, 5.77, 6.005, 6.08400011062622, 6.322, 5.3389999999999995, 3.995, 4.073, 4.19000005722046, 4.447, 4.39, 6.3020000000000005, 6.4879999999999995, 6.52699995040894, 6.627000000000001, 6.726, 4.436, 4.2010000000000005, 4.29199981689453, 4.356, 4.49, 5.477, 5.648, 5.62900018692017, 5.891, 5.888, 7.187, 6.778, 6.57800006866455, 6.4879999999999995, 6.595, 4.874, 4.907, 4.95499992370605, 5.125, 5.285, 5.192, 5.1610000000000005, 5.23699998855591, 5.347, 5.523, 5.013, 5.151, 5.2350001335144, 5.254, 5.207999999999999, 4.971, 4.550000190734861, 4.417, 4.466, 4.3069999999999995, 4.395, 4.54500007629395, 4.308, 4.36, 4.574, 4.57399988174438, 4.441, 4.638999999999999, 4.513999999999999, 4.793, 4.961999893188481, 4.88, 4.913, 7.377999999999999, 7.3389999999999995, 7.3769998550415, 7.441, 7.4879999999999995, 7.2860000000000005, 7.334, 7.31400012969971, 7.324, 7.307, 5.827999999999999, 5.992000000000001, 6.07100009918213, 6.141, 6.105, 3.845, 3.8560000000000003, 4.02799987792969, 4.166, 4.628, 5.268, 4.875, 5.07399988174438, 5.155, 5.265, 7.522, 7.497999999999999, 7.537000179290769, 7.593999999999999, 7.553999999999999, 6.853, 5.194, 5.132000000000001, 5.26900005340576, 5.472, 5.653, 6.7860000000000005, 6.7010000000000005, 6.4520001411438, 6.43, 6.321000000000001, 5.877999999999999, 5.537999999999999, 5.493000030517581, 5.681, 5.742999999999999, 5.824, 5.742999999999999, 5.71500015258789, 5.662999999999999, 5.697, 5.073, 5.279, 5.42999982833862, 5.524, 5.631, 5.791, 5.835, 5.97300004959106, 6.122999999999999, 6.182, 5.102, 5.122999999999999, 5.19500017166138, 5.41, 5.693, 7.039, 6.611000000000001, 6.375, 6.375, 6.374, 6.374, 5.124, 5.528, 5.824999809265139, 5.945, 6.07, 3.465, 3.515, 3.47099995613098, 3.408, 3.3339999999999996, 6.4110000000000005, 6.379, 6.343999862670901, 6.371, 6.375, 3.904, 4.218999999999999, 4.53499984741211, 4.631, 4.681, 5.122999999999999, 5.1770000000000005, 5.39499998092651, 5.398, 5.603, 4.507, 4.635, 4.70900011062622, 4.571000000000001, 4.374, 6.797999999999999, 6.739, 6.57200002670288, 6.343, 6.2620000000000005, 5.995, 6.077999999999999, 6.09800004959106, 6.172999999999999, 6.1979999999999995, 5.848, 5.768, 5.75799989700317, 5.9479999999999995, 6.117999999999999, 5.44, 5.151000022888179, 4.982, 4.668, 4.6419999999999995, 4.459, 4.8289999961853, 4.724, 4.7219999999999995, 3.832, 3.5910000801086404, 3.2539999999999996, 2.853, 6.329, 6.361000000000001, 6.40299987792969, 6.31, 6.354, 4.271, 4.415, 4.44000005722046, 4.471, 4.3660000000000005, 4.55, 4.138999999999999, 4.138999938964839, 4.138999999999999, 6.269, 6.269, 4.867, 4.212, 7.364, 7.291, 7.28399991989136, 7.314, 7.343, 7.587000000000001, 7.5089999999999995, 7.49399995803833, 7.487, 7.48, 6.297999999999999, 6.379, 6.42199993133545, 6.441, 6.446000000000001, 4.7860000000000005, 4.996, 5.04099988937378, 5.199, 5.4670000000000005, 6.455, 6.474, 6.4239997863769505, 6.072, 6.007999999999999, 2.839, 3.303, 3.4949998855590803, 3.9989999999999997, 4.085, 6.167999999999999, 6.167999999999999, 6.1680002212524405, 6.192, 6.192, 4.739, 5.045, 4.80499982833862, 4.592, 4.461, 5.332000000000001, 5.388999999999999, 5.5, 5.483, 5.372999999999999, 5.547999999999999, 5.6579999999999995, 5.82200002670288, 5.636, 5.247000000000001, 3.931, 3.739, 4.08099985122681, 4.1610000000000005, 4.189, 4.681, 4.324, 4.09600019454956, 4.103, 4.332, 6.901, 6.5729999999999995, 6.6479997634887695, 6.774, 6.825, 6.485, 6.545, 6.4539999961853, 6.379, 6.292999999999999, 6.002999999999999, 5.987, 5.97100019454956, 6.096, 6.1739999999999995, 4.077, 3.7239999999999998, 3.59299993515015, 3.355, 3.38, 5.129, 4.795, 4.513999938964839, 4.377, 4.107, 4.61, 4.1930000000000005, 3.875, 3.6919999999999997, 3.6630000000000003]}],\n",
              "                        {\"coloraxis\": {\"colorbar\": {\"title\": {\"text\": \"Year\"}}, \"colorscale\": [[0.0, \"#0d0887\"], [0.1111111111111111, \"#46039f\"], [0.2222222222222222, \"#7201a8\"], [0.3333333333333333, \"#9c179e\"], [0.4444444444444444, \"#bd3786\"], [0.5555555555555556, \"#d8576b\"], [0.6666666666666666, \"#ed7953\"], [0.7777777777777778, \"#fb9f3a\"], [0.8888888888888888, \"#fdca26\"], [1.0, \"#f0f921\"]]}, \"legend\": {\"tracegroupgap\": 0}, \"margin\": {\"t\": 60}, \"scene\": {\"domain\": {\"x\": [0.0, 1.0], \"y\": [0.0, 1.0]}, \"xaxis\": {\"title\": {\"text\": \"Literacy Rate(%)\"}}, \"yaxis\": {\"title\": {\"text\": \"Unemployement(%)\"}}, \"zaxis\": {\"title\": {\"text\": \"Happiness Score\"}}}, \"template\": {\"data\": {\"bar\": [{\"error_x\": {\"color\": \"#2a3f5f\"}, \"error_y\": {\"color\": \"#2a3f5f\"}, \"marker\": {\"line\": {\"color\": \"#E5ECF6\", \"width\": 0.5}}, \"type\": \"bar\"}], \"barpolar\": [{\"marker\": {\"line\": {\"color\": \"#E5ECF6\", \"width\": 0.5}}, \"type\": \"barpolar\"}], \"carpet\": [{\"aaxis\": {\"endlinecolor\": \"#2a3f5f\", \"gridcolor\": \"white\", \"linecolor\": \"white\", \"minorgridcolor\": \"white\", \"startlinecolor\": \"#2a3f5f\"}, \"baxis\": {\"endlinecolor\": \"#2a3f5f\", \"gridcolor\": \"white\", \"linecolor\": \"white\", \"minorgridcolor\": \"white\", \"startlinecolor\": \"#2a3f5f\"}, \"type\": \"carpet\"}], \"choropleth\": [{\"colorbar\": {\"outlinewidth\": 0, \"ticks\": \"\"}, \"type\": \"choropleth\"}], \"contour\": [{\"colorbar\": {\"outlinewidth\": 0, \"ticks\": \"\"}, \"colorscale\": [[0.0, \"#0d0887\"], [0.1111111111111111, \"#46039f\"], [0.2222222222222222, \"#7201a8\"], [0.3333333333333333, \"#9c179e\"], [0.4444444444444444, \"#bd3786\"], [0.5555555555555556, \"#d8576b\"], [0.6666666666666666, \"#ed7953\"], [0.7777777777777778, \"#fb9f3a\"], [0.8888888888888888, \"#fdca26\"], [1.0, \"#f0f921\"]], \"type\": \"contour\"}], \"contourcarpet\": [{\"colorbar\": {\"outlinewidth\": 0, \"ticks\": \"\"}, \"type\": \"contourcarpet\"}], \"heatmap\": [{\"colorbar\": {\"outlinewidth\": 0, \"ticks\": \"\"}, \"colorscale\": [[0.0, \"#0d0887\"], [0.1111111111111111, \"#46039f\"], [0.2222222222222222, \"#7201a8\"], [0.3333333333333333, \"#9c179e\"], [0.4444444444444444, \"#bd3786\"], [0.5555555555555556, \"#d8576b\"], [0.6666666666666666, \"#ed7953\"], [0.7777777777777778, \"#fb9f3a\"], [0.8888888888888888, \"#fdca26\"], [1.0, \"#f0f921\"]], \"type\": \"heatmap\"}], \"heatmapgl\": [{\"colorbar\": {\"outlinewidth\": 0, \"ticks\": \"\"}, \"colorscale\": [[0.0, \"#0d0887\"], [0.1111111111111111, \"#46039f\"], [0.2222222222222222, \"#7201a8\"], [0.3333333333333333, \"#9c179e\"], [0.4444444444444444, \"#bd3786\"], [0.5555555555555556, \"#d8576b\"], [0.6666666666666666, \"#ed7953\"], [0.7777777777777778, \"#fb9f3a\"], [0.8888888888888888, \"#fdca26\"], [1.0, \"#f0f921\"]], \"type\": \"heatmapgl\"}], \"histogram\": [{\"marker\": {\"colorbar\": {\"outlinewidth\": 0, \"ticks\": \"\"}}, \"type\": \"histogram\"}], \"histogram2d\": [{\"colorbar\": {\"outlinewidth\": 0, \"ticks\": \"\"}, \"colorscale\": [[0.0, \"#0d0887\"], [0.1111111111111111, \"#46039f\"], [0.2222222222222222, \"#7201a8\"], [0.3333333333333333, \"#9c179e\"], [0.4444444444444444, \"#bd3786\"], [0.5555555555555556, \"#d8576b\"], [0.6666666666666666, \"#ed7953\"], [0.7777777777777778, \"#fb9f3a\"], [0.8888888888888888, \"#fdca26\"], [1.0, \"#f0f921\"]], \"type\": \"histogram2d\"}], \"histogram2dcontour\": [{\"colorbar\": {\"outlinewidth\": 0, \"ticks\": \"\"}, \"colorscale\": [[0.0, \"#0d0887\"], [0.1111111111111111, \"#46039f\"], [0.2222222222222222, \"#7201a8\"], [0.3333333333333333, \"#9c179e\"], [0.4444444444444444, \"#bd3786\"], [0.5555555555555556, \"#d8576b\"], [0.6666666666666666, \"#ed7953\"], [0.7777777777777778, \"#fb9f3a\"], [0.8888888888888888, \"#fdca26\"], [1.0, \"#f0f921\"]], \"type\": \"histogram2dcontour\"}], \"mesh3d\": [{\"colorbar\": {\"outlinewidth\": 0, \"ticks\": \"\"}, \"type\": \"mesh3d\"}], \"parcoords\": [{\"line\": {\"colorbar\": {\"outlinewidth\": 0, \"ticks\": \"\"}}, \"type\": \"parcoords\"}], \"pie\": [{\"automargin\": true, \"type\": \"pie\"}], \"scatter\": [{\"marker\": {\"colorbar\": {\"outlinewidth\": 0, \"ticks\": \"\"}}, \"type\": \"scatter\"}], \"scatter3d\": [{\"line\": {\"colorbar\": {\"outlinewidth\": 0, \"ticks\": \"\"}}, \"marker\": {\"colorbar\": {\"outlinewidth\": 0, \"ticks\": \"\"}}, \"type\": \"scatter3d\"}], \"scattercarpet\": [{\"marker\": {\"colorbar\": {\"outlinewidth\": 0, \"ticks\": \"\"}}, \"type\": \"scattercarpet\"}], \"scattergeo\": [{\"marker\": {\"colorbar\": {\"outlinewidth\": 0, \"ticks\": \"\"}}, \"type\": \"scattergeo\"}], \"scattergl\": [{\"marker\": {\"colorbar\": {\"outlinewidth\": 0, \"ticks\": \"\"}}, \"type\": \"scattergl\"}], \"scattermapbox\": [{\"marker\": {\"colorbar\": {\"outlinewidth\": 0, \"ticks\": \"\"}}, \"type\": \"scattermapbox\"}], \"scatterpolar\": [{\"marker\": {\"colorbar\": {\"outlinewidth\": 0, \"ticks\": \"\"}}, \"type\": \"scatterpolar\"}], \"scatterpolargl\": [{\"marker\": {\"colorbar\": {\"outlinewidth\": 0, \"ticks\": \"\"}}, \"type\": \"scatterpolargl\"}], \"scatterternary\": [{\"marker\": {\"colorbar\": {\"outlinewidth\": 0, \"ticks\": \"\"}}, \"type\": \"scatterternary\"}], \"surface\": [{\"colorbar\": {\"outlinewidth\": 0, \"ticks\": \"\"}, \"colorscale\": [[0.0, \"#0d0887\"], [0.1111111111111111, \"#46039f\"], [0.2222222222222222, \"#7201a8\"], [0.3333333333333333, \"#9c179e\"], [0.4444444444444444, \"#bd3786\"], [0.5555555555555556, \"#d8576b\"], [0.6666666666666666, \"#ed7953\"], [0.7777777777777778, \"#fb9f3a\"], [0.8888888888888888, \"#fdca26\"], [1.0, \"#f0f921\"]], \"type\": \"surface\"}], \"table\": [{\"cells\": {\"fill\": {\"color\": \"#EBF0F8\"}, \"line\": {\"color\": \"white\"}}, \"header\": {\"fill\": {\"color\": \"#C8D4E3\"}, \"line\": {\"color\": \"white\"}}, \"type\": \"table\"}]}, \"layout\": {\"annotationdefaults\": {\"arrowcolor\": \"#2a3f5f\", \"arrowhead\": 0, \"arrowwidth\": 1}, \"coloraxis\": {\"colorbar\": {\"outlinewidth\": 0, \"ticks\": \"\"}}, \"colorscale\": {\"diverging\": [[0, \"#8e0152\"], [0.1, \"#c51b7d\"], [0.2, \"#de77ae\"], [0.3, \"#f1b6da\"], [0.4, \"#fde0ef\"], [0.5, \"#f7f7f7\"], [0.6, \"#e6f5d0\"], [0.7, \"#b8e186\"], [0.8, \"#7fbc41\"], [0.9, \"#4d9221\"], [1, \"#276419\"]], \"sequential\": [[0.0, \"#0d0887\"], [0.1111111111111111, \"#46039f\"], [0.2222222222222222, \"#7201a8\"], [0.3333333333333333, \"#9c179e\"], [0.4444444444444444, \"#bd3786\"], [0.5555555555555556, \"#d8576b\"], [0.6666666666666666, \"#ed7953\"], [0.7777777777777778, \"#fb9f3a\"], [0.8888888888888888, \"#fdca26\"], [1.0, \"#f0f921\"]], \"sequentialminus\": [[0.0, \"#0d0887\"], [0.1111111111111111, \"#46039f\"], [0.2222222222222222, \"#7201a8\"], [0.3333333333333333, \"#9c179e\"], [0.4444444444444444, \"#bd3786\"], [0.5555555555555556, \"#d8576b\"], [0.6666666666666666, \"#ed7953\"], [0.7777777777777778, \"#fb9f3a\"], [0.8888888888888888, \"#fdca26\"], [1.0, \"#f0f921\"]]}, \"colorway\": [\"#636efa\", \"#EF553B\", \"#00cc96\", \"#ab63fa\", \"#FFA15A\", \"#19d3f3\", \"#FF6692\", \"#B6E880\", \"#FF97FF\", \"#FECB52\"], \"font\": {\"color\": \"#2a3f5f\"}, \"geo\": {\"bgcolor\": \"white\", \"lakecolor\": \"white\", \"landcolor\": \"#E5ECF6\", \"showlakes\": true, \"showland\": true, \"subunitcolor\": \"white\"}, \"hoverlabel\": {\"align\": \"left\"}, \"hovermode\": \"closest\", \"mapbox\": {\"style\": \"light\"}, \"paper_bgcolor\": \"white\", \"plot_bgcolor\": \"#E5ECF6\", \"polar\": {\"angularaxis\": {\"gridcolor\": \"white\", \"linecolor\": \"white\", \"ticks\": \"\"}, \"bgcolor\": \"#E5ECF6\", \"radialaxis\": {\"gridcolor\": \"white\", \"linecolor\": \"white\", \"ticks\": \"\"}}, \"scene\": {\"xaxis\": {\"backgroundcolor\": \"#E5ECF6\", \"gridcolor\": \"white\", \"gridwidth\": 2, \"linecolor\": \"white\", \"showbackground\": true, \"ticks\": \"\", \"zerolinecolor\": \"white\"}, \"yaxis\": {\"backgroundcolor\": \"#E5ECF6\", \"gridcolor\": \"white\", \"gridwidth\": 2, \"linecolor\": \"white\", \"showbackground\": true, \"ticks\": \"\", \"zerolinecolor\": \"white\"}, \"zaxis\": {\"backgroundcolor\": \"#E5ECF6\", \"gridcolor\": \"white\", \"gridwidth\": 2, \"linecolor\": \"white\", \"showbackground\": true, \"ticks\": \"\", \"zerolinecolor\": \"white\"}}, \"shapedefaults\": {\"line\": {\"color\": \"#2a3f5f\"}}, \"ternary\": {\"aaxis\": {\"gridcolor\": \"white\", \"linecolor\": \"white\", \"ticks\": \"\"}, \"baxis\": {\"gridcolor\": \"white\", \"linecolor\": \"white\", \"ticks\": \"\"}, \"bgcolor\": \"#E5ECF6\", \"caxis\": {\"gridcolor\": \"white\", \"linecolor\": \"white\", \"ticks\": \"\"}}, \"title\": {\"x\": 0.05}, \"xaxis\": {\"automargin\": true, \"gridcolor\": \"white\", \"linecolor\": \"white\", \"ticks\": \"\", \"title\": {\"standoff\": 15}, \"zerolinecolor\": \"white\", \"zerolinewidth\": 2}, \"yaxis\": {\"automargin\": true, \"gridcolor\": \"white\", \"linecolor\": \"white\", \"ticks\": \"\", \"title\": {\"standoff\": 15}, \"zerolinecolor\": \"white\", \"zerolinewidth\": 2}}}},\n",
              "                        {\"responsive\": true}\n",
              "                    ).then(function(){\n",
              "                            \n",
              "var gd = document.getElementById('cbc3d3bb-c97f-4704-9ae2-2decd34fedf3');\n",
              "var x = new MutationObserver(function (mutations, observer) {{\n",
              "        var display = window.getComputedStyle(gd).display;\n",
              "        if (!display || display === 'none') {{\n",
              "            console.log([gd, 'removed!']);\n",
              "            Plotly.purge(gd);\n",
              "            observer.disconnect();\n",
              "        }}\n",
              "}});\n",
              "\n",
              "// Listen for the removal of the full notebook cells\n",
              "var notebookContainer = gd.closest('#notebook-container');\n",
              "if (notebookContainer) {{\n",
              "    x.observe(notebookContainer, {childList: true});\n",
              "}}\n",
              "\n",
              "// Listen for the clearing of the current output cell\n",
              "var outputEl = gd.closest('.output');\n",
              "if (outputEl) {{\n",
              "    x.observe(outputEl, {childList: true});\n",
              "}}\n",
              "\n",
              "                        })\n",
              "                };\n",
              "                \n",
              "            </script>\n",
              "        </div>\n",
              "</body>\n",
              "</html>"
            ]
          },
          "metadata": {
            "tags": []
          }
        }
      ]
    },
    {
      "cell_type": "markdown",
      "metadata": {
        "id": "YKYBt0_ufNxW"
      },
      "source": [
        "We can also view each year on it's own to check for any weird behaviour"
      ]
    },
    {
      "cell_type": "code",
      "metadata": {
        "colab": {
          "base_uri": "https://localhost:8080/",
          "height": 542
        },
        "id": "NPVvPMliTEpD",
        "outputId": "8ac1c068-4ba8-42d2-b896-f995b545902c"
      },
      "source": [
        "fig = px.scatter_3d(whr_250Country[whr_250Country['Year']==2015], x='Literacy Rate(%)', y='Unemployement(%)', z='Happiness Score',\n",
        "              size_max=1,opacity=0.7)\n",
        "fig.show()"
      ],
      "execution_count": 68,
      "outputs": [
        {
          "output_type": "display_data",
          "data": {
            "text/html": [
              "<html>\n",
              "<head><meta charset=\"utf-8\" /></head>\n",
              "<body>\n",
              "    <div>\n",
              "            <script src=\"https://cdnjs.cloudflare.com/ajax/libs/mathjax/2.7.5/MathJax.js?config=TeX-AMS-MML_SVG\"></script><script type=\"text/javascript\">if (window.MathJax) {MathJax.Hub.Config({SVG: {font: \"STIX-Web\"}});}</script>\n",
              "                <script type=\"text/javascript\">window.PlotlyConfig = {MathJaxConfig: 'local'};</script>\n",
              "        <script src=\"https://cdn.plot.ly/plotly-latest.min.js\"></script>    \n",
              "            <div id=\"6a974e9f-1e55-42b3-a74b-9ea2261bb4bb\" class=\"plotly-graph-div\" style=\"height:525px; width:100%;\"></div>\n",
              "            <script type=\"text/javascript\">\n",
              "                \n",
              "                    window.PLOTLYENV=window.PLOTLYENV || {};\n",
              "                    \n",
              "                if (document.getElementById(\"6a974e9f-1e55-42b3-a74b-9ea2261bb4bb\")) {\n",
              "                    Plotly.newPlot(\n",
              "                        '6a974e9f-1e55-42b3-a74b-9ea2261bb4bb',\n",
              "                        [{\"hoverlabel\": {\"namelength\": 0}, \"hovertemplate\": \"Literacy Rate(%)=%{x}<br>Unemployement(%)=%{y}<br>Happiness Score=%{z}\", \"legendgroup\": \"\", \"marker\": {\"color\": \"#636efa\", \"opacity\": 0.7, \"symbol\": \"circle\"}, \"mode\": \"markers\", \"name\": \"\", \"scene\": \"scene\", \"showlegend\": false, \"type\": \"scatter3d\", \"x\": [28.1, 98.7, 79.0, 70.4, 97.9, 99.4, 99.0, 98.0, 99.8, 84.49265895953761, 57.7, 99.6, 99.0, 42.4, 52.8, 84.49265895953761, 85.1, 88.6, 98.4, 28.7, 67.2, 73.6, 75.9, 84.49265895953761, 56.6, 35.4, 97.5, 84.49265895953761, 94.2, 75.5, 96.3, 98.9, 98.7, 99.0, 99.0, 67.9, 90.1, 91.6, 73.9, 84.5, 84.49265895953761, 39.0, 100.0, 99.0, 82.3, 99.7, 99.0, 71.5, 97.3, 71.0, 41.0, 48.7, 85.1, 84.49265895953761, 99.1, 99.0, 62.8, 92.8, 78.5, 99.0, 97.0, 99.0, 87.0, 99.0, 92.6, 99.7, 87.4, 93.3, 99.2, 84.49265895953761, 89.6, 89.6, 60.8, 89.5, 84.49265895953761, 100.0, 64.5, 74.8, 93.1, 33.4, 92.4, 58.6, 88.8, 93.5, 97.4, 98.5, 68.5, 56.1, 92.7, 57.4, 99.0, 99.0, 78.0, 19.1, 61.3, 100.0, 86.9, 54.9, 94.1, 93.9, 94.2, 95.4, 99.7, 95.4, 96.3, 84.49265895953761, 71.1, 87.2, 49.7, 98.0, 43.3, 95.9, 99.6, 99.7, 93.0, 97.7, 91.2, 71.9, 94.7, 84.49265895953761, 99.0, 99.0, 96.1, 99.7, 93.5, 60.4, 98.8, 79.1, 94.1, 99.6, 73.2, 99.7, 90.0, 98.1, 99.4, 65.3, 61.4, 84.49265895953761], \"y\": [35.0, 16.9, 10.3, 14.770671140939596, 7.5, 14.770671140939596, 5.7, 4.9, 6.0, 14.770671140939596, 5.0, 1.0, 8.8, 14.770671140939596, 2.1, 14.770671140939596, 17.8, 6.0, 11.6, 77.0, 14.770671140939596, 0.0, 30.0, 14.770671140939596, 8.0, 14.770671140939596, 14.770671140939596, 14.770671140939596, 14.770671140939596, 14.770671140939596, 7.9, 21.6, 17.4, 7.1, 6.0, 59.0, 15.0, 4.2, 13.4, 6.3, 10.9, 17.5, 8.6, 9.7, 21.0, 14.9, 6.0, 11.0, 27.9, 4.1, 14.770671140939596, 40.6, 4.5, 14.770671140939596, 14.770671140939596, 4.5, 8.8, 6.6, 16.0, 13.5, 1.7, 12.4, 14.770671140939596, 4.1, 12.3, 5.3, 40.0, 2.2, 8.6, 9.8, 9.2, 25.0, 85.0, 30.0, 12.4, 14.770671140939596, 14.770671140939596, 14.770671140939596, 3.1, 30.0, 6.4, 30.0, 8.3, 4.9, 9.0, 19.1, 9.9, 17.0, 5.2, 46.0, 8.3, 6.43, 7.2, 14.770671140939596, 23.9, 3.6, 15.0, 6.6, 4.5, 6.6, 14.770671140939596, 7.4, 10.3, 14.770671140939596, 0.3, 14.770671140939596, 14.770671140939596, 10.5, 48.0, 20.1, 14.770671140939596, 1.9, 14.4, 13.1, 14.770671140939596, 26.3, 5.1, 20.0, 9.0, 14.770671140939596, 8.1, 3.2, 4.1, 2.5, 0.7, 14.770671140939596, 5.9, 17.2, 9.3, 60.0, 14.770671140939596, 8.0, 2.4, 6.5, 4.9, 35.0, 15.0, 14.770671140939596], \"z\": [3.575, 4.959, 5.605, 4.033, 6.574, 4.35, 7.284, 7.2, 5.212000000000001, 5.96, 4.694, 5.813, 6.937, 3.34, 5.252999999999999, 4.949, 4.332, 6.983, 4.218, 3.5869999999999997, 2.905, 3.819, 4.252, 7.4270000000000005, 3.678, 3.667, 6.67, 5.14, 6.477, 3.9560000000000004, 7.226, 5.7589999999999995, 5.689, 6.505, 7.527, 4.369, 4.885, 5.975, 4.194, 6.13, 5.428999999999999, 4.512, 7.406000000000001, 6.575, 3.8960000000000004, 4.297, 6.75, 4.633, 4.857, 6.122999999999999, 3.656, 4.518, 4.788, 5.474, 4.8, 7.561, 4.565, 5.399, 4.677, 6.94, 7.278, 5.9479999999999995, 5.709, 5.987, 5.192, 5.855, 4.419, 6.295, 5.2860000000000005, 5.098, 4.8389999999999995, 4.898, 4.571000000000001, 5.754, 5.832999999999999, 6.946000000000001, 3.681, 4.292, 5.77, 3.995, 6.3020000000000005, 4.436, 5.477, 7.187, 4.874, 5.192, 5.013, 4.971, 4.3069999999999995, 4.513999999999999, 7.377999999999999, 7.2860000000000005, 5.827999999999999, 3.845, 5.268, 7.522, 6.853, 5.194, 6.7860000000000005, 5.877999999999999, 5.824, 5.073, 5.791, 5.102, 6.611000000000001, 5.124, 3.465, 6.4110000000000005, 3.904, 5.122999999999999, 4.507, 6.797999999999999, 5.995, 5.848, 4.6419999999999995, 6.329, 4.271, 4.55, 6.269, 4.867, 7.364, 7.587000000000001, 6.297999999999999, 4.7860000000000005, 6.455, 2.839, 6.167999999999999, 4.739, 5.332000000000001, 5.547999999999999, 3.931, 4.681, 6.901, 6.485, 6.002999999999999, 4.077, 5.129, 4.61]}],\n",
              "                        {\"legend\": {\"tracegroupgap\": 0}, \"margin\": {\"t\": 60}, \"scene\": {\"domain\": {\"x\": [0.0, 1.0], \"y\": [0.0, 1.0]}, \"xaxis\": {\"title\": {\"text\": \"Literacy Rate(%)\"}}, \"yaxis\": {\"title\": {\"text\": \"Unemployement(%)\"}}, \"zaxis\": {\"title\": {\"text\": \"Happiness Score\"}}}, \"template\": {\"data\": {\"bar\": [{\"error_x\": {\"color\": \"#2a3f5f\"}, \"error_y\": {\"color\": \"#2a3f5f\"}, \"marker\": {\"line\": {\"color\": \"#E5ECF6\", \"width\": 0.5}}, \"type\": \"bar\"}], \"barpolar\": [{\"marker\": {\"line\": {\"color\": \"#E5ECF6\", \"width\": 0.5}}, \"type\": \"barpolar\"}], \"carpet\": [{\"aaxis\": {\"endlinecolor\": \"#2a3f5f\", \"gridcolor\": \"white\", \"linecolor\": \"white\", \"minorgridcolor\": \"white\", \"startlinecolor\": \"#2a3f5f\"}, \"baxis\": {\"endlinecolor\": \"#2a3f5f\", \"gridcolor\": \"white\", \"linecolor\": \"white\", \"minorgridcolor\": \"white\", \"startlinecolor\": \"#2a3f5f\"}, \"type\": \"carpet\"}], \"choropleth\": [{\"colorbar\": {\"outlinewidth\": 0, \"ticks\": \"\"}, \"type\": \"choropleth\"}], \"contour\": [{\"colorbar\": {\"outlinewidth\": 0, \"ticks\": \"\"}, \"colorscale\": [[0.0, \"#0d0887\"], [0.1111111111111111, \"#46039f\"], [0.2222222222222222, \"#7201a8\"], [0.3333333333333333, \"#9c179e\"], [0.4444444444444444, \"#bd3786\"], [0.5555555555555556, \"#d8576b\"], [0.6666666666666666, \"#ed7953\"], [0.7777777777777778, \"#fb9f3a\"], [0.8888888888888888, \"#fdca26\"], [1.0, \"#f0f921\"]], \"type\": \"contour\"}], \"contourcarpet\": [{\"colorbar\": {\"outlinewidth\": 0, \"ticks\": \"\"}, \"type\": \"contourcarpet\"}], \"heatmap\": [{\"colorbar\": {\"outlinewidth\": 0, \"ticks\": \"\"}, \"colorscale\": [[0.0, \"#0d0887\"], [0.1111111111111111, \"#46039f\"], [0.2222222222222222, \"#7201a8\"], [0.3333333333333333, \"#9c179e\"], [0.4444444444444444, \"#bd3786\"], [0.5555555555555556, \"#d8576b\"], [0.6666666666666666, \"#ed7953\"], [0.7777777777777778, \"#fb9f3a\"], [0.8888888888888888, \"#fdca26\"], [1.0, \"#f0f921\"]], \"type\": \"heatmap\"}], \"heatmapgl\": [{\"colorbar\": {\"outlinewidth\": 0, \"ticks\": \"\"}, \"colorscale\": [[0.0, \"#0d0887\"], [0.1111111111111111, \"#46039f\"], [0.2222222222222222, \"#7201a8\"], [0.3333333333333333, \"#9c179e\"], [0.4444444444444444, \"#bd3786\"], [0.5555555555555556, \"#d8576b\"], [0.6666666666666666, \"#ed7953\"], [0.7777777777777778, \"#fb9f3a\"], [0.8888888888888888, \"#fdca26\"], [1.0, \"#f0f921\"]], \"type\": \"heatmapgl\"}], \"histogram\": [{\"marker\": {\"colorbar\": {\"outlinewidth\": 0, \"ticks\": \"\"}}, \"type\": \"histogram\"}], \"histogram2d\": [{\"colorbar\": {\"outlinewidth\": 0, \"ticks\": \"\"}, \"colorscale\": [[0.0, \"#0d0887\"], [0.1111111111111111, \"#46039f\"], [0.2222222222222222, \"#7201a8\"], [0.3333333333333333, \"#9c179e\"], [0.4444444444444444, \"#bd3786\"], [0.5555555555555556, \"#d8576b\"], [0.6666666666666666, \"#ed7953\"], [0.7777777777777778, \"#fb9f3a\"], [0.8888888888888888, \"#fdca26\"], [1.0, \"#f0f921\"]], \"type\": \"histogram2d\"}], \"histogram2dcontour\": [{\"colorbar\": {\"outlinewidth\": 0, \"ticks\": \"\"}, \"colorscale\": [[0.0, \"#0d0887\"], [0.1111111111111111, \"#46039f\"], [0.2222222222222222, \"#7201a8\"], [0.3333333333333333, \"#9c179e\"], [0.4444444444444444, \"#bd3786\"], [0.5555555555555556, \"#d8576b\"], [0.6666666666666666, \"#ed7953\"], [0.7777777777777778, \"#fb9f3a\"], [0.8888888888888888, \"#fdca26\"], [1.0, \"#f0f921\"]], \"type\": \"histogram2dcontour\"}], \"mesh3d\": [{\"colorbar\": {\"outlinewidth\": 0, \"ticks\": \"\"}, \"type\": \"mesh3d\"}], \"parcoords\": [{\"line\": {\"colorbar\": {\"outlinewidth\": 0, \"ticks\": \"\"}}, \"type\": \"parcoords\"}], \"pie\": [{\"automargin\": true, \"type\": \"pie\"}], \"scatter\": [{\"marker\": {\"colorbar\": {\"outlinewidth\": 0, \"ticks\": \"\"}}, \"type\": \"scatter\"}], \"scatter3d\": [{\"line\": {\"colorbar\": {\"outlinewidth\": 0, \"ticks\": \"\"}}, \"marker\": {\"colorbar\": {\"outlinewidth\": 0, \"ticks\": \"\"}}, \"type\": \"scatter3d\"}], \"scattercarpet\": [{\"marker\": {\"colorbar\": {\"outlinewidth\": 0, \"ticks\": \"\"}}, \"type\": \"scattercarpet\"}], \"scattergeo\": [{\"marker\": {\"colorbar\": {\"outlinewidth\": 0, \"ticks\": \"\"}}, \"type\": \"scattergeo\"}], \"scattergl\": [{\"marker\": {\"colorbar\": {\"outlinewidth\": 0, \"ticks\": \"\"}}, \"type\": \"scattergl\"}], \"scattermapbox\": [{\"marker\": {\"colorbar\": {\"outlinewidth\": 0, \"ticks\": \"\"}}, \"type\": \"scattermapbox\"}], \"scatterpolar\": [{\"marker\": {\"colorbar\": {\"outlinewidth\": 0, \"ticks\": \"\"}}, \"type\": \"scatterpolar\"}], \"scatterpolargl\": [{\"marker\": {\"colorbar\": {\"outlinewidth\": 0, \"ticks\": \"\"}}, \"type\": \"scatterpolargl\"}], \"scatterternary\": [{\"marker\": {\"colorbar\": {\"outlinewidth\": 0, \"ticks\": \"\"}}, \"type\": \"scatterternary\"}], \"surface\": [{\"colorbar\": {\"outlinewidth\": 0, \"ticks\": \"\"}, \"colorscale\": [[0.0, \"#0d0887\"], [0.1111111111111111, \"#46039f\"], [0.2222222222222222, \"#7201a8\"], [0.3333333333333333, \"#9c179e\"], [0.4444444444444444, \"#bd3786\"], [0.5555555555555556, \"#d8576b\"], [0.6666666666666666, \"#ed7953\"], [0.7777777777777778, \"#fb9f3a\"], [0.8888888888888888, \"#fdca26\"], [1.0, \"#f0f921\"]], \"type\": \"surface\"}], \"table\": [{\"cells\": {\"fill\": {\"color\": \"#EBF0F8\"}, \"line\": {\"color\": \"white\"}}, \"header\": {\"fill\": {\"color\": \"#C8D4E3\"}, \"line\": {\"color\": \"white\"}}, \"type\": \"table\"}]}, \"layout\": {\"annotationdefaults\": {\"arrowcolor\": \"#2a3f5f\", \"arrowhead\": 0, \"arrowwidth\": 1}, \"coloraxis\": {\"colorbar\": {\"outlinewidth\": 0, \"ticks\": \"\"}}, \"colorscale\": {\"diverging\": [[0, \"#8e0152\"], [0.1, \"#c51b7d\"], [0.2, \"#de77ae\"], [0.3, \"#f1b6da\"], [0.4, \"#fde0ef\"], [0.5, \"#f7f7f7\"], [0.6, \"#e6f5d0\"], [0.7, \"#b8e186\"], [0.8, \"#7fbc41\"], [0.9, \"#4d9221\"], [1, \"#276419\"]], \"sequential\": [[0.0, \"#0d0887\"], [0.1111111111111111, \"#46039f\"], [0.2222222222222222, \"#7201a8\"], [0.3333333333333333, \"#9c179e\"], [0.4444444444444444, \"#bd3786\"], [0.5555555555555556, \"#d8576b\"], [0.6666666666666666, \"#ed7953\"], [0.7777777777777778, \"#fb9f3a\"], [0.8888888888888888, \"#fdca26\"], [1.0, \"#f0f921\"]], \"sequentialminus\": [[0.0, \"#0d0887\"], [0.1111111111111111, \"#46039f\"], [0.2222222222222222, \"#7201a8\"], [0.3333333333333333, \"#9c179e\"], [0.4444444444444444, \"#bd3786\"], [0.5555555555555556, \"#d8576b\"], [0.6666666666666666, \"#ed7953\"], [0.7777777777777778, \"#fb9f3a\"], [0.8888888888888888, \"#fdca26\"], [1.0, \"#f0f921\"]]}, \"colorway\": [\"#636efa\", \"#EF553B\", \"#00cc96\", \"#ab63fa\", \"#FFA15A\", \"#19d3f3\", \"#FF6692\", \"#B6E880\", \"#FF97FF\", \"#FECB52\"], \"font\": {\"color\": \"#2a3f5f\"}, \"geo\": {\"bgcolor\": \"white\", \"lakecolor\": \"white\", \"landcolor\": \"#E5ECF6\", \"showlakes\": true, \"showland\": true, \"subunitcolor\": \"white\"}, \"hoverlabel\": {\"align\": \"left\"}, \"hovermode\": \"closest\", \"mapbox\": {\"style\": \"light\"}, \"paper_bgcolor\": \"white\", \"plot_bgcolor\": \"#E5ECF6\", \"polar\": {\"angularaxis\": {\"gridcolor\": \"white\", \"linecolor\": \"white\", \"ticks\": \"\"}, \"bgcolor\": \"#E5ECF6\", \"radialaxis\": {\"gridcolor\": \"white\", \"linecolor\": \"white\", \"ticks\": \"\"}}, \"scene\": {\"xaxis\": {\"backgroundcolor\": \"#E5ECF6\", \"gridcolor\": \"white\", \"gridwidth\": 2, \"linecolor\": \"white\", \"showbackground\": true, \"ticks\": \"\", \"zerolinecolor\": \"white\"}, \"yaxis\": {\"backgroundcolor\": \"#E5ECF6\", \"gridcolor\": \"white\", \"gridwidth\": 2, \"linecolor\": \"white\", \"showbackground\": true, \"ticks\": \"\", \"zerolinecolor\": \"white\"}, \"zaxis\": {\"backgroundcolor\": \"#E5ECF6\", \"gridcolor\": \"white\", \"gridwidth\": 2, \"linecolor\": \"white\", \"showbackground\": true, \"ticks\": \"\", \"zerolinecolor\": \"white\"}}, \"shapedefaults\": {\"line\": {\"color\": \"#2a3f5f\"}}, \"ternary\": {\"aaxis\": {\"gridcolor\": \"white\", \"linecolor\": \"white\", \"ticks\": \"\"}, \"baxis\": {\"gridcolor\": \"white\", \"linecolor\": \"white\", \"ticks\": \"\"}, \"bgcolor\": \"#E5ECF6\", \"caxis\": {\"gridcolor\": \"white\", \"linecolor\": \"white\", \"ticks\": \"\"}}, \"title\": {\"x\": 0.05}, \"xaxis\": {\"automargin\": true, \"gridcolor\": \"white\", \"linecolor\": \"white\", \"ticks\": \"\", \"title\": {\"standoff\": 15}, \"zerolinecolor\": \"white\", \"zerolinewidth\": 2}, \"yaxis\": {\"automargin\": true, \"gridcolor\": \"white\", \"linecolor\": \"white\", \"ticks\": \"\", \"title\": {\"standoff\": 15}, \"zerolinecolor\": \"white\", \"zerolinewidth\": 2}}}},\n",
              "                        {\"responsive\": true}\n",
              "                    ).then(function(){\n",
              "                            \n",
              "var gd = document.getElementById('6a974e9f-1e55-42b3-a74b-9ea2261bb4bb');\n",
              "var x = new MutationObserver(function (mutations, observer) {{\n",
              "        var display = window.getComputedStyle(gd).display;\n",
              "        if (!display || display === 'none') {{\n",
              "            console.log([gd, 'removed!']);\n",
              "            Plotly.purge(gd);\n",
              "            observer.disconnect();\n",
              "        }}\n",
              "}});\n",
              "\n",
              "// Listen for the removal of the full notebook cells\n",
              "var notebookContainer = gd.closest('#notebook-container');\n",
              "if (notebookContainer) {{\n",
              "    x.observe(notebookContainer, {childList: true});\n",
              "}}\n",
              "\n",
              "// Listen for the clearing of the current output cell\n",
              "var outputEl = gd.closest('.output');\n",
              "if (outputEl) {{\n",
              "    x.observe(outputEl, {childList: true});\n",
              "}}\n",
              "\n",
              "                        })\n",
              "                };\n",
              "                \n",
              "            </script>\n",
              "        </div>\n",
              "</body>\n",
              "</html>"
            ]
          },
          "metadata": {
            "tags": []
          }
        }
      ]
    },
    {
      "cell_type": "code",
      "metadata": {
        "colab": {
          "base_uri": "https://localhost:8080/",
          "height": 542
        },
        "id": "6IMGRzLCTRxM",
        "outputId": "47a29dae-f21d-4104-b441-ba1ca7abe57d"
      },
      "source": [
        "fig = px.scatter_3d(whr_250Country[whr_250Country['Year']==2016], x='Literacy Rate(%)', y='Unemployement(%)', z='Happiness Score',\n",
        "              size_max=1,opacity=0.7)\n",
        "fig.show()"
      ],
      "execution_count": 69,
      "outputs": [
        {
          "output_type": "display_data",
          "data": {
            "text/html": [
              "<html>\n",
              "<head><meta charset=\"utf-8\" /></head>\n",
              "<body>\n",
              "    <div>\n",
              "            <script src=\"https://cdnjs.cloudflare.com/ajax/libs/mathjax/2.7.5/MathJax.js?config=TeX-AMS-MML_SVG\"></script><script type=\"text/javascript\">if (window.MathJax) {MathJax.Hub.Config({SVG: {font: \"STIX-Web\"}});}</script>\n",
              "                <script type=\"text/javascript\">window.PlotlyConfig = {MathJaxConfig: 'local'};</script>\n",
              "        <script src=\"https://cdn.plot.ly/plotly-latest.min.js\"></script>    \n",
              "            <div id=\"985d0a81-47df-45ea-b43d-2000d46a2cc7\" class=\"plotly-graph-div\" style=\"height:525px; width:100%;\"></div>\n",
              "            <script type=\"text/javascript\">\n",
              "                \n",
              "                    window.PLOTLYENV=window.PLOTLYENV || {};\n",
              "                    \n",
              "                if (document.getElementById(\"985d0a81-47df-45ea-b43d-2000d46a2cc7\")) {\n",
              "                    Plotly.newPlot(\n",
              "                        '985d0a81-47df-45ea-b43d-2000d46a2cc7',\n",
              "                        [{\"hoverlabel\": {\"namelength\": 0}, \"hovertemplate\": \"Literacy Rate(%)=%{x}<br>Unemployement(%)=%{y}<br>Happiness Score=%{z}\", \"legendgroup\": \"\", \"marker\": {\"color\": \"#636efa\", \"opacity\": 0.7, \"symbol\": \"circle\"}, \"mode\": \"markers\", \"name\": \"\", \"scene\": \"scene\", \"showlegend\": false, \"type\": \"scatter3d\", \"x\": [28.1, 98.7, 79.0, 70.4, 97.9, 99.4, 99.0, 98.0, 99.8, 84.49265895953761, 57.7, 99.6, 99.0, 76.9, 42.4, 52.8, 84.49265895953761, 85.1, 88.6, 98.4, 28.7, 67.2, 73.6, 75.9, 84.49265895953761, 35.4, 97.5, 84.49265895953761, 94.2, 75.5, 96.3, 98.9, 98.7, 99.0, 99.0, 90.1, 91.6, 73.9, 84.5, 84.49265895953761, 39.0, 100.0, 99.0, 82.3, 99.7, 99.0, 71.5, 97.3, 71.0, 41.0, 48.7, 85.1, 84.49265895953761, 99.1, 99.0, 62.8, 92.8, 78.5, 99.0, 97.0, 99.0, 87.0, 99.0, 92.6, 99.7, 87.4, 93.3, 99.2, 84.49265895953761, 89.6, 60.8, 89.5, 84.49265895953761, 100.0, 64.5, 74.8, 93.1, 33.4, 92.4, 58.6, 88.8, 93.5, 97.4, 98.5, 68.5, 92.7, 88.8, 57.4, 99.0, 99.0, 78.0, 19.1, 61.3, 100.0, 54.9, 94.1, 93.9, 94.2, 95.4, 99.7, 95.4, 94.1, 96.3, 84.49265895953761, 71.1, 87.2, 49.7, 98.0, 43.3, 95.9, 99.6, 99.7, 37.8, 93.0, 27.0, 97.7, 91.2, 71.9, 94.7, 99.0, 99.0, 96.1, 99.7, 93.5, 60.4, 98.8, 79.1, 94.1, 99.6, 73.2, 99.7, 90.0, 98.1, 99.4, 65.3, 61.4, 84.49265895953761], \"y\": [35.0, 16.9, 10.3, 14.770671140939596, 7.5, 14.770671140939596, 5.7, 4.9, 6.0, 14.770671140939596, 5.0, 1.0, 8.8, 15.5, 14.770671140939596, 2.1, 14.770671140939596, 17.8, 6.0, 11.6, 77.0, 14.770671140939596, 0.0, 30.0, 14.770671140939596, 14.770671140939596, 14.770671140939596, 14.770671140939596, 14.770671140939596, 14.770671140939596, 7.9, 21.6, 17.4, 7.1, 6.0, 15.0, 4.2, 13.4, 6.3, 10.9, 17.5, 8.6, 9.7, 21.0, 14.9, 6.0, 11.0, 27.9, 4.1, 14.770671140939596, 40.6, 4.5, 14.770671140939596, 14.770671140939596, 4.5, 8.8, 6.6, 16.0, 13.5, 1.7, 12.4, 14.770671140939596, 4.1, 12.3, 5.3, 40.0, 2.2, 8.6, 9.8, 9.2, 85.0, 30.0, 12.4, 14.770671140939596, 14.770671140939596, 14.770671140939596, 3.1, 30.0, 6.4, 30.0, 8.3, 4.9, 9.0, 19.1, 9.9, 5.2, 51.2, 46.0, 8.3, 6.43, 7.2, 14.770671140939596, 23.9, 3.6, 6.6, 4.5, 6.6, 14.770671140939596, 7.4, 10.3, 14.770671140939596, 12.0, 0.3, 14.770671140939596, 14.770671140939596, 10.5, 48.0, 20.1, 14.770671140939596, 1.9, 14.4, 13.1, 14.770671140939596, 14.770671140939596, 14.770671140939596, 26.3, 5.1, 20.0, 9.0, 8.1, 3.2, 4.1, 2.5, 0.7, 14.770671140939596, 5.9, 17.2, 9.3, 60.0, 14.770671140939596, 8.0, 2.4, 6.5, 4.9, 35.0, 15.0, 14.770671140939596], \"z\": [3.36, 4.655, 6.355, 3.866, 6.65, 4.36, 7.313, 7.119, 5.291, 6.218, 4.643, 5.8020000000000005, 6.928999999999999, 5.956, 3.484, 5.196000000000001, 5.162999999999999, 3.9739999999999998, 6.952000000000001, 4.217, 3.739, 2.905, 3.907, 4.513, 7.404, 3.763, 6.705, 5.245, 6.481, 3.9560000000000004, 7.087000000000001, 5.4879999999999995, 5.546, 6.596, 7.526, 5.155, 5.976, 4.362, 6.068, 5.517, 4.508, 7.412999999999999, 6.478, 4.121, 4.252, 6.994, 4.276, 5.033, 6.324, 3.6069999999999998, 4.0280000000000005, 4.871, 5.457999999999999, 5.145, 7.501, 4.404, 5.314, 4.575, 6.907, 7.267, 5.977, 5.51, 5.921, 5.303, 5.919, 4.356, 6.239, 5.185, 5.56, 5.129, 3.622, 5.615, 5.813, 6.871, 3.695, 4.156000000000001, 6.005, 4.073, 6.4879999999999995, 4.2010000000000005, 5.648, 6.778, 4.907, 5.1610000000000005, 5.151, 4.395, 4.574, 4.793, 7.3389999999999995, 7.334, 5.992000000000001, 3.8560000000000003, 4.875, 7.497999999999999, 5.132000000000001, 6.7010000000000005, 5.537999999999999, 5.742999999999999, 5.279, 5.835, 5.122999999999999, 7.039, 6.375, 5.528, 3.515, 6.379, 4.218999999999999, 5.1770000000000005, 4.635, 6.739, 6.077999999999999, 5.768, 5.44, 4.459, 3.832, 6.361000000000001, 4.415, 4.138999999999999, 6.269, 7.291, 7.5089999999999995, 6.379, 4.996, 6.474, 3.303, 6.167999999999999, 5.045, 5.388999999999999, 5.6579999999999995, 3.739, 4.324, 6.5729999999999995, 6.545, 5.987, 3.7239999999999998, 4.795, 4.1930000000000005]}],\n",
              "                        {\"legend\": {\"tracegroupgap\": 0}, \"margin\": {\"t\": 60}, \"scene\": {\"domain\": {\"x\": [0.0, 1.0], \"y\": [0.0, 1.0]}, \"xaxis\": {\"title\": {\"text\": \"Literacy Rate(%)\"}}, \"yaxis\": {\"title\": {\"text\": \"Unemployement(%)\"}}, \"zaxis\": {\"title\": {\"text\": \"Happiness Score\"}}}, \"template\": {\"data\": {\"bar\": [{\"error_x\": {\"color\": \"#2a3f5f\"}, \"error_y\": {\"color\": \"#2a3f5f\"}, \"marker\": {\"line\": {\"color\": \"#E5ECF6\", \"width\": 0.5}}, \"type\": \"bar\"}], \"barpolar\": [{\"marker\": {\"line\": {\"color\": \"#E5ECF6\", \"width\": 0.5}}, \"type\": \"barpolar\"}], \"carpet\": [{\"aaxis\": {\"endlinecolor\": \"#2a3f5f\", \"gridcolor\": \"white\", \"linecolor\": \"white\", \"minorgridcolor\": \"white\", \"startlinecolor\": \"#2a3f5f\"}, \"baxis\": {\"endlinecolor\": \"#2a3f5f\", \"gridcolor\": \"white\", \"linecolor\": \"white\", \"minorgridcolor\": \"white\", \"startlinecolor\": \"#2a3f5f\"}, \"type\": \"carpet\"}], \"choropleth\": [{\"colorbar\": {\"outlinewidth\": 0, \"ticks\": \"\"}, \"type\": \"choropleth\"}], \"contour\": [{\"colorbar\": {\"outlinewidth\": 0, \"ticks\": \"\"}, \"colorscale\": [[0.0, \"#0d0887\"], [0.1111111111111111, \"#46039f\"], [0.2222222222222222, \"#7201a8\"], [0.3333333333333333, \"#9c179e\"], [0.4444444444444444, \"#bd3786\"], [0.5555555555555556, \"#d8576b\"], [0.6666666666666666, \"#ed7953\"], [0.7777777777777778, \"#fb9f3a\"], [0.8888888888888888, \"#fdca26\"], [1.0, \"#f0f921\"]], \"type\": \"contour\"}], \"contourcarpet\": [{\"colorbar\": {\"outlinewidth\": 0, \"ticks\": \"\"}, \"type\": \"contourcarpet\"}], \"heatmap\": [{\"colorbar\": {\"outlinewidth\": 0, \"ticks\": \"\"}, \"colorscale\": [[0.0, \"#0d0887\"], [0.1111111111111111, \"#46039f\"], [0.2222222222222222, \"#7201a8\"], [0.3333333333333333, \"#9c179e\"], [0.4444444444444444, \"#bd3786\"], [0.5555555555555556, \"#d8576b\"], [0.6666666666666666, \"#ed7953\"], [0.7777777777777778, \"#fb9f3a\"], [0.8888888888888888, \"#fdca26\"], [1.0, \"#f0f921\"]], \"type\": \"heatmap\"}], \"heatmapgl\": [{\"colorbar\": {\"outlinewidth\": 0, \"ticks\": \"\"}, \"colorscale\": [[0.0, \"#0d0887\"], [0.1111111111111111, \"#46039f\"], [0.2222222222222222, \"#7201a8\"], [0.3333333333333333, \"#9c179e\"], [0.4444444444444444, \"#bd3786\"], [0.5555555555555556, \"#d8576b\"], [0.6666666666666666, \"#ed7953\"], [0.7777777777777778, \"#fb9f3a\"], [0.8888888888888888, \"#fdca26\"], [1.0, \"#f0f921\"]], \"type\": \"heatmapgl\"}], \"histogram\": [{\"marker\": {\"colorbar\": {\"outlinewidth\": 0, \"ticks\": \"\"}}, \"type\": \"histogram\"}], \"histogram2d\": [{\"colorbar\": {\"outlinewidth\": 0, \"ticks\": \"\"}, \"colorscale\": [[0.0, \"#0d0887\"], [0.1111111111111111, \"#46039f\"], [0.2222222222222222, \"#7201a8\"], [0.3333333333333333, \"#9c179e\"], [0.4444444444444444, \"#bd3786\"], [0.5555555555555556, \"#d8576b\"], [0.6666666666666666, \"#ed7953\"], [0.7777777777777778, \"#fb9f3a\"], [0.8888888888888888, \"#fdca26\"], [1.0, \"#f0f921\"]], \"type\": \"histogram2d\"}], \"histogram2dcontour\": [{\"colorbar\": {\"outlinewidth\": 0, \"ticks\": \"\"}, \"colorscale\": [[0.0, \"#0d0887\"], [0.1111111111111111, \"#46039f\"], [0.2222222222222222, \"#7201a8\"], [0.3333333333333333, \"#9c179e\"], [0.4444444444444444, \"#bd3786\"], [0.5555555555555556, \"#d8576b\"], [0.6666666666666666, \"#ed7953\"], [0.7777777777777778, \"#fb9f3a\"], [0.8888888888888888, \"#fdca26\"], [1.0, \"#f0f921\"]], \"type\": \"histogram2dcontour\"}], \"mesh3d\": [{\"colorbar\": {\"outlinewidth\": 0, \"ticks\": \"\"}, \"type\": \"mesh3d\"}], \"parcoords\": [{\"line\": {\"colorbar\": {\"outlinewidth\": 0, \"ticks\": \"\"}}, \"type\": \"parcoords\"}], \"pie\": [{\"automargin\": true, \"type\": \"pie\"}], \"scatter\": [{\"marker\": {\"colorbar\": {\"outlinewidth\": 0, \"ticks\": \"\"}}, \"type\": \"scatter\"}], \"scatter3d\": [{\"line\": {\"colorbar\": {\"outlinewidth\": 0, \"ticks\": \"\"}}, \"marker\": {\"colorbar\": {\"outlinewidth\": 0, \"ticks\": \"\"}}, \"type\": \"scatter3d\"}], \"scattercarpet\": [{\"marker\": {\"colorbar\": {\"outlinewidth\": 0, \"ticks\": \"\"}}, \"type\": \"scattercarpet\"}], \"scattergeo\": [{\"marker\": {\"colorbar\": {\"outlinewidth\": 0, \"ticks\": \"\"}}, \"type\": \"scattergeo\"}], \"scattergl\": [{\"marker\": {\"colorbar\": {\"outlinewidth\": 0, \"ticks\": \"\"}}, \"type\": \"scattergl\"}], \"scattermapbox\": [{\"marker\": {\"colorbar\": {\"outlinewidth\": 0, \"ticks\": \"\"}}, \"type\": \"scattermapbox\"}], \"scatterpolar\": [{\"marker\": {\"colorbar\": {\"outlinewidth\": 0, \"ticks\": \"\"}}, \"type\": \"scatterpolar\"}], \"scatterpolargl\": [{\"marker\": {\"colorbar\": {\"outlinewidth\": 0, \"ticks\": \"\"}}, \"type\": \"scatterpolargl\"}], \"scatterternary\": [{\"marker\": {\"colorbar\": {\"outlinewidth\": 0, \"ticks\": \"\"}}, \"type\": \"scatterternary\"}], \"surface\": [{\"colorbar\": {\"outlinewidth\": 0, \"ticks\": \"\"}, \"colorscale\": [[0.0, \"#0d0887\"], [0.1111111111111111, \"#46039f\"], [0.2222222222222222, \"#7201a8\"], [0.3333333333333333, \"#9c179e\"], [0.4444444444444444, \"#bd3786\"], [0.5555555555555556, \"#d8576b\"], [0.6666666666666666, \"#ed7953\"], [0.7777777777777778, \"#fb9f3a\"], [0.8888888888888888, \"#fdca26\"], [1.0, \"#f0f921\"]], \"type\": \"surface\"}], \"table\": [{\"cells\": {\"fill\": {\"color\": \"#EBF0F8\"}, \"line\": {\"color\": \"white\"}}, \"header\": {\"fill\": {\"color\": \"#C8D4E3\"}, \"line\": {\"color\": \"white\"}}, \"type\": \"table\"}]}, \"layout\": {\"annotationdefaults\": {\"arrowcolor\": \"#2a3f5f\", \"arrowhead\": 0, \"arrowwidth\": 1}, \"coloraxis\": {\"colorbar\": {\"outlinewidth\": 0, \"ticks\": \"\"}}, \"colorscale\": {\"diverging\": [[0, \"#8e0152\"], [0.1, \"#c51b7d\"], [0.2, \"#de77ae\"], [0.3, \"#f1b6da\"], [0.4, \"#fde0ef\"], [0.5, \"#f7f7f7\"], [0.6, \"#e6f5d0\"], [0.7, \"#b8e186\"], [0.8, \"#7fbc41\"], [0.9, \"#4d9221\"], [1, \"#276419\"]], \"sequential\": [[0.0, \"#0d0887\"], [0.1111111111111111, \"#46039f\"], [0.2222222222222222, \"#7201a8\"], [0.3333333333333333, \"#9c179e\"], [0.4444444444444444, \"#bd3786\"], [0.5555555555555556, \"#d8576b\"], [0.6666666666666666, \"#ed7953\"], [0.7777777777777778, \"#fb9f3a\"], [0.8888888888888888, \"#fdca26\"], [1.0, \"#f0f921\"]], \"sequentialminus\": [[0.0, \"#0d0887\"], [0.1111111111111111, \"#46039f\"], [0.2222222222222222, \"#7201a8\"], [0.3333333333333333, \"#9c179e\"], [0.4444444444444444, \"#bd3786\"], [0.5555555555555556, \"#d8576b\"], [0.6666666666666666, \"#ed7953\"], [0.7777777777777778, \"#fb9f3a\"], [0.8888888888888888, \"#fdca26\"], [1.0, \"#f0f921\"]]}, \"colorway\": [\"#636efa\", \"#EF553B\", \"#00cc96\", \"#ab63fa\", \"#FFA15A\", \"#19d3f3\", \"#FF6692\", \"#B6E880\", \"#FF97FF\", \"#FECB52\"], \"font\": {\"color\": \"#2a3f5f\"}, \"geo\": {\"bgcolor\": \"white\", \"lakecolor\": \"white\", \"landcolor\": \"#E5ECF6\", \"showlakes\": true, \"showland\": true, \"subunitcolor\": \"white\"}, \"hoverlabel\": {\"align\": \"left\"}, \"hovermode\": \"closest\", \"mapbox\": {\"style\": \"light\"}, \"paper_bgcolor\": \"white\", \"plot_bgcolor\": \"#E5ECF6\", \"polar\": {\"angularaxis\": {\"gridcolor\": \"white\", \"linecolor\": \"white\", \"ticks\": \"\"}, \"bgcolor\": \"#E5ECF6\", \"radialaxis\": {\"gridcolor\": \"white\", \"linecolor\": \"white\", \"ticks\": \"\"}}, \"scene\": {\"xaxis\": {\"backgroundcolor\": \"#E5ECF6\", \"gridcolor\": \"white\", \"gridwidth\": 2, \"linecolor\": \"white\", \"showbackground\": true, \"ticks\": \"\", \"zerolinecolor\": \"white\"}, \"yaxis\": {\"backgroundcolor\": \"#E5ECF6\", \"gridcolor\": \"white\", \"gridwidth\": 2, \"linecolor\": \"white\", \"showbackground\": true, \"ticks\": \"\", \"zerolinecolor\": \"white\"}, \"zaxis\": {\"backgroundcolor\": \"#E5ECF6\", \"gridcolor\": \"white\", \"gridwidth\": 2, \"linecolor\": \"white\", \"showbackground\": true, \"ticks\": \"\", \"zerolinecolor\": \"white\"}}, \"shapedefaults\": {\"line\": {\"color\": \"#2a3f5f\"}}, \"ternary\": {\"aaxis\": {\"gridcolor\": \"white\", \"linecolor\": \"white\", \"ticks\": \"\"}, \"baxis\": {\"gridcolor\": \"white\", \"linecolor\": \"white\", \"ticks\": \"\"}, \"bgcolor\": \"#E5ECF6\", \"caxis\": {\"gridcolor\": \"white\", \"linecolor\": \"white\", \"ticks\": \"\"}}, \"title\": {\"x\": 0.05}, \"xaxis\": {\"automargin\": true, \"gridcolor\": \"white\", \"linecolor\": \"white\", \"ticks\": \"\", \"title\": {\"standoff\": 15}, \"zerolinecolor\": \"white\", \"zerolinewidth\": 2}, \"yaxis\": {\"automargin\": true, \"gridcolor\": \"white\", \"linecolor\": \"white\", \"ticks\": \"\", \"title\": {\"standoff\": 15}, \"zerolinecolor\": \"white\", \"zerolinewidth\": 2}}}},\n",
              "                        {\"responsive\": true}\n",
              "                    ).then(function(){\n",
              "                            \n",
              "var gd = document.getElementById('985d0a81-47df-45ea-b43d-2000d46a2cc7');\n",
              "var x = new MutationObserver(function (mutations, observer) {{\n",
              "        var display = window.getComputedStyle(gd).display;\n",
              "        if (!display || display === 'none') {{\n",
              "            console.log([gd, 'removed!']);\n",
              "            Plotly.purge(gd);\n",
              "            observer.disconnect();\n",
              "        }}\n",
              "}});\n",
              "\n",
              "// Listen for the removal of the full notebook cells\n",
              "var notebookContainer = gd.closest('#notebook-container');\n",
              "if (notebookContainer) {{\n",
              "    x.observe(notebookContainer, {childList: true});\n",
              "}}\n",
              "\n",
              "// Listen for the clearing of the current output cell\n",
              "var outputEl = gd.closest('.output');\n",
              "if (outputEl) {{\n",
              "    x.observe(outputEl, {childList: true});\n",
              "}}\n",
              "\n",
              "                        })\n",
              "                };\n",
              "                \n",
              "            </script>\n",
              "        </div>\n",
              "</body>\n",
              "</html>"
            ]
          },
          "metadata": {
            "tags": []
          }
        }
      ]
    },
    {
      "cell_type": "code",
      "metadata": {
        "colab": {
          "base_uri": "https://localhost:8080/",
          "height": 542
        },
        "id": "s09a-feQTwJv",
        "outputId": "60668606-13dc-4d0f-8907-fe4607a4549d"
      },
      "source": [
        "fig = px.scatter_3d(whr_250Country[whr_250Country['Year']==2017], x='Literacy Rate(%)', y='Unemployement(%)', z='Happiness Score',\n",
        "              size_max=1,opacity=0.7)\n",
        "fig.show()"
      ],
      "execution_count": 70,
      "outputs": [
        {
          "output_type": "display_data",
          "data": {
            "text/html": [
              "<html>\n",
              "<head><meta charset=\"utf-8\" /></head>\n",
              "<body>\n",
              "    <div>\n",
              "            <script src=\"https://cdnjs.cloudflare.com/ajax/libs/mathjax/2.7.5/MathJax.js?config=TeX-AMS-MML_SVG\"></script><script type=\"text/javascript\">if (window.MathJax) {MathJax.Hub.Config({SVG: {font: \"STIX-Web\"}});}</script>\n",
              "                <script type=\"text/javascript\">window.PlotlyConfig = {MathJaxConfig: 'local'};</script>\n",
              "        <script src=\"https://cdn.plot.ly/plotly-latest.min.js\"></script>    \n",
              "            <div id=\"149871e8-b843-4510-83ad-01f9d997818b\" class=\"plotly-graph-div\" style=\"height:525px; width:100%;\"></div>\n",
              "            <script type=\"text/javascript\">\n",
              "                \n",
              "                    window.PLOTLYENV=window.PLOTLYENV || {};\n",
              "                    \n",
              "                if (document.getElementById(\"149871e8-b843-4510-83ad-01f9d997818b\")) {\n",
              "                    Plotly.newPlot(\n",
              "                        '149871e8-b843-4510-83ad-01f9d997818b',\n",
              "                        [{\"hoverlabel\": {\"namelength\": 0}, \"hovertemplate\": \"Literacy Rate(%)=%{x}<br>Unemployement(%)=%{y}<br>Happiness Score=%{z}\", \"legendgroup\": \"\", \"marker\": {\"color\": \"#636efa\", \"opacity\": 0.7, \"symbol\": \"circle\"}, \"mode\": \"markers\", \"name\": \"\", \"scene\": \"scene\", \"showlegend\": false, \"type\": \"scatter3d\", \"x\": [28.1, 98.7, 79.0, 70.4, 97.9, 99.4, 99.0, 98.0, 99.8, 84.49265895953761, 57.7, 99.6, 99.0, 76.9, 42.4, 52.8, 84.49265895953761, 85.1, 88.6, 98.4, 28.7, 67.2, 73.6, 75.9, 84.49265895953761, 56.6, 35.4, 97.5, 84.49265895953761, 94.2, 96.3, 98.9, 98.7, 99.0, 99.0, 90.1, 91.6, 73.9, 84.5, 84.49265895953761, 39.0, 100.0, 99.0, 82.3, 99.7, 99.0, 71.5, 97.3, 71.0, 41.0, 48.7, 85.1, 84.49265895953761, 99.1, 99.0, 62.8, 92.8, 78.5, 99.0, 97.0, 99.0, 87.0, 99.0, 92.6, 99.7, 87.4, 93.3, 99.2, 84.49265895953761, 89.6, 89.6, 60.8, 89.5, 84.49265895953761, 100.0, 64.5, 74.8, 93.1, 33.4, 92.4, 58.6, 88.8, 93.5, 97.4, 98.5, 68.5, 56.1, 92.7, 88.8, 57.4, 99.0, 99.0, 78.0, 19.1, 61.3, 100.0, 54.9, 94.1, 93.9, 94.2, 95.4, 99.7, 95.4, 96.3, 84.49265895953761, 71.1, 87.2, 49.7, 98.0, 43.3, 95.9, 99.6, 99.7, 37.8, 93.0, 27.0, 97.7, 91.2, 71.9, 99.0, 99.0, 96.1, 99.7, 93.5, 60.4, 98.8, 79.1, 94.1, 99.6, 73.2, 99.7, 90.0, 98.1, 99.4, 65.3, 61.4, 84.49265895953761], \"y\": [35.0, 16.9, 10.3, 14.770671140939596, 7.5, 14.770671140939596, 5.7, 4.9, 6.0, 14.770671140939596, 5.0, 1.0, 8.8, 15.5, 14.770671140939596, 2.1, 14.770671140939596, 17.8, 6.0, 11.6, 77.0, 14.770671140939596, 0.0, 30.0, 14.770671140939596, 8.0, 14.770671140939596, 14.770671140939596, 14.770671140939596, 14.770671140939596, 7.9, 21.6, 17.4, 7.1, 6.0, 15.0, 4.2, 13.4, 6.3, 10.9, 17.5, 8.6, 9.7, 21.0, 14.9, 6.0, 11.0, 27.9, 4.1, 14.770671140939596, 40.6, 4.5, 14.770671140939596, 14.770671140939596, 4.5, 8.8, 6.6, 16.0, 13.5, 1.7, 12.4, 14.770671140939596, 4.1, 12.3, 5.3, 40.0, 2.2, 8.6, 9.8, 9.2, 25.0, 85.0, 30.0, 12.4, 14.770671140939596, 14.770671140939596, 14.770671140939596, 3.1, 30.0, 6.4, 30.0, 8.3, 4.9, 9.0, 19.1, 9.9, 17.0, 5.2, 51.2, 46.0, 8.3, 6.43, 7.2, 14.770671140939596, 23.9, 3.6, 6.6, 4.5, 6.6, 14.770671140939596, 7.4, 10.3, 14.770671140939596, 0.3, 14.770671140939596, 14.770671140939596, 10.5, 48.0, 20.1, 14.770671140939596, 1.9, 14.4, 13.1, 14.770671140939596, 14.770671140939596, 14.770671140939596, 26.3, 5.1, 20.0, 8.1, 3.2, 4.1, 2.5, 0.7, 14.770671140939596, 5.9, 17.2, 9.3, 60.0, 14.770671140939596, 8.0, 2.4, 6.5, 4.9, 35.0, 15.0, 14.770671140939596], \"z\": [3.7939999103546103, 4.64400005340576, 5.872000217437741, 3.79500007629395, 6.59899997711182, 4.37599992752075, 7.28399991989136, 7.00600004196167, 5.234000205993651, 6.08699989318848, 4.60799980163574, 5.5689997673034695, 6.89099979400635, 5.955999851226809, 3.65700006484985, 5.01100015640259, 5.18200016021729, 3.7660000324249303, 6.6350002288818395, 4.71400022506714, 4.03200006484985, 2.90499997138977, 4.1680002212524405, 4.69500017166138, 7.31599998474121, 2.69300007820129, 3.9360001087188703, 6.65199995040894, 5.2729997634887695, 6.35699987411499, 7.0789999961853, 5.2930002212524405, 5.62099981307983, 6.60900020599365, 7.52199983596802, 5.230000019073491, 6.00799989700317, 4.7350001335144, 6.002999782562259, 5.61100006103516, 4.46000003814697, 7.468999862670901, 6.44199991226196, 4.46500015258789, 4.28599977493286, 6.9510002136230495, 4.11999988555908, 5.2270002365112305, 6.4539999961853, 3.50699996948242, 3.6029999256133998, 5.1810002326965305, 5.47200012207031, 5.32399988174438, 7.50400018692017, 4.31500005722046, 5.26200008392334, 4.49700021743774, 6.9770002365112305, 7.212999820709231, 5.96400022506714, 5.31099987030029, 5.92000007629395, 5.33599996566772, 5.8189997673034695, 4.55299997329712, 6.10500001907349, 5.0040001869201705, 5.849999904632571, 5.22499990463257, 3.80800008773804, 3.5329999923706095, 5.525000095367429, 5.90199995040894, 6.86299991607666, 3.64400005340576, 3.97000002861023, 6.08400011062622, 4.19000005722046, 6.52699995040894, 4.29199981689453, 5.62900018692017, 6.57800006866455, 4.95499992370605, 5.23699998855591, 5.2350001335144, 4.550000190734861, 4.54500007629395, 4.57399988174438, 4.961999893188481, 7.3769998550415, 7.31400012969971, 6.07100009918213, 4.02799987792969, 5.07399988174438, 7.537000179290769, 5.26900005340576, 6.4520001411438, 5.493000030517581, 5.71500015258789, 5.42999982833862, 5.97300004959106, 5.19500017166138, 6.375, 5.824999809265139, 3.47099995613098, 6.343999862670901, 4.53499984741211, 5.39499998092651, 4.70900011062622, 6.57200002670288, 6.09800004959106, 5.75799989700317, 5.151000022888179, 4.8289999961853, 3.5910000801086404, 6.40299987792969, 4.44000005722046, 4.138999938964839, 7.28399991989136, 7.49399995803833, 6.42199993133545, 5.04099988937378, 6.4239997863769505, 3.4949998855590803, 6.1680002212524405, 4.80499982833862, 5.5, 5.82200002670288, 4.08099985122681, 4.09600019454956, 6.6479997634887695, 6.4539999961853, 5.97100019454956, 3.59299993515015, 4.513999938964839, 3.875]}],\n",
              "                        {\"legend\": {\"tracegroupgap\": 0}, \"margin\": {\"t\": 60}, \"scene\": {\"domain\": {\"x\": [0.0, 1.0], \"y\": [0.0, 1.0]}, \"xaxis\": {\"title\": {\"text\": \"Literacy Rate(%)\"}}, \"yaxis\": {\"title\": {\"text\": \"Unemployement(%)\"}}, \"zaxis\": {\"title\": {\"text\": \"Happiness Score\"}}}, \"template\": {\"data\": {\"bar\": [{\"error_x\": {\"color\": \"#2a3f5f\"}, \"error_y\": {\"color\": \"#2a3f5f\"}, \"marker\": {\"line\": {\"color\": \"#E5ECF6\", \"width\": 0.5}}, \"type\": \"bar\"}], \"barpolar\": [{\"marker\": {\"line\": {\"color\": \"#E5ECF6\", \"width\": 0.5}}, \"type\": \"barpolar\"}], \"carpet\": [{\"aaxis\": {\"endlinecolor\": \"#2a3f5f\", \"gridcolor\": \"white\", \"linecolor\": \"white\", \"minorgridcolor\": \"white\", \"startlinecolor\": \"#2a3f5f\"}, \"baxis\": {\"endlinecolor\": \"#2a3f5f\", \"gridcolor\": \"white\", \"linecolor\": \"white\", \"minorgridcolor\": \"white\", \"startlinecolor\": \"#2a3f5f\"}, \"type\": \"carpet\"}], \"choropleth\": [{\"colorbar\": {\"outlinewidth\": 0, \"ticks\": \"\"}, \"type\": \"choropleth\"}], \"contour\": [{\"colorbar\": {\"outlinewidth\": 0, \"ticks\": \"\"}, \"colorscale\": [[0.0, \"#0d0887\"], [0.1111111111111111, \"#46039f\"], [0.2222222222222222, \"#7201a8\"], [0.3333333333333333, \"#9c179e\"], [0.4444444444444444, \"#bd3786\"], [0.5555555555555556, \"#d8576b\"], [0.6666666666666666, \"#ed7953\"], [0.7777777777777778, \"#fb9f3a\"], [0.8888888888888888, \"#fdca26\"], [1.0, \"#f0f921\"]], \"type\": \"contour\"}], \"contourcarpet\": [{\"colorbar\": {\"outlinewidth\": 0, \"ticks\": \"\"}, \"type\": \"contourcarpet\"}], \"heatmap\": [{\"colorbar\": {\"outlinewidth\": 0, \"ticks\": \"\"}, \"colorscale\": [[0.0, \"#0d0887\"], [0.1111111111111111, \"#46039f\"], [0.2222222222222222, \"#7201a8\"], [0.3333333333333333, \"#9c179e\"], [0.4444444444444444, \"#bd3786\"], [0.5555555555555556, \"#d8576b\"], [0.6666666666666666, \"#ed7953\"], [0.7777777777777778, \"#fb9f3a\"], [0.8888888888888888, \"#fdca26\"], [1.0, \"#f0f921\"]], \"type\": \"heatmap\"}], \"heatmapgl\": [{\"colorbar\": {\"outlinewidth\": 0, \"ticks\": \"\"}, \"colorscale\": [[0.0, \"#0d0887\"], [0.1111111111111111, \"#46039f\"], [0.2222222222222222, \"#7201a8\"], [0.3333333333333333, \"#9c179e\"], [0.4444444444444444, \"#bd3786\"], [0.5555555555555556, \"#d8576b\"], [0.6666666666666666, \"#ed7953\"], [0.7777777777777778, \"#fb9f3a\"], [0.8888888888888888, \"#fdca26\"], [1.0, \"#f0f921\"]], \"type\": \"heatmapgl\"}], \"histogram\": [{\"marker\": {\"colorbar\": {\"outlinewidth\": 0, \"ticks\": \"\"}}, \"type\": \"histogram\"}], \"histogram2d\": [{\"colorbar\": {\"outlinewidth\": 0, \"ticks\": \"\"}, \"colorscale\": [[0.0, \"#0d0887\"], [0.1111111111111111, \"#46039f\"], [0.2222222222222222, \"#7201a8\"], [0.3333333333333333, \"#9c179e\"], [0.4444444444444444, \"#bd3786\"], [0.5555555555555556, \"#d8576b\"], [0.6666666666666666, \"#ed7953\"], [0.7777777777777778, \"#fb9f3a\"], [0.8888888888888888, \"#fdca26\"], [1.0, \"#f0f921\"]], \"type\": \"histogram2d\"}], \"histogram2dcontour\": [{\"colorbar\": {\"outlinewidth\": 0, \"ticks\": \"\"}, \"colorscale\": [[0.0, \"#0d0887\"], [0.1111111111111111, \"#46039f\"], [0.2222222222222222, \"#7201a8\"], [0.3333333333333333, \"#9c179e\"], [0.4444444444444444, \"#bd3786\"], [0.5555555555555556, \"#d8576b\"], [0.6666666666666666, \"#ed7953\"], [0.7777777777777778, \"#fb9f3a\"], [0.8888888888888888, \"#fdca26\"], [1.0, \"#f0f921\"]], \"type\": \"histogram2dcontour\"}], \"mesh3d\": [{\"colorbar\": {\"outlinewidth\": 0, \"ticks\": \"\"}, \"type\": \"mesh3d\"}], \"parcoords\": [{\"line\": {\"colorbar\": {\"outlinewidth\": 0, \"ticks\": \"\"}}, \"type\": \"parcoords\"}], \"pie\": [{\"automargin\": true, \"type\": \"pie\"}], \"scatter\": [{\"marker\": {\"colorbar\": {\"outlinewidth\": 0, \"ticks\": \"\"}}, \"type\": \"scatter\"}], \"scatter3d\": [{\"line\": {\"colorbar\": {\"outlinewidth\": 0, \"ticks\": \"\"}}, \"marker\": {\"colorbar\": {\"outlinewidth\": 0, \"ticks\": \"\"}}, \"type\": \"scatter3d\"}], \"scattercarpet\": [{\"marker\": {\"colorbar\": {\"outlinewidth\": 0, \"ticks\": \"\"}}, \"type\": \"scattercarpet\"}], \"scattergeo\": [{\"marker\": {\"colorbar\": {\"outlinewidth\": 0, \"ticks\": \"\"}}, \"type\": \"scattergeo\"}], \"scattergl\": [{\"marker\": {\"colorbar\": {\"outlinewidth\": 0, \"ticks\": \"\"}}, \"type\": \"scattergl\"}], \"scattermapbox\": [{\"marker\": {\"colorbar\": {\"outlinewidth\": 0, \"ticks\": \"\"}}, \"type\": \"scattermapbox\"}], \"scatterpolar\": [{\"marker\": {\"colorbar\": {\"outlinewidth\": 0, \"ticks\": \"\"}}, \"type\": \"scatterpolar\"}], \"scatterpolargl\": [{\"marker\": {\"colorbar\": {\"outlinewidth\": 0, \"ticks\": \"\"}}, \"type\": \"scatterpolargl\"}], \"scatterternary\": [{\"marker\": {\"colorbar\": {\"outlinewidth\": 0, \"ticks\": \"\"}}, \"type\": \"scatterternary\"}], \"surface\": [{\"colorbar\": {\"outlinewidth\": 0, \"ticks\": \"\"}, \"colorscale\": [[0.0, \"#0d0887\"], [0.1111111111111111, \"#46039f\"], [0.2222222222222222, \"#7201a8\"], [0.3333333333333333, \"#9c179e\"], [0.4444444444444444, \"#bd3786\"], [0.5555555555555556, \"#d8576b\"], [0.6666666666666666, \"#ed7953\"], [0.7777777777777778, \"#fb9f3a\"], [0.8888888888888888, \"#fdca26\"], [1.0, \"#f0f921\"]], \"type\": \"surface\"}], \"table\": [{\"cells\": {\"fill\": {\"color\": \"#EBF0F8\"}, \"line\": {\"color\": \"white\"}}, \"header\": {\"fill\": {\"color\": \"#C8D4E3\"}, \"line\": {\"color\": \"white\"}}, \"type\": \"table\"}]}, \"layout\": {\"annotationdefaults\": {\"arrowcolor\": \"#2a3f5f\", \"arrowhead\": 0, \"arrowwidth\": 1}, \"coloraxis\": {\"colorbar\": {\"outlinewidth\": 0, \"ticks\": \"\"}}, \"colorscale\": {\"diverging\": [[0, \"#8e0152\"], [0.1, \"#c51b7d\"], [0.2, \"#de77ae\"], [0.3, \"#f1b6da\"], [0.4, \"#fde0ef\"], [0.5, \"#f7f7f7\"], [0.6, \"#e6f5d0\"], [0.7, \"#b8e186\"], [0.8, \"#7fbc41\"], [0.9, \"#4d9221\"], [1, \"#276419\"]], \"sequential\": [[0.0, \"#0d0887\"], [0.1111111111111111, \"#46039f\"], [0.2222222222222222, \"#7201a8\"], [0.3333333333333333, \"#9c179e\"], [0.4444444444444444, \"#bd3786\"], [0.5555555555555556, \"#d8576b\"], [0.6666666666666666, \"#ed7953\"], [0.7777777777777778, \"#fb9f3a\"], [0.8888888888888888, \"#fdca26\"], [1.0, \"#f0f921\"]], \"sequentialminus\": [[0.0, \"#0d0887\"], [0.1111111111111111, \"#46039f\"], [0.2222222222222222, \"#7201a8\"], [0.3333333333333333, \"#9c179e\"], [0.4444444444444444, \"#bd3786\"], [0.5555555555555556, \"#d8576b\"], [0.6666666666666666, \"#ed7953\"], [0.7777777777777778, \"#fb9f3a\"], [0.8888888888888888, \"#fdca26\"], [1.0, \"#f0f921\"]]}, \"colorway\": [\"#636efa\", \"#EF553B\", \"#00cc96\", \"#ab63fa\", \"#FFA15A\", \"#19d3f3\", \"#FF6692\", \"#B6E880\", \"#FF97FF\", \"#FECB52\"], \"font\": {\"color\": \"#2a3f5f\"}, \"geo\": {\"bgcolor\": \"white\", \"lakecolor\": \"white\", \"landcolor\": \"#E5ECF6\", \"showlakes\": true, \"showland\": true, \"subunitcolor\": \"white\"}, \"hoverlabel\": {\"align\": \"left\"}, \"hovermode\": \"closest\", \"mapbox\": {\"style\": \"light\"}, \"paper_bgcolor\": \"white\", \"plot_bgcolor\": \"#E5ECF6\", \"polar\": {\"angularaxis\": {\"gridcolor\": \"white\", \"linecolor\": \"white\", \"ticks\": \"\"}, \"bgcolor\": \"#E5ECF6\", \"radialaxis\": {\"gridcolor\": \"white\", \"linecolor\": \"white\", \"ticks\": \"\"}}, \"scene\": {\"xaxis\": {\"backgroundcolor\": \"#E5ECF6\", \"gridcolor\": \"white\", \"gridwidth\": 2, \"linecolor\": \"white\", \"showbackground\": true, \"ticks\": \"\", \"zerolinecolor\": \"white\"}, \"yaxis\": {\"backgroundcolor\": \"#E5ECF6\", \"gridcolor\": \"white\", \"gridwidth\": 2, \"linecolor\": \"white\", \"showbackground\": true, \"ticks\": \"\", \"zerolinecolor\": \"white\"}, \"zaxis\": {\"backgroundcolor\": \"#E5ECF6\", \"gridcolor\": \"white\", \"gridwidth\": 2, \"linecolor\": \"white\", \"showbackground\": true, \"ticks\": \"\", \"zerolinecolor\": \"white\"}}, \"shapedefaults\": {\"line\": {\"color\": \"#2a3f5f\"}}, \"ternary\": {\"aaxis\": {\"gridcolor\": \"white\", \"linecolor\": \"white\", \"ticks\": \"\"}, \"baxis\": {\"gridcolor\": \"white\", \"linecolor\": \"white\", \"ticks\": \"\"}, \"bgcolor\": \"#E5ECF6\", \"caxis\": {\"gridcolor\": \"white\", \"linecolor\": \"white\", \"ticks\": \"\"}}, \"title\": {\"x\": 0.05}, \"xaxis\": {\"automargin\": true, \"gridcolor\": \"white\", \"linecolor\": \"white\", \"ticks\": \"\", \"title\": {\"standoff\": 15}, \"zerolinecolor\": \"white\", \"zerolinewidth\": 2}, \"yaxis\": {\"automargin\": true, \"gridcolor\": \"white\", \"linecolor\": \"white\", \"ticks\": \"\", \"title\": {\"standoff\": 15}, \"zerolinecolor\": \"white\", \"zerolinewidth\": 2}}}},\n",
              "                        {\"responsive\": true}\n",
              "                    ).then(function(){\n",
              "                            \n",
              "var gd = document.getElementById('149871e8-b843-4510-83ad-01f9d997818b');\n",
              "var x = new MutationObserver(function (mutations, observer) {{\n",
              "        var display = window.getComputedStyle(gd).display;\n",
              "        if (!display || display === 'none') {{\n",
              "            console.log([gd, 'removed!']);\n",
              "            Plotly.purge(gd);\n",
              "            observer.disconnect();\n",
              "        }}\n",
              "}});\n",
              "\n",
              "// Listen for the removal of the full notebook cells\n",
              "var notebookContainer = gd.closest('#notebook-container');\n",
              "if (notebookContainer) {{\n",
              "    x.observe(notebookContainer, {childList: true});\n",
              "}}\n",
              "\n",
              "// Listen for the clearing of the current output cell\n",
              "var outputEl = gd.closest('.output');\n",
              "if (outputEl) {{\n",
              "    x.observe(outputEl, {childList: true});\n",
              "}}\n",
              "\n",
              "                        })\n",
              "                };\n",
              "                \n",
              "            </script>\n",
              "        </div>\n",
              "</body>\n",
              "</html>"
            ]
          },
          "metadata": {
            "tags": []
          }
        }
      ]
    },
    {
      "cell_type": "code",
      "metadata": {
        "colab": {
          "base_uri": "https://localhost:8080/",
          "height": 542
        },
        "id": "6eTFayifTyXL",
        "outputId": "5e5b6ce9-f9ce-4980-ad71-bd1e9d072208"
      },
      "source": [
        "fig = px.scatter_3d(whr_250Country[whr_250Country['Year']==2018], x='Literacy Rate(%)', y='Unemployement(%)', z='Happiness Score',\n",
        "             size_max=1,opacity=0.7)\n",
        "fig.show()"
      ],
      "execution_count": 71,
      "outputs": [
        {
          "output_type": "display_data",
          "data": {
            "text/html": [
              "<html>\n",
              "<head><meta charset=\"utf-8\" /></head>\n",
              "<body>\n",
              "    <div>\n",
              "            <script src=\"https://cdnjs.cloudflare.com/ajax/libs/mathjax/2.7.5/MathJax.js?config=TeX-AMS-MML_SVG\"></script><script type=\"text/javascript\">if (window.MathJax) {MathJax.Hub.Config({SVG: {font: \"STIX-Web\"}});}</script>\n",
              "                <script type=\"text/javascript\">window.PlotlyConfig = {MathJaxConfig: 'local'};</script>\n",
              "        <script src=\"https://cdn.plot.ly/plotly-latest.min.js\"></script>    \n",
              "            <div id=\"526656d1-c83e-4cc9-bf95-416251c319b0\" class=\"plotly-graph-div\" style=\"height:525px; width:100%;\"></div>\n",
              "            <script type=\"text/javascript\">\n",
              "                \n",
              "                    window.PLOTLYENV=window.PLOTLYENV || {};\n",
              "                    \n",
              "                if (document.getElementById(\"526656d1-c83e-4cc9-bf95-416251c319b0\")) {\n",
              "                    Plotly.newPlot(\n",
              "                        '526656d1-c83e-4cc9-bf95-416251c319b0',\n",
              "                        [{\"hoverlabel\": {\"namelength\": 0}, \"hovertemplate\": \"Literacy Rate(%)=%{x}<br>Unemployement(%)=%{y}<br>Happiness Score=%{z}\", \"legendgroup\": \"\", \"marker\": {\"color\": \"#636efa\", \"opacity\": 0.7, \"symbol\": \"circle\"}, \"mode\": \"markers\", \"name\": \"\", \"scene\": \"scene\", \"showlegend\": false, \"type\": \"scatter3d\", \"x\": [28.1, 98.7, 79.0, 70.4, 97.9, 99.4, 99.0, 98.0, 99.8, 84.49265895953761, 57.7, 99.6, 99.0, 76.9, 42.4, 52.8, 84.49265895953761, 85.1, 88.6, 98.4, 28.7, 67.2, 73.6, 75.9, 84.49265895953761, 56.6, 35.4, 97.5, 84.49265895953761, 94.2, 96.3, 98.9, 98.7, 99.0, 99.0, 90.1, 91.6, 73.9, 84.5, 84.49265895953761, 39.0, 100.0, 99.0, 82.3, 99.7, 99.0, 71.5, 97.3, 71.0, 41.0, 48.7, 85.1, 84.49265895953761, 99.1, 99.0, 62.8, 92.8, 78.5, 99.0, 97.0, 99.0, 87.0, 99.0, 92.6, 99.7, 87.4, 93.3, 99.2, 84.49265895953761, 89.6, 89.6, 60.8, 89.5, 84.49265895953761, 100.0, 64.5, 74.8, 93.1, 33.4, 92.4, 58.6, 88.8, 93.5, 97.4, 98.5, 68.5, 56.1, 92.7, 88.8, 57.4, 99.0, 99.0, 78.0, 19.1, 61.3, 100.0, 54.9, 94.1, 93.9, 94.2, 95.4, 99.7, 95.4, 96.3, 84.49265895953761, 71.1, 87.2, 49.7, 98.0, 43.3, 95.9, 99.6, 99.7, 37.8, 93.0, 27.0, 97.7, 91.2, 71.9, 99.0, 99.0, 96.1, 99.7, 93.5, 60.4, 98.8, 79.1, 94.1, 99.6, 73.2, 99.7, 90.0, 98.1, 99.4, 65.3, 61.4, 84.49265895953761], \"y\": [35.0, 16.9, 10.3, 14.770671140939596, 7.5, 14.770671140939596, 5.7, 4.9, 6.0, 14.770671140939596, 5.0, 1.0, 8.8, 15.5, 14.770671140939596, 2.1, 14.770671140939596, 17.8, 6.0, 11.6, 77.0, 14.770671140939596, 0.0, 30.0, 14.770671140939596, 8.0, 14.770671140939596, 14.770671140939596, 14.770671140939596, 14.770671140939596, 7.9, 21.6, 17.4, 7.1, 6.0, 15.0, 4.2, 13.4, 6.3, 10.9, 17.5, 8.6, 9.7, 21.0, 14.9, 6.0, 11.0, 27.9, 4.1, 14.770671140939596, 40.6, 4.5, 14.770671140939596, 14.770671140939596, 4.5, 8.8, 6.6, 16.0, 13.5, 1.7, 12.4, 14.770671140939596, 4.1, 12.3, 5.3, 40.0, 2.2, 8.6, 9.8, 9.2, 25.0, 85.0, 30.0, 12.4, 14.770671140939596, 14.770671140939596, 14.770671140939596, 3.1, 30.0, 6.4, 30.0, 8.3, 4.9, 9.0, 19.1, 9.9, 17.0, 5.2, 51.2, 46.0, 8.3, 6.43, 7.2, 14.770671140939596, 23.9, 3.6, 6.6, 4.5, 6.6, 14.770671140939596, 7.4, 10.3, 14.770671140939596, 0.3, 14.770671140939596, 14.770671140939596, 10.5, 48.0, 20.1, 14.770671140939596, 1.9, 14.4, 13.1, 14.770671140939596, 14.770671140939596, 14.770671140939596, 26.3, 5.1, 20.0, 8.1, 3.2, 4.1, 2.5, 0.7, 14.770671140939596, 5.9, 17.2, 9.3, 60.0, 14.770671140939596, 8.0, 2.4, 6.5, 4.9, 35.0, 15.0, 14.770671140939596], \"z\": [3.6319999999999997, 4.586, 5.295, 3.795, 6.388, 4.321000000000001, 7.272, 7.138999999999999, 5.2010000000000005, 6.105, 4.5, 5.483, 6.9270000000000005, 5.956, 4.141, 5.082, 5.129, 3.59, 6.419, 4.933, 4.4239999999999995, 2.905, 4.433, 4.975, 7.327999999999999, 3.083, 4.301, 6.476, 5.246, 6.26, 7.072, 5.321000000000001, 5.7620000000000005, 6.711, 7.555, 5.3020000000000005, 5.973, 4.419, 6.167000000000001, 5.739, 4.35, 7.632000000000001, 6.489, 4.758, 4.34, 6.965, 4.657, 5.358, 6.382000000000001, 3.964, 3.582, 5.504, 5.43, 5.62, 7.495, 4.19, 5.093, 4.456, 6.977, 6.814, 6.0, 5.89, 5.915, 5.1610000000000005, 5.79, 4.41, 6.082999999999999, 5.131, 5.933, 5.358, 3.8080000000000003, 3.495, 5.566, 5.952000000000001, 6.91, 3.7739999999999996, 3.5869999999999997, 6.322, 4.447, 6.627000000000001, 4.356, 5.891, 6.4879999999999995, 5.125, 5.347, 5.254, 4.417, 4.308, 4.441, 4.88, 7.441, 7.324, 6.141, 4.166, 5.155, 7.593999999999999, 5.472, 6.43, 5.681, 5.662999999999999, 5.524, 6.122999999999999, 5.41, 6.374, 5.945, 3.408, 6.371, 4.631, 5.398, 4.571000000000001, 6.343, 6.172999999999999, 5.9479999999999995, 4.982, 4.724, 3.2539999999999996, 6.31, 4.471, 4.138999999999999, 7.314, 7.487, 6.441, 5.199, 6.072, 3.9989999999999997, 6.192, 4.592, 5.483, 5.636, 4.1610000000000005, 4.103, 6.774, 6.379, 6.096, 3.355, 4.377, 3.6919999999999997]}],\n",
              "                        {\"legend\": {\"tracegroupgap\": 0}, \"margin\": {\"t\": 60}, \"scene\": {\"domain\": {\"x\": [0.0, 1.0], \"y\": [0.0, 1.0]}, \"xaxis\": {\"title\": {\"text\": \"Literacy Rate(%)\"}}, \"yaxis\": {\"title\": {\"text\": \"Unemployement(%)\"}}, \"zaxis\": {\"title\": {\"text\": \"Happiness Score\"}}}, \"template\": {\"data\": {\"bar\": [{\"error_x\": {\"color\": \"#2a3f5f\"}, \"error_y\": {\"color\": \"#2a3f5f\"}, \"marker\": {\"line\": {\"color\": \"#E5ECF6\", \"width\": 0.5}}, \"type\": \"bar\"}], \"barpolar\": [{\"marker\": {\"line\": {\"color\": \"#E5ECF6\", \"width\": 0.5}}, \"type\": \"barpolar\"}], \"carpet\": [{\"aaxis\": {\"endlinecolor\": \"#2a3f5f\", \"gridcolor\": \"white\", \"linecolor\": \"white\", \"minorgridcolor\": \"white\", \"startlinecolor\": \"#2a3f5f\"}, \"baxis\": {\"endlinecolor\": \"#2a3f5f\", \"gridcolor\": \"white\", \"linecolor\": \"white\", \"minorgridcolor\": \"white\", \"startlinecolor\": \"#2a3f5f\"}, \"type\": \"carpet\"}], \"choropleth\": [{\"colorbar\": {\"outlinewidth\": 0, \"ticks\": \"\"}, \"type\": \"choropleth\"}], \"contour\": [{\"colorbar\": {\"outlinewidth\": 0, \"ticks\": \"\"}, \"colorscale\": [[0.0, \"#0d0887\"], [0.1111111111111111, \"#46039f\"], [0.2222222222222222, \"#7201a8\"], [0.3333333333333333, \"#9c179e\"], [0.4444444444444444, \"#bd3786\"], [0.5555555555555556, \"#d8576b\"], [0.6666666666666666, \"#ed7953\"], [0.7777777777777778, \"#fb9f3a\"], [0.8888888888888888, \"#fdca26\"], [1.0, \"#f0f921\"]], \"type\": \"contour\"}], \"contourcarpet\": [{\"colorbar\": {\"outlinewidth\": 0, \"ticks\": \"\"}, \"type\": \"contourcarpet\"}], \"heatmap\": [{\"colorbar\": {\"outlinewidth\": 0, \"ticks\": \"\"}, \"colorscale\": [[0.0, \"#0d0887\"], [0.1111111111111111, \"#46039f\"], [0.2222222222222222, \"#7201a8\"], [0.3333333333333333, \"#9c179e\"], [0.4444444444444444, \"#bd3786\"], [0.5555555555555556, \"#d8576b\"], [0.6666666666666666, \"#ed7953\"], [0.7777777777777778, \"#fb9f3a\"], [0.8888888888888888, \"#fdca26\"], [1.0, \"#f0f921\"]], \"type\": \"heatmap\"}], \"heatmapgl\": [{\"colorbar\": {\"outlinewidth\": 0, \"ticks\": \"\"}, \"colorscale\": [[0.0, \"#0d0887\"], [0.1111111111111111, \"#46039f\"], [0.2222222222222222, \"#7201a8\"], [0.3333333333333333, \"#9c179e\"], [0.4444444444444444, \"#bd3786\"], [0.5555555555555556, \"#d8576b\"], [0.6666666666666666, \"#ed7953\"], [0.7777777777777778, \"#fb9f3a\"], [0.8888888888888888, \"#fdca26\"], [1.0, \"#f0f921\"]], \"type\": \"heatmapgl\"}], \"histogram\": [{\"marker\": {\"colorbar\": {\"outlinewidth\": 0, \"ticks\": \"\"}}, \"type\": \"histogram\"}], \"histogram2d\": [{\"colorbar\": {\"outlinewidth\": 0, \"ticks\": \"\"}, \"colorscale\": [[0.0, \"#0d0887\"], [0.1111111111111111, \"#46039f\"], [0.2222222222222222, \"#7201a8\"], [0.3333333333333333, \"#9c179e\"], [0.4444444444444444, \"#bd3786\"], [0.5555555555555556, \"#d8576b\"], [0.6666666666666666, \"#ed7953\"], [0.7777777777777778, \"#fb9f3a\"], [0.8888888888888888, \"#fdca26\"], [1.0, \"#f0f921\"]], \"type\": \"histogram2d\"}], \"histogram2dcontour\": [{\"colorbar\": {\"outlinewidth\": 0, \"ticks\": \"\"}, \"colorscale\": [[0.0, \"#0d0887\"], [0.1111111111111111, \"#46039f\"], [0.2222222222222222, \"#7201a8\"], [0.3333333333333333, \"#9c179e\"], [0.4444444444444444, \"#bd3786\"], [0.5555555555555556, \"#d8576b\"], [0.6666666666666666, \"#ed7953\"], [0.7777777777777778, \"#fb9f3a\"], [0.8888888888888888, \"#fdca26\"], [1.0, \"#f0f921\"]], \"type\": \"histogram2dcontour\"}], \"mesh3d\": [{\"colorbar\": {\"outlinewidth\": 0, \"ticks\": \"\"}, \"type\": \"mesh3d\"}], \"parcoords\": [{\"line\": {\"colorbar\": {\"outlinewidth\": 0, \"ticks\": \"\"}}, \"type\": \"parcoords\"}], \"pie\": [{\"automargin\": true, \"type\": \"pie\"}], \"scatter\": [{\"marker\": {\"colorbar\": {\"outlinewidth\": 0, \"ticks\": \"\"}}, \"type\": \"scatter\"}], \"scatter3d\": [{\"line\": {\"colorbar\": {\"outlinewidth\": 0, \"ticks\": \"\"}}, \"marker\": {\"colorbar\": {\"outlinewidth\": 0, \"ticks\": \"\"}}, \"type\": \"scatter3d\"}], \"scattercarpet\": [{\"marker\": {\"colorbar\": {\"outlinewidth\": 0, \"ticks\": \"\"}}, \"type\": \"scattercarpet\"}], \"scattergeo\": [{\"marker\": {\"colorbar\": {\"outlinewidth\": 0, \"ticks\": \"\"}}, \"type\": \"scattergeo\"}], \"scattergl\": [{\"marker\": {\"colorbar\": {\"outlinewidth\": 0, \"ticks\": \"\"}}, \"type\": \"scattergl\"}], \"scattermapbox\": [{\"marker\": {\"colorbar\": {\"outlinewidth\": 0, \"ticks\": \"\"}}, \"type\": \"scattermapbox\"}], \"scatterpolar\": [{\"marker\": {\"colorbar\": {\"outlinewidth\": 0, \"ticks\": \"\"}}, \"type\": \"scatterpolar\"}], \"scatterpolargl\": [{\"marker\": {\"colorbar\": {\"outlinewidth\": 0, \"ticks\": \"\"}}, \"type\": \"scatterpolargl\"}], \"scatterternary\": [{\"marker\": {\"colorbar\": {\"outlinewidth\": 0, \"ticks\": \"\"}}, \"type\": \"scatterternary\"}], \"surface\": [{\"colorbar\": {\"outlinewidth\": 0, \"ticks\": \"\"}, \"colorscale\": [[0.0, \"#0d0887\"], [0.1111111111111111, \"#46039f\"], [0.2222222222222222, \"#7201a8\"], [0.3333333333333333, \"#9c179e\"], [0.4444444444444444, \"#bd3786\"], [0.5555555555555556, \"#d8576b\"], [0.6666666666666666, \"#ed7953\"], [0.7777777777777778, \"#fb9f3a\"], [0.8888888888888888, \"#fdca26\"], [1.0, \"#f0f921\"]], \"type\": \"surface\"}], \"table\": [{\"cells\": {\"fill\": {\"color\": \"#EBF0F8\"}, \"line\": {\"color\": \"white\"}}, \"header\": {\"fill\": {\"color\": \"#C8D4E3\"}, \"line\": {\"color\": \"white\"}}, \"type\": \"table\"}]}, \"layout\": {\"annotationdefaults\": {\"arrowcolor\": \"#2a3f5f\", \"arrowhead\": 0, \"arrowwidth\": 1}, \"coloraxis\": {\"colorbar\": {\"outlinewidth\": 0, \"ticks\": \"\"}}, \"colorscale\": {\"diverging\": [[0, \"#8e0152\"], [0.1, \"#c51b7d\"], [0.2, \"#de77ae\"], [0.3, \"#f1b6da\"], [0.4, \"#fde0ef\"], [0.5, \"#f7f7f7\"], [0.6, \"#e6f5d0\"], [0.7, \"#b8e186\"], [0.8, \"#7fbc41\"], [0.9, \"#4d9221\"], [1, \"#276419\"]], \"sequential\": [[0.0, \"#0d0887\"], [0.1111111111111111, \"#46039f\"], [0.2222222222222222, \"#7201a8\"], [0.3333333333333333, \"#9c179e\"], [0.4444444444444444, \"#bd3786\"], [0.5555555555555556, \"#d8576b\"], [0.6666666666666666, \"#ed7953\"], [0.7777777777777778, \"#fb9f3a\"], [0.8888888888888888, \"#fdca26\"], [1.0, \"#f0f921\"]], \"sequentialminus\": [[0.0, \"#0d0887\"], [0.1111111111111111, \"#46039f\"], [0.2222222222222222, \"#7201a8\"], [0.3333333333333333, \"#9c179e\"], [0.4444444444444444, \"#bd3786\"], [0.5555555555555556, \"#d8576b\"], [0.6666666666666666, \"#ed7953\"], [0.7777777777777778, \"#fb9f3a\"], [0.8888888888888888, \"#fdca26\"], [1.0, \"#f0f921\"]]}, \"colorway\": [\"#636efa\", \"#EF553B\", \"#00cc96\", \"#ab63fa\", \"#FFA15A\", \"#19d3f3\", \"#FF6692\", \"#B6E880\", \"#FF97FF\", \"#FECB52\"], \"font\": {\"color\": \"#2a3f5f\"}, \"geo\": {\"bgcolor\": \"white\", \"lakecolor\": \"white\", \"landcolor\": \"#E5ECF6\", \"showlakes\": true, \"showland\": true, \"subunitcolor\": \"white\"}, \"hoverlabel\": {\"align\": \"left\"}, \"hovermode\": \"closest\", \"mapbox\": {\"style\": \"light\"}, \"paper_bgcolor\": \"white\", \"plot_bgcolor\": \"#E5ECF6\", \"polar\": {\"angularaxis\": {\"gridcolor\": \"white\", \"linecolor\": \"white\", \"ticks\": \"\"}, \"bgcolor\": \"#E5ECF6\", \"radialaxis\": {\"gridcolor\": \"white\", \"linecolor\": \"white\", \"ticks\": \"\"}}, \"scene\": {\"xaxis\": {\"backgroundcolor\": \"#E5ECF6\", \"gridcolor\": \"white\", \"gridwidth\": 2, \"linecolor\": \"white\", \"showbackground\": true, \"ticks\": \"\", \"zerolinecolor\": \"white\"}, \"yaxis\": {\"backgroundcolor\": \"#E5ECF6\", \"gridcolor\": \"white\", \"gridwidth\": 2, \"linecolor\": \"white\", \"showbackground\": true, \"ticks\": \"\", \"zerolinecolor\": \"white\"}, \"zaxis\": {\"backgroundcolor\": \"#E5ECF6\", \"gridcolor\": \"white\", \"gridwidth\": 2, \"linecolor\": \"white\", \"showbackground\": true, \"ticks\": \"\", \"zerolinecolor\": \"white\"}}, \"shapedefaults\": {\"line\": {\"color\": \"#2a3f5f\"}}, \"ternary\": {\"aaxis\": {\"gridcolor\": \"white\", \"linecolor\": \"white\", \"ticks\": \"\"}, \"baxis\": {\"gridcolor\": \"white\", \"linecolor\": \"white\", \"ticks\": \"\"}, \"bgcolor\": \"#E5ECF6\", \"caxis\": {\"gridcolor\": \"white\", \"linecolor\": \"white\", \"ticks\": \"\"}}, \"title\": {\"x\": 0.05}, \"xaxis\": {\"automargin\": true, \"gridcolor\": \"white\", \"linecolor\": \"white\", \"ticks\": \"\", \"title\": {\"standoff\": 15}, \"zerolinecolor\": \"white\", \"zerolinewidth\": 2}, \"yaxis\": {\"automargin\": true, \"gridcolor\": \"white\", \"linecolor\": \"white\", \"ticks\": \"\", \"title\": {\"standoff\": 15}, \"zerolinecolor\": \"white\", \"zerolinewidth\": 2}}}},\n",
              "                        {\"responsive\": true}\n",
              "                    ).then(function(){\n",
              "                            \n",
              "var gd = document.getElementById('526656d1-c83e-4cc9-bf95-416251c319b0');\n",
              "var x = new MutationObserver(function (mutations, observer) {{\n",
              "        var display = window.getComputedStyle(gd).display;\n",
              "        if (!display || display === 'none') {{\n",
              "            console.log([gd, 'removed!']);\n",
              "            Plotly.purge(gd);\n",
              "            observer.disconnect();\n",
              "        }}\n",
              "}});\n",
              "\n",
              "// Listen for the removal of the full notebook cells\n",
              "var notebookContainer = gd.closest('#notebook-container');\n",
              "if (notebookContainer) {{\n",
              "    x.observe(notebookContainer, {childList: true});\n",
              "}}\n",
              "\n",
              "// Listen for the clearing of the current output cell\n",
              "var outputEl = gd.closest('.output');\n",
              "if (outputEl) {{\n",
              "    x.observe(outputEl, {childList: true});\n",
              "}}\n",
              "\n",
              "                        })\n",
              "                };\n",
              "                \n",
              "            </script>\n",
              "        </div>\n",
              "</body>\n",
              "</html>"
            ]
          },
          "metadata": {
            "tags": []
          }
        }
      ]
    },
    {
      "cell_type": "code",
      "metadata": {
        "colab": {
          "base_uri": "https://localhost:8080/",
          "height": 542
        },
        "id": "VFpA65yUT0Lm",
        "outputId": "90828c2b-9814-4598-816d-04694dd46c42"
      },
      "source": [
        "fig = px.scatter_3d(whr_250Country[whr_250Country['Year']==2019], x='Literacy Rate(%)', y='Unemployement(%)', z='Happiness Score',\n",
        "              size_max=1,opacity=0.7)\n",
        "fig.show()"
      ],
      "execution_count": 72,
      "outputs": [
        {
          "output_type": "display_data",
          "data": {
            "text/html": [
              "<html>\n",
              "<head><meta charset=\"utf-8\" /></head>\n",
              "<body>\n",
              "    <div>\n",
              "            <script src=\"https://cdnjs.cloudflare.com/ajax/libs/mathjax/2.7.5/MathJax.js?config=TeX-AMS-MML_SVG\"></script><script type=\"text/javascript\">if (window.MathJax) {MathJax.Hub.Config({SVG: {font: \"STIX-Web\"}});}</script>\n",
              "                <script type=\"text/javascript\">window.PlotlyConfig = {MathJaxConfig: 'local'};</script>\n",
              "        <script src=\"https://cdn.plot.ly/plotly-latest.min.js\"></script>    \n",
              "            <div id=\"6161fe89-c5a6-4531-be60-6b7b136ddbd2\" class=\"plotly-graph-div\" style=\"height:525px; width:100%;\"></div>\n",
              "            <script type=\"text/javascript\">\n",
              "                \n",
              "                    window.PLOTLYENV=window.PLOTLYENV || {};\n",
              "                    \n",
              "                if (document.getElementById(\"6161fe89-c5a6-4531-be60-6b7b136ddbd2\")) {\n",
              "                    Plotly.newPlot(\n",
              "                        '6161fe89-c5a6-4531-be60-6b7b136ddbd2',\n",
              "                        [{\"hoverlabel\": {\"namelength\": 0}, \"hovertemplate\": \"Literacy Rate(%)=%{x}<br>Unemployement(%)=%{y}<br>Happiness Score=%{z}\", \"legendgroup\": \"\", \"marker\": {\"color\": \"#636efa\", \"opacity\": 0.7, \"symbol\": \"circle\"}, \"mode\": \"markers\", \"name\": \"\", \"scene\": \"scene\", \"showlegend\": false, \"type\": \"scatter3d\", \"x\": [28.1, 98.7, 79.0, 97.9, 99.4, 99.0, 98.0, 99.8, 84.49265895953761, 57.7, 99.6, 99.0, 42.4, 52.8, 84.49265895953761, 85.1, 88.6, 98.4, 28.7, 67.2, 73.6, 75.9, 84.49265895953761, 56.6, 35.4, 97.5, 84.49265895953761, 94.2, 75.5, 96.3, 98.9, 98.7, 99.0, 99.0, 90.1, 91.6, 73.9, 84.5, 84.49265895953761, 39.0, 100.0, 99.0, 82.3, 52.0, 99.7, 99.0, 71.5, 97.3, 71.0, 41.0, 48.7, 85.1, 84.49265895953761, 99.1, 99.0, 62.8, 92.8, 78.5, 99.0, 97.0, 99.0, 87.0, 99.0, 92.6, 99.7, 87.4, 93.3, 99.2, 84.49265895953761, 89.6, 89.6, 60.8, 89.5, 84.49265895953761, 100.0, 64.5, 74.8, 93.1, 33.4, 92.4, 58.6, 88.8, 93.5, 97.4, 98.5, 68.5, 56.1, 92.7, 88.8, 57.4, 99.0, 99.0, 78.0, 19.1, 61.3, 100.0, 54.9, 94.1, 93.9, 94.2, 95.4, 99.7, 95.4, 96.3, 84.49265895953761, 71.1, 87.2, 49.7, 98.0, 43.3, 95.9, 99.6, 99.7, 37.8, 93.0, 27.0, 97.7, 91.2, 84.49265895953761, 99.0, 99.0, 96.1, 99.7, 93.5, 60.4, 98.8, 79.1, 94.1, 99.6, 73.2, 99.7, 90.0, 98.1, 99.4, 65.3, 61.4, 84.49265895953761], \"y\": [35.0, 16.9, 10.3, 7.5, 14.770671140939596, 5.7, 4.9, 6.0, 14.770671140939596, 5.0, 1.0, 8.8, 14.770671140939596, 2.1, 14.770671140939596, 17.8, 6.0, 11.6, 77.0, 14.770671140939596, 0.0, 30.0, 14.770671140939596, 8.0, 14.770671140939596, 14.770671140939596, 14.770671140939596, 14.770671140939596, 14.770671140939596, 7.9, 21.6, 17.4, 7.1, 6.0, 15.0, 4.2, 13.4, 6.3, 10.9, 17.5, 8.6, 9.7, 21.0, 14.770671140939596, 14.9, 6.0, 11.0, 27.9, 4.1, 14.770671140939596, 40.6, 4.5, 14.770671140939596, 14.770671140939596, 4.5, 8.8, 6.6, 16.0, 13.5, 1.7, 12.4, 14.770671140939596, 4.1, 12.3, 5.3, 40.0, 2.2, 8.6, 9.8, 9.2, 25.0, 85.0, 30.0, 12.4, 14.770671140939596, 14.770671140939596, 14.770671140939596, 3.1, 30.0, 6.4, 30.0, 8.3, 4.9, 9.0, 19.1, 9.9, 17.0, 5.2, 51.2, 46.0, 8.3, 6.43, 7.2, 14.770671140939596, 23.9, 3.6, 6.6, 4.5, 6.6, 14.770671140939596, 7.4, 10.3, 14.770671140939596, 0.3, 14.770671140939596, 14.770671140939596, 10.5, 48.0, 20.1, 14.770671140939596, 1.9, 14.4, 13.1, 14.770671140939596, 14.770671140939596, 14.770671140939596, 26.3, 5.1, 14.770671140939596, 8.1, 3.2, 4.1, 2.5, 0.7, 14.770671140939596, 5.9, 17.2, 9.3, 60.0, 14.770671140939596, 8.0, 2.4, 6.5, 4.9, 35.0, 15.0, 14.770671140939596], \"z\": [3.2030000000000003, 4.718999999999999, 5.211, 6.086, 4.559, 7.228, 7.246, 5.207999999999999, 6.199, 4.456, 5.3229999999999995, 6.922999999999999, 4.883, 5.082, 5.386, 3.488, 6.3, 5.011, 4.587, 3.775, 4.7, 5.044, 7.278, 3.083, 4.35, 6.444, 5.191, 6.125, 3.9730000000000003, 7.167000000000001, 5.432, 6.046, 6.852, 7.6, 5.425, 6.028, 4.166, 6.252999999999999, 5.893, 4.2860000000000005, 7.769, 6.5920000000000005, 4.7989999999999995, 4.516, 4.519, 6.985, 4.996, 5.287000000000001, 6.436, 4.534, 3.597, 5.86, 5.43, 5.757999999999999, 7.494, 4.015, 5.192, 4.437, 7.021, 7.138999999999999, 6.223, 5.89, 5.886, 4.906000000000001, 5.809, 4.5089999999999995, 6.021, 5.261, 5.94, 5.197, 3.802, 3.975, 5.525, 6.149, 7.09, 3.9330000000000003, 3.41, 5.3389999999999995, 4.39, 6.726, 4.49, 5.888, 6.595, 5.285, 5.523, 5.207999999999999, 4.466, 4.36, 4.638999999999999, 4.913, 7.4879999999999995, 7.307, 6.105, 4.628, 5.265, 7.553999999999999, 5.653, 6.321000000000001, 5.742999999999999, 5.697, 5.631, 6.182, 5.693, 6.374, 6.07, 3.3339999999999996, 6.375, 4.681, 5.603, 4.374, 6.2620000000000005, 6.1979999999999995, 6.117999999999999, 4.668, 4.7219999999999995, 2.853, 6.354, 4.3660000000000005, 4.212, 7.343, 7.48, 6.446000000000001, 5.4670000000000005, 6.007999999999999, 4.085, 6.192, 4.461, 5.372999999999999, 5.247000000000001, 4.189, 4.332, 6.825, 6.292999999999999, 6.1739999999999995, 3.38, 4.107, 3.6630000000000003]}],\n",
              "                        {\"legend\": {\"tracegroupgap\": 0}, \"margin\": {\"t\": 60}, \"scene\": {\"domain\": {\"x\": [0.0, 1.0], \"y\": [0.0, 1.0]}, \"xaxis\": {\"title\": {\"text\": \"Literacy Rate(%)\"}}, \"yaxis\": {\"title\": {\"text\": \"Unemployement(%)\"}}, \"zaxis\": {\"title\": {\"text\": \"Happiness Score\"}}}, \"template\": {\"data\": {\"bar\": [{\"error_x\": {\"color\": \"#2a3f5f\"}, \"error_y\": {\"color\": \"#2a3f5f\"}, \"marker\": {\"line\": {\"color\": \"#E5ECF6\", \"width\": 0.5}}, \"type\": \"bar\"}], \"barpolar\": [{\"marker\": {\"line\": {\"color\": \"#E5ECF6\", \"width\": 0.5}}, \"type\": \"barpolar\"}], \"carpet\": [{\"aaxis\": {\"endlinecolor\": \"#2a3f5f\", \"gridcolor\": \"white\", \"linecolor\": \"white\", \"minorgridcolor\": \"white\", \"startlinecolor\": \"#2a3f5f\"}, \"baxis\": {\"endlinecolor\": \"#2a3f5f\", \"gridcolor\": \"white\", \"linecolor\": \"white\", \"minorgridcolor\": \"white\", \"startlinecolor\": \"#2a3f5f\"}, \"type\": \"carpet\"}], \"choropleth\": [{\"colorbar\": {\"outlinewidth\": 0, \"ticks\": \"\"}, \"type\": \"choropleth\"}], \"contour\": [{\"colorbar\": {\"outlinewidth\": 0, \"ticks\": \"\"}, \"colorscale\": [[0.0, \"#0d0887\"], [0.1111111111111111, \"#46039f\"], [0.2222222222222222, \"#7201a8\"], [0.3333333333333333, \"#9c179e\"], [0.4444444444444444, \"#bd3786\"], [0.5555555555555556, \"#d8576b\"], [0.6666666666666666, \"#ed7953\"], [0.7777777777777778, \"#fb9f3a\"], [0.8888888888888888, \"#fdca26\"], [1.0, \"#f0f921\"]], \"type\": \"contour\"}], \"contourcarpet\": [{\"colorbar\": {\"outlinewidth\": 0, \"ticks\": \"\"}, \"type\": \"contourcarpet\"}], \"heatmap\": [{\"colorbar\": {\"outlinewidth\": 0, \"ticks\": \"\"}, \"colorscale\": [[0.0, \"#0d0887\"], [0.1111111111111111, \"#46039f\"], [0.2222222222222222, \"#7201a8\"], [0.3333333333333333, \"#9c179e\"], [0.4444444444444444, \"#bd3786\"], [0.5555555555555556, \"#d8576b\"], [0.6666666666666666, \"#ed7953\"], [0.7777777777777778, \"#fb9f3a\"], [0.8888888888888888, \"#fdca26\"], [1.0, \"#f0f921\"]], \"type\": \"heatmap\"}], \"heatmapgl\": [{\"colorbar\": {\"outlinewidth\": 0, \"ticks\": \"\"}, \"colorscale\": [[0.0, \"#0d0887\"], [0.1111111111111111, \"#46039f\"], [0.2222222222222222, \"#7201a8\"], [0.3333333333333333, \"#9c179e\"], [0.4444444444444444, \"#bd3786\"], [0.5555555555555556, \"#d8576b\"], [0.6666666666666666, \"#ed7953\"], [0.7777777777777778, \"#fb9f3a\"], [0.8888888888888888, \"#fdca26\"], [1.0, \"#f0f921\"]], \"type\": \"heatmapgl\"}], \"histogram\": [{\"marker\": {\"colorbar\": {\"outlinewidth\": 0, \"ticks\": \"\"}}, \"type\": \"histogram\"}], \"histogram2d\": [{\"colorbar\": {\"outlinewidth\": 0, \"ticks\": \"\"}, \"colorscale\": [[0.0, \"#0d0887\"], [0.1111111111111111, \"#46039f\"], [0.2222222222222222, \"#7201a8\"], [0.3333333333333333, \"#9c179e\"], [0.4444444444444444, \"#bd3786\"], [0.5555555555555556, \"#d8576b\"], [0.6666666666666666, \"#ed7953\"], [0.7777777777777778, \"#fb9f3a\"], [0.8888888888888888, \"#fdca26\"], [1.0, \"#f0f921\"]], \"type\": \"histogram2d\"}], \"histogram2dcontour\": [{\"colorbar\": {\"outlinewidth\": 0, \"ticks\": \"\"}, \"colorscale\": [[0.0, \"#0d0887\"], [0.1111111111111111, \"#46039f\"], [0.2222222222222222, \"#7201a8\"], [0.3333333333333333, \"#9c179e\"], [0.4444444444444444, \"#bd3786\"], [0.5555555555555556, \"#d8576b\"], [0.6666666666666666, \"#ed7953\"], [0.7777777777777778, \"#fb9f3a\"], [0.8888888888888888, \"#fdca26\"], [1.0, \"#f0f921\"]], \"type\": \"histogram2dcontour\"}], \"mesh3d\": [{\"colorbar\": {\"outlinewidth\": 0, \"ticks\": \"\"}, \"type\": \"mesh3d\"}], \"parcoords\": [{\"line\": {\"colorbar\": {\"outlinewidth\": 0, \"ticks\": \"\"}}, \"type\": \"parcoords\"}], \"pie\": [{\"automargin\": true, \"type\": \"pie\"}], \"scatter\": [{\"marker\": {\"colorbar\": {\"outlinewidth\": 0, \"ticks\": \"\"}}, \"type\": \"scatter\"}], \"scatter3d\": [{\"line\": {\"colorbar\": {\"outlinewidth\": 0, \"ticks\": \"\"}}, \"marker\": {\"colorbar\": {\"outlinewidth\": 0, \"ticks\": \"\"}}, \"type\": \"scatter3d\"}], \"scattercarpet\": [{\"marker\": {\"colorbar\": {\"outlinewidth\": 0, \"ticks\": \"\"}}, \"type\": \"scattercarpet\"}], \"scattergeo\": [{\"marker\": {\"colorbar\": {\"outlinewidth\": 0, \"ticks\": \"\"}}, \"type\": \"scattergeo\"}], \"scattergl\": [{\"marker\": {\"colorbar\": {\"outlinewidth\": 0, \"ticks\": \"\"}}, \"type\": \"scattergl\"}], \"scattermapbox\": [{\"marker\": {\"colorbar\": {\"outlinewidth\": 0, \"ticks\": \"\"}}, \"type\": \"scattermapbox\"}], \"scatterpolar\": [{\"marker\": {\"colorbar\": {\"outlinewidth\": 0, \"ticks\": \"\"}}, \"type\": \"scatterpolar\"}], \"scatterpolargl\": [{\"marker\": {\"colorbar\": {\"outlinewidth\": 0, \"ticks\": \"\"}}, \"type\": \"scatterpolargl\"}], \"scatterternary\": [{\"marker\": {\"colorbar\": {\"outlinewidth\": 0, \"ticks\": \"\"}}, \"type\": \"scatterternary\"}], \"surface\": [{\"colorbar\": {\"outlinewidth\": 0, \"ticks\": \"\"}, \"colorscale\": [[0.0, \"#0d0887\"], [0.1111111111111111, \"#46039f\"], [0.2222222222222222, \"#7201a8\"], [0.3333333333333333, \"#9c179e\"], [0.4444444444444444, \"#bd3786\"], [0.5555555555555556, \"#d8576b\"], [0.6666666666666666, \"#ed7953\"], [0.7777777777777778, \"#fb9f3a\"], [0.8888888888888888, \"#fdca26\"], [1.0, \"#f0f921\"]], \"type\": \"surface\"}], \"table\": [{\"cells\": {\"fill\": {\"color\": \"#EBF0F8\"}, \"line\": {\"color\": \"white\"}}, \"header\": {\"fill\": {\"color\": \"#C8D4E3\"}, \"line\": {\"color\": \"white\"}}, \"type\": \"table\"}]}, \"layout\": {\"annotationdefaults\": {\"arrowcolor\": \"#2a3f5f\", \"arrowhead\": 0, \"arrowwidth\": 1}, \"coloraxis\": {\"colorbar\": {\"outlinewidth\": 0, \"ticks\": \"\"}}, \"colorscale\": {\"diverging\": [[0, \"#8e0152\"], [0.1, \"#c51b7d\"], [0.2, \"#de77ae\"], [0.3, \"#f1b6da\"], [0.4, \"#fde0ef\"], [0.5, \"#f7f7f7\"], [0.6, \"#e6f5d0\"], [0.7, \"#b8e186\"], [0.8, \"#7fbc41\"], [0.9, \"#4d9221\"], [1, \"#276419\"]], \"sequential\": [[0.0, \"#0d0887\"], [0.1111111111111111, \"#46039f\"], [0.2222222222222222, \"#7201a8\"], [0.3333333333333333, \"#9c179e\"], [0.4444444444444444, \"#bd3786\"], [0.5555555555555556, \"#d8576b\"], [0.6666666666666666, \"#ed7953\"], [0.7777777777777778, \"#fb9f3a\"], [0.8888888888888888, \"#fdca26\"], [1.0, \"#f0f921\"]], \"sequentialminus\": [[0.0, \"#0d0887\"], [0.1111111111111111, \"#46039f\"], [0.2222222222222222, \"#7201a8\"], [0.3333333333333333, \"#9c179e\"], [0.4444444444444444, \"#bd3786\"], [0.5555555555555556, \"#d8576b\"], [0.6666666666666666, \"#ed7953\"], [0.7777777777777778, \"#fb9f3a\"], [0.8888888888888888, \"#fdca26\"], [1.0, \"#f0f921\"]]}, \"colorway\": [\"#636efa\", \"#EF553B\", \"#00cc96\", \"#ab63fa\", \"#FFA15A\", \"#19d3f3\", \"#FF6692\", \"#B6E880\", \"#FF97FF\", \"#FECB52\"], \"font\": {\"color\": \"#2a3f5f\"}, \"geo\": {\"bgcolor\": \"white\", \"lakecolor\": \"white\", \"landcolor\": \"#E5ECF6\", \"showlakes\": true, \"showland\": true, \"subunitcolor\": \"white\"}, \"hoverlabel\": {\"align\": \"left\"}, \"hovermode\": \"closest\", \"mapbox\": {\"style\": \"light\"}, \"paper_bgcolor\": \"white\", \"plot_bgcolor\": \"#E5ECF6\", \"polar\": {\"angularaxis\": {\"gridcolor\": \"white\", \"linecolor\": \"white\", \"ticks\": \"\"}, \"bgcolor\": \"#E5ECF6\", \"radialaxis\": {\"gridcolor\": \"white\", \"linecolor\": \"white\", \"ticks\": \"\"}}, \"scene\": {\"xaxis\": {\"backgroundcolor\": \"#E5ECF6\", \"gridcolor\": \"white\", \"gridwidth\": 2, \"linecolor\": \"white\", \"showbackground\": true, \"ticks\": \"\", \"zerolinecolor\": \"white\"}, \"yaxis\": {\"backgroundcolor\": \"#E5ECF6\", \"gridcolor\": \"white\", \"gridwidth\": 2, \"linecolor\": \"white\", \"showbackground\": true, \"ticks\": \"\", \"zerolinecolor\": \"white\"}, \"zaxis\": {\"backgroundcolor\": \"#E5ECF6\", \"gridcolor\": \"white\", \"gridwidth\": 2, \"linecolor\": \"white\", \"showbackground\": true, \"ticks\": \"\", \"zerolinecolor\": \"white\"}}, \"shapedefaults\": {\"line\": {\"color\": \"#2a3f5f\"}}, \"ternary\": {\"aaxis\": {\"gridcolor\": \"white\", \"linecolor\": \"white\", \"ticks\": \"\"}, \"baxis\": {\"gridcolor\": \"white\", \"linecolor\": \"white\", \"ticks\": \"\"}, \"bgcolor\": \"#E5ECF6\", \"caxis\": {\"gridcolor\": \"white\", \"linecolor\": \"white\", \"ticks\": \"\"}}, \"title\": {\"x\": 0.05}, \"xaxis\": {\"automargin\": true, \"gridcolor\": \"white\", \"linecolor\": \"white\", \"ticks\": \"\", \"title\": {\"standoff\": 15}, \"zerolinecolor\": \"white\", \"zerolinewidth\": 2}, \"yaxis\": {\"automargin\": true, \"gridcolor\": \"white\", \"linecolor\": \"white\", \"ticks\": \"\", \"title\": {\"standoff\": 15}, \"zerolinecolor\": \"white\", \"zerolinewidth\": 2}}}},\n",
              "                        {\"responsive\": true}\n",
              "                    ).then(function(){\n",
              "                            \n",
              "var gd = document.getElementById('6161fe89-c5a6-4531-be60-6b7b136ddbd2');\n",
              "var x = new MutationObserver(function (mutations, observer) {{\n",
              "        var display = window.getComputedStyle(gd).display;\n",
              "        if (!display || display === 'none') {{\n",
              "            console.log([gd, 'removed!']);\n",
              "            Plotly.purge(gd);\n",
              "            observer.disconnect();\n",
              "        }}\n",
              "}});\n",
              "\n",
              "// Listen for the removal of the full notebook cells\n",
              "var notebookContainer = gd.closest('#notebook-container');\n",
              "if (notebookContainer) {{\n",
              "    x.observe(notebookContainer, {childList: true});\n",
              "}}\n",
              "\n",
              "// Listen for the clearing of the current output cell\n",
              "var outputEl = gd.closest('.output');\n",
              "if (outputEl) {{\n",
              "    x.observe(outputEl, {childList: true});\n",
              "}}\n",
              "\n",
              "                        })\n",
              "                };\n",
              "                \n",
              "            </script>\n",
              "        </div>\n",
              "</body>\n",
              "</html>"
            ]
          },
          "metadata": {
            "tags": []
          }
        }
      ]
    },
    {
      "cell_type": "markdown",
      "metadata": {
        "id": "EQo_GzuEfrIN"
      },
      "source": [
        "# We proceed to inspect the relation between the Inflation%, Economy, and the Trust."
      ]
    },
    {
      "cell_type": "code",
      "metadata": {
        "colab": {
          "base_uri": "https://localhost:8080/",
          "height": 282
        },
        "id": "OxlNNu3hWtTB",
        "outputId": "b000b0d5-21ce-46ca-b026-0341de1f6443"
      },
      "source": [
        "plt.scatter(whr_250Country['Inflation(%)'],whr_250Country['Economy (GDP per Capita)'])"
      ],
      "execution_count": 39,
      "outputs": [
        {
          "output_type": "execute_result",
          "data": {
            "text/plain": [
              "<matplotlib.collections.PathCollection at 0x7fb22d9a4198>"
            ]
          },
          "metadata": {
            "tags": []
          },
          "execution_count": 39
        },
        {
          "output_type": "display_data",
          "data": {
            "image/png": "[encoded data removed]",
            "text/plain": [
              "<Figure size 432x288 with 1 Axes>"
            ]
          },
          "metadata": {
            "tags": [],
            "needs_background": "light"
          }
        }
      ]
    },
    {
      "cell_type": "code",
      "metadata": {
        "colab": {
          "base_uri": "https://localhost:8080/",
          "height": 282
        },
        "id": "zagpMmrm57H_",
        "outputId": "e64f55bc-be2f-468c-fa49-c90da0b8b485"
      },
      "source": [
        "plt.scatter(whr_250Country['Inflation(%)'],whr_250Country['Trust (Government Corruption)'])"
      ],
      "execution_count": 37,
      "outputs": [
        {
          "output_type": "execute_result",
          "data": {
            "text/plain": [
              "<matplotlib.collections.PathCollection at 0x7fb22d8e5080>"
            ]
          },
          "metadata": {
            "tags": []
          },
          "execution_count": 37
        },
        {
          "output_type": "display_data",
          "data": {
            "image/png": "[encoded data removed]",
            "text/plain": [
              "<Figure size 432x288 with 1 Axes>"
            ]
          },
          "metadata": {
            "tags": [],
            "needs_background": "light"
          }
        }
      ]
    },
    {
      "cell_type": "code",
      "metadata": {
        "colab": {
          "base_uri": "https://localhost:8080/",
          "height": 282
        },
        "id": "JfpJv-3fUkzH",
        "outputId": "716aeb8e-e8b9-4953-93ff-ddf8a3190c90"
      },
      "source": [
        "plt.scatter(whr_250Country['Economy (GDP per Capita)'],whr_250Country['Trust (Government Corruption)'])"
      ],
      "execution_count": 38,
      "outputs": [
        {
          "output_type": "execute_result",
          "data": {
            "text/plain": [
              "<matplotlib.collections.PathCollection at 0x7fb22dc88390>"
            ]
          },
          "metadata": {
            "tags": []
          },
          "execution_count": 38
        },
        {
          "output_type": "display_data",
          "data": {
            "image/png": "[encoded data removed]",
            "text/plain": [
              "<Figure size 432x288 with 1 Axes>"
            ]
          },
          "metadata": {
            "tags": [],
            "needs_background": "light"
          }
        }
      ]
    },
    {
      "cell_type": "markdown",
      "metadata": {
        "id": "RYgFx3-7gLBd"
      },
      "source": [
        "After looking at the first three graphs we could conclude that when the Inflation decreases the Economy increases, and the Trust increase as well. And when the Economy increases the the Trust increases."
      ]
    },
    {
      "cell_type": "markdown",
      "metadata": {
        "id": "gz6guTCNgHZl"
      },
      "source": [
        "# Now let's plot the three columns together to get a full view of the relation."
      ]
    },
    {
      "cell_type": "code",
      "metadata": {
        "colab": {
          "base_uri": "https://localhost:8080/",
          "height": 542
        },
        "id": "_oUQ1pDjXIHy",
        "outputId": "9a022161-66b4-4dc7-c137-a0407bae6eba"
      },
      "source": [
        "fig = px.scatter_3d(whr_250Country, x='Economy (GDP per Capita)', y='Inflation(%)', z='Trust (Government Corruption)',\n",
        "              size_max=1,opacity=0.7)\n",
        "fig.show()"
      ],
      "execution_count": 43,
      "outputs": [
        {
          "output_type": "display_data",
          "data": {
            "text/html": [
              "<html>\n",
              "<head><meta charset=\"utf-8\" /></head>\n",
              "<body>\n",
              "    <div>\n",
              "            <script src=\"https://cdnjs.cloudflare.com/ajax/libs/mathjax/2.7.5/MathJax.js?config=TeX-AMS-MML_SVG\"></script><script type=\"text/javascript\">if (window.MathJax) {MathJax.Hub.Config({SVG: {font: \"STIX-Web\"}});}</script>\n",
              "                <script type=\"text/javascript\">window.PlotlyConfig = {MathJaxConfig: 'local'};</script>\n",
              "        <script src=\"https://cdn.plot.ly/plotly-latest.min.js\"></script>    \n",
              "            <div id=\"76628e49-6fa9-47d1-acbc-dd58c8c5ef0c\" class=\"plotly-graph-div\" style=\"height:525px; width:100%;\"></div>\n",
              "            <script type=\"text/javascript\">\n",
              "                \n",
              "                    window.PLOTLYENV=window.PLOTLYENV || {};\n",
              "                    \n",
              "                if (document.getElementById(\"76628e49-6fa9-47d1-acbc-dd58c8c5ef0c\")) {\n",
              "                    Plotly.newPlot(\n",
              "                        '76628e49-6fa9-47d1-acbc-dd58c8c5ef0c',\n",
              "                        [{\"hoverlabel\": {\"namelength\": 0}, \"hovertemplate\": \"Economy (GDP per Capita)=%{x}<br>Inflation(%)=%{y}<br>Trust (Government Corruption)=%{z}\", \"legendgroup\": \"\", \"marker\": {\"color\": \"#636efa\", \"opacity\": 0.7, \"symbol\": \"circle\"}, \"mode\": \"markers\", \"name\": \"\", \"scene\": \"scene\", \"showlegend\": false, \"type\": \"scatter3d\", \"x\": [0.31982, 0.38227, 0.401477217674255, 0.332, 0.35, 0.8786700000000001, 0.9553, 0.996192753314972, 0.9159999999999999, 0.9470000000000001, 0.93929, 1.05266, 1.09186446666718, 0.9790000000000001, 1.002, 0.75778, 0.84731, 0.8584281802177429, 0.73, 1.05351, 1.15137, 1.18529546260834, 1.073, 1.092, 0.7682100000000001, 0.8608600000000001, 0.900596737861633, 0.816, 0.85, 1.33358, 1.4444299999999999, 1.4844149351120002, 1.34, 1.3719999999999999, 1.33723, 1.45038, 1.4870972633361799, 1.341, 1.376, 1.02389, 1.12373, 1.1536017656326298, 1.024, 1.043, 1.32376, 1.44024, 1.4884122610092199, 1.338, 1.3619999999999999, 0.39753, 0.54177, 0.586682975292206, 0.532, 0.562, 1.0319200000000002, 1.1306200000000002, 1.15655755996704, 1.0390000000000001, 1.067, 1.30782, 1.42539, 1.4637807607650801, 1.324, 1.3559999999999999, 0.87616, 0.907975316047668, 0.807, 0.28665, 0.39499, 0.43108540773391707, 0.37799999999999995, 0.39299999999999996, 0.77042, 0.8527, 0.885416388511658, 0.7959999999999999, 0.813, 0.8322299999999999, 0.9338299999999999, 0.982409417629242, 0.915, 0.945, 0.99355, 1.09426, 1.12209415435791, 1.0170000000000001, 1.041, 0.98124, 1.08754, 1.1073532104492199, 0.986, 1.004, 1.01216, 1.11306, 1.1614590883255, 1.054, 1.092, 0.25811999999999996, 0.31995, 0.35022771358490007, 0.314, 0.331, 0.0153, 0.06831, 0.09162256866693501, 0.091, 0.046, 0.46038, 0.55604, 0.6017650961875921, 0.5489999999999999, 0.574, 0.4225, 0.5249699999999999, 0.564305365085602, 0.535, 0.5489999999999999, 1.32629, 1.44015, 1.47920441627502, 1.33, 1.365, 0.0785, 0.0, 0.024, 0.026000000000000002, 0.34193, 0.42213999999999996, 0.43801298737525896, 0.358, 0.35, 1.10715, 1.2167, 1.25278460979462, 1.131, 1.159, 0.89012, 1.0278, 1.08116579055786, 0.9890000000000001, 1.0290000000000001, 0.91861, 1.0303200000000001, 1.07062232494354, 0.96, 0.985, 0.23906, 0.27509, 0.27399999999999997, 0.95578, 1.06879, 1.10970628261566, 1.01, 1.034, 1.08254, 1.18649, 1.22255623340607, 1.115, 1.155, 1.20813, 1.31857, 1.3559380769729599, 1.229, 1.263, 1.17898, 1.30915, 1.35268235206604, 1.2329999999999999, 1.2690000000000001, 1.32548, 1.4417799999999998, 1.48238301277161, 1.351, 1.383, 0.44025, 0.8953700000000001, 1.02787, 1.07937383651733, 0.982, 1.015, 0.8640200000000001, 0.97306, 1.00082039833069, 0.889, 0.912, 0.8818, 0.95395, 0.989701807498932, 0.885, 0.9129999999999999, 0.76454, 0.8737, 0.9097844958305359, 0.8059999999999999, 0.794, 1.15174, 1.2796399999999999, 1.3208793401718102, 1.2, 1.237, 0.19072999999999998, 0.29283000000000003, 0.339233845472336, 0.308, 0.336, 1.29025, 1.40598, 1.44357192516327, 1.305, 1.34, 1.27778, 1.39488, 1.43092346191406, 1.2930000000000001, 1.324, 1.06024, 1.15851, 1.1982102394104, 1.036, 1.057, 0.308, 0.7419, 0.8379200000000001, 0.950612664222717, 0.853, 0.8859999999999999, 1.32792, 1.44787, 1.48792338371277, 1.34, 1.3730000000000002, 0.5455800000000001, 0.63107, 0.667224824428558, 0.5920000000000001, 0.611, 1.15406, 1.24886, 1.28948748111725, 1.1540000000000001, 1.181, 0.74553, 0.83454, 0.872001945972443, 0.7809999999999999, 0.8, 0.17417, 0.22415, 0.24454993009567302, 0.344, 0.38, 0.26673, 0.34097, 0.368610262870789, 0.315, 0.32299999999999995, 0.59532, 0.69429, 0.730573117733002, 0.62, 0.642, 1.38604, 1.5107, 1.55167484283447, 1.405, 1.4380000000000002, 1.12094, 1.24142, 1.2860119342803997, 1.171, 1.2009999999999998, 1.3023200000000001, 1.42666, 1.480633020401, 1.3430000000000002, 1.38, 0.64499, 0.74036, 0.7922212481498722, 0.721, 0.755, 0.8282700000000001, 0.95104, 0.995538592338562, 0.899, 0.9309999999999999, 0.98549, 1.07474, 1.1027104854583702, 1.01, 1.043, 1.33596, 1.4834100000000001, 1.5357066392898602, 1.4480000000000002, 1.499, 1.2285700000000002, 1.33766, 1.3753824234008798, 1.301, 1.276, 1.25114, 1.35495, 1.3950666189193701, 1.264, 1.294, 0.81038, 0.89333, 0.925579309463501, 0.8190000000000001, 0.831, 1.27074, 1.3800700000000001, 1.41691517829895, 1.294, 1.327, 0.9019799999999999, 0.9967299999999999, 0.9910123944282528, 0.8220000000000001, 0.8370000000000001, 1.1225399999999999, 1.22943, 1.2845562696456898, 1.143, 1.173, 0.36471, 0.52267, 0.560479462146759, 0.493, 0.512, 1.5542200000000002, 1.61714, 1.63295245170593, 1.474, 1.5, 0.47428000000000003, 0.5604399999999999, 0.5962200760841371, 0.53, 0.551, 1.11312, 1.2178799999999999, 1.26074862480164, 1.148, 1.187, 1.0256399999999999, 1.12268, 1.07498753070831, 0.965, 0.987, 0.37545, 0.521021246910095, 0.47200000000000003, 0.489, 0.0712, 0.10705999999999999, 0.11904179304838199, 0.076, 0.073, 1.13145, 1.0668799999999998, 1.1018030643463101, 0.985, 1.044, 1.14723, 1.2692, 1.3145823478698702, 1.197, 1.238, 1.5639100000000001, 1.6975200000000001, 1.74194359779358, 1.5759999999999998, 1.609, 0.20824, 0.27954, 0.305808693170547, 0.262, 0.27399999999999997, 0.016040000000000002, 0.08709, 0.233442038297653, 0.18600000000000003, 0.191, 1.12486, 1.25142, 1.29121541976929, 1.161, 1.2209999999999999, 0.26074, 0.31292, 0.476180493831635, 0.37, 0.385, 1.2074, 1.30782, 1.34327983856201, 1.27, 1.3, 0.45407, 0.6139100000000001, 0.6484572887420649, 0.557, 0.57, 1.0076100000000001, 1.14372, 1.1893955469131499, 1.09, 1.12, 1.02054, 1.1150799999999998, 1.1531838178634601, 1.038, 1.07, 0.82819, 0.9885299999999999, 1.0272358655929599, 0.914, 0.948, 0.9743799999999999, 1.07838, 1.12112903594971, 1.0170000000000001, 1.051, 0.7347899999999999, 0.8405799999999999, 0.8781145811080929, 0.779, 0.8009999999999999, 0.08308, 0.23430564999580397, 0.198, 0.204, 0.27108000000000004, 0.34112, 0.36711055040359497, 0.682, 0.71, 0.9328700000000001, 0.964434325695038, 0.8740000000000001, 0.879, 0.35996999999999996, 0.44626000000000005, 0.479820191860199, 0.425, 0.446, 1.32944, 1.46468, 1.50394463539124, 1.361, 1.396, 1.2501799999999998, 1.36066, 1.40570604801178, 1.268, 1.3030000000000002, 0.59325, 0.69384, 0.737299203872681, 0.6679999999999999, 0.6940000000000001, 0.0694, 0.1327, 0.16192533075809498, 0.131, 0.138, 0.65435, 0.75216, 0.783756256103516, 0.6890000000000001, 0.696, 1.459, 1.57744, 1.6164631843566901, 1.456, 1.4880000000000002, 1.36011, 0.59543, 0.68816, 0.7268835306167599, 0.652, 0.677, 1.0635299999999999, 1.18306, 1.23374843597412, 1.112, 1.149, 0.75985, 0.8937299999999999, 0.932537317276001, 0.835, 0.855, 0.9001899999999999, 0.9960200000000001, 1.0352252721786501, 0.934, 0.96, 0.70532, 0.81217, 0.85769921541214, 0.775, 0.807, 1.12555, 1.24585, 1.29178786277771, 1.176, 1.206, 1.15991, 1.27607, 1.3151752948761002, 1.188, 1.2209999999999999, 1.35943, 1.69042, 1.82427, 1.8707656860351598, 1.649, 1.6840000000000002, 1.04345, 1.1697, 1.21768391132355, 1.1159999999999999, 1.162, 0.22208000000000003, 0.32846, 0.368745893239975, 0.332, 0.359, 1.39541, 1.48953, 1.53062355518341, 1.379, 1.403, 0.36498, 0.44314, 0.479309022426605, 0.429, 0.45, 0.92053, 1.03437, 1.06931757926941, 0.975, 1.004, 0.33024000000000003, 0.36485, 0.36842092871666, 0.256, 0.268, 1.52186, 1.64555, 1.69227766990662, 1.5290000000000001, 1.5719999999999998, 1.1689100000000001, 1.27973, 1.32539355754852, 1.21, 1.246, 1.18498, 1.2994700000000001, 1.3412059545516999, 1.219, 1.258, 0.0, 0.0226431842893362, 0.0, 0.0, 0.9204899999999999, 1.02416, 1.05469870567322, 0.94, 0.96, 0.39394, 0.39724862575531, 0.337, 0.306, 1.23011, 1.34253, 1.38439786434174, 1.251, 1.286, 0.83524, 0.9731799999999999, 1.00985014438629, 0.9179999999999999, 0.9490000000000001, 0.52107, 0.63069, 0.6595166921615601, 0.605, 0.99534, 1.09686, 0.71206, 0.8109999999999999, 1.33171, 1.45181, 1.49438726902008, 1.355, 1.3869999999999998, 1.3965100000000001, 1.5273299999999999, 1.5649795532226598, 1.42, 1.452, 1.29098, 1.39729, 1.4336265325546298, 1.365, 1.368, 0.39047, 0.48835, 0.524713635444641, 0.474, 0.493, 0.9669, 1.0893, 1.12786877155304, 1.016, 1.05, 0.20868, 0.28123000000000004, 0.30544471740722695, 0.259, 0.275, 1.21183, 1.32572, 1.36135590076447, 1.2229999999999999, 1.2309999999999999, 0.88113, 0.97724, 1.00726580619812, 0.9, 0.9209999999999999, 1.06098, 1.1649200000000002, 1.1982743740081798, 1.148, 1.183, 0.95847, 1.08017, 1.1307767629623402, 1.016, 1.052, 0.21101999999999999, 0.34719, 0.381430715322495, 0.322, 0.332, 0.79907, 0.87287, 0.89465194940567, 0.7929999999999999, 0.82, 1.42727, 1.57352, 1.6263433694839498, 2.096, 1.5030000000000001, 1.06166, 1.18157, 1.2175596952438401, 1.093, 1.124, 0.63244, 0.7359100000000001, 0.786441087722778, 0.7190000000000001, 0.745, 0.5464899999999999, 0.57939, 0.5916834473609921, 0.442, 0.287, 0.47038, 0.61202, 0.6364067792892459, 0.562, 0.578, 0.271, 0.35041, 0.37584653496742204, 0.35700000000000004, 0.366], \"y\": [6.8, 6.8, 6.8, 6.8, 6.8, 1.7, 1.7, 1.7, 1.7, 1.7, 3.9, 3.9, 3.9, 3.9, 3.9, 8.9, 8.9, 8.9, 8.9, 20.8, 20.8, 20.8, 20.8, 20.8, 4.383435582822086, 4.383435582822086, 4.383435582822086, 4.383435582822086, 4.383435582822086, 2.4, 2.4, 2.4, 2.4, 2.4, 2.1, 2.1, 2.1, 2.1, 2.1, 2.4, 2.4, 2.4, 2.4, 2.4, 4.383435582822086, 4.383435582822086, 4.383435582822086, 4.383435582822086, 4.383435582822086, 7.6, 7.6, 7.6, 7.6, 7.6, 19.0, 19.0, 19.0, 19.0, 19.0, 1.3, 1.3, 1.3, 1.3, 1.3, 1.3, 1.3, 1.3, 2.4, 2.4, 2.4, 2.4, 2.4, 11.0, 11.0, 11.0, 11.0, 11.0, 4.383435582822086, 4.383435582822086, 4.383435582822086, 4.383435582822086, 4.383435582822086, 6.1, 6.1, 6.1, 6.1, 6.1, 6.5, 6.5, 6.5, 6.5, 6.5, 1.5, 1.5, 1.5, 1.5, 1.5, 2.1, 2.1, 2.1, 2.1, 2.1, 9.3, 9.3, 9.3, 9.3, 9.3, 3.2, 3.2, 3.2, 3.2, 3.2, 2.6, 2.6, 2.6, 2.6, 2.6, 4.383435582822086, 4.383435582822086, 4.383435582822086, 4.383435582822086, 4.383435582822086, 7.0, 7.0, 7.0, 7.0, 4.5, 4.5, 4.5, 4.5, 4.5, 4.383435582822086, 4.383435582822086, 4.383435582822086, 4.383435582822086, 4.383435582822086, 4.383435582822086, 4.383435582822086, 4.383435582822086, 4.383435582822086, 4.383435582822086, 4.383435582822086, 4.383435582822086, 4.383435582822086, 4.383435582822086, 4.383435582822086, 4.383435582822086, 4.383435582822086, 4.383435582822086, 5.6, 5.6, 5.6, 5.6, 5.6, 2.2, 2.2, 2.2, 2.2, 2.2, 0.2, 0.2, 0.2, 0.2, 0.2, 1.4, 1.4, 1.4, 1.4, 1.4, 0.8, 0.8, 0.8, 0.8, 0.8, 2.5, 5.0, 5.0, 5.0, 5.0, 5.0, 2.6, 2.6, 2.6, 2.6, 2.6, 9.0, 9.0, 9.0, 9.0, 9.0, 0.9, 0.9, 0.9, 0.9, 0.9, 3.4, 3.4, 3.4, 3.4, 3.4, 8.4, 8.4, 8.4, 8.4, 8.4, 1.3, 1.3, 1.3, 1.3, 1.3, 0.7, 0.7, 0.7, 0.7, 0.7, 7.0, 7.0, 7.0, 7.0, 7.0, 4.383435582822086, 3.3, 3.3, 3.3, 3.3, 3.3, 1.6, 1.6, 1.6, 1.6, 1.6, 11.0, 11.0, 11.0, 11.0, 11.0, -0.8, -0.8, -0.8, -0.8, -0.8, 3.8, 3.8, 3.8, 3.8, 3.8, 15.2, 15.2, 15.2, 15.2, 15.2, 6.3, 6.3, 6.3, 6.3, 6.3, 5.2, 5.2, 5.2, 5.2, 5.2, 4.383435582822086, 4.383435582822086, 4.383435582822086, 4.383435582822086, 4.383435582822086, 4.383435582822086, 4.383435582822086, 4.383435582822086, 4.383435582822086, 4.383435582822086, 3.9, 3.9, 3.9, 3.9, 3.9, 9.6, 9.6, 9.6, 9.6, 9.6, 7.7, 7.7, 7.7, 7.7, 7.7, 2.0, 2.0, 2.0, 2.0, 2.0, 0.6, 0.6, 0.6, 0.6, 0.6, 3.9, 3.9, 3.9, 3.9, 3.9, 1.2, 1.2, 1.2, 1.2, 1.2, 4.383435582822086, 4.383435582822086, 4.383435582822086, 4.383435582822086, 4.383435582822086, 0.2, 0.2, 0.2, 0.2, 0.2, 6.4, 6.4, 6.4, 6.4, 6.4, 5.8, 5.8, 5.8, 5.8, 5.8, 5.8, 5.8, 5.8, 5.8, 5.8, 5.6, 5.6, 5.6, 5.6, 5.6, 6.8, 6.8, 6.8, 6.8, 6.8, 0.2, 0.2, 0.2, 0.2, 0.2, 5.0, 5.0, 5.0, 5.0, 5.0, 5.0, 5.0, 5.0, 5.0, 5.2, 5.2, 5.2, 5.2, 5.2, 3.2, 3.2, 3.2, 3.2, 3.2, 1.2, 1.2, 1.2, 1.2, 1.2, 4.383435582822086, 4.383435582822086, 4.383435582822086, 4.383435582822086, 4.383435582822086, 8.8, 8.8, 8.8, 8.8, 8.8, 18.4, 18.4, 18.4, 18.4, 18.4, 2.2, 2.2, 2.2, 2.2, 2.2, 0.1, 0.1, 0.1, 0.1, 0.1, 1.0, 1.0, 1.0, 1.0, 1.0, 4.6, 4.6, 4.6, 4.6, 4.6, 3.5, 3.5, 3.5, 3.5, 3.5, 4.0, 4.0, 4.0, 4.0, 4.0, 8.2, 8.2, 8.2, 8.2, 8.2, 4.0, 4.0, 4.0, 4.0, 4.0, 2.0, 2.0, 2.0, 2.0, 2.0, 4.4, 4.4, 4.4, 4.4, 5.7, 5.7, 5.7, 5.7, 5.7, 5.8, 5.8, 5.8, 5.8, 9.5, 9.5, 9.5, 9.5, 9.5, 2.5, 2.5, 2.5, 2.5, 2.5, 1.3, 1.3, 1.3, 1.3, 1.3, 5.7, 5.7, 5.7, 5.7, 5.7, 4.383435582822086, 4.383435582822086, 4.383435582822086, 4.383435582822086, 4.383435582822086, 8.7, 8.7, 8.7, 8.7, 8.7, 1.9, 1.9, 1.9, 1.9, 1.9, 1.6, 7.7, 7.7, 7.7, 7.7, 7.7, 4.1, 4.1, 4.1, 4.1, 4.1, 2.3, 2.3, 2.3, 2.3, 2.3, 4.383435582822086, 4.383435582822086, 4.383435582822086, 4.383435582822086, 4.383435582822086, 2.8, 2.8, 2.8, 2.8, 2.8, 1.0, 1.0, 1.0, 1.0, 1.0, 4.383435582822086, 4.383435582822086, 4.383435582822086, 4.383435582822086, 4.383435582822086, 3.6, 3.1, 3.1, 3.1, 3.1, 3.1, 4.383435582822086, 4.383435582822086, 4.383435582822086, 4.383435582822086, 4.383435582822086, 5.9, 5.9, 5.9, 5.9, 5.9, 3.7, 3.7, 3.7, 3.7, 3.7, 0.8, 0.8, 0.8, 0.8, 0.8, 2.2, 2.2, 2.2, 2.2, 2.2, 11.1, 11.1, 11.1, 11.1, 11.1, 5.2, 5.2, 5.2, 5.2, 5.2, 1.7, 1.7, 1.7, 1.7, 1.7, 1.8, 1.8, 1.8, 1.8, 1.8, 4.383435582822086, 4.383435582822086, 4.383435582822086, 4.383435582822086, 4.383435582822086, 4.383435582822086, 4.383435582822086, 4.383435582822086, 4.383435582822086, 4.383435582822086, 4.383435582822086, 4.383435582822086, 4.383435582822086, 1.8, 1.8, 1.8, 1.8, 1.8, 4.7, 4.7, 4.7, 4.7, 4.7, 25.0, 25.0, 25.0, 25.0, 4.2, 4.2, 4.383435582822086, 4.383435582822086, 0.0, 0.0, 0.0, 0.0, 0.0, -0.4, -0.4, -0.4, -0.4, -0.4, 1.1, 1.1, 1.1, 1.1, 1.1, 3.7, 3.7, 3.7, 3.7, 3.7, 2.2, 2.2, 2.2, 2.2, 2.2, 2.2, 2.2, 2.2, 2.2, 2.2, 5.4, 5.4, 5.4, 5.4, 5.4, 6.1, 6.1, 6.1, 6.1, 6.1, 7.6, 7.6, 7.6, 7.6, 7.6, 9.0, 9.0, 9.0, 9.0, 9.0, 6.2, 6.2, 6.2, 6.2, 6.2, 0.7, 0.7, 0.7, 0.7, 0.7, 1.3, 1.3, 1.3, 1.3, 1.3, 8.3, 8.3, 8.3, 8.3, 8.3, 10.1, 10.1, 10.1, 10.1, 10.1, 11.8, 11.8, 11.8, 11.8, 11.8, 7.1, 7.1, 7.1, 7.1, 7.1, 4.383435582822086, 4.383435582822086, 4.383435582822086, 4.383435582822086, 4.383435582822086], \"z\": [0.09719, 0.07112, 0.0611578300595284, 0.036000000000000004, 0.025, 0.06412999999999999, 0.05301, 0.0398642159998417, 0.032, 0.027000000000000003, 0.17382999999999998, 0.16157, 0.14609611034393302, 0.135, 0.114, 0.07122, 0.08434, 0.0697203353047371, 0.061, 0.08484, 0.07296, 0.05973988771438599, 0.054000000000000006, 0.05, 0.039, 0.036160000000000005, 0.0266744215041399, 0.027999999999999997, 0.064, 0.35636999999999996, 0.32331, 0.301183730363846, 0.302, 0.29, 0.18675999999999998, 0.21348000000000003, 0.22106036543846105, 0.22399999999999998, 0.226, 0.16065, 0.17914000000000002, 0.180987507104874, 0.17600000000000002, 0.182, 0.306, 0.25772, 0.257042169570923, 0.12300000000000001, 0.11, 0.12569, 0.12583, 0.123717859387398, 0.14400000000000002, 0.14300000000000002, 0.1909, 0.17457, 0.156313821673393, 0.154, 0.142, 0.2254, 0.26248, 0.251343131065369, 0.24, 0.21, 0.10770999999999999, 0.0965810716152191, 0.08900000000000001, 0.0801, 0.06681000000000001, 0.0609290152788162, 0.067, 0.08199999999999999, 0.15445, 0.1616, 0.17338038980960802, 0.171, 0.16699999999999998, 0.00227, 0.0, 0.0, 0.0, 0.006, 0.12474, 0.10769000000000001, 0.0985831990838051, 0.092, 0.1, 0.17521, 0.14165999999999998, 0.11109276115894301, 0.08800000000000001, 0.086, 0.00872, 0.00615, 0.0110515309497714, 0.009000000000000001, 0.004, 0.12832000000000002, 0.12533, 0.12032810598611803, 0.128, 0.113, 0.10062, 0.09419, 0.0841479450464249, 0.076, 0.18, 0.07247, 0.08092, 0.0681059509515762, 0.065, 0.062, 0.05786, 0.06126, 0.0513066314160824, 0.043, 0.037000000000000005, 0.32957, 0.31329, 0.287371516227722, 0.29100000000000004, 0.308, 0.08288999999999999, 0.0565650761127472, 0.038, 0.035, 0.05269, 0.04952, 0.0535818822681904, 0.06, 0.078, 0.12869, 0.11450999999999999, 0.0822879821062088, 0.061, 0.055999999999999994, 0.02781, 0.02745, 0.0227942746132612, 0.10300000000000001, 0.1, 0.0512, 0.053989999999999996, 0.0466687418520451, 0.039, 0.034, 0.19899999999999998, 0.18437, 0.078, 0.10583, 0.10547000000000001, 0.100106589496136, 0.10099999999999999, 0.09300000000000001, 0.0243, 0.04002, 0.0431031100451946, 0.039, 0.022000000000000002, 0.06146, 0.05227999999999999, 0.0412379764020443, 0.035, 0.040999999999999995, 0.02652, 0.03986, 0.0368729270994663, 0.034, 0.036000000000000004, 0.48357, 0.44453000000000004, 0.40077006816863997, 0.408, 0.41, 0.28105, 0.14234000000000002, 0.12372000000000001, 0.113945253193378, 0.106, 0.10099999999999999, 0.1809, 0.18037, 0.140134647488594, 0.12, 0.087, 0.06324, 0.10393, 0.114381365478039, 0.107, 0.067, 0.11775999999999999, 0.10613, 0.0899809598922729, 0.08199999999999999, 0.07400000000000001, 0.15184, 0.18519000000000002, 0.18324892222881303, 0.174, 0.161, 0.15048, 0.1717, 0.16545571386814098, 0.146, 0.1, 0.41372, 0.41003999999999996, 0.38261154294014, 0.39299999999999996, 0.39299999999999996, 0.20646, 0.17808, 0.172502428293228, 0.17600000000000002, 0.183, 0.11091, 0.09314, 0.0760467872023582, 0.052000000000000005, 0.055, 0.16699999999999998, 0.38331, 0.3188, 0.25166663527488703, 0.215, 0.16399999999999998, 0.21843, 0.28551, 0.276731938123703, 0.28, 0.265, 0.04355, 0.0326, 0.0253363698720932, 0.028999999999999998, 0.04, 0.013969999999999998, 0.04127, 0.043289776891470004, 0.044000000000000004, 0.034, 0.09472, 0.08701, 0.0772232785820961, 0.071, 0.078, 0.12139000000000001, 0.1192, 0.110937617719173, 0.094, 0.086, 0.17175, 0.14476, 0.0998721495270729, 0.10400000000000001, 0.11, 0.06825, 0.06906, 0.0733454525470734, 0.07400000000000001, 0.078, 0.37124, 0.31647, 0.29393374919891396, 0.29100000000000004, 0.287, 0.02758, 0.044719999999999996, 0.0366369374096394, 0.022000000000000002, 0.02, 0.14145, 0.14975, 0.15352655947208402, 0.138, 0.11800000000000001, 0.08492000000000001, 0.08722, 0.0922268852591515, 0.09300000000000001, 0.085, 0.0, 0.00322, 0.0153171354904771, 0.018000000000000002, 0.027999999999999997, 0.13788, 0.13635999999999998, 0.10721575468778599, 0.095, 0.08900000000000001, 0.28703, 0.29754, 0.29838815331459007, 0.306, 0.31, 0.07785, 0.08728, 0.0852421000599861, 0.272, 0.08199999999999999, 0.02901, 0.02556, 0.0280280914157629, 0.027999999999999997, 0.03, 0.02299, 0.04294, 0.0552677810192108, 0.031, 0.027999999999999997, 0.1806, 0.18985, 0.163760736584663, 0.15, 0.14, 0.14293, 0.13297, 0.11980327218771002, 0.134, 0.13, 0.08454, 0.11132, 0.11928288638591802, 0.121, 0.096, 0.05839, 0.06686, 0.0646413192152977, 0.055, 0.053, 0.25609, 0.23669, 0.21515955030918102, 0.106, 0.09699999999999999, 0.042319999999999997, 0.047619999999999996, 0.0394391790032387, 0.035, 0.023, 0.06332, 0.0889, 0.0738427266478539, 0.066, 0.064, 0.04582, 0.030610000000000002, 0.037513829767704, 0.136, 0.027000000000000003, 0.12504, 0.119094640016556, 0.11199999999999999, 0.09300000000000001, 0.06232000000000001, 0.04852, 0.0389482490718365, 0.03, 0.033, 0.11023, 0.10339000000000001, 0.0926102101802826, 0.14800000000000002, 0.152, 0.01031, 0.0182, 0.0118656428530812, 0.006, 0.042, 0.37798000000000004, 0.35329, 0.31883442401886, 0.321, 0.316, 0.08123999999999999, 0.07506, 0.0672319754958153, 0.049, 0.040999999999999995, 0.06977, 0.07564, 0.0727116540074348, 0.08, 0.08900000000000001, 0.10500999999999999, 0.09081, 0.0656007081270218, 0.059000000000000004, 0.024, 0.12352, 0.13647, 0.10497024655342098, 0.055999999999999994, 0.052000000000000005, 0.13585999999999998, 0.17554, 0.153066068887711, 0.142, 0.151, 0.17461, 0.17955, 0.136957004666328, 0.09300000000000001, 0.08800000000000001, 0.07521, 0.05202999999999999, 0.0421815551817417, 0.05, 0.06, 0.21311999999999998, 0.18355, 0.132774114608765, 0.095, 0.073, 0.026660000000000003, 0.03285, 0.0329022891819477, 0.032, 0.038, 0.14296, 0.12721, 0.0881741940975189, 0.081, 0.08, 0.08546000000000001, 0.08404, 0.0877631828188896, 0.07400000000000001, 0.076, 0.15603, 0.17943638563156103, 0.158, 0.138, 0.19034, 0.20243, 0.188816204667091, 0.17800000000000002, 0.172, 0.10397999999999999, 0.0931469723582268, 0.064, 0.055999999999999994, 0.059070000000000004, 0.07007999999999999, 0.0729755461215973, 0.078, 0.08900000000000001, 0.31814000000000003, 0.29927, 0.282661825418472, 0.295, 0.298, 0.42922, 0.41903999999999997, 0.38281670212745705, 0.389, 0.38, 0.19317, 0.16292, 0.130687981843948, 0.128, 0.127, 0.15639, 0.17176, 0.13857294619083402, 0.099, 0.102, 0.0403, 0.0305, 0.0261215660721064, 0.032, 0.040999999999999995, 0.36503, 0.35775999999999997, 0.31596383452415505, 0.34, 0.341, 0.32524000000000003, 0.10464000000000001, 0.1388, 0.12434806674718901, 0.113, 0.098, 0.0927, 0.08423, 0.070983923971653, 0.063, 0.054000000000000006, 0.08242000000000001, 0.07396, 0.091065913438797, 0.07400000000000001, 0.08, 0.05989, 0.05292, 0.0470490865409374, 0.034, 0.027000000000000003, 0.12279000000000001, 0.11757000000000001, 0.0993318930268288, 0.105, 0.107, 0.04212, 0.055, 0.0593078061938286, 0.064, 0.05, 0.01078, 0.01521, 0.0158694516867399, 0.017, 0.025, 0.12275, 0.52208, 0.48049, 0.43929925560951205, 0.171, 0.16699999999999998, 0.006490000000000001, 0.006790000000000001, 0.0043879006989300294, 0.001, 0.005, 0.55191, 0.50521, 0.455220013856888, 0.444, 0.41100000000000003, 0.32524000000000003, 0.30008, 0.27343225479126004, 0.127, 0.132, 0.10712999999999999, 0.11681, 0.11546044796705199, 0.08199999999999999, 0.07200000000000001, 0.02617, 0.04339, 0.0409037806093693, 0.043, 0.039, 0.08786000000000001, 0.08196, 0.0710951760411263, 0.053, 0.045, 0.4921, 0.46986999999999995, 0.46430778503417997, 0.457, 0.45299999999999996, 0.03431, 0.02947, 0.0242108516395092, 0.013999999999999999, 0.013999999999999999, 0.03787, 0.03635, 0.0451289787888527, 0.051, 0.057, 0.3118, 0.28241032361984303, 0.282, 0.27, 0.08884, 0.08415, 0.0725094974040985, 0.055999999999999994, 0.055, 0.13015, 0.116793513298035, 0.106, 0.091, 0.06398, 0.06137000000000001, 0.0709140971302986, 0.07400000000000001, 0.079, 0.09179, 0.07964, 0.0736539661884308, 0.05, 0.047, 0.1466, 0.10039, 0.089847519993782, 0.08199999999999999, 0.13633, 0.12692, 0.0306, 0.135, 0.43843999999999994, 0.40867, 0.384398728609085, 0.38299999999999995, 0.373, 0.41978000000000004, 0.41203, 0.36700728535652205, 0.35700000000000004, 0.34299999999999997, 0.08129, 0.0663, 0.0638292357325554, 0.078, 0.09699999999999999, 0.15072, 0.13509000000000002, 0.14637714624404902, 0.034, 0.14400000000000002, 0.031869999999999996, 0.02833, 0.0316127352416515, 0.028999999999999998, 0.027999999999999997, 0.10730999999999999, 0.11587, 0.0956650152802467, 0.10099999999999999, 0.085, 0.0114, 0.01241, 0.00896481610834599, 0.019, 0.016, 0.06358, 0.0817, 0.0867231488227844, 0.063, 0.055, 0.15746, 0.12347999999999999, 0.0996715798974037, 0.109, 0.106, 0.30844, 0.28467, 0.25927034020423895, 0.037000000000000005, 0.027999999999999997, 0.07267, 0.06442, 0.057069718837738, 0.061, 0.06, 0.02961, 0.01829, 0.0230294708162546, 0.011000000000000001, 0.01, 0.38583, 0.35561, 0.324489563703537, null, 0.182, 0.24558000000000002, 0.21394000000000002, 0.17806187272071802, 0.155, 0.15, 0.30826, 0.28333, 0.246528223156929, 0.259, 0.24, 0.07854, 0.05892000000000001, 0.0567674227058887, 0.064, 0.077, 0.12468, 0.11479, 0.0782135501503944, 0.08199999999999999, 0.087, 0.08079, 0.08582000000000001, 0.0953753814101219, 0.099, 0.08900000000000001]}],\n",
              "                        {\"legend\": {\"tracegroupgap\": 0}, \"margin\": {\"t\": 60}, \"scene\": {\"domain\": {\"x\": [0.0, 1.0], \"y\": [0.0, 1.0]}, \"xaxis\": {\"title\": {\"text\": \"Economy (GDP per Capita)\"}}, \"yaxis\": {\"title\": {\"text\": \"Inflation(%)\"}}, \"zaxis\": {\"title\": {\"text\": \"Trust (Government Corruption)\"}}}, \"template\": {\"data\": {\"bar\": [{\"error_x\": {\"color\": \"#2a3f5f\"}, \"error_y\": {\"color\": \"#2a3f5f\"}, \"marker\": {\"line\": {\"color\": \"#E5ECF6\", \"width\": 0.5}}, \"type\": \"bar\"}], \"barpolar\": [{\"marker\": {\"line\": {\"color\": \"#E5ECF6\", \"width\": 0.5}}, \"type\": \"barpolar\"}], \"carpet\": [{\"aaxis\": {\"endlinecolor\": \"#2a3f5f\", \"gridcolor\": \"white\", \"linecolor\": \"white\", \"minorgridcolor\": \"white\", \"startlinecolor\": \"#2a3f5f\"}, \"baxis\": {\"endlinecolor\": \"#2a3f5f\", \"gridcolor\": \"white\", \"linecolor\": \"white\", \"minorgridcolor\": \"white\", \"startlinecolor\": \"#2a3f5f\"}, \"type\": \"carpet\"}], \"choropleth\": [{\"colorbar\": {\"outlinewidth\": 0, \"ticks\": \"\"}, \"type\": \"choropleth\"}], \"contour\": [{\"colorbar\": {\"outlinewidth\": 0, \"ticks\": \"\"}, \"colorscale\": [[0.0, \"#0d0887\"], [0.1111111111111111, \"#46039f\"], [0.2222222222222222, \"#7201a8\"], [0.3333333333333333, \"#9c179e\"], [0.4444444444444444, \"#bd3786\"], [0.5555555555555556, \"#d8576b\"], [0.6666666666666666, \"#ed7953\"], [0.7777777777777778, \"#fb9f3a\"], [0.8888888888888888, \"#fdca26\"], [1.0, \"#f0f921\"]], \"type\": \"contour\"}], \"contourcarpet\": [{\"colorbar\": {\"outlinewidth\": 0, \"ticks\": \"\"}, \"type\": \"contourcarpet\"}], \"heatmap\": [{\"colorbar\": {\"outlinewidth\": 0, \"ticks\": \"\"}, \"colorscale\": [[0.0, \"#0d0887\"], [0.1111111111111111, \"#46039f\"], [0.2222222222222222, \"#7201a8\"], [0.3333333333333333, \"#9c179e\"], [0.4444444444444444, \"#bd3786\"], [0.5555555555555556, \"#d8576b\"], [0.6666666666666666, \"#ed7953\"], [0.7777777777777778, \"#fb9f3a\"], [0.8888888888888888, \"#fdca26\"], [1.0, \"#f0f921\"]], \"type\": \"heatmap\"}], \"heatmapgl\": [{\"colorbar\": {\"outlinewidth\": 0, \"ticks\": \"\"}, \"colorscale\": [[0.0, \"#0d0887\"], [0.1111111111111111, \"#46039f\"], [0.2222222222222222, \"#7201a8\"], [0.3333333333333333, \"#9c179e\"], [0.4444444444444444, \"#bd3786\"], [0.5555555555555556, \"#d8576b\"], [0.6666666666666666, \"#ed7953\"], [0.7777777777777778, \"#fb9f3a\"], [0.8888888888888888, \"#fdca26\"], [1.0, \"#f0f921\"]], \"type\": \"heatmapgl\"}], \"histogram\": [{\"marker\": {\"colorbar\": {\"outlinewidth\": 0, \"ticks\": \"\"}}, \"type\": \"histogram\"}], \"histogram2d\": [{\"colorbar\": {\"outlinewidth\": 0, \"ticks\": \"\"}, \"colorscale\": [[0.0, \"#0d0887\"], [0.1111111111111111, \"#46039f\"], [0.2222222222222222, \"#7201a8\"], [0.3333333333333333, \"#9c179e\"], [0.4444444444444444, \"#bd3786\"], [0.5555555555555556, \"#d8576b\"], [0.6666666666666666, \"#ed7953\"], [0.7777777777777778, \"#fb9f3a\"], [0.8888888888888888, \"#fdca26\"], [1.0, \"#f0f921\"]], \"type\": \"histogram2d\"}], \"histogram2dcontour\": [{\"colorbar\": {\"outlinewidth\": 0, \"ticks\": \"\"}, \"colorscale\": [[0.0, \"#0d0887\"], [0.1111111111111111, \"#46039f\"], [0.2222222222222222, \"#7201a8\"], [0.3333333333333333, \"#9c179e\"], [0.4444444444444444, \"#bd3786\"], [0.5555555555555556, \"#d8576b\"], [0.6666666666666666, \"#ed7953\"], [0.7777777777777778, \"#fb9f3a\"], [0.8888888888888888, \"#fdca26\"], [1.0, \"#f0f921\"]], \"type\": \"histogram2dcontour\"}], \"mesh3d\": [{\"colorbar\": {\"outlinewidth\": 0, \"ticks\": \"\"}, \"type\": \"mesh3d\"}], \"parcoords\": [{\"line\": {\"colorbar\": {\"outlinewidth\": 0, \"ticks\": \"\"}}, \"type\": \"parcoords\"}], \"pie\": [{\"automargin\": true, \"type\": \"pie\"}], \"scatter\": [{\"marker\": {\"colorbar\": {\"outlinewidth\": 0, \"ticks\": \"\"}}, \"type\": \"scatter\"}], \"scatter3d\": [{\"line\": {\"colorbar\": {\"outlinewidth\": 0, \"ticks\": \"\"}}, \"marker\": {\"colorbar\": {\"outlinewidth\": 0, \"ticks\": \"\"}}, \"type\": \"scatter3d\"}], \"scattercarpet\": [{\"marker\": {\"colorbar\": {\"outlinewidth\": 0, \"ticks\": \"\"}}, \"type\": \"scattercarpet\"}], \"scattergeo\": [{\"marker\": {\"colorbar\": {\"outlinewidth\": 0, \"ticks\": \"\"}}, \"type\": \"scattergeo\"}], \"scattergl\": [{\"marker\": {\"colorbar\": {\"outlinewidth\": 0, \"ticks\": \"\"}}, \"type\": \"scattergl\"}], \"scattermapbox\": [{\"marker\": {\"colorbar\": {\"outlinewidth\": 0, \"ticks\": \"\"}}, \"type\": \"scattermapbox\"}], \"scatterpolar\": [{\"marker\": {\"colorbar\": {\"outlinewidth\": 0, \"ticks\": \"\"}}, \"type\": \"scatterpolar\"}], \"scatterpolargl\": [{\"marker\": {\"colorbar\": {\"outlinewidth\": 0, \"ticks\": \"\"}}, \"type\": \"scatterpolargl\"}], \"scatterternary\": [{\"marker\": {\"colorbar\": {\"outlinewidth\": 0, \"ticks\": \"\"}}, \"type\": \"scatterternary\"}], \"surface\": [{\"colorbar\": {\"outlinewidth\": 0, \"ticks\": \"\"}, \"colorscale\": [[0.0, \"#0d0887\"], [0.1111111111111111, \"#46039f\"], [0.2222222222222222, \"#7201a8\"], [0.3333333333333333, \"#9c179e\"], [0.4444444444444444, \"#bd3786\"], [0.5555555555555556, \"#d8576b\"], [0.6666666666666666, \"#ed7953\"], [0.7777777777777778, \"#fb9f3a\"], [0.8888888888888888, \"#fdca26\"], [1.0, \"#f0f921\"]], \"type\": \"surface\"}], \"table\": [{\"cells\": {\"fill\": {\"color\": \"#EBF0F8\"}, \"line\": {\"color\": \"white\"}}, \"header\": {\"fill\": {\"color\": \"#C8D4E3\"}, \"line\": {\"color\": \"white\"}}, \"type\": \"table\"}]}, \"layout\": {\"annotationdefaults\": {\"arrowcolor\": \"#2a3f5f\", \"arrowhead\": 0, \"arrowwidth\": 1}, \"coloraxis\": {\"colorbar\": {\"outlinewidth\": 0, \"ticks\": \"\"}}, \"colorscale\": {\"diverging\": [[0, \"#8e0152\"], [0.1, \"#c51b7d\"], [0.2, \"#de77ae\"], [0.3, \"#f1b6da\"], [0.4, \"#fde0ef\"], [0.5, \"#f7f7f7\"], [0.6, \"#e6f5d0\"], [0.7, \"#b8e186\"], [0.8, \"#7fbc41\"], [0.9, \"#4d9221\"], [1, \"#276419\"]], \"sequential\": [[0.0, \"#0d0887\"], [0.1111111111111111, \"#46039f\"], [0.2222222222222222, \"#7201a8\"], [0.3333333333333333, \"#9c179e\"], [0.4444444444444444, \"#bd3786\"], [0.5555555555555556, \"#d8576b\"], [0.6666666666666666, \"#ed7953\"], [0.7777777777777778, \"#fb9f3a\"], [0.8888888888888888, \"#fdca26\"], [1.0, \"#f0f921\"]], \"sequentialminus\": [[0.0, \"#0d0887\"], [0.1111111111111111, \"#46039f\"], [0.2222222222222222, \"#7201a8\"], [0.3333333333333333, \"#9c179e\"], [0.4444444444444444, \"#bd3786\"], [0.5555555555555556, \"#d8576b\"], [0.6666666666666666, \"#ed7953\"], [0.7777777777777778, \"#fb9f3a\"], [0.8888888888888888, \"#fdca26\"], [1.0, \"#f0f921\"]]}, \"colorway\": [\"#636efa\", \"#EF553B\", \"#00cc96\", \"#ab63fa\", \"#FFA15A\", \"#19d3f3\", \"#FF6692\", \"#B6E880\", \"#FF97FF\", \"#FECB52\"], \"font\": {\"color\": \"#2a3f5f\"}, \"geo\": {\"bgcolor\": \"white\", \"lakecolor\": \"white\", \"landcolor\": \"#E5ECF6\", \"showlakes\": true, \"showland\": true, \"subunitcolor\": \"white\"}, \"hoverlabel\": {\"align\": \"left\"}, \"hovermode\": \"closest\", \"mapbox\": {\"style\": \"light\"}, \"paper_bgcolor\": \"white\", \"plot_bgcolor\": \"#E5ECF6\", \"polar\": {\"angularaxis\": {\"gridcolor\": \"white\", \"linecolor\": \"white\", \"ticks\": \"\"}, \"bgcolor\": \"#E5ECF6\", \"radialaxis\": {\"gridcolor\": \"white\", \"linecolor\": \"white\", \"ticks\": \"\"}}, \"scene\": {\"xaxis\": {\"backgroundcolor\": \"#E5ECF6\", \"gridcolor\": \"white\", \"gridwidth\": 2, \"linecolor\": \"white\", \"showbackground\": true, \"ticks\": \"\", \"zerolinecolor\": \"white\"}, \"yaxis\": {\"backgroundcolor\": \"#E5ECF6\", \"gridcolor\": \"white\", \"gridwidth\": 2, \"linecolor\": \"white\", \"showbackground\": true, \"ticks\": \"\", \"zerolinecolor\": \"white\"}, \"zaxis\": {\"backgroundcolor\": \"#E5ECF6\", \"gridcolor\": \"white\", \"gridwidth\": 2, \"linecolor\": \"white\", \"showbackground\": true, \"ticks\": \"\", \"zerolinecolor\": \"white\"}}, \"shapedefaults\": {\"line\": {\"color\": \"#2a3f5f\"}}, \"ternary\": {\"aaxis\": {\"gridcolor\": \"white\", \"linecolor\": \"white\", \"ticks\": \"\"}, \"baxis\": {\"gridcolor\": \"white\", \"linecolor\": \"white\", \"ticks\": \"\"}, \"bgcolor\": \"#E5ECF6\", \"caxis\": {\"gridcolor\": \"white\", \"linecolor\": \"white\", \"ticks\": \"\"}}, \"title\": {\"x\": 0.05}, \"xaxis\": {\"automargin\": true, \"gridcolor\": \"white\", \"linecolor\": \"white\", \"ticks\": \"\", \"title\": {\"standoff\": 15}, \"zerolinecolor\": \"white\", \"zerolinewidth\": 2}, \"yaxis\": {\"automargin\": true, \"gridcolor\": \"white\", \"linecolor\": \"white\", \"ticks\": \"\", \"title\": {\"standoff\": 15}, \"zerolinecolor\": \"white\", \"zerolinewidth\": 2}}}},\n",
              "                        {\"responsive\": true}\n",
              "                    ).then(function(){\n",
              "                            \n",
              "var gd = document.getElementById('76628e49-6fa9-47d1-acbc-dd58c8c5ef0c');\n",
              "var x = new MutationObserver(function (mutations, observer) {{\n",
              "        var display = window.getComputedStyle(gd).display;\n",
              "        if (!display || display === 'none') {{\n",
              "            console.log([gd, 'removed!']);\n",
              "            Plotly.purge(gd);\n",
              "            observer.disconnect();\n",
              "        }}\n",
              "}});\n",
              "\n",
              "// Listen for the removal of the full notebook cells\n",
              "var notebookContainer = gd.closest('#notebook-container');\n",
              "if (notebookContainer) {{\n",
              "    x.observe(notebookContainer, {childList: true});\n",
              "}}\n",
              "\n",
              "// Listen for the clearing of the current output cell\n",
              "var outputEl = gd.closest('.output');\n",
              "if (outputEl) {{\n",
              "    x.observe(outputEl, {childList: true});\n",
              "}}\n",
              "\n",
              "                        })\n",
              "                };\n",
              "                \n",
              "            </script>\n",
              "        </div>\n",
              "</body>\n",
              "</html>"
            ]
          },
          "metadata": {
            "tags": []
          }
        }
      ]
    },
    {
      "cell_type": "markdown",
      "metadata": {
        "id": "Pr6gUoDGhXK1"
      },
      "source": [
        "After plotting the three columns together we could notice the precense of 5 datapoints that do not follow the previous trend present in the data, let's see if these data points belong to the same year or not."
      ]
    },
    {
      "cell_type": "code",
      "metadata": {
        "colab": {
          "base_uri": "https://localhost:8080/",
          "height": 542
        },
        "id": "PJMKx_4ac7Xj",
        "outputId": "f268b236-3cb2-4d84-bd6a-f37d4993a0da"
      },
      "source": [
        "fig = px.scatter_3d(whr_250Country, x='Economy (GDP per Capita)', y='Inflation(%)', z='Trust (Government Corruption)',\n",
        "              color =\"Year\",size_max=1,opacity=0.7)\n",
        "fig.show()"
      ],
      "execution_count": 54,
      "outputs": [
        {
          "output_type": "display_data",
          "data": {
            "text/html": [
              "<html>\n",
              "<head><meta charset=\"utf-8\" /></head>\n",
              "<body>\n",
              "    <div>\n",
              "            <script src=\"https://cdnjs.cloudflare.com/ajax/libs/mathjax/2.7.5/MathJax.js?config=TeX-AMS-MML_SVG\"></script><script type=\"text/javascript\">if (window.MathJax) {MathJax.Hub.Config({SVG: {font: \"STIX-Web\"}});}</script>\n",
              "                <script type=\"text/javascript\">window.PlotlyConfig = {MathJaxConfig: 'local'};</script>\n",
              "        <script src=\"https://cdn.plot.ly/plotly-latest.min.js\"></script>    \n",
              "            <div id=\"81a9a86a-8510-48b8-b499-b1a242e54ed5\" class=\"plotly-graph-div\" style=\"height:525px; width:100%;\"></div>\n",
              "            <script type=\"text/javascript\">\n",
              "                \n",
              "                    window.PLOTLYENV=window.PLOTLYENV || {};\n",
              "                    \n",
              "                if (document.getElementById(\"81a9a86a-8510-48b8-b499-b1a242e54ed5\")) {\n",
              "                    Plotly.newPlot(\n",
              "                        '81a9a86a-8510-48b8-b499-b1a242e54ed5',\n",
              "                        [{\"hoverlabel\": {\"namelength\": 0}, \"hovertemplate\": \"Economy (GDP per Capita)=%{x}<br>Inflation(%)=%{y}<br>Trust (Government Corruption)=%{z}<br>Year=%{marker.color}\", \"legendgroup\": \"\", \"marker\": {\"color\": [2015, 2016, 2017, 2018, 2019, 2015, 2016, 2017, 2018, 2019, 2015, 2016, 2017, 2018, 2019, 2015, 2016, 2017, 2018, 2015, 2016, 2017, 2018, 2019, 2015, 2016, 2017, 2018, 2019, 2015, 2016, 2017, 2018, 2019, 2015, 2016, 2017, 2018, 2019, 2015, 2016, 2017, 2018, 2019, 2015, 2016, 2017, 2018, 2019, 2015, 2016, 2017, 2018, 2019, 2015, 2016, 2017, 2018, 2019, 2015, 2016, 2017, 2018, 2019, 2016, 2017, 2018, 2015, 2016, 2017, 2018, 2019, 2015, 2016, 2017, 2018, 2019, 2015, 2016, 2017, 2018, 2019, 2015, 2016, 2017, 2018, 2019, 2015, 2016, 2017, 2018, 2019, 2015, 2016, 2017, 2018, 2019, 2015, 2016, 2017, 2018, 2019, 2015, 2016, 2017, 2018, 2019, 2015, 2016, 2017, 2018, 2019, 2015, 2016, 2017, 2018, 2019, 2015, 2016, 2017, 2018, 2019, 2015, 2017, 2018, 2019, 2015, 2016, 2017, 2018, 2019, 2015, 2016, 2017, 2018, 2019, 2015, 2016, 2017, 2018, 2019, 2015, 2016, 2017, 2018, 2019, 2015, 2016, 2019, 2015, 2016, 2017, 2018, 2019, 2015, 2016, 2017, 2018, 2019, 2015, 2016, 2017, 2018, 2019, 2015, 2016, 2017, 2018, 2019, 2015, 2016, 2017, 2018, 2019, 2015, 2015, 2016, 2017, 2018, 2019, 2015, 2016, 2017, 2018, 2019, 2015, 2016, 2017, 2018, 2019, 2015, 2016, 2017, 2018, 2019, 2015, 2016, 2017, 2018, 2019, 2015, 2016, 2017, 2018, 2019, 2015, 2016, 2017, 2018, 2019, 2015, 2016, 2017, 2018, 2019, 2015, 2016, 2017, 2018, 2019, 2019, 2015, 2016, 2017, 2018, 2019, 2015, 2016, 2017, 2018, 2019, 2015, 2016, 2017, 2018, 2019, 2015, 2016, 2017, 2018, 2019, 2015, 2016, 2017, 2018, 2019, 2015, 2016, 2017, 2018, 2019, 2015, 2016, 2017, 2018, 2019, 2015, 2016, 2017, 2018, 2019, 2015, 2016, 2017, 2018, 2019, 2015, 2016, 2017, 2018, 2019, 2015, 2016, 2017, 2018, 2019, 2015, 2016, 2017, 2018, 2019, 2015, 2016, 2017, 2018, 2019, 2015, 2016, 2017, 2018, 2019, 2015, 2016, 2017, 2018, 2019, 2015, 2016, 2017, 2018, 2019, 2015, 2016, 2017, 2018, 2019, 2015, 2016, 2017, 2018, 2019, 2015, 2016, 2017, 2018, 2019, 2015, 2016, 2017, 2018, 2019, 2015, 2016, 2017, 2018, 2019, 2015, 2016, 2017, 2018, 2019, 2015, 2016, 2017, 2018, 2019, 2015, 2016, 2017, 2018, 2019, 2015, 2016, 2017, 2018, 2019, 2015, 2016, 2017, 2018, 2019, 2015, 2017, 2018, 2019, 2015, 2016, 2017, 2018, 2019, 2015, 2016, 2017, 2018, 2019, 2015, 2016, 2017, 2018, 2019, 2015, 2016, 2017, 2018, 2019, 2015, 2016, 2017, 2018, 2019, 2015, 2016, 2017, 2018, 2019, 2015, 2016, 2017, 2018, 2019, 2015, 2016, 2017, 2018, 2019, 2015, 2016, 2017, 2018, 2019, 2015, 2016, 2017, 2018, 2019, 2015, 2016, 2017, 2018, 2019, 2015, 2016, 2017, 2018, 2019, 2015, 2016, 2017, 2018, 2019, 2015, 2016, 2017, 2018, 2019, 2015, 2016, 2017, 2018, 2019, 2015, 2017, 2018, 2019, 2015, 2016, 2017, 2018, 2019, 2016, 2017, 2018, 2019, 2015, 2016, 2017, 2018, 2019, 2015, 2016, 2017, 2018, 2019, 2015, 2016, 2017, 2018, 2019, 2015, 2016, 2017, 2018, 2019, 2015, 2016, 2017, 2018, 2019, 2015, 2016, 2017, 2018, 2019, 2015, 2016, 2017, 2018, 2019, 2015, 2015, 2016, 2017, 2018, 2019, 2015, 2016, 2017, 2018, 2019, 2015, 2016, 2017, 2018, 2019, 2015, 2016, 2017, 2018, 2019, 2015, 2016, 2017, 2018, 2019, 2015, 2016, 2017, 2018, 2019, 2015, 2016, 2017, 2018, 2019, 2016, 2015, 2016, 2017, 2018, 2019, 2015, 2016, 2017, 2018, 2019, 2015, 2016, 2017, 2018, 2019, 2015, 2016, 2017, 2018, 2019, 2015, 2016, 2017, 2018, 2019, 2015, 2016, 2017, 2018, 2019, 2015, 2016, 2017, 2018, 2019, 2015, 2016, 2017, 2018, 2019, 2015, 2016, 2017, 2018, 2019, 2015, 2016, 2017, 2018, 2019, 2016, 2017, 2018, 2019, 2015, 2016, 2017, 2018, 2019, 2016, 2017, 2018, 2019, 2015, 2016, 2017, 2018, 2019, 2015, 2016, 2017, 2018, 2019, 2015, 2016, 2017, 2018, 2015, 2016, 2015, 2019, 2015, 2016, 2017, 2018, 2019, 2015, 2016, 2017, 2018, 2019, 2015, 2016, 2017, 2018, 2019, 2015, 2016, 2017, 2018, 2019, 2015, 2016, 2017, 2018, 2019, 2015, 2016, 2017, 2018, 2019, 2015, 2016, 2017, 2018, 2019, 2015, 2016, 2017, 2018, 2019, 2015, 2016, 2017, 2018, 2019, 2015, 2016, 2017, 2018, 2019, 2015, 2016, 2017, 2018, 2019, 2015, 2016, 2017, 2018, 2019, 2015, 2016, 2017, 2018, 2019, 2015, 2016, 2017, 2018, 2019, 2015, 2016, 2017, 2018, 2019, 2015, 2016, 2017, 2018, 2019, 2015, 2016, 2017, 2018, 2019, 2015, 2016, 2017, 2018, 2019], \"coloraxis\": \"coloraxis\", \"opacity\": 0.7, \"symbol\": \"circle\"}, \"mode\": \"markers\", \"name\": \"\", \"scene\": \"scene\", \"showlegend\": false, \"type\": \"scatter3d\", \"x\": [0.31982, 0.38227, 0.401477217674255, 0.332, 0.35, 0.8786700000000001, 0.9553, 0.996192753314972, 0.9159999999999999, 0.9470000000000001, 0.93929, 1.05266, 1.09186446666718, 0.9790000000000001, 1.002, 0.75778, 0.84731, 0.8584281802177429, 0.73, 1.05351, 1.15137, 1.18529546260834, 1.073, 1.092, 0.7682100000000001, 0.8608600000000001, 0.900596737861633, 0.816, 0.85, 1.33358, 1.4444299999999999, 1.4844149351120002, 1.34, 1.3719999999999999, 1.33723, 1.45038, 1.4870972633361799, 1.341, 1.376, 1.02389, 1.12373, 1.1536017656326298, 1.024, 1.043, 1.32376, 1.44024, 1.4884122610092199, 1.338, 1.3619999999999999, 0.39753, 0.54177, 0.586682975292206, 0.532, 0.562, 1.0319200000000002, 1.1306200000000002, 1.15655755996704, 1.0390000000000001, 1.067, 1.30782, 1.42539, 1.4637807607650801, 1.324, 1.3559999999999999, 0.87616, 0.907975316047668, 0.807, 0.28665, 0.39499, 0.43108540773391707, 0.37799999999999995, 0.39299999999999996, 0.77042, 0.8527, 0.885416388511658, 0.7959999999999999, 0.813, 0.8322299999999999, 0.9338299999999999, 0.982409417629242, 0.915, 0.945, 0.99355, 1.09426, 1.12209415435791, 1.0170000000000001, 1.041, 0.98124, 1.08754, 1.1073532104492199, 0.986, 1.004, 1.01216, 1.11306, 1.1614590883255, 1.054, 1.092, 0.25811999999999996, 0.31995, 0.35022771358490007, 0.314, 0.331, 0.0153, 0.06831, 0.09162256866693501, 0.091, 0.046, 0.46038, 0.55604, 0.6017650961875921, 0.5489999999999999, 0.574, 0.4225, 0.5249699999999999, 0.564305365085602, 0.535, 0.5489999999999999, 1.32629, 1.44015, 1.47920441627502, 1.33, 1.365, 0.0785, 0.0, 0.024, 0.026000000000000002, 0.34193, 0.42213999999999996, 0.43801298737525896, 0.358, 0.35, 1.10715, 1.2167, 1.25278460979462, 1.131, 1.159, 0.89012, 1.0278, 1.08116579055786, 0.9890000000000001, 1.0290000000000001, 0.91861, 1.0303200000000001, 1.07062232494354, 0.96, 0.985, 0.23906, 0.27509, 0.27399999999999997, 0.95578, 1.06879, 1.10970628261566, 1.01, 1.034, 1.08254, 1.18649, 1.22255623340607, 1.115, 1.155, 1.20813, 1.31857, 1.3559380769729599, 1.229, 1.263, 1.17898, 1.30915, 1.35268235206604, 1.2329999999999999, 1.2690000000000001, 1.32548, 1.4417799999999998, 1.48238301277161, 1.351, 1.383, 0.44025, 0.8953700000000001, 1.02787, 1.07937383651733, 0.982, 1.015, 0.8640200000000001, 0.97306, 1.00082039833069, 0.889, 0.912, 0.8818, 0.95395, 0.989701807498932, 0.885, 0.9129999999999999, 0.76454, 0.8737, 0.9097844958305359, 0.8059999999999999, 0.794, 1.15174, 1.2796399999999999, 1.3208793401718102, 1.2, 1.237, 0.19072999999999998, 0.29283000000000003, 0.339233845472336, 0.308, 0.336, 1.29025, 1.40598, 1.44357192516327, 1.305, 1.34, 1.27778, 1.39488, 1.43092346191406, 1.2930000000000001, 1.324, 1.06024, 1.15851, 1.1982102394104, 1.036, 1.057, 0.308, 0.7419, 0.8379200000000001, 0.950612664222717, 0.853, 0.8859999999999999, 1.32792, 1.44787, 1.48792338371277, 1.34, 1.3730000000000002, 0.5455800000000001, 0.63107, 0.667224824428558, 0.5920000000000001, 0.611, 1.15406, 1.24886, 1.28948748111725, 1.1540000000000001, 1.181, 0.74553, 0.83454, 0.872001945972443, 0.7809999999999999, 0.8, 0.17417, 0.22415, 0.24454993009567302, 0.344, 0.38, 0.26673, 0.34097, 0.368610262870789, 0.315, 0.32299999999999995, 0.59532, 0.69429, 0.730573117733002, 0.62, 0.642, 1.38604, 1.5107, 1.55167484283447, 1.405, 1.4380000000000002, 1.12094, 1.24142, 1.2860119342803997, 1.171, 1.2009999999999998, 1.3023200000000001, 1.42666, 1.480633020401, 1.3430000000000002, 1.38, 0.64499, 0.74036, 0.7922212481498722, 0.721, 0.755, 0.8282700000000001, 0.95104, 0.995538592338562, 0.899, 0.9309999999999999, 0.98549, 1.07474, 1.1027104854583702, 1.01, 1.043, 1.33596, 1.4834100000000001, 1.5357066392898602, 1.4480000000000002, 1.499, 1.2285700000000002, 1.33766, 1.3753824234008798, 1.301, 1.276, 1.25114, 1.35495, 1.3950666189193701, 1.264, 1.294, 0.81038, 0.89333, 0.925579309463501, 0.8190000000000001, 0.831, 1.27074, 1.3800700000000001, 1.41691517829895, 1.294, 1.327, 0.9019799999999999, 0.9967299999999999, 0.9910123944282528, 0.8220000000000001, 0.8370000000000001, 1.1225399999999999, 1.22943, 1.2845562696456898, 1.143, 1.173, 0.36471, 0.52267, 0.560479462146759, 0.493, 0.512, 1.5542200000000002, 1.61714, 1.63295245170593, 1.474, 1.5, 0.47428000000000003, 0.5604399999999999, 0.5962200760841371, 0.53, 0.551, 1.11312, 1.2178799999999999, 1.26074862480164, 1.148, 1.187, 1.0256399999999999, 1.12268, 1.07498753070831, 0.965, 0.987, 0.37545, 0.521021246910095, 0.47200000000000003, 0.489, 0.0712, 0.10705999999999999, 0.11904179304838199, 0.076, 0.073, 1.13145, 1.0668799999999998, 1.1018030643463101, 0.985, 1.044, 1.14723, 1.2692, 1.3145823478698702, 1.197, 1.238, 1.5639100000000001, 1.6975200000000001, 1.74194359779358, 1.5759999999999998, 1.609, 0.20824, 0.27954, 0.305808693170547, 0.262, 0.27399999999999997, 0.016040000000000002, 0.08709, 0.233442038297653, 0.18600000000000003, 0.191, 1.12486, 1.25142, 1.29121541976929, 1.161, 1.2209999999999999, 0.26074, 0.31292, 0.476180493831635, 0.37, 0.385, 1.2074, 1.30782, 1.34327983856201, 1.27, 1.3, 0.45407, 0.6139100000000001, 0.6484572887420649, 0.557, 0.57, 1.0076100000000001, 1.14372, 1.1893955469131499, 1.09, 1.12, 1.02054, 1.1150799999999998, 1.1531838178634601, 1.038, 1.07, 0.82819, 0.9885299999999999, 1.0272358655929599, 0.914, 0.948, 0.9743799999999999, 1.07838, 1.12112903594971, 1.0170000000000001, 1.051, 0.7347899999999999, 0.8405799999999999, 0.8781145811080929, 0.779, 0.8009999999999999, 0.08308, 0.23430564999580397, 0.198, 0.204, 0.27108000000000004, 0.34112, 0.36711055040359497, 0.682, 0.71, 0.9328700000000001, 0.964434325695038, 0.8740000000000001, 0.879, 0.35996999999999996, 0.44626000000000005, 0.479820191860199, 0.425, 0.446, 1.32944, 1.46468, 1.50394463539124, 1.361, 1.396, 1.2501799999999998, 1.36066, 1.40570604801178, 1.268, 1.3030000000000002, 0.59325, 0.69384, 0.737299203872681, 0.6679999999999999, 0.6940000000000001, 0.0694, 0.1327, 0.16192533075809498, 0.131, 0.138, 0.65435, 0.75216, 0.783756256103516, 0.6890000000000001, 0.696, 1.459, 1.57744, 1.6164631843566901, 1.456, 1.4880000000000002, 1.36011, 0.59543, 0.68816, 0.7268835306167599, 0.652, 0.677, 1.0635299999999999, 1.18306, 1.23374843597412, 1.112, 1.149, 0.75985, 0.8937299999999999, 0.932537317276001, 0.835, 0.855, 0.9001899999999999, 0.9960200000000001, 1.0352252721786501, 0.934, 0.96, 0.70532, 0.81217, 0.85769921541214, 0.775, 0.807, 1.12555, 1.24585, 1.29178786277771, 1.176, 1.206, 1.15991, 1.27607, 1.3151752948761002, 1.188, 1.2209999999999999, 1.35943, 1.69042, 1.82427, 1.8707656860351598, 1.649, 1.6840000000000002, 1.04345, 1.1697, 1.21768391132355, 1.1159999999999999, 1.162, 0.22208000000000003, 0.32846, 0.368745893239975, 0.332, 0.359, 1.39541, 1.48953, 1.53062355518341, 1.379, 1.403, 0.36498, 0.44314, 0.479309022426605, 0.429, 0.45, 0.92053, 1.03437, 1.06931757926941, 0.975, 1.004, 0.33024000000000003, 0.36485, 0.36842092871666, 0.256, 0.268, 1.52186, 1.64555, 1.69227766990662, 1.5290000000000001, 1.5719999999999998, 1.1689100000000001, 1.27973, 1.32539355754852, 1.21, 1.246, 1.18498, 1.2994700000000001, 1.3412059545516999, 1.219, 1.258, 0.0, 0.0226431842893362, 0.0, 0.0, 0.9204899999999999, 1.02416, 1.05469870567322, 0.94, 0.96, 0.39394, 0.39724862575531, 0.337, 0.306, 1.23011, 1.34253, 1.38439786434174, 1.251, 1.286, 0.83524, 0.9731799999999999, 1.00985014438629, 0.9179999999999999, 0.9490000000000001, 0.52107, 0.63069, 0.6595166921615601, 0.605, 0.99534, 1.09686, 0.71206, 0.8109999999999999, 1.33171, 1.45181, 1.49438726902008, 1.355, 1.3869999999999998, 1.3965100000000001, 1.5273299999999999, 1.5649795532226598, 1.42, 1.452, 1.29098, 1.39729, 1.4336265325546298, 1.365, 1.368, 0.39047, 0.48835, 0.524713635444641, 0.474, 0.493, 0.9669, 1.0893, 1.12786877155304, 1.016, 1.05, 0.20868, 0.28123000000000004, 0.30544471740722695, 0.259, 0.275, 1.21183, 1.32572, 1.36135590076447, 1.2229999999999999, 1.2309999999999999, 0.88113, 0.97724, 1.00726580619812, 0.9, 0.9209999999999999, 1.06098, 1.1649200000000002, 1.1982743740081798, 1.148, 1.183, 0.95847, 1.08017, 1.1307767629623402, 1.016, 1.052, 0.21101999999999999, 0.34719, 0.381430715322495, 0.322, 0.332, 0.79907, 0.87287, 0.89465194940567, 0.7929999999999999, 0.82, 1.42727, 1.57352, 1.6263433694839498, 2.096, 1.5030000000000001, 1.06166, 1.18157, 1.2175596952438401, 1.093, 1.124, 0.63244, 0.7359100000000001, 0.786441087722778, 0.7190000000000001, 0.745, 0.5464899999999999, 0.57939, 0.5916834473609921, 0.442, 0.287, 0.47038, 0.61202, 0.6364067792892459, 0.562, 0.578, 0.271, 0.35041, 0.37584653496742204, 0.35700000000000004, 0.366], \"y\": [6.8, 6.8, 6.8, 6.8, 6.8, 1.7, 1.7, 1.7, 1.7, 1.7, 3.9, 3.9, 3.9, 3.9, 3.9, 8.9, 8.9, 8.9, 8.9, 20.8, 20.8, 20.8, 20.8, 20.8, 4.383435582822086, 4.383435582822086, 4.383435582822086, 4.383435582822086, 4.383435582822086, 2.4, 2.4, 2.4, 2.4, 2.4, 2.1, 2.1, 2.1, 2.1, 2.1, 2.4, 2.4, 2.4, 2.4, 2.4, 4.383435582822086, 4.383435582822086, 4.383435582822086, 4.383435582822086, 4.383435582822086, 7.6, 7.6, 7.6, 7.6, 7.6, 19.0, 19.0, 19.0, 19.0, 19.0, 1.3, 1.3, 1.3, 1.3, 1.3, 1.3, 1.3, 1.3, 2.4, 2.4, 2.4, 2.4, 2.4, 11.0, 11.0, 11.0, 11.0, 11.0, 4.383435582822086, 4.383435582822086, 4.383435582822086, 4.383435582822086, 4.383435582822086, 6.1, 6.1, 6.1, 6.1, 6.1, 6.5, 6.5, 6.5, 6.5, 6.5, 1.5, 1.5, 1.5, 1.5, 1.5, 2.1, 2.1, 2.1, 2.1, 2.1, 9.3, 9.3, 9.3, 9.3, 9.3, 3.2, 3.2, 3.2, 3.2, 3.2, 2.6, 2.6, 2.6, 2.6, 2.6, 4.383435582822086, 4.383435582822086, 4.383435582822086, 4.383435582822086, 4.383435582822086, 7.0, 7.0, 7.0, 7.0, 4.5, 4.5, 4.5, 4.5, 4.5, 4.383435582822086, 4.383435582822086, 4.383435582822086, 4.383435582822086, 4.383435582822086, 4.383435582822086, 4.383435582822086, 4.383435582822086, 4.383435582822086, 4.383435582822086, 4.383435582822086, 4.383435582822086, 4.383435582822086, 4.383435582822086, 4.383435582822086, 4.383435582822086, 4.383435582822086, 4.383435582822086, 5.6, 5.6, 5.6, 5.6, 5.6, 2.2, 2.2, 2.2, 2.2, 2.2, 0.2, 0.2, 0.2, 0.2, 0.2, 1.4, 1.4, 1.4, 1.4, 1.4, 0.8, 0.8, 0.8, 0.8, 0.8, 2.5, 5.0, 5.0, 5.0, 5.0, 5.0, 2.6, 2.6, 2.6, 2.6, 2.6, 9.0, 9.0, 9.0, 9.0, 9.0, 0.9, 0.9, 0.9, 0.9, 0.9, 3.4, 3.4, 3.4, 3.4, 3.4, 8.4, 8.4, 8.4, 8.4, 8.4, 1.3, 1.3, 1.3, 1.3, 1.3, 0.7, 0.7, 0.7, 0.7, 0.7, 7.0, 7.0, 7.0, 7.0, 7.0, 4.383435582822086, 3.3, 3.3, 3.3, 3.3, 3.3, 1.6, 1.6, 1.6, 1.6, 1.6, 11.0, 11.0, 11.0, 11.0, 11.0, -0.8, -0.8, -0.8, -0.8, -0.8, 3.8, 3.8, 3.8, 3.8, 3.8, 15.2, 15.2, 15.2, 15.2, 15.2, 6.3, 6.3, 6.3, 6.3, 6.3, 5.2, 5.2, 5.2, 5.2, 5.2, 4.383435582822086, 4.383435582822086, 4.383435582822086, 4.383435582822086, 4.383435582822086, 4.383435582822086, 4.383435582822086, 4.383435582822086, 4.383435582822086, 4.383435582822086, 3.9, 3.9, 3.9, 3.9, 3.9, 9.6, 9.6, 9.6, 9.6, 9.6, 7.7, 7.7, 7.7, 7.7, 7.7, 2.0, 2.0, 2.0, 2.0, 2.0, 0.6, 0.6, 0.6, 0.6, 0.6, 3.9, 3.9, 3.9, 3.9, 3.9, 1.2, 1.2, 1.2, 1.2, 1.2, 4.383435582822086, 4.383435582822086, 4.383435582822086, 4.383435582822086, 4.383435582822086, 0.2, 0.2, 0.2, 0.2, 0.2, 6.4, 6.4, 6.4, 6.4, 6.4, 5.8, 5.8, 5.8, 5.8, 5.8, 5.8, 5.8, 5.8, 5.8, 5.8, 5.6, 5.6, 5.6, 5.6, 5.6, 6.8, 6.8, 6.8, 6.8, 6.8, 0.2, 0.2, 0.2, 0.2, 0.2, 5.0, 5.0, 5.0, 5.0, 5.0, 5.0, 5.0, 5.0, 5.0, 5.2, 5.2, 5.2, 5.2, 5.2, 3.2, 3.2, 3.2, 3.2, 3.2, 1.2, 1.2, 1.2, 1.2, 1.2, 4.383435582822086, 4.383435582822086, 4.383435582822086, 4.383435582822086, 4.383435582822086, 8.8, 8.8, 8.8, 8.8, 8.8, 18.4, 18.4, 18.4, 18.4, 18.4, 2.2, 2.2, 2.2, 2.2, 2.2, 0.1, 0.1, 0.1, 0.1, 0.1, 1.0, 1.0, 1.0, 1.0, 1.0, 4.6, 4.6, 4.6, 4.6, 4.6, 3.5, 3.5, 3.5, 3.5, 3.5, 4.0, 4.0, 4.0, 4.0, 4.0, 8.2, 8.2, 8.2, 8.2, 8.2, 4.0, 4.0, 4.0, 4.0, 4.0, 2.0, 2.0, 2.0, 2.0, 2.0, 4.4, 4.4, 4.4, 4.4, 5.7, 5.7, 5.7, 5.7, 5.7, 5.8, 5.8, 5.8, 5.8, 9.5, 9.5, 9.5, 9.5, 9.5, 2.5, 2.5, 2.5, 2.5, 2.5, 1.3, 1.3, 1.3, 1.3, 1.3, 5.7, 5.7, 5.7, 5.7, 5.7, 4.383435582822086, 4.383435582822086, 4.383435582822086, 4.383435582822086, 4.383435582822086, 8.7, 8.7, 8.7, 8.7, 8.7, 1.9, 1.9, 1.9, 1.9, 1.9, 1.6, 7.7, 7.7, 7.7, 7.7, 7.7, 4.1, 4.1, 4.1, 4.1, 4.1, 2.3, 2.3, 2.3, 2.3, 2.3, 4.383435582822086, 4.383435582822086, 4.383435582822086, 4.383435582822086, 4.383435582822086, 2.8, 2.8, 2.8, 2.8, 2.8, 1.0, 1.0, 1.0, 1.0, 1.0, 4.383435582822086, 4.383435582822086, 4.383435582822086, 4.383435582822086, 4.383435582822086, 3.6, 3.1, 3.1, 3.1, 3.1, 3.1, 4.383435582822086, 4.383435582822086, 4.383435582822086, 4.383435582822086, 4.383435582822086, 5.9, 5.9, 5.9, 5.9, 5.9, 3.7, 3.7, 3.7, 3.7, 3.7, 0.8, 0.8, 0.8, 0.8, 0.8, 2.2, 2.2, 2.2, 2.2, 2.2, 11.1, 11.1, 11.1, 11.1, 11.1, 5.2, 5.2, 5.2, 5.2, 5.2, 1.7, 1.7, 1.7, 1.7, 1.7, 1.8, 1.8, 1.8, 1.8, 1.8, 4.383435582822086, 4.383435582822086, 4.383435582822086, 4.383435582822086, 4.383435582822086, 4.383435582822086, 4.383435582822086, 4.383435582822086, 4.383435582822086, 4.383435582822086, 4.383435582822086, 4.383435582822086, 4.383435582822086, 1.8, 1.8, 1.8, 1.8, 1.8, 4.7, 4.7, 4.7, 4.7, 4.7, 25.0, 25.0, 25.0, 25.0, 4.2, 4.2, 4.383435582822086, 4.383435582822086, 0.0, 0.0, 0.0, 0.0, 0.0, -0.4, -0.4, -0.4, -0.4, -0.4, 1.1, 1.1, 1.1, 1.1, 1.1, 3.7, 3.7, 3.7, 3.7, 3.7, 2.2, 2.2, 2.2, 2.2, 2.2, 2.2, 2.2, 2.2, 2.2, 2.2, 5.4, 5.4, 5.4, 5.4, 5.4, 6.1, 6.1, 6.1, 6.1, 6.1, 7.6, 7.6, 7.6, 7.6, 7.6, 9.0, 9.0, 9.0, 9.0, 9.0, 6.2, 6.2, 6.2, 6.2, 6.2, 0.7, 0.7, 0.7, 0.7, 0.7, 1.3, 1.3, 1.3, 1.3, 1.3, 8.3, 8.3, 8.3, 8.3, 8.3, 10.1, 10.1, 10.1, 10.1, 10.1, 11.8, 11.8, 11.8, 11.8, 11.8, 7.1, 7.1, 7.1, 7.1, 7.1, 4.383435582822086, 4.383435582822086, 4.383435582822086, 4.383435582822086, 4.383435582822086], \"z\": [0.09719, 0.07112, 0.0611578300595284, 0.036000000000000004, 0.025, 0.06412999999999999, 0.05301, 0.0398642159998417, 0.032, 0.027000000000000003, 0.17382999999999998, 0.16157, 0.14609611034393302, 0.135, 0.114, 0.07122, 0.08434, 0.0697203353047371, 0.061, 0.08484, 0.07296, 0.05973988771438599, 0.054000000000000006, 0.05, 0.039, 0.036160000000000005, 0.0266744215041399, 0.027999999999999997, 0.064, 0.35636999999999996, 0.32331, 0.301183730363846, 0.302, 0.29, 0.18675999999999998, 0.21348000000000003, 0.22106036543846105, 0.22399999999999998, 0.226, 0.16065, 0.17914000000000002, 0.180987507104874, 0.17600000000000002, 0.182, 0.306, 0.25772, 0.257042169570923, 0.12300000000000001, 0.11, 0.12569, 0.12583, 0.123717859387398, 0.14400000000000002, 0.14300000000000002, 0.1909, 0.17457, 0.156313821673393, 0.154, 0.142, 0.2254, 0.26248, 0.251343131065369, 0.24, 0.21, 0.10770999999999999, 0.0965810716152191, 0.08900000000000001, 0.0801, 0.06681000000000001, 0.0609290152788162, 0.067, 0.08199999999999999, 0.15445, 0.1616, 0.17338038980960802, 0.171, 0.16699999999999998, 0.00227, 0.0, 0.0, 0.0, 0.006, 0.12474, 0.10769000000000001, 0.0985831990838051, 0.092, 0.1, 0.17521, 0.14165999999999998, 0.11109276115894301, 0.08800000000000001, 0.086, 0.00872, 0.00615, 0.0110515309497714, 0.009000000000000001, 0.004, 0.12832000000000002, 0.12533, 0.12032810598611803, 0.128, 0.113, 0.10062, 0.09419, 0.0841479450464249, 0.076, 0.18, 0.07247, 0.08092, 0.0681059509515762, 0.065, 0.062, 0.05786, 0.06126, 0.0513066314160824, 0.043, 0.037000000000000005, 0.32957, 0.31329, 0.287371516227722, 0.29100000000000004, 0.308, 0.08288999999999999, 0.0565650761127472, 0.038, 0.035, 0.05269, 0.04952, 0.0535818822681904, 0.06, 0.078, 0.12869, 0.11450999999999999, 0.0822879821062088, 0.061, 0.055999999999999994, 0.02781, 0.02745, 0.0227942746132612, 0.10300000000000001, 0.1, 0.0512, 0.053989999999999996, 0.0466687418520451, 0.039, 0.034, 0.19899999999999998, 0.18437, 0.078, 0.10583, 0.10547000000000001, 0.100106589496136, 0.10099999999999999, 0.09300000000000001, 0.0243, 0.04002, 0.0431031100451946, 0.039, 0.022000000000000002, 0.06146, 0.05227999999999999, 0.0412379764020443, 0.035, 0.040999999999999995, 0.02652, 0.03986, 0.0368729270994663, 0.034, 0.036000000000000004, 0.48357, 0.44453000000000004, 0.40077006816863997, 0.408, 0.41, 0.28105, 0.14234000000000002, 0.12372000000000001, 0.113945253193378, 0.106, 0.10099999999999999, 0.1809, 0.18037, 0.140134647488594, 0.12, 0.087, 0.06324, 0.10393, 0.114381365478039, 0.107, 0.067, 0.11775999999999999, 0.10613, 0.0899809598922729, 0.08199999999999999, 0.07400000000000001, 0.15184, 0.18519000000000002, 0.18324892222881303, 0.174, 0.161, 0.15048, 0.1717, 0.16545571386814098, 0.146, 0.1, 0.41372, 0.41003999999999996, 0.38261154294014, 0.39299999999999996, 0.39299999999999996, 0.20646, 0.17808, 0.172502428293228, 0.17600000000000002, 0.183, 0.11091, 0.09314, 0.0760467872023582, 0.052000000000000005, 0.055, 0.16699999999999998, 0.38331, 0.3188, 0.25166663527488703, 0.215, 0.16399999999999998, 0.21843, 0.28551, 0.276731938123703, 0.28, 0.265, 0.04355, 0.0326, 0.0253363698720932, 0.028999999999999998, 0.04, 0.013969999999999998, 0.04127, 0.043289776891470004, 0.044000000000000004, 0.034, 0.09472, 0.08701, 0.0772232785820961, 0.071, 0.078, 0.12139000000000001, 0.1192, 0.110937617719173, 0.094, 0.086, 0.17175, 0.14476, 0.0998721495270729, 0.10400000000000001, 0.11, 0.06825, 0.06906, 0.0733454525470734, 0.07400000000000001, 0.078, 0.37124, 0.31647, 0.29393374919891396, 0.29100000000000004, 0.287, 0.02758, 0.044719999999999996, 0.0366369374096394, 0.022000000000000002, 0.02, 0.14145, 0.14975, 0.15352655947208402, 0.138, 0.11800000000000001, 0.08492000000000001, 0.08722, 0.0922268852591515, 0.09300000000000001, 0.085, 0.0, 0.00322, 0.0153171354904771, 0.018000000000000002, 0.027999999999999997, 0.13788, 0.13635999999999998, 0.10721575468778599, 0.095, 0.08900000000000001, 0.28703, 0.29754, 0.29838815331459007, 0.306, 0.31, 0.07785, 0.08728, 0.0852421000599861, 0.272, 0.08199999999999999, 0.02901, 0.02556, 0.0280280914157629, 0.027999999999999997, 0.03, 0.02299, 0.04294, 0.0552677810192108, 0.031, 0.027999999999999997, 0.1806, 0.18985, 0.163760736584663, 0.15, 0.14, 0.14293, 0.13297, 0.11980327218771002, 0.134, 0.13, 0.08454, 0.11132, 0.11928288638591802, 0.121, 0.096, 0.05839, 0.06686, 0.0646413192152977, 0.055, 0.053, 0.25609, 0.23669, 0.21515955030918102, 0.106, 0.09699999999999999, 0.042319999999999997, 0.047619999999999996, 0.0394391790032387, 0.035, 0.023, 0.06332, 0.0889, 0.0738427266478539, 0.066, 0.064, 0.04582, 0.030610000000000002, 0.037513829767704, 0.136, 0.027000000000000003, 0.12504, 0.119094640016556, 0.11199999999999999, 0.09300000000000001, 0.06232000000000001, 0.04852, 0.0389482490718365, 0.03, 0.033, 0.11023, 0.10339000000000001, 0.0926102101802826, 0.14800000000000002, 0.152, 0.01031, 0.0182, 0.0118656428530812, 0.006, 0.042, 0.37798000000000004, 0.35329, 0.31883442401886, 0.321, 0.316, 0.08123999999999999, 0.07506, 0.0672319754958153, 0.049, 0.040999999999999995, 0.06977, 0.07564, 0.0727116540074348, 0.08, 0.08900000000000001, 0.10500999999999999, 0.09081, 0.0656007081270218, 0.059000000000000004, 0.024, 0.12352, 0.13647, 0.10497024655342098, 0.055999999999999994, 0.052000000000000005, 0.13585999999999998, 0.17554, 0.153066068887711, 0.142, 0.151, 0.17461, 0.17955, 0.136957004666328, 0.09300000000000001, 0.08800000000000001, 0.07521, 0.05202999999999999, 0.0421815551817417, 0.05, 0.06, 0.21311999999999998, 0.18355, 0.132774114608765, 0.095, 0.073, 0.026660000000000003, 0.03285, 0.0329022891819477, 0.032, 0.038, 0.14296, 0.12721, 0.0881741940975189, 0.081, 0.08, 0.08546000000000001, 0.08404, 0.0877631828188896, 0.07400000000000001, 0.076, 0.15603, 0.17943638563156103, 0.158, 0.138, 0.19034, 0.20243, 0.188816204667091, 0.17800000000000002, 0.172, 0.10397999999999999, 0.0931469723582268, 0.064, 0.055999999999999994, 0.059070000000000004, 0.07007999999999999, 0.0729755461215973, 0.078, 0.08900000000000001, 0.31814000000000003, 0.29927, 0.282661825418472, 0.295, 0.298, 0.42922, 0.41903999999999997, 0.38281670212745705, 0.389, 0.38, 0.19317, 0.16292, 0.130687981843948, 0.128, 0.127, 0.15639, 0.17176, 0.13857294619083402, 0.099, 0.102, 0.0403, 0.0305, 0.0261215660721064, 0.032, 0.040999999999999995, 0.36503, 0.35775999999999997, 0.31596383452415505, 0.34, 0.341, 0.32524000000000003, 0.10464000000000001, 0.1388, 0.12434806674718901, 0.113, 0.098, 0.0927, 0.08423, 0.070983923971653, 0.063, 0.054000000000000006, 0.08242000000000001, 0.07396, 0.091065913438797, 0.07400000000000001, 0.08, 0.05989, 0.05292, 0.0470490865409374, 0.034, 0.027000000000000003, 0.12279000000000001, 0.11757000000000001, 0.0993318930268288, 0.105, 0.107, 0.04212, 0.055, 0.0593078061938286, 0.064, 0.05, 0.01078, 0.01521, 0.0158694516867399, 0.017, 0.025, 0.12275, 0.52208, 0.48049, 0.43929925560951205, 0.171, 0.16699999999999998, 0.006490000000000001, 0.006790000000000001, 0.0043879006989300294, 0.001, 0.005, 0.55191, 0.50521, 0.455220013856888, 0.444, 0.41100000000000003, 0.32524000000000003, 0.30008, 0.27343225479126004, 0.127, 0.132, 0.10712999999999999, 0.11681, 0.11546044796705199, 0.08199999999999999, 0.07200000000000001, 0.02617, 0.04339, 0.0409037806093693, 0.043, 0.039, 0.08786000000000001, 0.08196, 0.0710951760411263, 0.053, 0.045, 0.4921, 0.46986999999999995, 0.46430778503417997, 0.457, 0.45299999999999996, 0.03431, 0.02947, 0.0242108516395092, 0.013999999999999999, 0.013999999999999999, 0.03787, 0.03635, 0.0451289787888527, 0.051, 0.057, 0.3118, 0.28241032361984303, 0.282, 0.27, 0.08884, 0.08415, 0.0725094974040985, 0.055999999999999994, 0.055, 0.13015, 0.116793513298035, 0.106, 0.091, 0.06398, 0.06137000000000001, 0.0709140971302986, 0.07400000000000001, 0.079, 0.09179, 0.07964, 0.0736539661884308, 0.05, 0.047, 0.1466, 0.10039, 0.089847519993782, 0.08199999999999999, 0.13633, 0.12692, 0.0306, 0.135, 0.43843999999999994, 0.40867, 0.384398728609085, 0.38299999999999995, 0.373, 0.41978000000000004, 0.41203, 0.36700728535652205, 0.35700000000000004, 0.34299999999999997, 0.08129, 0.0663, 0.0638292357325554, 0.078, 0.09699999999999999, 0.15072, 0.13509000000000002, 0.14637714624404902, 0.034, 0.14400000000000002, 0.031869999999999996, 0.02833, 0.0316127352416515, 0.028999999999999998, 0.027999999999999997, 0.10730999999999999, 0.11587, 0.0956650152802467, 0.10099999999999999, 0.085, 0.0114, 0.01241, 0.00896481610834599, 0.019, 0.016, 0.06358, 0.0817, 0.0867231488227844, 0.063, 0.055, 0.15746, 0.12347999999999999, 0.0996715798974037, 0.109, 0.106, 0.30844, 0.28467, 0.25927034020423895, 0.037000000000000005, 0.027999999999999997, 0.07267, 0.06442, 0.057069718837738, 0.061, 0.06, 0.02961, 0.01829, 0.0230294708162546, 0.011000000000000001, 0.01, 0.38583, 0.35561, 0.324489563703537, null, 0.182, 0.24558000000000002, 0.21394000000000002, 0.17806187272071802, 0.155, 0.15, 0.30826, 0.28333, 0.246528223156929, 0.259, 0.24, 0.07854, 0.05892000000000001, 0.0567674227058887, 0.064, 0.077, 0.12468, 0.11479, 0.0782135501503944, 0.08199999999999999, 0.087, 0.08079, 0.08582000000000001, 0.0953753814101219, 0.099, 0.08900000000000001]}],\n",
              "                        {\"coloraxis\": {\"colorbar\": {\"title\": {\"text\": \"Year\"}}, \"colorscale\": [[0.0, \"#0d0887\"], [0.1111111111111111, \"#46039f\"], [0.2222222222222222, \"#7201a8\"], [0.3333333333333333, \"#9c179e\"], [0.4444444444444444, \"#bd3786\"], [0.5555555555555556, \"#d8576b\"], [0.6666666666666666, \"#ed7953\"], [0.7777777777777778, \"#fb9f3a\"], [0.8888888888888888, \"#fdca26\"], [1.0, \"#f0f921\"]]}, \"legend\": {\"tracegroupgap\": 0}, \"margin\": {\"t\": 60}, \"scene\": {\"domain\": {\"x\": [0.0, 1.0], \"y\": [0.0, 1.0]}, \"xaxis\": {\"title\": {\"text\": \"Economy (GDP per Capita)\"}}, \"yaxis\": {\"title\": {\"text\": \"Inflation(%)\"}}, \"zaxis\": {\"title\": {\"text\": \"Trust (Government Corruption)\"}}}, \"template\": {\"data\": {\"bar\": [{\"error_x\": {\"color\": \"#2a3f5f\"}, \"error_y\": {\"color\": \"#2a3f5f\"}, \"marker\": {\"line\": {\"color\": \"#E5ECF6\", \"width\": 0.5}}, \"type\": \"bar\"}], \"barpolar\": [{\"marker\": {\"line\": {\"color\": \"#E5ECF6\", \"width\": 0.5}}, \"type\": \"barpolar\"}], \"carpet\": [{\"aaxis\": {\"endlinecolor\": \"#2a3f5f\", \"gridcolor\": \"white\", \"linecolor\": \"white\", \"minorgridcolor\": \"white\", \"startlinecolor\": \"#2a3f5f\"}, \"baxis\": {\"endlinecolor\": \"#2a3f5f\", \"gridcolor\": \"white\", \"linecolor\": \"white\", \"minorgridcolor\": \"white\", \"startlinecolor\": \"#2a3f5f\"}, \"type\": \"carpet\"}], \"choropleth\": [{\"colorbar\": {\"outlinewidth\": 0, \"ticks\": \"\"}, \"type\": \"choropleth\"}], \"contour\": [{\"colorbar\": {\"outlinewidth\": 0, \"ticks\": \"\"}, \"colorscale\": [[0.0, \"#0d0887\"], [0.1111111111111111, \"#46039f\"], [0.2222222222222222, \"#7201a8\"], [0.3333333333333333, \"#9c179e\"], [0.4444444444444444, \"#bd3786\"], [0.5555555555555556, \"#d8576b\"], [0.6666666666666666, \"#ed7953\"], [0.7777777777777778, \"#fb9f3a\"], [0.8888888888888888, \"#fdca26\"], [1.0, \"#f0f921\"]], \"type\": \"contour\"}], \"contourcarpet\": [{\"colorbar\": {\"outlinewidth\": 0, \"ticks\": \"\"}, \"type\": \"contourcarpet\"}], \"heatmap\": [{\"colorbar\": {\"outlinewidth\": 0, \"ticks\": \"\"}, \"colorscale\": [[0.0, \"#0d0887\"], [0.1111111111111111, \"#46039f\"], [0.2222222222222222, \"#7201a8\"], [0.3333333333333333, \"#9c179e\"], [0.4444444444444444, \"#bd3786\"], [0.5555555555555556, \"#d8576b\"], [0.6666666666666666, \"#ed7953\"], [0.7777777777777778, \"#fb9f3a\"], [0.8888888888888888, \"#fdca26\"], [1.0, \"#f0f921\"]], \"type\": \"heatmap\"}], \"heatmapgl\": [{\"colorbar\": {\"outlinewidth\": 0, \"ticks\": \"\"}, \"colorscale\": [[0.0, \"#0d0887\"], [0.1111111111111111, \"#46039f\"], [0.2222222222222222, \"#7201a8\"], [0.3333333333333333, \"#9c179e\"], [0.4444444444444444, \"#bd3786\"], [0.5555555555555556, \"#d8576b\"], [0.6666666666666666, \"#ed7953\"], [0.7777777777777778, \"#fb9f3a\"], [0.8888888888888888, \"#fdca26\"], [1.0, \"#f0f921\"]], \"type\": \"heatmapgl\"}], \"histogram\": [{\"marker\": {\"colorbar\": {\"outlinewidth\": 0, \"ticks\": \"\"}}, \"type\": \"histogram\"}], \"histogram2d\": [{\"colorbar\": {\"outlinewidth\": 0, \"ticks\": \"\"}, \"colorscale\": [[0.0, \"#0d0887\"], [0.1111111111111111, \"#46039f\"], [0.2222222222222222, \"#7201a8\"], [0.3333333333333333, \"#9c179e\"], [0.4444444444444444, \"#bd3786\"], [0.5555555555555556, \"#d8576b\"], [0.6666666666666666, \"#ed7953\"], [0.7777777777777778, \"#fb9f3a\"], [0.8888888888888888, \"#fdca26\"], [1.0, \"#f0f921\"]], \"type\": \"histogram2d\"}], \"histogram2dcontour\": [{\"colorbar\": {\"outlinewidth\": 0, \"ticks\": \"\"}, \"colorscale\": [[0.0, \"#0d0887\"], [0.1111111111111111, \"#46039f\"], [0.2222222222222222, \"#7201a8\"], [0.3333333333333333, \"#9c179e\"], [0.4444444444444444, \"#bd3786\"], [0.5555555555555556, \"#d8576b\"], [0.6666666666666666, \"#ed7953\"], [0.7777777777777778, \"#fb9f3a\"], [0.8888888888888888, \"#fdca26\"], [1.0, \"#f0f921\"]], \"type\": \"histogram2dcontour\"}], \"mesh3d\": [{\"colorbar\": {\"outlinewidth\": 0, \"ticks\": \"\"}, \"type\": \"mesh3d\"}], \"parcoords\": [{\"line\": {\"colorbar\": {\"outlinewidth\": 0, \"ticks\": \"\"}}, \"type\": \"parcoords\"}], \"pie\": [{\"automargin\": true, \"type\": \"pie\"}], \"scatter\": [{\"marker\": {\"colorbar\": {\"outlinewidth\": 0, \"ticks\": \"\"}}, \"type\": \"scatter\"}], \"scatter3d\": [{\"line\": {\"colorbar\": {\"outlinewidth\": 0, \"ticks\": \"\"}}, \"marker\": {\"colorbar\": {\"outlinewidth\": 0, \"ticks\": \"\"}}, \"type\": \"scatter3d\"}], \"scattercarpet\": [{\"marker\": {\"colorbar\": {\"outlinewidth\": 0, \"ticks\": \"\"}}, \"type\": \"scattercarpet\"}], \"scattergeo\": [{\"marker\": {\"colorbar\": {\"outlinewidth\": 0, \"ticks\": \"\"}}, \"type\": \"scattergeo\"}], \"scattergl\": [{\"marker\": {\"colorbar\": {\"outlinewidth\": 0, \"ticks\": \"\"}}, \"type\": \"scattergl\"}], \"scattermapbox\": [{\"marker\": {\"colorbar\": {\"outlinewidth\": 0, \"ticks\": \"\"}}, \"type\": \"scattermapbox\"}], \"scatterpolar\": [{\"marker\": {\"colorbar\": {\"outlinewidth\": 0, \"ticks\": \"\"}}, \"type\": \"scatterpolar\"}], \"scatterpolargl\": [{\"marker\": {\"colorbar\": {\"outlinewidth\": 0, \"ticks\": \"\"}}, \"type\": \"scatterpolargl\"}], \"scatterternary\": [{\"marker\": {\"colorbar\": {\"outlinewidth\": 0, \"ticks\": \"\"}}, \"type\": \"scatterternary\"}], \"surface\": [{\"colorbar\": {\"outlinewidth\": 0, \"ticks\": \"\"}, \"colorscale\": [[0.0, \"#0d0887\"], [0.1111111111111111, \"#46039f\"], [0.2222222222222222, \"#7201a8\"], [0.3333333333333333, \"#9c179e\"], [0.4444444444444444, \"#bd3786\"], [0.5555555555555556, \"#d8576b\"], [0.6666666666666666, \"#ed7953\"], [0.7777777777777778, \"#fb9f3a\"], [0.8888888888888888, \"#fdca26\"], [1.0, \"#f0f921\"]], \"type\": \"surface\"}], \"table\": [{\"cells\": {\"fill\": {\"color\": \"#EBF0F8\"}, \"line\": {\"color\": \"white\"}}, \"header\": {\"fill\": {\"color\": \"#C8D4E3\"}, \"line\": {\"color\": \"white\"}}, \"type\": \"table\"}]}, \"layout\": {\"annotationdefaults\": {\"arrowcolor\": \"#2a3f5f\", \"arrowhead\": 0, \"arrowwidth\": 1}, \"coloraxis\": {\"colorbar\": {\"outlinewidth\": 0, \"ticks\": \"\"}}, \"colorscale\": {\"diverging\": [[0, \"#8e0152\"], [0.1, \"#c51b7d\"], [0.2, \"#de77ae\"], [0.3, \"#f1b6da\"], [0.4, \"#fde0ef\"], [0.5, \"#f7f7f7\"], [0.6, \"#e6f5d0\"], [0.7, \"#b8e186\"], [0.8, \"#7fbc41\"], [0.9, \"#4d9221\"], [1, \"#276419\"]], \"sequential\": [[0.0, \"#0d0887\"], [0.1111111111111111, \"#46039f\"], [0.2222222222222222, \"#7201a8\"], [0.3333333333333333, \"#9c179e\"], [0.4444444444444444, \"#bd3786\"], [0.5555555555555556, \"#d8576b\"], [0.6666666666666666, \"#ed7953\"], [0.7777777777777778, \"#fb9f3a\"], [0.8888888888888888, \"#fdca26\"], [1.0, \"#f0f921\"]], \"sequentialminus\": [[0.0, \"#0d0887\"], [0.1111111111111111, \"#46039f\"], [0.2222222222222222, \"#7201a8\"], [0.3333333333333333, \"#9c179e\"], [0.4444444444444444, \"#bd3786\"], [0.5555555555555556, \"#d8576b\"], [0.6666666666666666, \"#ed7953\"], [0.7777777777777778, \"#fb9f3a\"], [0.8888888888888888, \"#fdca26\"], [1.0, \"#f0f921\"]]}, \"colorway\": [\"#636efa\", \"#EF553B\", \"#00cc96\", \"#ab63fa\", \"#FFA15A\", \"#19d3f3\", \"#FF6692\", \"#B6E880\", \"#FF97FF\", \"#FECB52\"], \"font\": {\"color\": \"#2a3f5f\"}, \"geo\": {\"bgcolor\": \"white\", \"lakecolor\": \"white\", \"landcolor\": \"#E5ECF6\", \"showlakes\": true, \"showland\": true, \"subunitcolor\": \"white\"}, \"hoverlabel\": {\"align\": \"left\"}, \"hovermode\": \"closest\", \"mapbox\": {\"style\": \"light\"}, \"paper_bgcolor\": \"white\", \"plot_bgcolor\": \"#E5ECF6\", \"polar\": {\"angularaxis\": {\"gridcolor\": \"white\", \"linecolor\": \"white\", \"ticks\": \"\"}, \"bgcolor\": \"#E5ECF6\", \"radialaxis\": {\"gridcolor\": \"white\", \"linecolor\": \"white\", \"ticks\": \"\"}}, \"scene\": {\"xaxis\": {\"backgroundcolor\": \"#E5ECF6\", \"gridcolor\": \"white\", \"gridwidth\": 2, \"linecolor\": \"white\", \"showbackground\": true, \"ticks\": \"\", \"zerolinecolor\": \"white\"}, \"yaxis\": {\"backgroundcolor\": \"#E5ECF6\", \"gridcolor\": \"white\", \"gridwidth\": 2, \"linecolor\": \"white\", \"showbackground\": true, \"ticks\": \"\", \"zerolinecolor\": \"white\"}, \"zaxis\": {\"backgroundcolor\": \"#E5ECF6\", \"gridcolor\": \"white\", \"gridwidth\": 2, \"linecolor\": \"white\", \"showbackground\": true, \"ticks\": \"\", \"zerolinecolor\": \"white\"}}, \"shapedefaults\": {\"line\": {\"color\": \"#2a3f5f\"}}, \"ternary\": {\"aaxis\": {\"gridcolor\": \"white\", \"linecolor\": \"white\", \"ticks\": \"\"}, \"baxis\": {\"gridcolor\": \"white\", \"linecolor\": \"white\", \"ticks\": \"\"}, \"bgcolor\": \"#E5ECF6\", \"caxis\": {\"gridcolor\": \"white\", \"linecolor\": \"white\", \"ticks\": \"\"}}, \"title\": {\"x\": 0.05}, \"xaxis\": {\"automargin\": true, \"gridcolor\": \"white\", \"linecolor\": \"white\", \"ticks\": \"\", \"title\": {\"standoff\": 15}, \"zerolinecolor\": \"white\", \"zerolinewidth\": 2}, \"yaxis\": {\"automargin\": true, \"gridcolor\": \"white\", \"linecolor\": \"white\", \"ticks\": \"\", \"title\": {\"standoff\": 15}, \"zerolinecolor\": \"white\", \"zerolinewidth\": 2}}}},\n",
              "                        {\"responsive\": true}\n",
              "                    ).then(function(){\n",
              "                            \n",
              "var gd = document.getElementById('81a9a86a-8510-48b8-b499-b1a242e54ed5');\n",
              "var x = new MutationObserver(function (mutations, observer) {{\n",
              "        var display = window.getComputedStyle(gd).display;\n",
              "        if (!display || display === 'none') {{\n",
              "            console.log([gd, 'removed!']);\n",
              "            Plotly.purge(gd);\n",
              "            observer.disconnect();\n",
              "        }}\n",
              "}});\n",
              "\n",
              "// Listen for the removal of the full notebook cells\n",
              "var notebookContainer = gd.closest('#notebook-container');\n",
              "if (notebookContainer) {{\n",
              "    x.observe(notebookContainer, {childList: true});\n",
              "}}\n",
              "\n",
              "// Listen for the clearing of the current output cell\n",
              "var outputEl = gd.closest('.output');\n",
              "if (outputEl) {{\n",
              "    x.observe(outputEl, {childList: true});\n",
              "}}\n",
              "\n",
              "                        })\n",
              "                };\n",
              "                \n",
              "            </script>\n",
              "        </div>\n",
              "</body>\n",
              "</html>"
            ]
          },
          "metadata": {
            "tags": []
          }
        }
      ]
    },
    {
      "cell_type": "markdown",
      "metadata": {
        "id": "aXIn4Gw0h64O"
      },
      "source": [
        "We could see that the 5 datapoints belong to unique years, ranging from 2015 to 2019, Let's get these datapoints from our dataframe"
      ]
    },
    {
      "cell_type": "code",
      "metadata": {
        "colab": {
          "base_uri": "https://localhost:8080/",
          "height": 350
        },
        "id": "K2cgUhOHY9z5",
        "outputId": "66177b77-d23d-4948-d47d-0fe609a36475"
      },
      "source": [
        "whr_250Country.loc[(whr_250Country['Economy (GDP per Capita)']>=0.22208) & (whr_250Country['Inflation(%)']==5.9) & (whr_250Country['Trust (Government Corruption)']>=0.411)]"
      ],
      "execution_count": 56,
      "outputs": [
        {
          "output_type": "execute_result",
          "data": {
            "text/html": [
              "<div>\n",
              "<style scoped>\n",
              "    .dataframe tbody tr th:only-of-type {\n",
              "        vertical-align: middle;\n",
              "    }\n",
              "\n",
              "    .dataframe tbody tr th {\n",
              "        vertical-align: top;\n",
              "    }\n",
              "\n",
              "    .dataframe thead th {\n",
              "        text-align: right;\n",
              "    }\n",
              "</style>\n",
              "<table border=\"1\" class=\"dataframe\">\n",
              "  <thead>\n",
              "    <tr style=\"text-align: right;\">\n",
              "      <th></th>\n",
              "      <th>Country</th>\n",
              "      <th>Happiness Score</th>\n",
              "      <th>Economy (GDP per Capita)</th>\n",
              "      <th>Health (Life Expectancy)</th>\n",
              "      <th>Freedom</th>\n",
              "      <th>Trust (Government Corruption)</th>\n",
              "      <th>Generosity</th>\n",
              "      <th>Year</th>\n",
              "      <th>name</th>\n",
              "      <th>region</th>\n",
              "      <th>subregion</th>\n",
              "      <th>population</th>\n",
              "      <th>area</th>\n",
              "      <th>gini</th>\n",
              "      <th>Real Growth Rating(%)</th>\n",
              "      <th>Literacy Rate(%)</th>\n",
              "      <th>Inflation(%)</th>\n",
              "      <th>Unemployement(%)</th>\n",
              "    </tr>\n",
              "  </thead>\n",
              "  <tbody>\n",
              "    <tr>\n",
              "      <th>525</th>\n",
              "      <td>Rwanda</td>\n",
              "      <td>3.465</td>\n",
              "      <td>0.222080</td>\n",
              "      <td>0.428640</td>\n",
              "      <td>0.592010</td>\n",
              "      <td>0.55191</td>\n",
              "      <td>0.226280</td>\n",
              "      <td>2015</td>\n",
              "      <td>Rwanda</td>\n",
              "      <td>Africa</td>\n",
              "      <td>Eastern Africa</td>\n",
              "      <td>11553188</td>\n",
              "      <td>26338.0</td>\n",
              "      <td>50.8</td>\n",
              "      <td>7.5</td>\n",
              "      <td>71.1</td>\n",
              "      <td>5.9</td>\n",
              "      <td>14.770671</td>\n",
              "    </tr>\n",
              "    <tr>\n",
              "      <th>526</th>\n",
              "      <td>Rwanda</td>\n",
              "      <td>3.515</td>\n",
              "      <td>0.328460</td>\n",
              "      <td>0.318650</td>\n",
              "      <td>0.543200</td>\n",
              "      <td>0.50521</td>\n",
              "      <td>0.235520</td>\n",
              "      <td>2016</td>\n",
              "      <td>Rwanda</td>\n",
              "      <td>Africa</td>\n",
              "      <td>Eastern Africa</td>\n",
              "      <td>11553188</td>\n",
              "      <td>26338.0</td>\n",
              "      <td>50.8</td>\n",
              "      <td>7.5</td>\n",
              "      <td>71.1</td>\n",
              "      <td>5.9</td>\n",
              "      <td>14.770671</td>\n",
              "    </tr>\n",
              "    <tr>\n",
              "      <th>527</th>\n",
              "      <td>Rwanda</td>\n",
              "      <td>3.471</td>\n",
              "      <td>0.368746</td>\n",
              "      <td>0.326425</td>\n",
              "      <td>0.581844</td>\n",
              "      <td>0.45522</td>\n",
              "      <td>0.252756</td>\n",
              "      <td>2017</td>\n",
              "      <td>Rwanda</td>\n",
              "      <td>Africa</td>\n",
              "      <td>Eastern Africa</td>\n",
              "      <td>11553188</td>\n",
              "      <td>26338.0</td>\n",
              "      <td>50.8</td>\n",
              "      <td>7.5</td>\n",
              "      <td>71.1</td>\n",
              "      <td>5.9</td>\n",
              "      <td>14.770671</td>\n",
              "    </tr>\n",
              "    <tr>\n",
              "      <th>528</th>\n",
              "      <td>Rwanda</td>\n",
              "      <td>3.408</td>\n",
              "      <td>0.332000</td>\n",
              "      <td>0.400000</td>\n",
              "      <td>0.636000</td>\n",
              "      <td>0.44400</td>\n",
              "      <td>0.200000</td>\n",
              "      <td>2018</td>\n",
              "      <td>Rwanda</td>\n",
              "      <td>Africa</td>\n",
              "      <td>Eastern Africa</td>\n",
              "      <td>11553188</td>\n",
              "      <td>26338.0</td>\n",
              "      <td>50.8</td>\n",
              "      <td>7.5</td>\n",
              "      <td>71.1</td>\n",
              "      <td>5.9</td>\n",
              "      <td>14.770671</td>\n",
              "    </tr>\n",
              "    <tr>\n",
              "      <th>529</th>\n",
              "      <td>Rwanda</td>\n",
              "      <td>3.334</td>\n",
              "      <td>0.359000</td>\n",
              "      <td>0.614000</td>\n",
              "      <td>0.555000</td>\n",
              "      <td>0.41100</td>\n",
              "      <td>0.217000</td>\n",
              "      <td>2019</td>\n",
              "      <td>Rwanda</td>\n",
              "      <td>Africa</td>\n",
              "      <td>Eastern Africa</td>\n",
              "      <td>11553188</td>\n",
              "      <td>26338.0</td>\n",
              "      <td>50.8</td>\n",
              "      <td>7.5</td>\n",
              "      <td>71.1</td>\n",
              "      <td>5.9</td>\n",
              "      <td>14.770671</td>\n",
              "    </tr>\n",
              "  </tbody>\n",
              "</table>\n",
              "</div>"
            ],
            "text/plain": [
              "    Country  Happiness Score  ...  Inflation(%)  Unemployement(%)\n",
              "525  Rwanda            3.465  ...           5.9         14.770671\n",
              "526  Rwanda            3.515  ...           5.9         14.770671\n",
              "527  Rwanda            3.471  ...           5.9         14.770671\n",
              "528  Rwanda            3.408  ...           5.9         14.770671\n",
              "529  Rwanda            3.334  ...           5.9         14.770671\n",
              "\n",
              "[5 rows x 18 columns]"
            ]
          },
          "metadata": {
            "tags": []
          },
          "execution_count": 56
        }
      ]
    },
    {
      "cell_type": "markdown",
      "metadata": {
        "id": "GzkKUPC_id1s"
      },
      "source": [
        "And it appears that they all belong to the same Country of Rwanda. But this weird why didn't Rwanda follow the same trend as the other datapoints, we could solve this mystry by assuming that their is another factor that affects the Trust more than the economy and the inflation. And after looking at the corelation graph we could see that the Trust is more corelated to the Freedom than the Economy or the inflation."
      ]
    },
    {
      "cell_type": "code",
      "metadata": {
        "colab": {
          "base_uri": "https://localhost:8080/",
          "height": 282
        },
        "id": "fY04NXIucAeP",
        "outputId": "89676267-c0ac-477c-c91a-dcf9f96da60e"
      },
      "source": [
        "plt.scatter(whr_250Country['Freedom'],whr_250Country['Trust (Government Corruption)'])"
      ],
      "execution_count": 53,
      "outputs": [
        {
          "output_type": "execute_result",
          "data": {
            "text/plain": [
              "<matplotlib.collections.PathCollection at 0x7fb22e316c18>"
            ]
          },
          "metadata": {
            "tags": []
          },
          "execution_count": 53
        },
        {
          "output_type": "display_data",
          "data": {
            "image/png": "[encoded data removed]",
            "text/plain": [
              "<Figure size 432x288 with 1 Axes>"
            ]
          },
          "metadata": {
            "tags": [],
            "needs_background": "light"
          }
        }
      ]
    },
    {
      "cell_type": "code",
      "metadata": {
        "colab": {
          "base_uri": "https://localhost:8080/",
          "height": 282
        },
        "id": "DQ_YkKDEdfFw",
        "outputId": "67ce713c-439b-47bd-beff-f49fdb68789d"
      },
      "source": [
        "plt.scatter(whr_250Country['Freedom'],whr_250Country['Economy (GDP per Capita)'])"
      ],
      "execution_count": 73,
      "outputs": [
        {
          "output_type": "execute_result",
          "data": {
            "text/plain": [
              "<matplotlib.collections.PathCollection at 0x7fb22dc3c208>"
            ]
          },
          "metadata": {
            "tags": []
          },
          "execution_count": 73
        },
        {
          "output_type": "display_data",
          "data": {
            "image/png": "[encoded data removed]",
            "text/plain": [
              "<Figure size 432x288 with 1 Axes>"
            ]
          },
          "metadata": {
            "tags": [],
            "needs_background": "light"
          }
        }
      ]
    },
    {
      "cell_type": "code",
      "metadata": {
        "colab": {
          "base_uri": "https://localhost:8080/",
          "height": 282
        },
        "id": "Yzec96IWs2B_",
        "outputId": "1841c037-ef0e-41f6-f468-450ce17500cf"
      },
      "source": [
        "plt.scatter(whr_250Country['Freedom'],whr_250Country['Inflation(%)'])"
      ],
      "execution_count": 74,
      "outputs": [
        {
          "output_type": "execute_result",
          "data": {
            "text/plain": [
              "<matplotlib.collections.PathCollection at 0x7fb2253469b0>"
            ]
          },
          "metadata": {
            "tags": []
          },
          "execution_count": 74
        },
        {
          "output_type": "display_data",
          "data": {
            "image/png": "[encoded data removed]",
            "text/plain": [
              "<Figure size 432x288 with 1 Axes>"
            ]
          },
          "metadata": {
            "tags": [],
            "needs_background": "light"
          }
        }
      ]
    },
    {
      "cell_type": "code",
      "metadata": {
        "colab": {
          "base_uri": "https://localhost:8080/",
          "height": 542
        },
        "id": "TFJysqgDswe3",
        "outputId": "7bc59f38-04fd-45e4-b75b-85efb25cc181"
      },
      "source": [
        "fig = px.scatter_3d(whr_250Country, x='Economy (GDP per Capita)', y='Freedom', z='Trust (Government Corruption)',\n",
        "              color =\"Year\",size_max=1,opacity=0.7)\n",
        "fig.show()"
      ],
      "execution_count": 75,
      "outputs": [
        {
          "output_type": "display_data",
          "data": {
            "text/html": [
              "<html>\n",
              "<head><meta charset=\"utf-8\" /></head>\n",
              "<body>\n",
              "    <div>\n",
              "            <script src=\"https://cdnjs.cloudflare.com/ajax/libs/mathjax/2.7.5/MathJax.js?config=TeX-AMS-MML_SVG\"></script><script type=\"text/javascript\">if (window.MathJax) {MathJax.Hub.Config({SVG: {font: \"STIX-Web\"}});}</script>\n",
              "                <script type=\"text/javascript\">window.PlotlyConfig = {MathJaxConfig: 'local'};</script>\n",
              "        <script src=\"https://cdn.plot.ly/plotly-latest.min.js\"></script>    \n",
              "            <div id=\"f228bf83-aa9e-4632-bfca-50caf073b597\" class=\"plotly-graph-div\" style=\"height:525px; width:100%;\"></div>\n",
              "            <script type=\"text/javascript\">\n",
              "                \n",
              "                    window.PLOTLYENV=window.PLOTLYENV || {};\n",
              "                    \n",
              "                if (document.getElementById(\"f228bf83-aa9e-4632-bfca-50caf073b597\")) {\n",
              "                    Plotly.newPlot(\n",
              "                        'f228bf83-aa9e-4632-bfca-50caf073b597',\n",
              "                        [{\"hoverlabel\": {\"namelength\": 0}, \"hovertemplate\": \"Economy (GDP per Capita)=%{x}<br>Freedom=%{y}<br>Trust (Government Corruption)=%{z}<br>Year=%{marker.color}\", \"legendgroup\": \"\", \"marker\": {\"color\": [2015, 2016, 2017, 2018, 2019, 2015, 2016, 2017, 2018, 2019, 2015, 2016, 2017, 2018, 2019, 2015, 2016, 2017, 2018, 2015, 2016, 2017, 2018, 2019, 2015, 2016, 2017, 2018, 2019, 2015, 2016, 2017, 2018, 2019, 2015, 2016, 2017, 2018, 2019, 2015, 2016, 2017, 2018, 2019, 2015, 2016, 2017, 2018, 2019, 2015, 2016, 2017, 2018, 2019, 2015, 2016, 2017, 2018, 2019, 2015, 2016, 2017, 2018, 2019, 2016, 2017, 2018, 2015, 2016, 2017, 2018, 2019, 2015, 2016, 2017, 2018, 2019, 2015, 2016, 2017, 2018, 2019, 2015, 2016, 2017, 2018, 2019, 2015, 2016, 2017, 2018, 2019, 2015, 2016, 2017, 2018, 2019, 2015, 2016, 2017, 2018, 2019, 2015, 2016, 2017, 2018, 2019, 2015, 2016, 2017, 2018, 2019, 2015, 2016, 2017, 2018, 2019, 2015, 2016, 2017, 2018, 2019, 2015, 2017, 2018, 2019, 2015, 2016, 2017, 2018, 2019, 2015, 2016, 2017, 2018, 2019, 2015, 2016, 2017, 2018, 2019, 2015, 2016, 2017, 2018, 2019, 2015, 2016, 2019, 2015, 2016, 2017, 2018, 2019, 2015, 2016, 2017, 2018, 2019, 2015, 2016, 2017, 2018, 2019, 2015, 2016, 2017, 2018, 2019, 2015, 2016, 2017, 2018, 2019, 2015, 2015, 2016, 2017, 2018, 2019, 2015, 2016, 2017, 2018, 2019, 2015, 2016, 2017, 2018, 2019, 2015, 2016, 2017, 2018, 2019, 2015, 2016, 2017, 2018, 2019, 2015, 2016, 2017, 2018, 2019, 2015, 2016, 2017, 2018, 2019, 2015, 2016, 2017, 2018, 2019, 2015, 2016, 2017, 2018, 2019, 2019, 2015, 2016, 2017, 2018, 2019, 2015, 2016, 2017, 2018, 2019, 2015, 2016, 2017, 2018, 2019, 2015, 2016, 2017, 2018, 2019, 2015, 2016, 2017, 2018, 2019, 2015, 2016, 2017, 2018, 2019, 2015, 2016, 2017, 2018, 2019, 2015, 2016, 2017, 2018, 2019, 2015, 2016, 2017, 2018, 2019, 2015, 2016, 2017, 2018, 2019, 2015, 2016, 2017, 2018, 2019, 2015, 2016, 2017, 2018, 2019, 2015, 2016, 2017, 2018, 2019, 2015, 2016, 2017, 2018, 2019, 2015, 2016, 2017, 2018, 2019, 2015, 2016, 2017, 2018, 2019, 2015, 2016, 2017, 2018, 2019, 2015, 2016, 2017, 2018, 2019, 2015, 2016, 2017, 2018, 2019, 2015, 2016, 2017, 2018, 2019, 2015, 2016, 2017, 2018, 2019, 2015, 2016, 2017, 2018, 2019, 2015, 2016, 2017, 2018, 2019, 2015, 2016, 2017, 2018, 2019, 2015, 2016, 2017, 2018, 2019, 2015, 2016, 2017, 2018, 2019, 2015, 2017, 2018, 2019, 2015, 2016, 2017, 2018, 2019, 2015, 2016, 2017, 2018, 2019, 2015, 2016, 2017, 2018, 2019, 2015, 2016, 2017, 2018, 2019, 2015, 2016, 2017, 2018, 2019, 2015, 2016, 2017, 2018, 2019, 2015, 2016, 2017, 2018, 2019, 2015, 2016, 2017, 2018, 2019, 2015, 2016, 2017, 2018, 2019, 2015, 2016, 2017, 2018, 2019, 2015, 2016, 2017, 2018, 2019, 2015, 2016, 2017, 2018, 2019, 2015, 2016, 2017, 2018, 2019, 2015, 2016, 2017, 2018, 2019, 2015, 2016, 2017, 2018, 2019, 2015, 2017, 2018, 2019, 2015, 2016, 2017, 2018, 2019, 2016, 2017, 2018, 2019, 2015, 2016, 2017, 2018, 2019, 2015, 2016, 2017, 2018, 2019, 2015, 2016, 2017, 2018, 2019, 2015, 2016, 2017, 2018, 2019, 2015, 2016, 2017, 2018, 2019, 2015, 2016, 2017, 2018, 2019, 2015, 2016, 2017, 2018, 2019, 2015, 2015, 2016, 2017, 2018, 2019, 2015, 2016, 2017, 2018, 2019, 2015, 2016, 2017, 2018, 2019, 2015, 2016, 2017, 2018, 2019, 2015, 2016, 2017, 2018, 2019, 2015, 2016, 2017, 2018, 2019, 2015, 2016, 2017, 2018, 2019, 2016, 2015, 2016, 2017, 2018, 2019, 2015, 2016, 2017, 2018, 2019, 2015, 2016, 2017, 2018, 2019, 2015, 2016, 2017, 2018, 2019, 2015, 2016, 2017, 2018, 2019, 2015, 2016, 2017, 2018, 2019, 2015, 2016, 2017, 2018, 2019, 2015, 2016, 2017, 2018, 2019, 2015, 2016, 2017, 2018, 2019, 2015, 2016, 2017, 2018, 2019, 2016, 2017, 2018, 2019, 2015, 2016, 2017, 2018, 2019, 2016, 2017, 2018, 2019, 2015, 2016, 2017, 2018, 2019, 2015, 2016, 2017, 2018, 2019, 2015, 2016, 2017, 2018, 2015, 2016, 2015, 2019, 2015, 2016, 2017, 2018, 2019, 2015, 2016, 2017, 2018, 2019, 2015, 2016, 2017, 2018, 2019, 2015, 2016, 2017, 2018, 2019, 2015, 2016, 2017, 2018, 2019, 2015, 2016, 2017, 2018, 2019, 2015, 2016, 2017, 2018, 2019, 2015, 2016, 2017, 2018, 2019, 2015, 2016, 2017, 2018, 2019, 2015, 2016, 2017, 2018, 2019, 2015, 2016, 2017, 2018, 2019, 2015, 2016, 2017, 2018, 2019, 2015, 2016, 2017, 2018, 2019, 2015, 2016, 2017, 2018, 2019, 2015, 2016, 2017, 2018, 2019, 2015, 2016, 2017, 2018, 2019, 2015, 2016, 2017, 2018, 2019, 2015, 2016, 2017, 2018, 2019], \"coloraxis\": \"coloraxis\", \"opacity\": 0.7, \"symbol\": \"circle\"}, \"mode\": \"markers\", \"name\": \"\", \"scene\": \"scene\", \"showlegend\": false, \"type\": \"scatter3d\", \"x\": [0.31982, 0.38227, 0.401477217674255, 0.332, 0.35, 0.8786700000000001, 0.9553, 0.996192753314972, 0.9159999999999999, 0.9470000000000001, 0.93929, 1.05266, 1.09186446666718, 0.9790000000000001, 1.002, 0.75778, 0.84731, 0.8584281802177429, 0.73, 1.05351, 1.15137, 1.18529546260834, 1.073, 1.092, 0.7682100000000001, 0.8608600000000001, 0.900596737861633, 0.816, 0.85, 1.33358, 1.4444299999999999, 1.4844149351120002, 1.34, 1.3719999999999999, 1.33723, 1.45038, 1.4870972633361799, 1.341, 1.376, 1.02389, 1.12373, 1.1536017656326298, 1.024, 1.043, 1.32376, 1.44024, 1.4884122610092199, 1.338, 1.3619999999999999, 0.39753, 0.54177, 0.586682975292206, 0.532, 0.562, 1.0319200000000002, 1.1306200000000002, 1.15655755996704, 1.0390000000000001, 1.067, 1.30782, 1.42539, 1.4637807607650801, 1.324, 1.3559999999999999, 0.87616, 0.907975316047668, 0.807, 0.28665, 0.39499, 0.43108540773391707, 0.37799999999999995, 0.39299999999999996, 0.77042, 0.8527, 0.885416388511658, 0.7959999999999999, 0.813, 0.8322299999999999, 0.9338299999999999, 0.982409417629242, 0.915, 0.945, 0.99355, 1.09426, 1.12209415435791, 1.0170000000000001, 1.041, 0.98124, 1.08754, 1.1073532104492199, 0.986, 1.004, 1.01216, 1.11306, 1.1614590883255, 1.054, 1.092, 0.25811999999999996, 0.31995, 0.35022771358490007, 0.314, 0.331, 0.0153, 0.06831, 0.09162256866693501, 0.091, 0.046, 0.46038, 0.55604, 0.6017650961875921, 0.5489999999999999, 0.574, 0.4225, 0.5249699999999999, 0.564305365085602, 0.535, 0.5489999999999999, 1.32629, 1.44015, 1.47920441627502, 1.33, 1.365, 0.0785, 0.0, 0.024, 0.026000000000000002, 0.34193, 0.42213999999999996, 0.43801298737525896, 0.358, 0.35, 1.10715, 1.2167, 1.25278460979462, 1.131, 1.159, 0.89012, 1.0278, 1.08116579055786, 0.9890000000000001, 1.0290000000000001, 0.91861, 1.0303200000000001, 1.07062232494354, 0.96, 0.985, 0.23906, 0.27509, 0.27399999999999997, 0.95578, 1.06879, 1.10970628261566, 1.01, 1.034, 1.08254, 1.18649, 1.22255623340607, 1.115, 1.155, 1.20813, 1.31857, 1.3559380769729599, 1.229, 1.263, 1.17898, 1.30915, 1.35268235206604, 1.2329999999999999, 1.2690000000000001, 1.32548, 1.4417799999999998, 1.48238301277161, 1.351, 1.383, 0.44025, 0.8953700000000001, 1.02787, 1.07937383651733, 0.982, 1.015, 0.8640200000000001, 0.97306, 1.00082039833069, 0.889, 0.912, 0.8818, 0.95395, 0.989701807498932, 0.885, 0.9129999999999999, 0.76454, 0.8737, 0.9097844958305359, 0.8059999999999999, 0.794, 1.15174, 1.2796399999999999, 1.3208793401718102, 1.2, 1.237, 0.19072999999999998, 0.29283000000000003, 0.339233845472336, 0.308, 0.336, 1.29025, 1.40598, 1.44357192516327, 1.305, 1.34, 1.27778, 1.39488, 1.43092346191406, 1.2930000000000001, 1.324, 1.06024, 1.15851, 1.1982102394104, 1.036, 1.057, 0.308, 0.7419, 0.8379200000000001, 0.950612664222717, 0.853, 0.8859999999999999, 1.32792, 1.44787, 1.48792338371277, 1.34, 1.3730000000000002, 0.5455800000000001, 0.63107, 0.667224824428558, 0.5920000000000001, 0.611, 1.15406, 1.24886, 1.28948748111725, 1.1540000000000001, 1.181, 0.74553, 0.83454, 0.872001945972443, 0.7809999999999999, 0.8, 0.17417, 0.22415, 0.24454993009567302, 0.344, 0.38, 0.26673, 0.34097, 0.368610262870789, 0.315, 0.32299999999999995, 0.59532, 0.69429, 0.730573117733002, 0.62, 0.642, 1.38604, 1.5107, 1.55167484283447, 1.405, 1.4380000000000002, 1.12094, 1.24142, 1.2860119342803997, 1.171, 1.2009999999999998, 1.3023200000000001, 1.42666, 1.480633020401, 1.3430000000000002, 1.38, 0.64499, 0.74036, 0.7922212481498722, 0.721, 0.755, 0.8282700000000001, 0.95104, 0.995538592338562, 0.899, 0.9309999999999999, 0.98549, 1.07474, 1.1027104854583702, 1.01, 1.043, 1.33596, 1.4834100000000001, 1.5357066392898602, 1.4480000000000002, 1.499, 1.2285700000000002, 1.33766, 1.3753824234008798, 1.301, 1.276, 1.25114, 1.35495, 1.3950666189193701, 1.264, 1.294, 0.81038, 0.89333, 0.925579309463501, 0.8190000000000001, 0.831, 1.27074, 1.3800700000000001, 1.41691517829895, 1.294, 1.327, 0.9019799999999999, 0.9967299999999999, 0.9910123944282528, 0.8220000000000001, 0.8370000000000001, 1.1225399999999999, 1.22943, 1.2845562696456898, 1.143, 1.173, 0.36471, 0.52267, 0.560479462146759, 0.493, 0.512, 1.5542200000000002, 1.61714, 1.63295245170593, 1.474, 1.5, 0.47428000000000003, 0.5604399999999999, 0.5962200760841371, 0.53, 0.551, 1.11312, 1.2178799999999999, 1.26074862480164, 1.148, 1.187, 1.0256399999999999, 1.12268, 1.07498753070831, 0.965, 0.987, 0.37545, 0.521021246910095, 0.47200000000000003, 0.489, 0.0712, 0.10705999999999999, 0.11904179304838199, 0.076, 0.073, 1.13145, 1.0668799999999998, 1.1018030643463101, 0.985, 1.044, 1.14723, 1.2692, 1.3145823478698702, 1.197, 1.238, 1.5639100000000001, 1.6975200000000001, 1.74194359779358, 1.5759999999999998, 1.609, 0.20824, 0.27954, 0.305808693170547, 0.262, 0.27399999999999997, 0.016040000000000002, 0.08709, 0.233442038297653, 0.18600000000000003, 0.191, 1.12486, 1.25142, 1.29121541976929, 1.161, 1.2209999999999999, 0.26074, 0.31292, 0.476180493831635, 0.37, 0.385, 1.2074, 1.30782, 1.34327983856201, 1.27, 1.3, 0.45407, 0.6139100000000001, 0.6484572887420649, 0.557, 0.57, 1.0076100000000001, 1.14372, 1.1893955469131499, 1.09, 1.12, 1.02054, 1.1150799999999998, 1.1531838178634601, 1.038, 1.07, 0.82819, 0.9885299999999999, 1.0272358655929599, 0.914, 0.948, 0.9743799999999999, 1.07838, 1.12112903594971, 1.0170000000000001, 1.051, 0.7347899999999999, 0.8405799999999999, 0.8781145811080929, 0.779, 0.8009999999999999, 0.08308, 0.23430564999580397, 0.198, 0.204, 0.27108000000000004, 0.34112, 0.36711055040359497, 0.682, 0.71, 0.9328700000000001, 0.964434325695038, 0.8740000000000001, 0.879, 0.35996999999999996, 0.44626000000000005, 0.479820191860199, 0.425, 0.446, 1.32944, 1.46468, 1.50394463539124, 1.361, 1.396, 1.2501799999999998, 1.36066, 1.40570604801178, 1.268, 1.3030000000000002, 0.59325, 0.69384, 0.737299203872681, 0.6679999999999999, 0.6940000000000001, 0.0694, 0.1327, 0.16192533075809498, 0.131, 0.138, 0.65435, 0.75216, 0.783756256103516, 0.6890000000000001, 0.696, 1.459, 1.57744, 1.6164631843566901, 1.456, 1.4880000000000002, 1.36011, 0.59543, 0.68816, 0.7268835306167599, 0.652, 0.677, 1.0635299999999999, 1.18306, 1.23374843597412, 1.112, 1.149, 0.75985, 0.8937299999999999, 0.932537317276001, 0.835, 0.855, 0.9001899999999999, 0.9960200000000001, 1.0352252721786501, 0.934, 0.96, 0.70532, 0.81217, 0.85769921541214, 0.775, 0.807, 1.12555, 1.24585, 1.29178786277771, 1.176, 1.206, 1.15991, 1.27607, 1.3151752948761002, 1.188, 1.2209999999999999, 1.35943, 1.69042, 1.82427, 1.8707656860351598, 1.649, 1.6840000000000002, 1.04345, 1.1697, 1.21768391132355, 1.1159999999999999, 1.162, 0.22208000000000003, 0.32846, 0.368745893239975, 0.332, 0.359, 1.39541, 1.48953, 1.53062355518341, 1.379, 1.403, 0.36498, 0.44314, 0.479309022426605, 0.429, 0.45, 0.92053, 1.03437, 1.06931757926941, 0.975, 1.004, 0.33024000000000003, 0.36485, 0.36842092871666, 0.256, 0.268, 1.52186, 1.64555, 1.69227766990662, 1.5290000000000001, 1.5719999999999998, 1.1689100000000001, 1.27973, 1.32539355754852, 1.21, 1.246, 1.18498, 1.2994700000000001, 1.3412059545516999, 1.219, 1.258, 0.0, 0.0226431842893362, 0.0, 0.0, 0.9204899999999999, 1.02416, 1.05469870567322, 0.94, 0.96, 0.39394, 0.39724862575531, 0.337, 0.306, 1.23011, 1.34253, 1.38439786434174, 1.251, 1.286, 0.83524, 0.9731799999999999, 1.00985014438629, 0.9179999999999999, 0.9490000000000001, 0.52107, 0.63069, 0.6595166921615601, 0.605, 0.99534, 1.09686, 0.71206, 0.8109999999999999, 1.33171, 1.45181, 1.49438726902008, 1.355, 1.3869999999999998, 1.3965100000000001, 1.5273299999999999, 1.5649795532226598, 1.42, 1.452, 1.29098, 1.39729, 1.4336265325546298, 1.365, 1.368, 0.39047, 0.48835, 0.524713635444641, 0.474, 0.493, 0.9669, 1.0893, 1.12786877155304, 1.016, 1.05, 0.20868, 0.28123000000000004, 0.30544471740722695, 0.259, 0.275, 1.21183, 1.32572, 1.36135590076447, 1.2229999999999999, 1.2309999999999999, 0.88113, 0.97724, 1.00726580619812, 0.9, 0.9209999999999999, 1.06098, 1.1649200000000002, 1.1982743740081798, 1.148, 1.183, 0.95847, 1.08017, 1.1307767629623402, 1.016, 1.052, 0.21101999999999999, 0.34719, 0.381430715322495, 0.322, 0.332, 0.79907, 0.87287, 0.89465194940567, 0.7929999999999999, 0.82, 1.42727, 1.57352, 1.6263433694839498, 2.096, 1.5030000000000001, 1.06166, 1.18157, 1.2175596952438401, 1.093, 1.124, 0.63244, 0.7359100000000001, 0.786441087722778, 0.7190000000000001, 0.745, 0.5464899999999999, 0.57939, 0.5916834473609921, 0.442, 0.287, 0.47038, 0.61202, 0.6364067792892459, 0.562, 0.578, 0.271, 0.35041, 0.37584653496742204, 0.35700000000000004, 0.366], \"y\": [0.23414000000000001, 0.1643, 0.106179520487785, 0.085, 0.0, 0.35733000000000004, 0.31866, 0.381498634815216, 0.419, 0.38299999999999995, 0.28579, 0.21006, 0.233335807919502, 0.077, 0.086, 0.10384000000000002, 0.00589, 0.0, 0.0, 0.44974, 0.42283999999999994, 0.49451920390129106, 0.57, 0.47100000000000003, 0.19847, 0.14037, 0.198303267359734, 0.26, 0.28300000000000003, 0.6512399999999999, 0.5683699999999999, 0.601607382297516, 0.647, 0.557, 0.62433, 0.54355, 0.567766189575195, 0.617, 0.532, 0.3703, 0.35327, 0.39815583825111406, 0.43, 0.35100000000000003, 0.45492, 0.47375, 0.536746919155121, 0.594, 0.536, 0.4082, 0.39778, 0.478356659412384, 0.58, 0.527, 0.37938, 0.29091, 0.295400261878967, 0.307, 0.235, 0.5845, 0.51354, 0.5397707223892211, 0.583, 0.473, 0.51231, 0.5475093722343439, 0.593, 0.4845, 0.39747, 0.42596277594566295, 0.44, 0.349, 0.5320600000000001, 0.46074, 0.5015376806259161, 0.541, 0.457, 0.09245, 0.09511, 0.204403176903725, 0.28, 0.212, 0.49495, 0.44088999999999995, 0.505196332931519, 0.557, 0.455, 0.49049, 0.40425, 0.437453746795654, 0.493, 0.39, 0.30587, 0.21219000000000002, 0.28923171758651695, 0.359, 0.311, 0.39493, 0.3337, 0.32436785101890603, 0.312, 0.255, 0.1185, 0.0432, 0.0599007532000542, 0.065, 0.22, 0.66246, 0.5885199999999999, 0.633375823497772, 0.696, 0.609, 0.49309, 0.42736, 0.430388748645782, 0.45399999999999996, 0.381, 0.63297, 0.5737, 0.611100912094116, 0.653, 0.584, 0.48878999999999995, 0.270842045545578, 0.305, 0.225, 0.23501, 0.12807000000000002, 0.16234202682972002, 0.18899999999999997, 0.174, 0.44132, 0.37789, 0.376895278692245, 0.431, 0.35700000000000004, 0.5169699999999999, 0.44011999999999996, 0.47278770804405196, 0.597, 0.521, 0.53466, 0.44735, 0.47748741507530196, 0.531, 0.47, 0.22916999999999998, 0.15412, 0.142, 0.63376, 0.55225, 0.580131649971008, 0.632, 0.5579999999999999, 0.25883, 0.23906999999999998, 0.255772292613983, 0.38, 0.29600000000000004, 0.40671999999999997, 0.29507, 0.35511153936386103, 0.423, 0.406, 0.46363999999999994, 0.41418, 0.49094617366790794, 0.5429999999999999, 0.457, 0.6493800000000001, 0.5794100000000001, 0.626006722450256, 0.6829999999999999, 0.5920000000000001, 0.46074, 0.57672, 0.52259, 0.55258983373642, 0.578, 0.49700000000000005, 0.48573999999999995, 0.4027, 0.4551981985569, 0.556, 0.498, 0.17288, 0.18847, 0.28211015462875394, 0.312, 0.24100000000000002, 0.4035, 0.37269, 0.432452529668808, 0.461, 0.43, 0.44888, 0.41511000000000003, 0.479131430387497, 0.5529999999999999, 0.495, 0.4345, 0.36703, 0.408842742443085, 0.452, 0.344, 0.64169, 0.57104, 0.6179508566856379, 0.6809999999999999, 0.596, 0.55011, 0.46562, 0.470222115516663, 0.52, 0.436, 0.31914000000000003, 0.28098, 0.31232857704162603, 0.35600000000000004, 0.295, 0.382, 0.40576999999999996, 0.32461, 0.309410035610199, 0.375, 0.34600000000000003, 0.6147699999999999, 0.53466, 0.562511384487152, 0.586, 0.495, 0.42341999999999996, 0.40973000000000004, 0.423026293516159, 0.499, 0.381, 0.07699, 0.05822000000000001, 0.0957312509417534, 0.131, 0.067, 0.57733, 0.50379, 0.5313106179237371, 0.604, 0.535, 0.37725, 0.30953, 0.348587512969971, 0.39399999999999996, 0.332, 0.24425, 0.12072000000000001, 0.0303698573261499, 0.025, 0.026000000000000002, 0.40148, 0.26755, 0.348079860210419, 0.45899999999999996, 0.507, 0.59608, 0.48078999999999994, 0.490968644618988, 0.524, 0.44, 0.32111999999999996, 0.1977, 0.17586351931095098, 0.259, 0.19899999999999998, 0.6287699999999999, 0.56624, 0.6271626353263849, 0.677, 0.591, 0.39786, 0.40285, 0.469987004995346, 0.539, 0.498, 0.46611, 0.39237, 0.443323463201523, 0.5379999999999999, 0.491, 0.0, 0.24856, 0.288555532693863, 0.304, 0.24100000000000002, 0.6177699999999999, 0.54008, 0.5731103420257571, 0.614, 0.516, 0.41318999999999995, 0.36432, 0.40598860383033797, 0.5329999999999999, 0.371, 0.26236, 0.18827, 0.256450712680817, 0.281, 0.231, 0.50442, 0.43596999999999997, 0.474307239055634, 0.575, 0.49, 0.49615, 0.46761, 0.505625545978546, 0.5529999999999999, 0.445, 0.40660999999999997, 0.36023, 0.418421149253845, 0.46799999999999997, 0.38299999999999995, 0.51649, 0.4052, 0.43745428323745705, 0.45399999999999996, 0.41, 0.42215, 0.40576, 0.45276376605033897, 0.504, 0.431, 0.55499, 0.43166000000000004, 0.49633759260177596, 0.5539999999999999, 0.493, 0.43477, 0.40212, 0.454943388700485, 0.54, 0.508, 0.29671, 0.27996, 0.32570791244506797, 0.363, 0.264, 0.33916, 0.26228, 0.28851598501205394, 0.503, 0.21600000000000003, 0.31767, 0.390661299228668, 0.423, 0.359, 0.28531, 0.25748000000000004, 0.33288118243217496, 0.419, 0.37, 0.41668, 0.40671999999999997, 0.465733230113983, 0.496, 0.41600000000000004, 0.21341999999999997, 0.18929, 0.234231784939766, 0.35, 0.29100000000000004, 0.61583, 0.5487, 0.59662789106369, 0.632, 0.526, 0.19184, 0.13684000000000002, 0.18919676542282102, 0.221, 0.14800000000000002, 0.43054, 0.4143, 0.466914653778076, 0.531, 0.44299999999999995, 0.5302399999999999, 0.39031, 0.40226498246192893, 0.35600000000000004, 0.508, 0.38856999999999997, 0.27544, 0.306613743305206, 0.36700000000000005, 0.327, 0.60365, 0.54994, 0.588767051696777, 0.645, 0.564, 0.24231999999999998, 0.1268, 0.0960980430245399, 0.129, 0.066, 0.56066, 0.46145, 0.491247326135635, 0.584, 0.498, 0.48181, 0.37709000000000004, 0.412730008363724, 0.479, 0.433, 0.43626000000000004, 0.35972, 0.39414396882057207, 0.395, 0.317, 0.1826, 0.15111, 0.194989055395126, 0.259, 0.19699999999999998, 0.41691000000000006, 0.25645999999999997, 0.408158332109451, 0.46, 0.418, 0.34037, 0.48079109191894503, 0.531, 0.494, 0.44017, 0.42691999999999997, 0.514492034912109, 0.58, 0.525, 0.48613999999999996, 0.520303547382355, 0.519, 0.401, 0.38282, 0.37012, 0.44030594825744607, 0.526, 0.439, 0.6157600000000001, 0.55211, 0.5853844881057739, 0.638, 0.557, 0.6393800000000001, 0.5814699999999999, 0.6140621304512021, 0.669, 0.585, 0.55475, 0.46581999999999996, 0.447551846504211, 0.527, 0.435, 0.47691999999999996, 0.38040999999999997, 0.36365869641304, 0.39, 0.318, 0.34334000000000003, 0.27854, 0.394952565431595, 0.462, 0.426, 0.66973, 0.59609, 0.635422587394714, 0.6859999999999999, 0.603, 0.63274, 0.12102, 0.14622000000000002, 0.23521526157856, 0.33399999999999996, 0.313, 0.5421, 0.48927, 0.550026834011078, 0.597, 0.516, 0.53899, 0.46235, 0.473507791757584, 0.541, 0.514, 0.41496000000000005, 0.37501999999999996, 0.45000287890434293, 0.53, 0.455, 0.62545, 0.5485399999999999, 0.585214674472809, 0.643, 0.5579999999999999, 0.53122, 0.4519, 0.520342111587524, 0.546, 0.483, 0.51469, 0.44727, 0.498465299606323, 0.562, 0.508, 0.46823000000000004, 0.6404, 0.56679, 0.604130983352661, 0.654, 0.555, 0.35068, 0.36712, 0.457003742456436, 0.528, 0.462, 0.59201, 0.5432, 0.5818438529968261, 0.636, 0.555, 0.31048000000000003, 0.37904, 0.449750572443008, 0.509, 0.439, 0.36772, 0.31056, 0.37792226672172496, 0.406, 0.292, 0.20107, 0.15718, 0.20871552824974102, 0.28800000000000003, 0.282, 0.4084, 0.30685, 0.318697690963745, 0.355, 0.309, 0.54252, 0.4877, 0.549840569496155, 0.631, 0.556, 0.31751, 0.23390999999999998, 0.295817464590073, 0.354, 0.33399999999999996, 0.60855, 0.53164, 0.572575807571411, 0.633, 0.564, 0.5677800000000001, 0.602126955986023, 0.674, 0.5589999999999999, 0.33207, 0.42483000000000004, 0.479246735572815, 0.516, 0.389, 0.19662000000000002, 0.147062435746193, 0.11199999999999999, 0.01, 0.45951000000000003, 0.37545, 0.408781230449677, 0.449, 0.36200000000000004, 0.5372600000000001, 0.50817, 0.561213254928589, 0.585, 0.47, 0.10081, 0.0, 0.0149958552792668, 0.016, 0.5965699999999999, 0.5223399999999999, 0.30658, 0.313, 0.6598, 0.58218, 0.612924098968506, 0.659, 0.574, 0.66557, 0.58557, 0.620070576667786, 0.66, 0.5720000000000001, 0.3974, 0.32377, 0.361466586589813, 0.418, 0.35100000000000003, 0.47216, 0.43408, 0.47156670689582797, 0.292, 0.389, 0.5566399999999999, 0.49553, 0.580200731754303, 0.637, 0.557, 0.36453, 0.34678000000000003, 0.38042613863945, 0.434, 0.293, 0.55884, 0.48453, 0.518630743026733, 0.575, 0.489, 0.26268, 0.23553000000000002, 0.289680689573288, 0.271, 0.16699999999999998, 0.22815, 0.23889000000000002, 0.300740599632263, 0.324, 0.195, 0.4761, 0.37408, 0.41827192902565, 0.41700000000000004, 0.39399999999999996, 0.45726999999999995, 0.43653000000000003, 0.443185955286026, 0.45, 0.35600000000000004, 0.25123, 0.12859, 0.12297477573156401, 0.163, 0.17800000000000002, 0.64157, 0.56215, 0.60834527015686, 0.284, 0.598, 0.6036199999999999, 0.54388, 0.5793922543525699, 0.625, 0.523, 0.6582100000000001, 0.60848, 0.6582486629486078, 0.7240000000000001, 0.631, 0.35570999999999997, 0.2287, 0.24946372210979503, 0.244, 0.14300000000000002, 0.48827, 0.42662, 0.461603492498398, 0.503, 0.431, 0.25861, 0.25429, 0.336384207010269, 0.406, 0.361], \"z\": [0.09719, 0.07112, 0.0611578300595284, 0.036000000000000004, 0.025, 0.06412999999999999, 0.05301, 0.0398642159998417, 0.032, 0.027000000000000003, 0.17382999999999998, 0.16157, 0.14609611034393302, 0.135, 0.114, 0.07122, 0.08434, 0.0697203353047371, 0.061, 0.08484, 0.07296, 0.05973988771438599, 0.054000000000000006, 0.05, 0.039, 0.036160000000000005, 0.0266744215041399, 0.027999999999999997, 0.064, 0.35636999999999996, 0.32331, 0.301183730363846, 0.302, 0.29, 0.18675999999999998, 0.21348000000000003, 0.22106036543846105, 0.22399999999999998, 0.226, 0.16065, 0.17914000000000002, 0.180987507104874, 0.17600000000000002, 0.182, 0.306, 0.25772, 0.257042169570923, 0.12300000000000001, 0.11, 0.12569, 0.12583, 0.123717859387398, 0.14400000000000002, 0.14300000000000002, 0.1909, 0.17457, 0.156313821673393, 0.154, 0.142, 0.2254, 0.26248, 0.251343131065369, 0.24, 0.21, 0.10770999999999999, 0.0965810716152191, 0.08900000000000001, 0.0801, 0.06681000000000001, 0.0609290152788162, 0.067, 0.08199999999999999, 0.15445, 0.1616, 0.17338038980960802, 0.171, 0.16699999999999998, 0.00227, 0.0, 0.0, 0.0, 0.006, 0.12474, 0.10769000000000001, 0.0985831990838051, 0.092, 0.1, 0.17521, 0.14165999999999998, 0.11109276115894301, 0.08800000000000001, 0.086, 0.00872, 0.00615, 0.0110515309497714, 0.009000000000000001, 0.004, 0.12832000000000002, 0.12533, 0.12032810598611803, 0.128, 0.113, 0.10062, 0.09419, 0.0841479450464249, 0.076, 0.18, 0.07247, 0.08092, 0.0681059509515762, 0.065, 0.062, 0.05786, 0.06126, 0.0513066314160824, 0.043, 0.037000000000000005, 0.32957, 0.31329, 0.287371516227722, 0.29100000000000004, 0.308, 0.08288999999999999, 0.0565650761127472, 0.038, 0.035, 0.05269, 0.04952, 0.0535818822681904, 0.06, 0.078, 0.12869, 0.11450999999999999, 0.0822879821062088, 0.061, 0.055999999999999994, 0.02781, 0.02745, 0.0227942746132612, 0.10300000000000001, 0.1, 0.0512, 0.053989999999999996, 0.0466687418520451, 0.039, 0.034, 0.19899999999999998, 0.18437, 0.078, 0.10583, 0.10547000000000001, 0.100106589496136, 0.10099999999999999, 0.09300000000000001, 0.0243, 0.04002, 0.0431031100451946, 0.039, 0.022000000000000002, 0.06146, 0.05227999999999999, 0.0412379764020443, 0.035, 0.040999999999999995, 0.02652, 0.03986, 0.0368729270994663, 0.034, 0.036000000000000004, 0.48357, 0.44453000000000004, 0.40077006816863997, 0.408, 0.41, 0.28105, 0.14234000000000002, 0.12372000000000001, 0.113945253193378, 0.106, 0.10099999999999999, 0.1809, 0.18037, 0.140134647488594, 0.12, 0.087, 0.06324, 0.10393, 0.114381365478039, 0.107, 0.067, 0.11775999999999999, 0.10613, 0.0899809598922729, 0.08199999999999999, 0.07400000000000001, 0.15184, 0.18519000000000002, 0.18324892222881303, 0.174, 0.161, 0.15048, 0.1717, 0.16545571386814098, 0.146, 0.1, 0.41372, 0.41003999999999996, 0.38261154294014, 0.39299999999999996, 0.39299999999999996, 0.20646, 0.17808, 0.172502428293228, 0.17600000000000002, 0.183, 0.11091, 0.09314, 0.0760467872023582, 0.052000000000000005, 0.055, 0.16699999999999998, 0.38331, 0.3188, 0.25166663527488703, 0.215, 0.16399999999999998, 0.21843, 0.28551, 0.276731938123703, 0.28, 0.265, 0.04355, 0.0326, 0.0253363698720932, 0.028999999999999998, 0.04, 0.013969999999999998, 0.04127, 0.043289776891470004, 0.044000000000000004, 0.034, 0.09472, 0.08701, 0.0772232785820961, 0.071, 0.078, 0.12139000000000001, 0.1192, 0.110937617719173, 0.094, 0.086, 0.17175, 0.14476, 0.0998721495270729, 0.10400000000000001, 0.11, 0.06825, 0.06906, 0.0733454525470734, 0.07400000000000001, 0.078, 0.37124, 0.31647, 0.29393374919891396, 0.29100000000000004, 0.287, 0.02758, 0.044719999999999996, 0.0366369374096394, 0.022000000000000002, 0.02, 0.14145, 0.14975, 0.15352655947208402, 0.138, 0.11800000000000001, 0.08492000000000001, 0.08722, 0.0922268852591515, 0.09300000000000001, 0.085, 0.0, 0.00322, 0.0153171354904771, 0.018000000000000002, 0.027999999999999997, 0.13788, 0.13635999999999998, 0.10721575468778599, 0.095, 0.08900000000000001, 0.28703, 0.29754, 0.29838815331459007, 0.306, 0.31, 0.07785, 0.08728, 0.0852421000599861, 0.272, 0.08199999999999999, 0.02901, 0.02556, 0.0280280914157629, 0.027999999999999997, 0.03, 0.02299, 0.04294, 0.0552677810192108, 0.031, 0.027999999999999997, 0.1806, 0.18985, 0.163760736584663, 0.15, 0.14, 0.14293, 0.13297, 0.11980327218771002, 0.134, 0.13, 0.08454, 0.11132, 0.11928288638591802, 0.121, 0.096, 0.05839, 0.06686, 0.0646413192152977, 0.055, 0.053, 0.25609, 0.23669, 0.21515955030918102, 0.106, 0.09699999999999999, 0.042319999999999997, 0.047619999999999996, 0.0394391790032387, 0.035, 0.023, 0.06332, 0.0889, 0.0738427266478539, 0.066, 0.064, 0.04582, 0.030610000000000002, 0.037513829767704, 0.136, 0.027000000000000003, 0.12504, 0.119094640016556, 0.11199999999999999, 0.09300000000000001, 0.06232000000000001, 0.04852, 0.0389482490718365, 0.03, 0.033, 0.11023, 0.10339000000000001, 0.0926102101802826, 0.14800000000000002, 0.152, 0.01031, 0.0182, 0.0118656428530812, 0.006, 0.042, 0.37798000000000004, 0.35329, 0.31883442401886, 0.321, 0.316, 0.08123999999999999, 0.07506, 0.0672319754958153, 0.049, 0.040999999999999995, 0.06977, 0.07564, 0.0727116540074348, 0.08, 0.08900000000000001, 0.10500999999999999, 0.09081, 0.0656007081270218, 0.059000000000000004, 0.024, 0.12352, 0.13647, 0.10497024655342098, 0.055999999999999994, 0.052000000000000005, 0.13585999999999998, 0.17554, 0.153066068887711, 0.142, 0.151, 0.17461, 0.17955, 0.136957004666328, 0.09300000000000001, 0.08800000000000001, 0.07521, 0.05202999999999999, 0.0421815551817417, 0.05, 0.06, 0.21311999999999998, 0.18355, 0.132774114608765, 0.095, 0.073, 0.026660000000000003, 0.03285, 0.0329022891819477, 0.032, 0.038, 0.14296, 0.12721, 0.0881741940975189, 0.081, 0.08, 0.08546000000000001, 0.08404, 0.0877631828188896, 0.07400000000000001, 0.076, 0.15603, 0.17943638563156103, 0.158, 0.138, 0.19034, 0.20243, 0.188816204667091, 0.17800000000000002, 0.172, 0.10397999999999999, 0.0931469723582268, 0.064, 0.055999999999999994, 0.059070000000000004, 0.07007999999999999, 0.0729755461215973, 0.078, 0.08900000000000001, 0.31814000000000003, 0.29927, 0.282661825418472, 0.295, 0.298, 0.42922, 0.41903999999999997, 0.38281670212745705, 0.389, 0.38, 0.19317, 0.16292, 0.130687981843948, 0.128, 0.127, 0.15639, 0.17176, 0.13857294619083402, 0.099, 0.102, 0.0403, 0.0305, 0.0261215660721064, 0.032, 0.040999999999999995, 0.36503, 0.35775999999999997, 0.31596383452415505, 0.34, 0.341, 0.32524000000000003, 0.10464000000000001, 0.1388, 0.12434806674718901, 0.113, 0.098, 0.0927, 0.08423, 0.070983923971653, 0.063, 0.054000000000000006, 0.08242000000000001, 0.07396, 0.091065913438797, 0.07400000000000001, 0.08, 0.05989, 0.05292, 0.0470490865409374, 0.034, 0.027000000000000003, 0.12279000000000001, 0.11757000000000001, 0.0993318930268288, 0.105, 0.107, 0.04212, 0.055, 0.0593078061938286, 0.064, 0.05, 0.01078, 0.01521, 0.0158694516867399, 0.017, 0.025, 0.12275, 0.52208, 0.48049, 0.43929925560951205, 0.171, 0.16699999999999998, 0.006490000000000001, 0.006790000000000001, 0.0043879006989300294, 0.001, 0.005, 0.55191, 0.50521, 0.455220013856888, 0.444, 0.41100000000000003, 0.32524000000000003, 0.30008, 0.27343225479126004, 0.127, 0.132, 0.10712999999999999, 0.11681, 0.11546044796705199, 0.08199999999999999, 0.07200000000000001, 0.02617, 0.04339, 0.0409037806093693, 0.043, 0.039, 0.08786000000000001, 0.08196, 0.0710951760411263, 0.053, 0.045, 0.4921, 0.46986999999999995, 0.46430778503417997, 0.457, 0.45299999999999996, 0.03431, 0.02947, 0.0242108516395092, 0.013999999999999999, 0.013999999999999999, 0.03787, 0.03635, 0.0451289787888527, 0.051, 0.057, 0.3118, 0.28241032361984303, 0.282, 0.27, 0.08884, 0.08415, 0.0725094974040985, 0.055999999999999994, 0.055, 0.13015, 0.116793513298035, 0.106, 0.091, 0.06398, 0.06137000000000001, 0.0709140971302986, 0.07400000000000001, 0.079, 0.09179, 0.07964, 0.0736539661884308, 0.05, 0.047, 0.1466, 0.10039, 0.089847519993782, 0.08199999999999999, 0.13633, 0.12692, 0.0306, 0.135, 0.43843999999999994, 0.40867, 0.384398728609085, 0.38299999999999995, 0.373, 0.41978000000000004, 0.41203, 0.36700728535652205, 0.35700000000000004, 0.34299999999999997, 0.08129, 0.0663, 0.0638292357325554, 0.078, 0.09699999999999999, 0.15072, 0.13509000000000002, 0.14637714624404902, 0.034, 0.14400000000000002, 0.031869999999999996, 0.02833, 0.0316127352416515, 0.028999999999999998, 0.027999999999999997, 0.10730999999999999, 0.11587, 0.0956650152802467, 0.10099999999999999, 0.085, 0.0114, 0.01241, 0.00896481610834599, 0.019, 0.016, 0.06358, 0.0817, 0.0867231488227844, 0.063, 0.055, 0.15746, 0.12347999999999999, 0.0996715798974037, 0.109, 0.106, 0.30844, 0.28467, 0.25927034020423895, 0.037000000000000005, 0.027999999999999997, 0.07267, 0.06442, 0.057069718837738, 0.061, 0.06, 0.02961, 0.01829, 0.0230294708162546, 0.011000000000000001, 0.01, 0.38583, 0.35561, 0.324489563703537, null, 0.182, 0.24558000000000002, 0.21394000000000002, 0.17806187272071802, 0.155, 0.15, 0.30826, 0.28333, 0.246528223156929, 0.259, 0.24, 0.07854, 0.05892000000000001, 0.0567674227058887, 0.064, 0.077, 0.12468, 0.11479, 0.0782135501503944, 0.08199999999999999, 0.087, 0.08079, 0.08582000000000001, 0.0953753814101219, 0.099, 0.08900000000000001]}],\n",
              "                        {\"coloraxis\": {\"colorbar\": {\"title\": {\"text\": \"Year\"}}, \"colorscale\": [[0.0, \"#0d0887\"], [0.1111111111111111, \"#46039f\"], [0.2222222222222222, \"#7201a8\"], [0.3333333333333333, \"#9c179e\"], [0.4444444444444444, \"#bd3786\"], [0.5555555555555556, \"#d8576b\"], [0.6666666666666666, \"#ed7953\"], [0.7777777777777778, \"#fb9f3a\"], [0.8888888888888888, \"#fdca26\"], [1.0, \"#f0f921\"]]}, \"legend\": {\"tracegroupgap\": 0}, \"margin\": {\"t\": 60}, \"scene\": {\"domain\": {\"x\": [0.0, 1.0], \"y\": [0.0, 1.0]}, \"xaxis\": {\"title\": {\"text\": \"Economy (GDP per Capita)\"}}, \"yaxis\": {\"title\": {\"text\": \"Freedom\"}}, \"zaxis\": {\"title\": {\"text\": \"Trust (Government Corruption)\"}}}, \"template\": {\"data\": {\"bar\": [{\"error_x\": {\"color\": \"#2a3f5f\"}, \"error_y\": {\"color\": \"#2a3f5f\"}, \"marker\": {\"line\": {\"color\": \"#E5ECF6\", \"width\": 0.5}}, \"type\": \"bar\"}], \"barpolar\": [{\"marker\": {\"line\": {\"color\": \"#E5ECF6\", \"width\": 0.5}}, \"type\": \"barpolar\"}], \"carpet\": [{\"aaxis\": {\"endlinecolor\": \"#2a3f5f\", \"gridcolor\": \"white\", \"linecolor\": \"white\", \"minorgridcolor\": \"white\", \"startlinecolor\": \"#2a3f5f\"}, \"baxis\": {\"endlinecolor\": \"#2a3f5f\", \"gridcolor\": \"white\", \"linecolor\": \"white\", \"minorgridcolor\": \"white\", \"startlinecolor\": \"#2a3f5f\"}, \"type\": \"carpet\"}], \"choropleth\": [{\"colorbar\": {\"outlinewidth\": 0, \"ticks\": \"\"}, \"type\": \"choropleth\"}], \"contour\": [{\"colorbar\": {\"outlinewidth\": 0, \"ticks\": \"\"}, \"colorscale\": [[0.0, \"#0d0887\"], [0.1111111111111111, \"#46039f\"], [0.2222222222222222, \"#7201a8\"], [0.3333333333333333, \"#9c179e\"], [0.4444444444444444, \"#bd3786\"], [0.5555555555555556, \"#d8576b\"], [0.6666666666666666, \"#ed7953\"], [0.7777777777777778, \"#fb9f3a\"], [0.8888888888888888, \"#fdca26\"], [1.0, \"#f0f921\"]], \"type\": \"contour\"}], \"contourcarpet\": [{\"colorbar\": {\"outlinewidth\": 0, \"ticks\": \"\"}, \"type\": \"contourcarpet\"}], \"heatmap\": [{\"colorbar\": {\"outlinewidth\": 0, \"ticks\": \"\"}, \"colorscale\": [[0.0, \"#0d0887\"], [0.1111111111111111, \"#46039f\"], [0.2222222222222222, \"#7201a8\"], [0.3333333333333333, \"#9c179e\"], [0.4444444444444444, \"#bd3786\"], [0.5555555555555556, \"#d8576b\"], [0.6666666666666666, \"#ed7953\"], [0.7777777777777778, \"#fb9f3a\"], [0.8888888888888888, \"#fdca26\"], [1.0, \"#f0f921\"]], \"type\": \"heatmap\"}], \"heatmapgl\": [{\"colorbar\": {\"outlinewidth\": 0, \"ticks\": \"\"}, \"colorscale\": [[0.0, \"#0d0887\"], [0.1111111111111111, \"#46039f\"], [0.2222222222222222, \"#7201a8\"], [0.3333333333333333, \"#9c179e\"], [0.4444444444444444, \"#bd3786\"], [0.5555555555555556, \"#d8576b\"], [0.6666666666666666, \"#ed7953\"], [0.7777777777777778, \"#fb9f3a\"], [0.8888888888888888, \"#fdca26\"], [1.0, \"#f0f921\"]], \"type\": \"heatmapgl\"}], \"histogram\": [{\"marker\": {\"colorbar\": {\"outlinewidth\": 0, \"ticks\": \"\"}}, \"type\": \"histogram\"}], \"histogram2d\": [{\"colorbar\": {\"outlinewidth\": 0, \"ticks\": \"\"}, \"colorscale\": [[0.0, \"#0d0887\"], [0.1111111111111111, \"#46039f\"], [0.2222222222222222, \"#7201a8\"], [0.3333333333333333, \"#9c179e\"], [0.4444444444444444, \"#bd3786\"], [0.5555555555555556, \"#d8576b\"], [0.6666666666666666, \"#ed7953\"], [0.7777777777777778, \"#fb9f3a\"], [0.8888888888888888, \"#fdca26\"], [1.0, \"#f0f921\"]], \"type\": \"histogram2d\"}], \"histogram2dcontour\": [{\"colorbar\": {\"outlinewidth\": 0, \"ticks\": \"\"}, \"colorscale\": [[0.0, \"#0d0887\"], [0.1111111111111111, \"#46039f\"], [0.2222222222222222, \"#7201a8\"], [0.3333333333333333, \"#9c179e\"], [0.4444444444444444, \"#bd3786\"], [0.5555555555555556, \"#d8576b\"], [0.6666666666666666, \"#ed7953\"], [0.7777777777777778, \"#fb9f3a\"], [0.8888888888888888, \"#fdca26\"], [1.0, \"#f0f921\"]], \"type\": \"histogram2dcontour\"}], \"mesh3d\": [{\"colorbar\": {\"outlinewidth\": 0, \"ticks\": \"\"}, \"type\": \"mesh3d\"}], \"parcoords\": [{\"line\": {\"colorbar\": {\"outlinewidth\": 0, \"ticks\": \"\"}}, \"type\": \"parcoords\"}], \"pie\": [{\"automargin\": true, \"type\": \"pie\"}], \"scatter\": [{\"marker\": {\"colorbar\": {\"outlinewidth\": 0, \"ticks\": \"\"}}, \"type\": \"scatter\"}], \"scatter3d\": [{\"line\": {\"colorbar\": {\"outlinewidth\": 0, \"ticks\": \"\"}}, \"marker\": {\"colorbar\": {\"outlinewidth\": 0, \"ticks\": \"\"}}, \"type\": \"scatter3d\"}], \"scattercarpet\": [{\"marker\": {\"colorbar\": {\"outlinewidth\": 0, \"ticks\": \"\"}}, \"type\": \"scattercarpet\"}], \"scattergeo\": [{\"marker\": {\"colorbar\": {\"outlinewidth\": 0, \"ticks\": \"\"}}, \"type\": \"scattergeo\"}], \"scattergl\": [{\"marker\": {\"colorbar\": {\"outlinewidth\": 0, \"ticks\": \"\"}}, \"type\": \"scattergl\"}], \"scattermapbox\": [{\"marker\": {\"colorbar\": {\"outlinewidth\": 0, \"ticks\": \"\"}}, \"type\": \"scattermapbox\"}], \"scatterpolar\": [{\"marker\": {\"colorbar\": {\"outlinewidth\": 0, \"ticks\": \"\"}}, \"type\": \"scatterpolar\"}], \"scatterpolargl\": [{\"marker\": {\"colorbar\": {\"outlinewidth\": 0, \"ticks\": \"\"}}, \"type\": \"scatterpolargl\"}], \"scatterternary\": [{\"marker\": {\"colorbar\": {\"outlinewidth\": 0, \"ticks\": \"\"}}, \"type\": \"scatterternary\"}], \"surface\": [{\"colorbar\": {\"outlinewidth\": 0, \"ticks\": \"\"}, \"colorscale\": [[0.0, \"#0d0887\"], [0.1111111111111111, \"#46039f\"], [0.2222222222222222, \"#7201a8\"], [0.3333333333333333, \"#9c179e\"], [0.4444444444444444, \"#bd3786\"], [0.5555555555555556, \"#d8576b\"], [0.6666666666666666, \"#ed7953\"], [0.7777777777777778, \"#fb9f3a\"], [0.8888888888888888, \"#fdca26\"], [1.0, \"#f0f921\"]], \"type\": \"surface\"}], \"table\": [{\"cells\": {\"fill\": {\"color\": \"#EBF0F8\"}, \"line\": {\"color\": \"white\"}}, \"header\": {\"fill\": {\"color\": \"#C8D4E3\"}, \"line\": {\"color\": \"white\"}}, \"type\": \"table\"}]}, \"layout\": {\"annotationdefaults\": {\"arrowcolor\": \"#2a3f5f\", \"arrowhead\": 0, \"arrowwidth\": 1}, \"coloraxis\": {\"colorbar\": {\"outlinewidth\": 0, \"ticks\": \"\"}}, \"colorscale\": {\"diverging\": [[0, \"#8e0152\"], [0.1, \"#c51b7d\"], [0.2, \"#de77ae\"], [0.3, \"#f1b6da\"], [0.4, \"#fde0ef\"], [0.5, \"#f7f7f7\"], [0.6, \"#e6f5d0\"], [0.7, \"#b8e186\"], [0.8, \"#7fbc41\"], [0.9, \"#4d9221\"], [1, \"#276419\"]], \"sequential\": [[0.0, \"#0d0887\"], [0.1111111111111111, \"#46039f\"], [0.2222222222222222, \"#7201a8\"], [0.3333333333333333, \"#9c179e\"], [0.4444444444444444, \"#bd3786\"], [0.5555555555555556, \"#d8576b\"], [0.6666666666666666, \"#ed7953\"], [0.7777777777777778, \"#fb9f3a\"], [0.8888888888888888, \"#fdca26\"], [1.0, \"#f0f921\"]], \"sequentialminus\": [[0.0, \"#0d0887\"], [0.1111111111111111, \"#46039f\"], [0.2222222222222222, \"#7201a8\"], [0.3333333333333333, \"#9c179e\"], [0.4444444444444444, \"#bd3786\"], [0.5555555555555556, \"#d8576b\"], [0.6666666666666666, \"#ed7953\"], [0.7777777777777778, \"#fb9f3a\"], [0.8888888888888888, \"#fdca26\"], [1.0, \"#f0f921\"]]}, \"colorway\": [\"#636efa\", \"#EF553B\", \"#00cc96\", \"#ab63fa\", \"#FFA15A\", \"#19d3f3\", \"#FF6692\", \"#B6E880\", \"#FF97FF\", \"#FECB52\"], \"font\": {\"color\": \"#2a3f5f\"}, \"geo\": {\"bgcolor\": \"white\", \"lakecolor\": \"white\", \"landcolor\": \"#E5ECF6\", \"showlakes\": true, \"showland\": true, \"subunitcolor\": \"white\"}, \"hoverlabel\": {\"align\": \"left\"}, \"hovermode\": \"closest\", \"mapbox\": {\"style\": \"light\"}, \"paper_bgcolor\": \"white\", \"plot_bgcolor\": \"#E5ECF6\", \"polar\": {\"angularaxis\": {\"gridcolor\": \"white\", \"linecolor\": \"white\", \"ticks\": \"\"}, \"bgcolor\": \"#E5ECF6\", \"radialaxis\": {\"gridcolor\": \"white\", \"linecolor\": \"white\", \"ticks\": \"\"}}, \"scene\": {\"xaxis\": {\"backgroundcolor\": \"#E5ECF6\", \"gridcolor\": \"white\", \"gridwidth\": 2, \"linecolor\": \"white\", \"showbackground\": true, \"ticks\": \"\", \"zerolinecolor\": \"white\"}, \"yaxis\": {\"backgroundcolor\": \"#E5ECF6\", \"gridcolor\": \"white\", \"gridwidth\": 2, \"linecolor\": \"white\", \"showbackground\": true, \"ticks\": \"\", \"zerolinecolor\": \"white\"}, \"zaxis\": {\"backgroundcolor\": \"#E5ECF6\", \"gridcolor\": \"white\", \"gridwidth\": 2, \"linecolor\": \"white\", \"showbackground\": true, \"ticks\": \"\", \"zerolinecolor\": \"white\"}}, \"shapedefaults\": {\"line\": {\"color\": \"#2a3f5f\"}}, \"ternary\": {\"aaxis\": {\"gridcolor\": \"white\", \"linecolor\": \"white\", \"ticks\": \"\"}, \"baxis\": {\"gridcolor\": \"white\", \"linecolor\": \"white\", \"ticks\": \"\"}, \"bgcolor\": \"#E5ECF6\", \"caxis\": {\"gridcolor\": \"white\", \"linecolor\": \"white\", \"ticks\": \"\"}}, \"title\": {\"x\": 0.05}, \"xaxis\": {\"automargin\": true, \"gridcolor\": \"white\", \"linecolor\": \"white\", \"ticks\": \"\", \"title\": {\"standoff\": 15}, \"zerolinecolor\": \"white\", \"zerolinewidth\": 2}, \"yaxis\": {\"automargin\": true, \"gridcolor\": \"white\", \"linecolor\": \"white\", \"ticks\": \"\", \"title\": {\"standoff\": 15}, \"zerolinecolor\": \"white\", \"zerolinewidth\": 2}}}},\n",
              "                        {\"responsive\": true}\n",
              "                    ).then(function(){\n",
              "                            \n",
              "var gd = document.getElementById('f228bf83-aa9e-4632-bfca-50caf073b597');\n",
              "var x = new MutationObserver(function (mutations, observer) {{\n",
              "        var display = window.getComputedStyle(gd).display;\n",
              "        if (!display || display === 'none') {{\n",
              "            console.log([gd, 'removed!']);\n",
              "            Plotly.purge(gd);\n",
              "            observer.disconnect();\n",
              "        }}\n",
              "}});\n",
              "\n",
              "// Listen for the removal of the full notebook cells\n",
              "var notebookContainer = gd.closest('#notebook-container');\n",
              "if (notebookContainer) {{\n",
              "    x.observe(notebookContainer, {childList: true});\n",
              "}}\n",
              "\n",
              "// Listen for the clearing of the current output cell\n",
              "var outputEl = gd.closest('.output');\n",
              "if (outputEl) {{\n",
              "    x.observe(outputEl, {childList: true});\n",
              "}}\n",
              "\n",
              "                        })\n",
              "                };\n",
              "                \n",
              "            </script>\n",
              "        </div>\n",
              "</body>\n",
              "</html>"
            ]
          },
          "metadata": {
            "tags": []
          }
        }
      ]
    },
    {
      "cell_type": "markdown",
      "metadata": {
        "id": "ikrpU16a4D7b"
      },
      "source": [
        "#  Looking at relations between the Literacy rate, the Unemployment% and the Economy.\n"
      ]
    },
    {
      "cell_type": "code",
      "metadata": {
        "colab": {
          "base_uri": "https://localhost:8080/",
          "height": 282
        },
        "id": "LSlbeyQm-Jh3",
        "outputId": "1a06db3c-5be4-4bc6-cf05-14e23b019473"
      },
      "source": [
        "plt.scatter(whr_250Country['Literacy Rate(%)'],whr_250Country['Economy (GDP per Capita)'])"
      ],
      "execution_count": 20,
      "outputs": [
        {
          "output_type": "execute_result",
          "data": {
            "text/plain": [
              "<matplotlib.collections.PathCollection at 0x7fb231251898>"
            ]
          },
          "metadata": {
            "tags": []
          },
          "execution_count": 20
        },
        {
          "output_type": "display_data",
          "data": {
            "image/png": "[encoded data removed]",
            "text/plain": [
              "<Figure size 432x288 with 1 Axes>"
            ]
          },
          "metadata": {
            "tags": [],
            "needs_background": "light"
          }
        }
      ]
    },
    {
      "cell_type": "code",
      "metadata": {
        "colab": {
          "base_uri": "https://localhost:8080/",
          "height": 282
        },
        "id": "nv_zbjrT4Olh",
        "outputId": "5c5788dd-2b34-4a61-e67d-96c910252d65"
      },
      "source": [
        "plt.scatter(whr_250Country['Unemployement(%)'],whr_250Country['Economy (GDP per Capita)'])"
      ],
      "execution_count": 81,
      "outputs": [
        {
          "output_type": "execute_result",
          "data": {
            "text/plain": [
              "<matplotlib.collections.PathCollection at 0x7fb22ea369e8>"
            ]
          },
          "metadata": {
            "tags": []
          },
          "execution_count": 81
        },
        {
          "output_type": "display_data",
          "data": {
            "image/png": "[encoded data removed]",
            "text/plain": [
              "<Figure size 432x288 with 1 Axes>"
            ]
          },
          "metadata": {
            "tags": [],
            "needs_background": "light"
          }
        }
      ]
    },
    {
      "cell_type": "code",
      "metadata": {
        "colab": {
          "base_uri": "https://localhost:8080/",
          "height": 542
        },
        "id": "ivwNaOyk-my3",
        "outputId": "fbd29920-1461-4b03-d2d4-bae1fd172ae1"
      },
      "source": [
        "fig = px.scatter_3d(whr_250Country, x=\"Literacy Rate(%)\", y='Unemployement(%)', z='Economy (GDP per Capita)',\n",
        "              color =\"Year\",size_max=1,opacity=0.7)\n",
        "fig.show()"
      ],
      "execution_count": 82,
      "outputs": [
        {
          "output_type": "display_data",
          "data": {
            "text/html": [
              "<html>\n",
              "<head><meta charset=\"utf-8\" /></head>\n",
              "<body>\n",
              "    <div>\n",
              "            <script src=\"https://cdnjs.cloudflare.com/ajax/libs/mathjax/2.7.5/MathJax.js?config=TeX-AMS-MML_SVG\"></script><script type=\"text/javascript\">if (window.MathJax) {MathJax.Hub.Config({SVG: {font: \"STIX-Web\"}});}</script>\n",
              "                <script type=\"text/javascript\">window.PlotlyConfig = {MathJaxConfig: 'local'};</script>\n",
              "        <script src=\"https://cdn.plot.ly/plotly-latest.min.js\"></script>    \n",
              "            <div id=\"7dbae10a-3f47-4103-ad17-e6efa099bdf7\" class=\"plotly-graph-div\" style=\"height:525px; width:100%;\"></div>\n",
              "            <script type=\"text/javascript\">\n",
              "                \n",
              "                    window.PLOTLYENV=window.PLOTLYENV || {};\n",
              "                    \n",
              "                if (document.getElementById(\"7dbae10a-3f47-4103-ad17-e6efa099bdf7\")) {\n",
              "                    Plotly.newPlot(\n",
              "                        '7dbae10a-3f47-4103-ad17-e6efa099bdf7',\n",
              "                        [{\"hoverlabel\": {\"namelength\": 0}, \"hovertemplate\": \"Literacy Rate(%)=%{x}<br>Unemployement(%)=%{y}<br>Economy (GDP per Capita)=%{z}<br>Year=%{marker.color}\", \"legendgroup\": \"\", \"marker\": {\"color\": [2015, 2016, 2017, 2018, 2019, 2015, 2016, 2017, 2018, 2019, 2015, 2016, 2017, 2018, 2019, 2015, 2016, 2017, 2018, 2015, 2016, 2017, 2018, 2019, 2015, 2016, 2017, 2018, 2019, 2015, 2016, 2017, 2018, 2019, 2015, 2016, 2017, 2018, 2019, 2015, 2016, 2017, 2018, 2019, 2015, 2016, 2017, 2018, 2019, 2015, 2016, 2017, 2018, 2019, 2015, 2016, 2017, 2018, 2019, 2015, 2016, 2017, 2018, 2019, 2016, 2017, 2018, 2015, 2016, 2017, 2018, 2019, 2015, 2016, 2017, 2018, 2019, 2015, 2016, 2017, 2018, 2019, 2015, 2016, 2017, 2018, 2019, 2015, 2016, 2017, 2018, 2019, 2015, 2016, 2017, 2018, 2019, 2015, 2016, 2017, 2018, 2019, 2015, 2016, 2017, 2018, 2019, 2015, 2016, 2017, 2018, 2019, 2015, 2016, 2017, 2018, 2019, 2015, 2016, 2017, 2018, 2019, 2015, 2017, 2018, 2019, 2015, 2016, 2017, 2018, 2019, 2015, 2016, 2017, 2018, 2019, 2015, 2016, 2017, 2018, 2019, 2015, 2016, 2017, 2018, 2019, 2015, 2016, 2019, 2015, 2016, 2017, 2018, 2019, 2015, 2016, 2017, 2018, 2019, 2015, 2016, 2017, 2018, 2019, 2015, 2016, 2017, 2018, 2019, 2015, 2016, 2017, 2018, 2019, 2015, 2015, 2016, 2017, 2018, 2019, 2015, 2016, 2017, 2018, 2019, 2015, 2016, 2017, 2018, 2019, 2015, 2016, 2017, 2018, 2019, 2015, 2016, 2017, 2018, 2019, 2015, 2016, 2017, 2018, 2019, 2015, 2016, 2017, 2018, 2019, 2015, 2016, 2017, 2018, 2019, 2015, 2016, 2017, 2018, 2019, 2019, 2015, 2016, 2017, 2018, 2019, 2015, 2016, 2017, 2018, 2019, 2015, 2016, 2017, 2018, 2019, 2015, 2016, 2017, 2018, 2019, 2015, 2016, 2017, 2018, 2019, 2015, 2016, 2017, 2018, 2019, 2015, 2016, 2017, 2018, 2019, 2015, 2016, 2017, 2018, 2019, 2015, 2016, 2017, 2018, 2019, 2015, 2016, 2017, 2018, 2019, 2015, 2016, 2017, 2018, 2019, 2015, 2016, 2017, 2018, 2019, 2015, 2016, 2017, 2018, 2019, 2015, 2016, 2017, 2018, 2019, 2015, 2016, 2017, 2018, 2019, 2015, 2016, 2017, 2018, 2019, 2015, 2016, 2017, 2018, 2019, 2015, 2016, 2017, 2018, 2019, 2015, 2016, 2017, 2018, 2019, 2015, 2016, 2017, 2018, 2019, 2015, 2016, 2017, 2018, 2019, 2015, 2016, 2017, 2018, 2019, 2015, 2016, 2017, 2018, 2019, 2015, 2016, 2017, 2018, 2019, 2015, 2016, 2017, 2018, 2019, 2015, 2016, 2017, 2018, 2019, 2015, 2017, 2018, 2019, 2015, 2016, 2017, 2018, 2019, 2015, 2016, 2017, 2018, 2019, 2015, 2016, 2017, 2018, 2019, 2015, 2016, 2017, 2018, 2019, 2015, 2016, 2017, 2018, 2019, 2015, 2016, 2017, 2018, 2019, 2015, 2016, 2017, 2018, 2019, 2015, 2016, 2017, 2018, 2019, 2015, 2016, 2017, 2018, 2019, 2015, 2016, 2017, 2018, 2019, 2015, 2016, 2017, 2018, 2019, 2015, 2016, 2017, 2018, 2019, 2015, 2016, 2017, 2018, 2019, 2015, 2016, 2017, 2018, 2019, 2015, 2016, 2017, 2018, 2019, 2015, 2017, 2018, 2019, 2015, 2016, 2017, 2018, 2019, 2016, 2017, 2018, 2019, 2015, 2016, 2017, 2018, 2019, 2015, 2016, 2017, 2018, 2019, 2015, 2016, 2017, 2018, 2019, 2015, 2016, 2017, 2018, 2019, 2015, 2016, 2017, 2018, 2019, 2015, 2016, 2017, 2018, 2019, 2015, 2016, 2017, 2018, 2019, 2015, 2015, 2016, 2017, 2018, 2019, 2015, 2016, 2017, 2018, 2019, 2015, 2016, 2017, 2018, 2019, 2015, 2016, 2017, 2018, 2019, 2015, 2016, 2017, 2018, 2019, 2015, 2016, 2017, 2018, 2019, 2015, 2016, 2017, 2018, 2019, 2016, 2015, 2016, 2017, 2018, 2019, 2015, 2016, 2017, 2018, 2019, 2015, 2016, 2017, 2018, 2019, 2015, 2016, 2017, 2018, 2019, 2015, 2016, 2017, 2018, 2019, 2015, 2016, 2017, 2018, 2019, 2015, 2016, 2017, 2018, 2019, 2015, 2016, 2017, 2018, 2019, 2015, 2016, 2017, 2018, 2019, 2015, 2016, 2017, 2018, 2019, 2016, 2017, 2018, 2019, 2015, 2016, 2017, 2018, 2019, 2016, 2017, 2018, 2019, 2015, 2016, 2017, 2018, 2019, 2015, 2016, 2017, 2018, 2019, 2015, 2016, 2017, 2018, 2015, 2016, 2015, 2019, 2015, 2016, 2017, 2018, 2019, 2015, 2016, 2017, 2018, 2019, 2015, 2016, 2017, 2018, 2019, 2015, 2016, 2017, 2018, 2019, 2015, 2016, 2017, 2018, 2019, 2015, 2016, 2017, 2018, 2019, 2015, 2016, 2017, 2018, 2019, 2015, 2016, 2017, 2018, 2019, 2015, 2016, 2017, 2018, 2019, 2015, 2016, 2017, 2018, 2019, 2015, 2016, 2017, 2018, 2019, 2015, 2016, 2017, 2018, 2019, 2015, 2016, 2017, 2018, 2019, 2015, 2016, 2017, 2018, 2019, 2015, 2016, 2017, 2018, 2019, 2015, 2016, 2017, 2018, 2019, 2015, 2016, 2017, 2018, 2019, 2015, 2016, 2017, 2018, 2019], \"coloraxis\": \"coloraxis\", \"opacity\": 0.7, \"symbol\": \"circle\"}, \"mode\": \"markers\", \"name\": \"\", \"scene\": \"scene\", \"showlegend\": false, \"type\": \"scatter3d\", \"x\": [28.1, 28.1, 28.1, 28.1, 28.1, 98.7, 98.7, 98.7, 98.7, 98.7, 79.0, 79.0, 79.0, 79.0, 79.0, 70.4, 70.4, 70.4, 70.4, 97.9, 97.9, 97.9, 97.9, 97.9, 99.4, 99.4, 99.4, 99.4, 99.4, 99.0, 99.0, 99.0, 99.0, 99.0, 98.0, 98.0, 98.0, 98.0, 98.0, 99.8, 99.8, 99.8, 99.8, 99.8, 84.49265895953761, 84.49265895953761, 84.49265895953761, 84.49265895953761, 84.49265895953761, 57.7, 57.7, 57.7, 57.7, 57.7, 99.6, 99.6, 99.6, 99.6, 99.6, 99.0, 99.0, 99.0, 99.0, 99.0, 76.9, 76.9, 76.9, 42.4, 42.4, 42.4, 42.4, 42.4, 52.8, 52.8, 52.8, 52.8, 52.8, 84.49265895953761, 84.49265895953761, 84.49265895953761, 84.49265895953761, 84.49265895953761, 85.1, 85.1, 85.1, 85.1, 85.1, 88.6, 88.6, 88.6, 88.6, 88.6, 98.4, 98.4, 98.4, 98.4, 98.4, 28.7, 28.7, 28.7, 28.7, 28.7, 67.2, 67.2, 67.2, 67.2, 67.2, 73.6, 73.6, 73.6, 73.6, 73.6, 75.9, 75.9, 75.9, 75.9, 75.9, 84.49265895953761, 84.49265895953761, 84.49265895953761, 84.49265895953761, 84.49265895953761, 56.6, 56.6, 56.6, 56.6, 35.4, 35.4, 35.4, 35.4, 35.4, 97.5, 97.5, 97.5, 97.5, 97.5, 84.49265895953761, 84.49265895953761, 84.49265895953761, 84.49265895953761, 84.49265895953761, 94.2, 94.2, 94.2, 94.2, 94.2, 75.5, 75.5, 75.5, 96.3, 96.3, 96.3, 96.3, 96.3, 98.9, 98.9, 98.9, 98.9, 98.9, 98.7, 98.7, 98.7, 98.7, 98.7, 99.0, 99.0, 99.0, 99.0, 99.0, 99.0, 99.0, 99.0, 99.0, 99.0, 67.9, 90.1, 90.1, 90.1, 90.1, 90.1, 91.6, 91.6, 91.6, 91.6, 91.6, 73.9, 73.9, 73.9, 73.9, 73.9, 84.5, 84.5, 84.5, 84.5, 84.5, 84.49265895953761, 84.49265895953761, 84.49265895953761, 84.49265895953761, 84.49265895953761, 39.0, 39.0, 39.0, 39.0, 39.0, 100.0, 100.0, 100.0, 100.0, 100.0, 99.0, 99.0, 99.0, 99.0, 99.0, 82.3, 82.3, 82.3, 82.3, 82.3, 52.0, 99.7, 99.7, 99.7, 99.7, 99.7, 99.0, 99.0, 99.0, 99.0, 99.0, 71.5, 71.5, 71.5, 71.5, 71.5, 97.3, 97.3, 97.3, 97.3, 97.3, 71.0, 71.0, 71.0, 71.0, 71.0, 41.0, 41.0, 41.0, 41.0, 41.0, 48.7, 48.7, 48.7, 48.7, 48.7, 85.1, 85.1, 85.1, 85.1, 85.1, 84.49265895953761, 84.49265895953761, 84.49265895953761, 84.49265895953761, 84.49265895953761, 99.1, 99.1, 99.1, 99.1, 99.1, 99.0, 99.0, 99.0, 99.0, 99.0, 62.8, 62.8, 62.8, 62.8, 62.8, 92.8, 92.8, 92.8, 92.8, 92.8, 78.5, 78.5, 78.5, 78.5, 78.5, 99.0, 99.0, 99.0, 99.0, 99.0, 97.0, 97.0, 97.0, 97.0, 97.0, 99.0, 99.0, 99.0, 99.0, 99.0, 87.0, 87.0, 87.0, 87.0, 87.0, 99.0, 99.0, 99.0, 99.0, 99.0, 92.6, 92.6, 92.6, 92.6, 92.6, 99.7, 99.7, 99.7, 99.7, 99.7, 87.4, 87.4, 87.4, 87.4, 87.4, 93.3, 93.3, 93.3, 93.3, 93.3, 99.2, 99.2, 99.2, 99.2, 99.2, 84.49265895953761, 84.49265895953761, 84.49265895953761, 84.49265895953761, 84.49265895953761, 89.6, 89.6, 89.6, 89.6, 89.6, 89.6, 89.6, 89.6, 89.6, 60.8, 60.8, 60.8, 60.8, 60.8, 89.5, 89.5, 89.5, 89.5, 89.5, 84.49265895953761, 84.49265895953761, 84.49265895953761, 84.49265895953761, 84.49265895953761, 100.0, 100.0, 100.0, 100.0, 100.0, 64.5, 64.5, 64.5, 64.5, 64.5, 74.8, 74.8, 74.8, 74.8, 74.8, 93.1, 93.1, 93.1, 93.1, 93.1, 33.4, 33.4, 33.4, 33.4, 33.4, 92.4, 92.4, 92.4, 92.4, 92.4, 58.6, 58.6, 58.6, 58.6, 58.6, 88.8, 88.8, 88.8, 88.8, 88.8, 93.5, 93.5, 93.5, 93.5, 93.5, 97.4, 97.4, 97.4, 97.4, 97.4, 98.5, 98.5, 98.5, 98.5, 98.5, 68.5, 68.5, 68.5, 68.5, 68.5, 56.1, 56.1, 56.1, 56.1, 92.7, 92.7, 92.7, 92.7, 92.7, 88.8, 88.8, 88.8, 88.8, 57.4, 57.4, 57.4, 57.4, 57.4, 99.0, 99.0, 99.0, 99.0, 99.0, 99.0, 99.0, 99.0, 99.0, 99.0, 78.0, 78.0, 78.0, 78.0, 78.0, 19.1, 19.1, 19.1, 19.1, 19.1, 61.3, 61.3, 61.3, 61.3, 61.3, 100.0, 100.0, 100.0, 100.0, 100.0, 86.9, 54.9, 54.9, 54.9, 54.9, 54.9, 94.1, 94.1, 94.1, 94.1, 94.1, 93.9, 93.9, 93.9, 93.9, 93.9, 94.2, 94.2, 94.2, 94.2, 94.2, 95.4, 95.4, 95.4, 95.4, 95.4, 99.7, 99.7, 99.7, 99.7, 99.7, 95.4, 95.4, 95.4, 95.4, 95.4, 94.1, 96.3, 96.3, 96.3, 96.3, 96.3, 84.49265895953761, 84.49265895953761, 84.49265895953761, 84.49265895953761, 84.49265895953761, 71.1, 71.1, 71.1, 71.1, 71.1, 87.2, 87.2, 87.2, 87.2, 87.2, 49.7, 49.7, 49.7, 49.7, 49.7, 98.0, 98.0, 98.0, 98.0, 98.0, 43.3, 43.3, 43.3, 43.3, 43.3, 95.9, 95.9, 95.9, 95.9, 95.9, 99.6, 99.6, 99.6, 99.6, 99.6, 99.7, 99.7, 99.7, 99.7, 99.7, 37.8, 37.8, 37.8, 37.8, 93.0, 93.0, 93.0, 93.0, 93.0, 27.0, 27.0, 27.0, 27.0, 97.7, 97.7, 97.7, 97.7, 97.7, 91.2, 91.2, 91.2, 91.2, 91.2, 71.9, 71.9, 71.9, 71.9, 94.7, 94.7, 84.49265895953761, 84.49265895953761, 99.0, 99.0, 99.0, 99.0, 99.0, 99.0, 99.0, 99.0, 99.0, 99.0, 96.1, 96.1, 96.1, 96.1, 96.1, 99.7, 99.7, 99.7, 99.7, 99.7, 93.5, 93.5, 93.5, 93.5, 93.5, 60.4, 60.4, 60.4, 60.4, 60.4, 98.8, 98.8, 98.8, 98.8, 98.8, 79.1, 79.1, 79.1, 79.1, 79.1, 94.1, 94.1, 94.1, 94.1, 94.1, 99.6, 99.6, 99.6, 99.6, 99.6, 73.2, 73.2, 73.2, 73.2, 73.2, 99.7, 99.7, 99.7, 99.7, 99.7, 90.0, 90.0, 90.0, 90.0, 90.0, 98.1, 98.1, 98.1, 98.1, 98.1, 99.4, 99.4, 99.4, 99.4, 99.4, 65.3, 65.3, 65.3, 65.3, 65.3, 61.4, 61.4, 61.4, 61.4, 61.4, 84.49265895953761, 84.49265895953761, 84.49265895953761, 84.49265895953761, 84.49265895953761], \"y\": [35.0, 35.0, 35.0, 35.0, 35.0, 16.9, 16.9, 16.9, 16.9, 16.9, 10.3, 10.3, 10.3, 10.3, 10.3, 14.770671140939596, 14.770671140939596, 14.770671140939596, 14.770671140939596, 7.5, 7.5, 7.5, 7.5, 7.5, 14.770671140939596, 14.770671140939596, 14.770671140939596, 14.770671140939596, 14.770671140939596, 5.7, 5.7, 5.7, 5.7, 5.7, 4.9, 4.9, 4.9, 4.9, 4.9, 6.0, 6.0, 6.0, 6.0, 6.0, 14.770671140939596, 14.770671140939596, 14.770671140939596, 14.770671140939596, 14.770671140939596, 5.0, 5.0, 5.0, 5.0, 5.0, 1.0, 1.0, 1.0, 1.0, 1.0, 8.8, 8.8, 8.8, 8.8, 8.8, 15.5, 15.5, 15.5, 14.770671140939596, 14.770671140939596, 14.770671140939596, 14.770671140939596, 14.770671140939596, 2.1, 2.1, 2.1, 2.1, 2.1, 14.770671140939596, 14.770671140939596, 14.770671140939596, 14.770671140939596, 14.770671140939596, 17.8, 17.8, 17.8, 17.8, 17.8, 6.0, 6.0, 6.0, 6.0, 6.0, 11.6, 11.6, 11.6, 11.6, 11.6, 77.0, 77.0, 77.0, 77.0, 77.0, 14.770671140939596, 14.770671140939596, 14.770671140939596, 14.770671140939596, 14.770671140939596, 0.0, 0.0, 0.0, 0.0, 0.0, 30.0, 30.0, 30.0, 30.0, 30.0, 14.770671140939596, 14.770671140939596, 14.770671140939596, 14.770671140939596, 14.770671140939596, 8.0, 8.0, 8.0, 8.0, 14.770671140939596, 14.770671140939596, 14.770671140939596, 14.770671140939596, 14.770671140939596, 14.770671140939596, 14.770671140939596, 14.770671140939596, 14.770671140939596, 14.770671140939596, 14.770671140939596, 14.770671140939596, 14.770671140939596, 14.770671140939596, 14.770671140939596, 14.770671140939596, 14.770671140939596, 14.770671140939596, 14.770671140939596, 14.770671140939596, 14.770671140939596, 14.770671140939596, 14.770671140939596, 7.9, 7.9, 7.9, 7.9, 7.9, 21.6, 21.6, 21.6, 21.6, 21.6, 17.4, 17.4, 17.4, 17.4, 17.4, 7.1, 7.1, 7.1, 7.1, 7.1, 6.0, 6.0, 6.0, 6.0, 6.0, 59.0, 15.0, 15.0, 15.0, 15.0, 15.0, 4.2, 4.2, 4.2, 4.2, 4.2, 13.4, 13.4, 13.4, 13.4, 13.4, 6.3, 6.3, 6.3, 6.3, 6.3, 10.9, 10.9, 10.9, 10.9, 10.9, 17.5, 17.5, 17.5, 17.5, 17.5, 8.6, 8.6, 8.6, 8.6, 8.6, 9.7, 9.7, 9.7, 9.7, 9.7, 21.0, 21.0, 21.0, 21.0, 21.0, 14.770671140939596, 14.9, 14.9, 14.9, 14.9, 14.9, 6.0, 6.0, 6.0, 6.0, 6.0, 11.0, 11.0, 11.0, 11.0, 11.0, 27.9, 27.9, 27.9, 27.9, 27.9, 4.1, 4.1, 4.1, 4.1, 4.1, 14.770671140939596, 14.770671140939596, 14.770671140939596, 14.770671140939596, 14.770671140939596, 40.6, 40.6, 40.6, 40.6, 40.6, 4.5, 4.5, 4.5, 4.5, 4.5, 14.770671140939596, 14.770671140939596, 14.770671140939596, 14.770671140939596, 14.770671140939596, 14.770671140939596, 14.770671140939596, 14.770671140939596, 14.770671140939596, 14.770671140939596, 4.5, 4.5, 4.5, 4.5, 4.5, 8.8, 8.8, 8.8, 8.8, 8.8, 6.6, 6.6, 6.6, 6.6, 6.6, 16.0, 16.0, 16.0, 16.0, 16.0, 13.5, 13.5, 13.5, 13.5, 13.5, 1.7, 1.7, 1.7, 1.7, 1.7, 12.4, 12.4, 12.4, 12.4, 12.4, 14.770671140939596, 14.770671140939596, 14.770671140939596, 14.770671140939596, 14.770671140939596, 4.1, 4.1, 4.1, 4.1, 4.1, 12.3, 12.3, 12.3, 12.3, 12.3, 5.3, 5.3, 5.3, 5.3, 5.3, 40.0, 40.0, 40.0, 40.0, 40.0, 2.2, 2.2, 2.2, 2.2, 2.2, 8.6, 8.6, 8.6, 8.6, 8.6, 9.8, 9.8, 9.8, 9.8, 9.8, 9.2, 9.2, 9.2, 9.2, 9.2, 25.0, 25.0, 25.0, 25.0, 85.0, 85.0, 85.0, 85.0, 85.0, 30.0, 30.0, 30.0, 30.0, 30.0, 12.4, 12.4, 12.4, 12.4, 12.4, 14.770671140939596, 14.770671140939596, 14.770671140939596, 14.770671140939596, 14.770671140939596, 14.770671140939596, 14.770671140939596, 14.770671140939596, 14.770671140939596, 14.770671140939596, 14.770671140939596, 14.770671140939596, 14.770671140939596, 14.770671140939596, 14.770671140939596, 3.1, 3.1, 3.1, 3.1, 3.1, 30.0, 30.0, 30.0, 30.0, 30.0, 6.4, 6.4, 6.4, 6.4, 6.4, 30.0, 30.0, 30.0, 30.0, 30.0, 8.3, 8.3, 8.3, 8.3, 8.3, 4.9, 4.9, 4.9, 4.9, 4.9, 9.0, 9.0, 9.0, 9.0, 9.0, 19.1, 19.1, 19.1, 19.1, 19.1, 9.9, 9.9, 9.9, 9.9, 9.9, 17.0, 17.0, 17.0, 17.0, 5.2, 5.2, 5.2, 5.2, 5.2, 51.2, 51.2, 51.2, 51.2, 46.0, 46.0, 46.0, 46.0, 46.0, 8.3, 8.3, 8.3, 8.3, 8.3, 6.43, 6.43, 6.43, 6.43, 6.43, 7.2, 7.2, 7.2, 7.2, 7.2, 14.770671140939596, 14.770671140939596, 14.770671140939596, 14.770671140939596, 14.770671140939596, 23.9, 23.9, 23.9, 23.9, 23.9, 3.6, 3.6, 3.6, 3.6, 3.6, 15.0, 6.6, 6.6, 6.6, 6.6, 6.6, 4.5, 4.5, 4.5, 4.5, 4.5, 6.6, 6.6, 6.6, 6.6, 6.6, 14.770671140939596, 14.770671140939596, 14.770671140939596, 14.770671140939596, 14.770671140939596, 7.4, 7.4, 7.4, 7.4, 7.4, 10.3, 10.3, 10.3, 10.3, 10.3, 14.770671140939596, 14.770671140939596, 14.770671140939596, 14.770671140939596, 14.770671140939596, 12.0, 0.3, 0.3, 0.3, 0.3, 0.3, 14.770671140939596, 14.770671140939596, 14.770671140939596, 14.770671140939596, 14.770671140939596, 14.770671140939596, 14.770671140939596, 14.770671140939596, 14.770671140939596, 14.770671140939596, 10.5, 10.5, 10.5, 10.5, 10.5, 48.0, 48.0, 48.0, 48.0, 48.0, 20.1, 20.1, 20.1, 20.1, 20.1, 14.770671140939596, 14.770671140939596, 14.770671140939596, 14.770671140939596, 14.770671140939596, 1.9, 1.9, 1.9, 1.9, 1.9, 14.4, 14.4, 14.4, 14.4, 14.4, 13.1, 13.1, 13.1, 13.1, 13.1, 14.770671140939596, 14.770671140939596, 14.770671140939596, 14.770671140939596, 14.770671140939596, 14.770671140939596, 14.770671140939596, 14.770671140939596, 14.770671140939596, 14.770671140939596, 14.770671140939596, 14.770671140939596, 14.770671140939596, 26.3, 26.3, 26.3, 26.3, 26.3, 5.1, 5.1, 5.1, 5.1, 5.1, 20.0, 20.0, 20.0, 20.0, 9.0, 9.0, 14.770671140939596, 14.770671140939596, 8.1, 8.1, 8.1, 8.1, 8.1, 3.2, 3.2, 3.2, 3.2, 3.2, 4.1, 4.1, 4.1, 4.1, 4.1, 2.5, 2.5, 2.5, 2.5, 2.5, 0.7, 0.7, 0.7, 0.7, 0.7, 14.770671140939596, 14.770671140939596, 14.770671140939596, 14.770671140939596, 14.770671140939596, 5.9, 5.9, 5.9, 5.9, 5.9, 17.2, 17.2, 17.2, 17.2, 17.2, 9.3, 9.3, 9.3, 9.3, 9.3, 60.0, 60.0, 60.0, 60.0, 60.0, 14.770671140939596, 14.770671140939596, 14.770671140939596, 14.770671140939596, 14.770671140939596, 8.0, 8.0, 8.0, 8.0, 8.0, 2.4, 2.4, 2.4, 2.4, 2.4, 6.5, 6.5, 6.5, 6.5, 6.5, 4.9, 4.9, 4.9, 4.9, 4.9, 35.0, 35.0, 35.0, 35.0, 35.0, 15.0, 15.0, 15.0, 15.0, 15.0, 14.770671140939596, 14.770671140939596, 14.770671140939596, 14.770671140939596, 14.770671140939596], \"z\": [0.31982, 0.38227, 0.401477217674255, 0.332, 0.35, 0.8786700000000001, 0.9553, 0.996192753314972, 0.9159999999999999, 0.9470000000000001, 0.93929, 1.05266, 1.09186446666718, 0.9790000000000001, 1.002, 0.75778, 0.84731, 0.8584281802177429, 0.73, 1.05351, 1.15137, 1.18529546260834, 1.073, 1.092, 0.7682100000000001, 0.8608600000000001, 0.900596737861633, 0.816, 0.85, 1.33358, 1.4444299999999999, 1.4844149351120002, 1.34, 1.3719999999999999, 1.33723, 1.45038, 1.4870972633361799, 1.341, 1.376, 1.02389, 1.12373, 1.1536017656326298, 1.024, 1.043, 1.32376, 1.44024, 1.4884122610092199, 1.338, 1.3619999999999999, 0.39753, 0.54177, 0.586682975292206, 0.532, 0.562, 1.0319200000000002, 1.1306200000000002, 1.15655755996704, 1.0390000000000001, 1.067, 1.30782, 1.42539, 1.4637807607650801, 1.324, 1.3559999999999999, 0.87616, 0.907975316047668, 0.807, 0.28665, 0.39499, 0.43108540773391707, 0.37799999999999995, 0.39299999999999996, 0.77042, 0.8527, 0.885416388511658, 0.7959999999999999, 0.813, 0.8322299999999999, 0.9338299999999999, 0.982409417629242, 0.915, 0.945, 0.99355, 1.09426, 1.12209415435791, 1.0170000000000001, 1.041, 0.98124, 1.08754, 1.1073532104492199, 0.986, 1.004, 1.01216, 1.11306, 1.1614590883255, 1.054, 1.092, 0.25811999999999996, 0.31995, 0.35022771358490007, 0.314, 0.331, 0.0153, 0.06831, 0.09162256866693501, 0.091, 0.046, 0.46038, 0.55604, 0.6017650961875921, 0.5489999999999999, 0.574, 0.4225, 0.5249699999999999, 0.564305365085602, 0.535, 0.5489999999999999, 1.32629, 1.44015, 1.47920441627502, 1.33, 1.365, 0.0785, 0.0, 0.024, 0.026000000000000002, 0.34193, 0.42213999999999996, 0.43801298737525896, 0.358, 0.35, 1.10715, 1.2167, 1.25278460979462, 1.131, 1.159, 0.89012, 1.0278, 1.08116579055786, 0.9890000000000001, 1.0290000000000001, 0.91861, 1.0303200000000001, 1.07062232494354, 0.96, 0.985, 0.23906, 0.27509, 0.27399999999999997, 0.95578, 1.06879, 1.10970628261566, 1.01, 1.034, 1.08254, 1.18649, 1.22255623340607, 1.115, 1.155, 1.20813, 1.31857, 1.3559380769729599, 1.229, 1.263, 1.17898, 1.30915, 1.35268235206604, 1.2329999999999999, 1.2690000000000001, 1.32548, 1.4417799999999998, 1.48238301277161, 1.351, 1.383, 0.44025, 0.8953700000000001, 1.02787, 1.07937383651733, 0.982, 1.015, 0.8640200000000001, 0.97306, 1.00082039833069, 0.889, 0.912, 0.8818, 0.95395, 0.989701807498932, 0.885, 0.9129999999999999, 0.76454, 0.8737, 0.9097844958305359, 0.8059999999999999, 0.794, 1.15174, 1.2796399999999999, 1.3208793401718102, 1.2, 1.237, 0.19072999999999998, 0.29283000000000003, 0.339233845472336, 0.308, 0.336, 1.29025, 1.40598, 1.44357192516327, 1.305, 1.34, 1.27778, 1.39488, 1.43092346191406, 1.2930000000000001, 1.324, 1.06024, 1.15851, 1.1982102394104, 1.036, 1.057, 0.308, 0.7419, 0.8379200000000001, 0.950612664222717, 0.853, 0.8859999999999999, 1.32792, 1.44787, 1.48792338371277, 1.34, 1.3730000000000002, 0.5455800000000001, 0.63107, 0.667224824428558, 0.5920000000000001, 0.611, 1.15406, 1.24886, 1.28948748111725, 1.1540000000000001, 1.181, 0.74553, 0.83454, 0.872001945972443, 0.7809999999999999, 0.8, 0.17417, 0.22415, 0.24454993009567302, 0.344, 0.38, 0.26673, 0.34097, 0.368610262870789, 0.315, 0.32299999999999995, 0.59532, 0.69429, 0.730573117733002, 0.62, 0.642, 1.38604, 1.5107, 1.55167484283447, 1.405, 1.4380000000000002, 1.12094, 1.24142, 1.2860119342803997, 1.171, 1.2009999999999998, 1.3023200000000001, 1.42666, 1.480633020401, 1.3430000000000002, 1.38, 0.64499, 0.74036, 0.7922212481498722, 0.721, 0.755, 0.8282700000000001, 0.95104, 0.995538592338562, 0.899, 0.9309999999999999, 0.98549, 1.07474, 1.1027104854583702, 1.01, 1.043, 1.33596, 1.4834100000000001, 1.5357066392898602, 1.4480000000000002, 1.499, 1.2285700000000002, 1.33766, 1.3753824234008798, 1.301, 1.276, 1.25114, 1.35495, 1.3950666189193701, 1.264, 1.294, 0.81038, 0.89333, 0.925579309463501, 0.8190000000000001, 0.831, 1.27074, 1.3800700000000001, 1.41691517829895, 1.294, 1.327, 0.9019799999999999, 0.9967299999999999, 0.9910123944282528, 0.8220000000000001, 0.8370000000000001, 1.1225399999999999, 1.22943, 1.2845562696456898, 1.143, 1.173, 0.36471, 0.52267, 0.560479462146759, 0.493, 0.512, 1.5542200000000002, 1.61714, 1.63295245170593, 1.474, 1.5, 0.47428000000000003, 0.5604399999999999, 0.5962200760841371, 0.53, 0.551, 1.11312, 1.2178799999999999, 1.26074862480164, 1.148, 1.187, 1.0256399999999999, 1.12268, 1.07498753070831, 0.965, 0.987, 0.37545, 0.521021246910095, 0.47200000000000003, 0.489, 0.0712, 0.10705999999999999, 0.11904179304838199, 0.076, 0.073, 1.13145, 1.0668799999999998, 1.1018030643463101, 0.985, 1.044, 1.14723, 1.2692, 1.3145823478698702, 1.197, 1.238, 1.5639100000000001, 1.6975200000000001, 1.74194359779358, 1.5759999999999998, 1.609, 0.20824, 0.27954, 0.305808693170547, 0.262, 0.27399999999999997, 0.016040000000000002, 0.08709, 0.233442038297653, 0.18600000000000003, 0.191, 1.12486, 1.25142, 1.29121541976929, 1.161, 1.2209999999999999, 0.26074, 0.31292, 0.476180493831635, 0.37, 0.385, 1.2074, 1.30782, 1.34327983856201, 1.27, 1.3, 0.45407, 0.6139100000000001, 0.6484572887420649, 0.557, 0.57, 1.0076100000000001, 1.14372, 1.1893955469131499, 1.09, 1.12, 1.02054, 1.1150799999999998, 1.1531838178634601, 1.038, 1.07, 0.82819, 0.9885299999999999, 1.0272358655929599, 0.914, 0.948, 0.9743799999999999, 1.07838, 1.12112903594971, 1.0170000000000001, 1.051, 0.7347899999999999, 0.8405799999999999, 0.8781145811080929, 0.779, 0.8009999999999999, 0.08308, 0.23430564999580397, 0.198, 0.204, 0.27108000000000004, 0.34112, 0.36711055040359497, 0.682, 0.71, 0.9328700000000001, 0.964434325695038, 0.8740000000000001, 0.879, 0.35996999999999996, 0.44626000000000005, 0.479820191860199, 0.425, 0.446, 1.32944, 1.46468, 1.50394463539124, 1.361, 1.396, 1.2501799999999998, 1.36066, 1.40570604801178, 1.268, 1.3030000000000002, 0.59325, 0.69384, 0.737299203872681, 0.6679999999999999, 0.6940000000000001, 0.0694, 0.1327, 0.16192533075809498, 0.131, 0.138, 0.65435, 0.75216, 0.783756256103516, 0.6890000000000001, 0.696, 1.459, 1.57744, 1.6164631843566901, 1.456, 1.4880000000000002, 1.36011, 0.59543, 0.68816, 0.7268835306167599, 0.652, 0.677, 1.0635299999999999, 1.18306, 1.23374843597412, 1.112, 1.149, 0.75985, 0.8937299999999999, 0.932537317276001, 0.835, 0.855, 0.9001899999999999, 0.9960200000000001, 1.0352252721786501, 0.934, 0.96, 0.70532, 0.81217, 0.85769921541214, 0.775, 0.807, 1.12555, 1.24585, 1.29178786277771, 1.176, 1.206, 1.15991, 1.27607, 1.3151752948761002, 1.188, 1.2209999999999999, 1.35943, 1.69042, 1.82427, 1.8707656860351598, 1.649, 1.6840000000000002, 1.04345, 1.1697, 1.21768391132355, 1.1159999999999999, 1.162, 0.22208000000000003, 0.32846, 0.368745893239975, 0.332, 0.359, 1.39541, 1.48953, 1.53062355518341, 1.379, 1.403, 0.36498, 0.44314, 0.479309022426605, 0.429, 0.45, 0.92053, 1.03437, 1.06931757926941, 0.975, 1.004, 0.33024000000000003, 0.36485, 0.36842092871666, 0.256, 0.268, 1.52186, 1.64555, 1.69227766990662, 1.5290000000000001, 1.5719999999999998, 1.1689100000000001, 1.27973, 1.32539355754852, 1.21, 1.246, 1.18498, 1.2994700000000001, 1.3412059545516999, 1.219, 1.258, 0.0, 0.0226431842893362, 0.0, 0.0, 0.9204899999999999, 1.02416, 1.05469870567322, 0.94, 0.96, 0.39394, 0.39724862575531, 0.337, 0.306, 1.23011, 1.34253, 1.38439786434174, 1.251, 1.286, 0.83524, 0.9731799999999999, 1.00985014438629, 0.9179999999999999, 0.9490000000000001, 0.52107, 0.63069, 0.6595166921615601, 0.605, 0.99534, 1.09686, 0.71206, 0.8109999999999999, 1.33171, 1.45181, 1.49438726902008, 1.355, 1.3869999999999998, 1.3965100000000001, 1.5273299999999999, 1.5649795532226598, 1.42, 1.452, 1.29098, 1.39729, 1.4336265325546298, 1.365, 1.368, 0.39047, 0.48835, 0.524713635444641, 0.474, 0.493, 0.9669, 1.0893, 1.12786877155304, 1.016, 1.05, 0.20868, 0.28123000000000004, 0.30544471740722695, 0.259, 0.275, 1.21183, 1.32572, 1.36135590076447, 1.2229999999999999, 1.2309999999999999, 0.88113, 0.97724, 1.00726580619812, 0.9, 0.9209999999999999, 1.06098, 1.1649200000000002, 1.1982743740081798, 1.148, 1.183, 0.95847, 1.08017, 1.1307767629623402, 1.016, 1.052, 0.21101999999999999, 0.34719, 0.381430715322495, 0.322, 0.332, 0.79907, 0.87287, 0.89465194940567, 0.7929999999999999, 0.82, 1.42727, 1.57352, 1.6263433694839498, 2.096, 1.5030000000000001, 1.06166, 1.18157, 1.2175596952438401, 1.093, 1.124, 0.63244, 0.7359100000000001, 0.786441087722778, 0.7190000000000001, 0.745, 0.5464899999999999, 0.57939, 0.5916834473609921, 0.442, 0.287, 0.47038, 0.61202, 0.6364067792892459, 0.562, 0.578, 0.271, 0.35041, 0.37584653496742204, 0.35700000000000004, 0.366]}],\n",
              "                        {\"coloraxis\": {\"colorbar\": {\"title\": {\"text\": \"Year\"}}, \"colorscale\": [[0.0, \"#0d0887\"], [0.1111111111111111, \"#46039f\"], [0.2222222222222222, \"#7201a8\"], [0.3333333333333333, \"#9c179e\"], [0.4444444444444444, \"#bd3786\"], [0.5555555555555556, \"#d8576b\"], [0.6666666666666666, \"#ed7953\"], [0.7777777777777778, \"#fb9f3a\"], [0.8888888888888888, \"#fdca26\"], [1.0, \"#f0f921\"]]}, \"legend\": {\"tracegroupgap\": 0}, \"margin\": {\"t\": 60}, \"scene\": {\"domain\": {\"x\": [0.0, 1.0], \"y\": [0.0, 1.0]}, \"xaxis\": {\"title\": {\"text\": \"Literacy Rate(%)\"}}, \"yaxis\": {\"title\": {\"text\": \"Unemployement(%)\"}}, \"zaxis\": {\"title\": {\"text\": \"Economy (GDP per Capita)\"}}}, \"template\": {\"data\": {\"bar\": [{\"error_x\": {\"color\": \"#2a3f5f\"}, \"error_y\": {\"color\": \"#2a3f5f\"}, \"marker\": {\"line\": {\"color\": \"#E5ECF6\", \"width\": 0.5}}, \"type\": \"bar\"}], \"barpolar\": [{\"marker\": {\"line\": {\"color\": \"#E5ECF6\", \"width\": 0.5}}, \"type\": \"barpolar\"}], \"carpet\": [{\"aaxis\": {\"endlinecolor\": \"#2a3f5f\", \"gridcolor\": \"white\", \"linecolor\": \"white\", \"minorgridcolor\": \"white\", \"startlinecolor\": \"#2a3f5f\"}, \"baxis\": {\"endlinecolor\": \"#2a3f5f\", \"gridcolor\": \"white\", \"linecolor\": \"white\", \"minorgridcolor\": \"white\", \"startlinecolor\": \"#2a3f5f\"}, \"type\": \"carpet\"}], \"choropleth\": [{\"colorbar\": {\"outlinewidth\": 0, \"ticks\": \"\"}, \"type\": \"choropleth\"}], \"contour\": [{\"colorbar\": {\"outlinewidth\": 0, \"ticks\": \"\"}, \"colorscale\": [[0.0, \"#0d0887\"], [0.1111111111111111, \"#46039f\"], [0.2222222222222222, \"#7201a8\"], [0.3333333333333333, \"#9c179e\"], [0.4444444444444444, \"#bd3786\"], [0.5555555555555556, \"#d8576b\"], [0.6666666666666666, \"#ed7953\"], [0.7777777777777778, \"#fb9f3a\"], [0.8888888888888888, \"#fdca26\"], [1.0, \"#f0f921\"]], \"type\": \"contour\"}], \"contourcarpet\": [{\"colorbar\": {\"outlinewidth\": 0, \"ticks\": \"\"}, \"type\": \"contourcarpet\"}], \"heatmap\": [{\"colorbar\": {\"outlinewidth\": 0, \"ticks\": \"\"}, \"colorscale\": [[0.0, \"#0d0887\"], [0.1111111111111111, \"#46039f\"], [0.2222222222222222, \"#7201a8\"], [0.3333333333333333, \"#9c179e\"], [0.4444444444444444, \"#bd3786\"], [0.5555555555555556, \"#d8576b\"], [0.6666666666666666, \"#ed7953\"], [0.7777777777777778, \"#fb9f3a\"], [0.8888888888888888, \"#fdca26\"], [1.0, \"#f0f921\"]], \"type\": \"heatmap\"}], \"heatmapgl\": [{\"colorbar\": {\"outlinewidth\": 0, \"ticks\": \"\"}, \"colorscale\": [[0.0, \"#0d0887\"], [0.1111111111111111, \"#46039f\"], [0.2222222222222222, \"#7201a8\"], [0.3333333333333333, \"#9c179e\"], [0.4444444444444444, \"#bd3786\"], [0.5555555555555556, \"#d8576b\"], [0.6666666666666666, \"#ed7953\"], [0.7777777777777778, \"#fb9f3a\"], [0.8888888888888888, \"#fdca26\"], [1.0, \"#f0f921\"]], \"type\": \"heatmapgl\"}], \"histogram\": [{\"marker\": {\"colorbar\": {\"outlinewidth\": 0, \"ticks\": \"\"}}, \"type\": \"histogram\"}], \"histogram2d\": [{\"colorbar\": {\"outlinewidth\": 0, \"ticks\": \"\"}, \"colorscale\": [[0.0, \"#0d0887\"], [0.1111111111111111, \"#46039f\"], [0.2222222222222222, \"#7201a8\"], [0.3333333333333333, \"#9c179e\"], [0.4444444444444444, \"#bd3786\"], [0.5555555555555556, \"#d8576b\"], [0.6666666666666666, \"#ed7953\"], [0.7777777777777778, \"#fb9f3a\"], [0.8888888888888888, \"#fdca26\"], [1.0, \"#f0f921\"]], \"type\": \"histogram2d\"}], \"histogram2dcontour\": [{\"colorbar\": {\"outlinewidth\": 0, \"ticks\": \"\"}, \"colorscale\": [[0.0, \"#0d0887\"], [0.1111111111111111, \"#46039f\"], [0.2222222222222222, \"#7201a8\"], [0.3333333333333333, \"#9c179e\"], [0.4444444444444444, \"#bd3786\"], [0.5555555555555556, \"#d8576b\"], [0.6666666666666666, \"#ed7953\"], [0.7777777777777778, \"#fb9f3a\"], [0.8888888888888888, \"#fdca26\"], [1.0, \"#f0f921\"]], \"type\": \"histogram2dcontour\"}], \"mesh3d\": [{\"colorbar\": {\"outlinewidth\": 0, \"ticks\": \"\"}, \"type\": \"mesh3d\"}], \"parcoords\": [{\"line\": {\"colorbar\": {\"outlinewidth\": 0, \"ticks\": \"\"}}, \"type\": \"parcoords\"}], \"pie\": [{\"automargin\": true, \"type\": \"pie\"}], \"scatter\": [{\"marker\": {\"colorbar\": {\"outlinewidth\": 0, \"ticks\": \"\"}}, \"type\": \"scatter\"}], \"scatter3d\": [{\"line\": {\"colorbar\": {\"outlinewidth\": 0, \"ticks\": \"\"}}, \"marker\": {\"colorbar\": {\"outlinewidth\": 0, \"ticks\": \"\"}}, \"type\": \"scatter3d\"}], \"scattercarpet\": [{\"marker\": {\"colorbar\": {\"outlinewidth\": 0, \"ticks\": \"\"}}, \"type\": \"scattercarpet\"}], \"scattergeo\": [{\"marker\": {\"colorbar\": {\"outlinewidth\": 0, \"ticks\": \"\"}}, \"type\": \"scattergeo\"}], \"scattergl\": [{\"marker\": {\"colorbar\": {\"outlinewidth\": 0, \"ticks\": \"\"}}, \"type\": \"scattergl\"}], \"scattermapbox\": [{\"marker\": {\"colorbar\": {\"outlinewidth\": 0, \"ticks\": \"\"}}, \"type\": \"scattermapbox\"}], \"scatterpolar\": [{\"marker\": {\"colorbar\": {\"outlinewidth\": 0, \"ticks\": \"\"}}, \"type\": \"scatterpolar\"}], \"scatterpolargl\": [{\"marker\": {\"colorbar\": {\"outlinewidth\": 0, \"ticks\": \"\"}}, \"type\": \"scatterpolargl\"}], \"scatterternary\": [{\"marker\": {\"colorbar\": {\"outlinewidth\": 0, \"ticks\": \"\"}}, \"type\": \"scatterternary\"}], \"surface\": [{\"colorbar\": {\"outlinewidth\": 0, \"ticks\": \"\"}, \"colorscale\": [[0.0, \"#0d0887\"], [0.1111111111111111, \"#46039f\"], [0.2222222222222222, \"#7201a8\"], [0.3333333333333333, \"#9c179e\"], [0.4444444444444444, \"#bd3786\"], [0.5555555555555556, \"#d8576b\"], [0.6666666666666666, \"#ed7953\"], [0.7777777777777778, \"#fb9f3a\"], [0.8888888888888888, \"#fdca26\"], [1.0, \"#f0f921\"]], \"type\": \"surface\"}], \"table\": [{\"cells\": {\"fill\": {\"color\": \"#EBF0F8\"}, \"line\": {\"color\": \"white\"}}, \"header\": {\"fill\": {\"color\": \"#C8D4E3\"}, \"line\": {\"color\": \"white\"}}, \"type\": \"table\"}]}, \"layout\": {\"annotationdefaults\": {\"arrowcolor\": \"#2a3f5f\", \"arrowhead\": 0, \"arrowwidth\": 1}, \"coloraxis\": {\"colorbar\": {\"outlinewidth\": 0, \"ticks\": \"\"}}, \"colorscale\": {\"diverging\": [[0, \"#8e0152\"], [0.1, \"#c51b7d\"], [0.2, \"#de77ae\"], [0.3, \"#f1b6da\"], [0.4, \"#fde0ef\"], [0.5, \"#f7f7f7\"], [0.6, \"#e6f5d0\"], [0.7, \"#b8e186\"], [0.8, \"#7fbc41\"], [0.9, \"#4d9221\"], [1, \"#276419\"]], \"sequential\": [[0.0, \"#0d0887\"], [0.1111111111111111, \"#46039f\"], [0.2222222222222222, \"#7201a8\"], [0.3333333333333333, \"#9c179e\"], [0.4444444444444444, \"#bd3786\"], [0.5555555555555556, \"#d8576b\"], [0.6666666666666666, \"#ed7953\"], [0.7777777777777778, \"#fb9f3a\"], [0.8888888888888888, \"#fdca26\"], [1.0, \"#f0f921\"]], \"sequentialminus\": [[0.0, \"#0d0887\"], [0.1111111111111111, \"#46039f\"], [0.2222222222222222, \"#7201a8\"], [0.3333333333333333, \"#9c179e\"], [0.4444444444444444, \"#bd3786\"], [0.5555555555555556, \"#d8576b\"], [0.6666666666666666, \"#ed7953\"], [0.7777777777777778, \"#fb9f3a\"], [0.8888888888888888, \"#fdca26\"], [1.0, \"#f0f921\"]]}, \"colorway\": [\"#636efa\", \"#EF553B\", \"#00cc96\", \"#ab63fa\", \"#FFA15A\", \"#19d3f3\", \"#FF6692\", \"#B6E880\", \"#FF97FF\", \"#FECB52\"], \"font\": {\"color\": \"#2a3f5f\"}, \"geo\": {\"bgcolor\": \"white\", \"lakecolor\": \"white\", \"landcolor\": \"#E5ECF6\", \"showlakes\": true, \"showland\": true, \"subunitcolor\": \"white\"}, \"hoverlabel\": {\"align\": \"left\"}, \"hovermode\": \"closest\", \"mapbox\": {\"style\": \"light\"}, \"paper_bgcolor\": \"white\", \"plot_bgcolor\": \"#E5ECF6\", \"polar\": {\"angularaxis\": {\"gridcolor\": \"white\", \"linecolor\": \"white\", \"ticks\": \"\"}, \"bgcolor\": \"#E5ECF6\", \"radialaxis\": {\"gridcolor\": \"white\", \"linecolor\": \"white\", \"ticks\": \"\"}}, \"scene\": {\"xaxis\": {\"backgroundcolor\": \"#E5ECF6\", \"gridcolor\": \"white\", \"gridwidth\": 2, \"linecolor\": \"white\", \"showbackground\": true, \"ticks\": \"\", \"zerolinecolor\": \"white\"}, \"yaxis\": {\"backgroundcolor\": \"#E5ECF6\", \"gridcolor\": \"white\", \"gridwidth\": 2, \"linecolor\": \"white\", \"showbackground\": true, \"ticks\": \"\", \"zerolinecolor\": \"white\"}, \"zaxis\": {\"backgroundcolor\": \"#E5ECF6\", \"gridcolor\": \"white\", \"gridwidth\": 2, \"linecolor\": \"white\", \"showbackground\": true, \"ticks\": \"\", \"zerolinecolor\": \"white\"}}, \"shapedefaults\": {\"line\": {\"color\": \"#2a3f5f\"}}, \"ternary\": {\"aaxis\": {\"gridcolor\": \"white\", \"linecolor\": \"white\", \"ticks\": \"\"}, \"baxis\": {\"gridcolor\": \"white\", \"linecolor\": \"white\", \"ticks\": \"\"}, \"bgcolor\": \"#E5ECF6\", \"caxis\": {\"gridcolor\": \"white\", \"linecolor\": \"white\", \"ticks\": \"\"}}, \"title\": {\"x\": 0.05}, \"xaxis\": {\"automargin\": true, \"gridcolor\": \"white\", \"linecolor\": \"white\", \"ticks\": \"\", \"title\": {\"standoff\": 15}, \"zerolinecolor\": \"white\", \"zerolinewidth\": 2}, \"yaxis\": {\"automargin\": true, \"gridcolor\": \"white\", \"linecolor\": \"white\", \"ticks\": \"\", \"title\": {\"standoff\": 15}, \"zerolinecolor\": \"white\", \"zerolinewidth\": 2}}}},\n",
              "                        {\"responsive\": true}\n",
              "                    ).then(function(){\n",
              "                            \n",
              "var gd = document.getElementById('7dbae10a-3f47-4103-ad17-e6efa099bdf7');\n",
              "var x = new MutationObserver(function (mutations, observer) {{\n",
              "        var display = window.getComputedStyle(gd).display;\n",
              "        if (!display || display === 'none') {{\n",
              "            console.log([gd, 'removed!']);\n",
              "            Plotly.purge(gd);\n",
              "            observer.disconnect();\n",
              "        }}\n",
              "}});\n",
              "\n",
              "// Listen for the removal of the full notebook cells\n",
              "var notebookContainer = gd.closest('#notebook-container');\n",
              "if (notebookContainer) {{\n",
              "    x.observe(notebookContainer, {childList: true});\n",
              "}}\n",
              "\n",
              "// Listen for the clearing of the current output cell\n",
              "var outputEl = gd.closest('.output');\n",
              "if (outputEl) {{\n",
              "    x.observe(outputEl, {childList: true});\n",
              "}}\n",
              "\n",
              "                        })\n",
              "                };\n",
              "                \n",
              "            </script>\n",
              "        </div>\n",
              "</body>\n",
              "</html>"
            ]
          },
          "metadata": {
            "tags": []
          }
        }
      ]
    },
    {
      "cell_type": "code",
      "metadata": {
        "id": "LTJJAh2d_DBc"
      },
      "source": [
        ""
      ],
      "execution_count": null,
      "outputs": []
    }
  ]
}