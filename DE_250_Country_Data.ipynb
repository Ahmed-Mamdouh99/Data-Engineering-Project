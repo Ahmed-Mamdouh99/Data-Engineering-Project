{
  "nbformat": 4,
  "nbformat_minor": 0,
  "metadata": {
    "colab": {
      "name": "DE_250 Country Data.ipynb",
      "provenance": [],
      "collapsed_sections": []
    },
    "kernelspec": {
      "name": "python3",
      "display_name": "Python 3"
    }
  },
  "cells": [
    {
      "cell_type": "code",
      "metadata": {
        "id": "af158QzFK0pM"
      },
      "source": [
        "import pandas as pd\n",
        "import numpy as np\n",
        "import matplotlib.pyplot as plt\n"
      ],
      "execution_count": 63,
      "outputs": []
    },
    {
      "cell_type": "code",
      "metadata": {
        "id": "uekb5DCWPYvw",
        "outputId": "368fa0fa-7279-449d-a223-c44bfd90661f",
        "colab": {
          "base_uri": "https://localhost:8080/",
          "height": 296
        }
      },
      "source": [
        "countryData = pd.read_csv('/content/250 Country Data.csv', index_col=0)\n",
        "countryData.head()"
      ],
      "execution_count": 52,
      "outputs": [
        {
          "output_type": "execute_result",
          "data": {
            "text/html": [
              "<div>\n",
              "<style scoped>\n",
              "    .dataframe tbody tr th:only-of-type {\n",
              "        vertical-align: middle;\n",
              "    }\n",
              "\n",
              "    .dataframe tbody tr th {\n",
              "        vertical-align: top;\n",
              "    }\n",
              "\n",
              "    .dataframe thead th {\n",
              "        text-align: right;\n",
              "    }\n",
              "</style>\n",
              "<table border=\"1\" class=\"dataframe\">\n",
              "  <thead>\n",
              "    <tr style=\"text-align: right;\">\n",
              "      <th></th>\n",
              "      <th>name</th>\n",
              "      <th>region</th>\n",
              "      <th>subregion</th>\n",
              "      <th>population</th>\n",
              "      <th>area</th>\n",
              "      <th>gini</th>\n",
              "      <th>Real Growth Rating(%)</th>\n",
              "      <th>Literacy Rate(%)</th>\n",
              "      <th>Inflation(%)</th>\n",
              "      <th>Unemployement(%)</th>\n",
              "    </tr>\n",
              "  </thead>\n",
              "  <tbody>\n",
              "    <tr>\n",
              "      <th>0</th>\n",
              "      <td>Afghanistan</td>\n",
              "      <td>Asia</td>\n",
              "      <td>Southern Asia</td>\n",
              "      <td>27657145</td>\n",
              "      <td>652230.0</td>\n",
              "      <td>27.8</td>\n",
              "      <td>3.1% (2013 est.).</td>\n",
              "      <td>28.1% (2000 est.)</td>\n",
              "      <td>6.8% (2013 est.).</td>\n",
              "      <td>35% (2008 est.).</td>\n",
              "    </tr>\n",
              "    <tr>\n",
              "      <th>1</th>\n",
              "      <td>Åland Islands</td>\n",
              "      <td>Europe</td>\n",
              "      <td>Northern Europe</td>\n",
              "      <td>28875</td>\n",
              "      <td>1580.0</td>\n",
              "      <td>NaN</td>\n",
              "      <td>NaN</td>\n",
              "      <td>NaN</td>\n",
              "      <td>NaN</td>\n",
              "      <td>NaN</td>\n",
              "    </tr>\n",
              "    <tr>\n",
              "      <th>2</th>\n",
              "      <td>Albania</td>\n",
              "      <td>Europe</td>\n",
              "      <td>Southern Europe</td>\n",
              "      <td>2886026</td>\n",
              "      <td>28748.0</td>\n",
              "      <td>34.5</td>\n",
              "      <td>.7% (2013 est.).</td>\n",
              "      <td>98.7% (2011 est.)</td>\n",
              "      <td>1.7% (2013 est.).</td>\n",
              "      <td>16.9% official rate (2013 est.). Note: These a...</td>\n",
              "    </tr>\n",
              "    <tr>\n",
              "      <th>3</th>\n",
              "      <td>Algeria</td>\n",
              "      <td>Africa</td>\n",
              "      <td>Northern Africa</td>\n",
              "      <td>40400000</td>\n",
              "      <td>2381741.0</td>\n",
              "      <td>35.3</td>\n",
              "      <td>3.1%.</td>\n",
              "      <td>79%</td>\n",
              "      <td>3.9%.</td>\n",
              "      <td>10.3%.</td>\n",
              "    </tr>\n",
              "    <tr>\n",
              "      <th>4</th>\n",
              "      <td>American Samoa</td>\n",
              "      <td>Oceania</td>\n",
              "      <td>Polynesia</td>\n",
              "      <td>57100</td>\n",
              "      <td>199.0</td>\n",
              "      <td>NaN</td>\n",
              "      <td>3%.</td>\n",
              "      <td>97% (1980 est.)</td>\n",
              "      <td>NaN</td>\n",
              "      <td>NaN</td>\n",
              "    </tr>\n",
              "  </tbody>\n",
              "</table>\n",
              "</div>"
            ],
            "text/plain": [
              "             name  ...                                   Unemployement(%)\n",
              "0     Afghanistan  ...                                   35% (2008 est.).\n",
              "1   Åland Islands  ...                                                NaN\n",
              "2         Albania  ...  16.9% official rate (2013 est.). Note: These a...\n",
              "3         Algeria  ...                                             10.3%.\n",
              "4  American Samoa  ...                                                NaN\n",
              "\n",
              "[5 rows x 10 columns]"
            ]
          },
          "metadata": {
            "tags": []
          },
          "execution_count": 52
        }
      ]
    },
    {
      "cell_type": "code",
      "metadata": {
        "id": "oN4ZUXJ8PmPn",
        "outputId": "8603e948-19f3-4062-87be-821f28b0936b",
        "colab": {
          "base_uri": "https://localhost:8080/",
          "height": 195
        }
      },
      "source": [
        "countryData['Real Growth Rating(%)'] = countryData['Real Growth Rating(%)'].str.extract('(\\S+)%')[0].str.replace('–', '-').astype(float)\n",
        "countryData['Literacy Rate(%)'] = countryData['Literacy Rate(%)'].str.extract('(\\S+)%')[0].str.replace('–', '-').astype(float)\n",
        "countryData['Inflation(%)'] = countryData['Inflation(%)'].str.extract('(\\S+)%')[0].str.replace('–', '-').astype(float)\n",
        "countryData['Unemployement(%)'] = countryData['Unemployement(%)'].str.extract('(\\d+\\.?\\d*)\\D*%')[0].str.replace('–', '-').astype(float)\n",
        "countryData.head()"
      ],
      "execution_count": 53,
      "outputs": [
        {
          "output_type": "execute_result",
          "data": {
            "text/html": [
              "<div>\n",
              "<style scoped>\n",
              "    .dataframe tbody tr th:only-of-type {\n",
              "        vertical-align: middle;\n",
              "    }\n",
              "\n",
              "    .dataframe tbody tr th {\n",
              "        vertical-align: top;\n",
              "    }\n",
              "\n",
              "    .dataframe thead th {\n",
              "        text-align: right;\n",
              "    }\n",
              "</style>\n",
              "<table border=\"1\" class=\"dataframe\">\n",
              "  <thead>\n",
              "    <tr style=\"text-align: right;\">\n",
              "      <th></th>\n",
              "      <th>name</th>\n",
              "      <th>region</th>\n",
              "      <th>subregion</th>\n",
              "      <th>population</th>\n",
              "      <th>area</th>\n",
              "      <th>gini</th>\n",
              "      <th>Real Growth Rating(%)</th>\n",
              "      <th>Literacy Rate(%)</th>\n",
              "      <th>Inflation(%)</th>\n",
              "      <th>Unemployement(%)</th>\n",
              "    </tr>\n",
              "  </thead>\n",
              "  <tbody>\n",
              "    <tr>\n",
              "      <th>0</th>\n",
              "      <td>Afghanistan</td>\n",
              "      <td>Asia</td>\n",
              "      <td>Southern Asia</td>\n",
              "      <td>27657145</td>\n",
              "      <td>652230.0</td>\n",
              "      <td>27.8</td>\n",
              "      <td>3.1</td>\n",
              "      <td>28.1</td>\n",
              "      <td>6.8</td>\n",
              "      <td>35.0</td>\n",
              "    </tr>\n",
              "    <tr>\n",
              "      <th>1</th>\n",
              "      <td>Åland Islands</td>\n",
              "      <td>Europe</td>\n",
              "      <td>Northern Europe</td>\n",
              "      <td>28875</td>\n",
              "      <td>1580.0</td>\n",
              "      <td>NaN</td>\n",
              "      <td>NaN</td>\n",
              "      <td>NaN</td>\n",
              "      <td>NaN</td>\n",
              "      <td>NaN</td>\n",
              "    </tr>\n",
              "    <tr>\n",
              "      <th>2</th>\n",
              "      <td>Albania</td>\n",
              "      <td>Europe</td>\n",
              "      <td>Southern Europe</td>\n",
              "      <td>2886026</td>\n",
              "      <td>28748.0</td>\n",
              "      <td>34.5</td>\n",
              "      <td>0.7</td>\n",
              "      <td>98.7</td>\n",
              "      <td>1.7</td>\n",
              "      <td>16.9</td>\n",
              "    </tr>\n",
              "    <tr>\n",
              "      <th>3</th>\n",
              "      <td>Algeria</td>\n",
              "      <td>Africa</td>\n",
              "      <td>Northern Africa</td>\n",
              "      <td>40400000</td>\n",
              "      <td>2381741.0</td>\n",
              "      <td>35.3</td>\n",
              "      <td>3.1</td>\n",
              "      <td>79.0</td>\n",
              "      <td>3.9</td>\n",
              "      <td>10.3</td>\n",
              "    </tr>\n",
              "    <tr>\n",
              "      <th>4</th>\n",
              "      <td>American Samoa</td>\n",
              "      <td>Oceania</td>\n",
              "      <td>Polynesia</td>\n",
              "      <td>57100</td>\n",
              "      <td>199.0</td>\n",
              "      <td>NaN</td>\n",
              "      <td>3.0</td>\n",
              "      <td>97.0</td>\n",
              "      <td>NaN</td>\n",
              "      <td>NaN</td>\n",
              "    </tr>\n",
              "  </tbody>\n",
              "</table>\n",
              "</div>"
            ],
            "text/plain": [
              "             name   region  ... Inflation(%)  Unemployement(%)\n",
              "0     Afghanistan     Asia  ...          6.8              35.0\n",
              "1   Åland Islands   Europe  ...          NaN               NaN\n",
              "2         Albania   Europe  ...          1.7              16.9\n",
              "3         Algeria   Africa  ...          3.9              10.3\n",
              "4  American Samoa  Oceania  ...          NaN               NaN\n",
              "\n",
              "[5 rows x 10 columns]"
            ]
          },
          "metadata": {
            "tags": []
          },
          "execution_count": 53
        }
      ]
    },
    {
      "cell_type": "code",
      "metadata": {
        "id": "o1RUK1VkT7w2",
        "outputId": "53d66449-c2d5-404a-ef87-c2a2ef0f5dad",
        "colab": {
          "base_uri": "https://localhost:8080/"
        }
      },
      "source": [
        "countryData.isna().sum()"
      ],
      "execution_count": 54,
      "outputs": [
        {
          "output_type": "execute_result",
          "data": {
            "text/plain": [
              "name                       0\n",
              "region                     2\n",
              "subregion                  3\n",
              "population                 0\n",
              "area                      10\n",
              "gini                      97\n",
              "Real Growth Rating(%)     85\n",
              "Literacy Rate(%)          77\n",
              "Inflation(%)              87\n",
              "Unemployement(%)         101\n",
              "dtype: int64"
            ]
          },
          "metadata": {
            "tags": []
          },
          "execution_count": 54
        }
      ]
    },
    {
      "cell_type": "code",
      "metadata": {
        "id": "XSnntv5raFVG",
        "outputId": "5e6dded5-ca43-4f1d-feeb-600d928d7dec",
        "colab": {
          "base_uri": "https://localhost:8080/",
          "height": 170
        }
      },
      "source": [
        "countryData[countryData['subregion'].isna()]"
      ],
      "execution_count": 55,
      "outputs": [
        {
          "output_type": "execute_result",
          "data": {
            "text/html": [
              "<div>\n",
              "<style scoped>\n",
              "    .dataframe tbody tr th:only-of-type {\n",
              "        vertical-align: middle;\n",
              "    }\n",
              "\n",
              "    .dataframe tbody tr th {\n",
              "        vertical-align: top;\n",
              "    }\n",
              "\n",
              "    .dataframe thead th {\n",
              "        text-align: right;\n",
              "    }\n",
              "</style>\n",
              "<table border=\"1\" class=\"dataframe\">\n",
              "  <thead>\n",
              "    <tr style=\"text-align: right;\">\n",
              "      <th></th>\n",
              "      <th>name</th>\n",
              "      <th>region</th>\n",
              "      <th>subregion</th>\n",
              "      <th>population</th>\n",
              "      <th>area</th>\n",
              "      <th>gini</th>\n",
              "      <th>Real Growth Rating(%)</th>\n",
              "      <th>Literacy Rate(%)</th>\n",
              "      <th>Inflation(%)</th>\n",
              "      <th>Unemployement(%)</th>\n",
              "    </tr>\n",
              "  </thead>\n",
              "  <tbody>\n",
              "    <tr>\n",
              "      <th>8</th>\n",
              "      <td>Antarctica</td>\n",
              "      <td>Polar</td>\n",
              "      <td>NaN</td>\n",
              "      <td>1000</td>\n",
              "      <td>14000000.0</td>\n",
              "      <td>NaN</td>\n",
              "      <td>NaN</td>\n",
              "      <td>NaN</td>\n",
              "      <td>NaN</td>\n",
              "      <td>NaN</td>\n",
              "    </tr>\n",
              "    <tr>\n",
              "      <th>30</th>\n",
              "      <td>Bouvet Island</td>\n",
              "      <td>NaN</td>\n",
              "      <td>NaN</td>\n",
              "      <td>0</td>\n",
              "      <td>49.0</td>\n",
              "      <td>NaN</td>\n",
              "      <td>NaN</td>\n",
              "      <td>NaN</td>\n",
              "      <td>NaN</td>\n",
              "      <td>NaN</td>\n",
              "    </tr>\n",
              "    <tr>\n",
              "      <th>98</th>\n",
              "      <td>Heard Island and McDonald Islands</td>\n",
              "      <td>NaN</td>\n",
              "      <td>NaN</td>\n",
              "      <td>0</td>\n",
              "      <td>412.0</td>\n",
              "      <td>NaN</td>\n",
              "      <td>NaN</td>\n",
              "      <td>NaN</td>\n",
              "      <td>NaN</td>\n",
              "      <td>NaN</td>\n",
              "    </tr>\n",
              "  </tbody>\n",
              "</table>\n",
              "</div>"
            ],
            "text/plain": [
              "                                 name region  ... Inflation(%)  Unemployement(%)\n",
              "8                          Antarctica  Polar  ...          NaN               NaN\n",
              "30                      Bouvet Island    NaN  ...          NaN               NaN\n",
              "98  Heard Island and McDonald Islands    NaN  ...          NaN               NaN\n",
              "\n",
              "[3 rows x 10 columns]"
            ]
          },
          "metadata": {
            "tags": []
          },
          "execution_count": 55
        }
      ]
    },
    {
      "cell_type": "markdown",
      "metadata": {
        "id": "21hL9z52aJ-l"
      },
      "source": [
        "The columns are mostly NaNs to we can simply drop them"
      ]
    },
    {
      "cell_type": "code",
      "metadata": {
        "id": "0Jsob_HdUJlr"
      },
      "source": [
        "countryData = countryData.drop(countryData[countryData['subregion'].isna()].index)"
      ],
      "execution_count": 56,
      "outputs": []
    },
    {
      "cell_type": "code",
      "metadata": {
        "id": "t6qkfGMZWMGm",
        "outputId": "1bb2b8bd-8894-479c-84fa-5c7deeb57009",
        "colab": {
          "base_uri": "https://localhost:8080/"
        }
      },
      "source": [
        "countryData.isna().sum()"
      ],
      "execution_count": 57,
      "outputs": [
        {
          "output_type": "execute_result",
          "data": {
            "text/plain": [
              "name                      0\n",
              "region                    0\n",
              "subregion                 0\n",
              "population                0\n",
              "area                     10\n",
              "gini                     94\n",
              "Real Growth Rating(%)    82\n",
              "Literacy Rate(%)         74\n",
              "Inflation(%)             84\n",
              "Unemployement(%)         98\n",
              "dtype: int64"
            ]
          },
          "metadata": {
            "tags": []
          },
          "execution_count": 57
        }
      ]
    },
    {
      "cell_type": "markdown",
      "metadata": {
        "id": "Trv-KbiKbDW3"
      },
      "source": [
        "NaN areas can be simply obtained from Google to avoid losing information."
      ]
    },
    {
      "cell_type": "code",
      "metadata": {
        "id": "utV-sKg_WPAx",
        "outputId": "2bd9d280-da18-48dc-ffb4-f582c5c773e5",
        "colab": {
          "base_uri": "https://localhost:8080/",
          "height": 478
        }
      },
      "source": [
        "indicies = countryData[countryData['area'].isna()]['area'].index \n",
        "countryData.loc[indicies, 'area'] = [34.2, 83534, 1628, 1128, 374, 6220, 2512, 420, 3903, 61399]\n",
        "countryData.loc[indicies]"
      ],
      "execution_count": 42,
      "outputs": [
        {
          "output_type": "execute_result",
          "data": {
            "text/html": [
              "<div>\n",
              "<style scoped>\n",
              "    .dataframe tbody tr th:only-of-type {\n",
              "        vertical-align: middle;\n",
              "    }\n",
              "\n",
              "    .dataframe tbody tr th {\n",
              "        vertical-align: top;\n",
              "    }\n",
              "\n",
              "    .dataframe thead th {\n",
              "        text-align: right;\n",
              "    }\n",
              "</style>\n",
              "<table border=\"1\" class=\"dataframe\">\n",
              "  <thead>\n",
              "    <tr style=\"text-align: right;\">\n",
              "      <th></th>\n",
              "      <th>name</th>\n",
              "      <th>region</th>\n",
              "      <th>subregion</th>\n",
              "      <th>population</th>\n",
              "      <th>area</th>\n",
              "      <th>gini</th>\n",
              "      <th>Real Growth Rating(%)</th>\n",
              "      <th>Literacy Rate(%)</th>\n",
              "      <th>Inflation(%)</th>\n",
              "      <th>Unemployement(%)</th>\n",
              "    </tr>\n",
              "  </thead>\n",
              "  <tbody>\n",
              "    <tr>\n",
              "      <th>33</th>\n",
              "      <td>United States Minor Outlying Islands</td>\n",
              "      <td>Americas</td>\n",
              "      <td>Northern America</td>\n",
              "      <td>300</td>\n",
              "      <td>34.2</td>\n",
              "      <td>NaN</td>\n",
              "      <td>NaN</td>\n",
              "      <td>NaN</td>\n",
              "      <td>NaN</td>\n",
              "      <td>NaN</td>\n",
              "    </tr>\n",
              "    <tr>\n",
              "      <th>78</th>\n",
              "      <td>French Guiana</td>\n",
              "      <td>Americas</td>\n",
              "      <td>South America</td>\n",
              "      <td>254541</td>\n",
              "      <td>83534.0</td>\n",
              "      <td>NaN</td>\n",
              "      <td>NaN</td>\n",
              "      <td>NaN</td>\n",
              "      <td>NaN</td>\n",
              "      <td>NaN</td>\n",
              "    </tr>\n",
              "    <tr>\n",
              "      <th>90</th>\n",
              "      <td>Guadeloupe</td>\n",
              "      <td>Americas</td>\n",
              "      <td>Caribbean</td>\n",
              "      <td>400132</td>\n",
              "      <td>1628.0</td>\n",
              "      <td>NaN</td>\n",
              "      <td>NaN</td>\n",
              "      <td>98.0</td>\n",
              "      <td>NaN</td>\n",
              "      <td>27.8</td>\n",
              "    </tr>\n",
              "    <tr>\n",
              "      <th>140</th>\n",
              "      <td>Martinique</td>\n",
              "      <td>Americas</td>\n",
              "      <td>Caribbean</td>\n",
              "      <td>378243</td>\n",
              "      <td>1128.0</td>\n",
              "      <td>NaN</td>\n",
              "      <td>NaN</td>\n",
              "      <td>97.7</td>\n",
              "      <td>3.9</td>\n",
              "      <td>27.2</td>\n",
              "    </tr>\n",
              "    <tr>\n",
              "      <th>143</th>\n",
              "      <td>Mayotte</td>\n",
              "      <td>Africa</td>\n",
              "      <td>Eastern Africa</td>\n",
              "      <td>226915</td>\n",
              "      <td>374.0</td>\n",
              "      <td>NaN</td>\n",
              "      <td>NaN</td>\n",
              "      <td>NaN</td>\n",
              "      <td>NaN</td>\n",
              "      <td>38.0</td>\n",
              "    </tr>\n",
              "    <tr>\n",
              "      <th>171</th>\n",
              "      <td>Palestine, State of</td>\n",
              "      <td>Asia</td>\n",
              "      <td>Western Asia</td>\n",
              "      <td>4682467</td>\n",
              "      <td>6220.0</td>\n",
              "      <td>35.5</td>\n",
              "      <td>NaN</td>\n",
              "      <td>NaN</td>\n",
              "      <td>NaN</td>\n",
              "      <td>NaN</td>\n",
              "    </tr>\n",
              "    <tr>\n",
              "      <th>183</th>\n",
              "      <td>Réunion</td>\n",
              "      <td>Africa</td>\n",
              "      <td>Eastern Africa</td>\n",
              "      <td>840974</td>\n",
              "      <td>2512.0</td>\n",
              "      <td>NaN</td>\n",
              "      <td>2.5</td>\n",
              "      <td>89.0</td>\n",
              "      <td>NaN</td>\n",
              "      <td>36.0</td>\n",
              "    </tr>\n",
              "    <tr>\n",
              "      <th>188</th>\n",
              "      <td>Saint Helena, Ascension and Tristan da Cunha</td>\n",
              "      <td>Africa</td>\n",
              "      <td>Western Africa</td>\n",
              "      <td>4255</td>\n",
              "      <td>420.0</td>\n",
              "      <td>NaN</td>\n",
              "      <td>NaN</td>\n",
              "      <td>NaN</td>\n",
              "      <td>NaN</td>\n",
              "      <td>NaN</td>\n",
              "    </tr>\n",
              "    <tr>\n",
              "      <th>209</th>\n",
              "      <td>South Georgia and the South Sandwich Islands</td>\n",
              "      <td>Americas</td>\n",
              "      <td>South America</td>\n",
              "      <td>30</td>\n",
              "      <td>3903.0</td>\n",
              "      <td>NaN</td>\n",
              "      <td>NaN</td>\n",
              "      <td>NaN</td>\n",
              "      <td>NaN</td>\n",
              "      <td>NaN</td>\n",
              "    </tr>\n",
              "    <tr>\n",
              "      <th>216</th>\n",
              "      <td>Svalbard and Jan Mayen</td>\n",
              "      <td>Europe</td>\n",
              "      <td>Northern Europe</td>\n",
              "      <td>2562</td>\n",
              "      <td>61399.0</td>\n",
              "      <td>NaN</td>\n",
              "      <td>NaN</td>\n",
              "      <td>NaN</td>\n",
              "      <td>NaN</td>\n",
              "      <td>NaN</td>\n",
              "    </tr>\n",
              "  </tbody>\n",
              "</table>\n",
              "</div>"
            ],
            "text/plain": [
              "                                             name  ... Unemployement(%)\n",
              "33           United States Minor Outlying Islands  ...              NaN\n",
              "78                                  French Guiana  ...              NaN\n",
              "90                                     Guadeloupe  ...             27.8\n",
              "140                                    Martinique  ...             27.2\n",
              "143                                       Mayotte  ...             38.0\n",
              "171                           Palestine, State of  ...              NaN\n",
              "183                                       Réunion  ...             36.0\n",
              "188  Saint Helena, Ascension and Tristan da Cunha  ...              NaN\n",
              "209  South Georgia and the South Sandwich Islands  ...              NaN\n",
              "216                        Svalbard and Jan Mayen  ...              NaN\n",
              "\n",
              "[10 rows x 10 columns]"
            ]
          },
          "metadata": {
            "tags": []
          },
          "execution_count": 42
        }
      ]
    },
    {
      "cell_type": "markdown",
      "metadata": {
        "id": "vEqcR5JmbbjO"
      },
      "source": [
        "The rest of the missing data is replaced with the mean for each column as it is more than 3% of the data and cannot be dropped or obtained."
      ]
    },
    {
      "cell_type": "code",
      "metadata": {
        "id": "Mn5Kks-QYz6-"
      },
      "source": [
        "countryData.fillna(countryData.mean(), inplace=True)"
      ],
      "execution_count": 48,
      "outputs": []
    },
    {
      "cell_type": "code",
      "metadata": {
        "id": "W9usB0nOZCWI",
        "outputId": "3b68a9a6-278a-4740-a111-4923907d7dca",
        "colab": {
          "base_uri": "https://localhost:8080/"
        }
      },
      "source": [
        "countryData.isna().sum()"
      ],
      "execution_count": 49,
      "outputs": [
        {
          "output_type": "execute_result",
          "data": {
            "text/plain": [
              "name                     0\n",
              "region                   0\n",
              "subregion                0\n",
              "population               0\n",
              "area                     0\n",
              "gini                     0\n",
              "Real Growth Rating(%)    0\n",
              "Literacy Rate(%)         0\n",
              "Inflation(%)             0\n",
              "Unemployement(%)         0\n",
              "dtype: int64"
            ]
          },
          "metadata": {
            "tags": []
          },
          "execution_count": 49
        }
      ]
    },
    {
      "cell_type": "markdown",
      "metadata": {
        "id": "At1rF1radLxU"
      },
      "source": [
        "#Least 10 Illiterate Countries"
      ]
    },
    {
      "cell_type": "code",
      "metadata": {
        "id": "2Fh02SCmblTb",
        "outputId": "26810797-6868-4ffe-e150-389425651b1a",
        "colab": {
          "base_uri": "https://localhost:8080/",
          "height": 519
        }
      },
      "source": [
        "literacyTop10 = countryData.sort_values('Literacy Rate(%)', ascending=True, ignore_index=True)[:10]\n",
        "print(literacyTop10['Literacy Rate(%)'])\n",
        "plt.bar(literacyTop10['name'], literacyTop10['Literacy Rate(%)'])\n",
        "plt.xticks(rotation=45)"
      ],
      "execution_count": 71,
      "outputs": [
        {
          "output_type": "stream",
          "text": [
            "0    19.1\n",
            "1    27.0\n",
            "2    28.1\n",
            "3    28.7\n",
            "4    33.4\n",
            "5    35.4\n",
            "6    37.8\n",
            "7    39.0\n",
            "8    41.0\n",
            "9    42.4\n",
            "Name: Literacy Rate(%), dtype: float64\n"
          ],
          "name": "stdout"
        },
        {
          "output_type": "execute_result",
          "data": {
            "text/plain": [
              "([0, 1, 2, 3, 4, 5, 6, 7, 8, 9], <a list of 10 Text major ticklabel objects>)"
            ]
          },
          "metadata": {
            "tags": []
          },
          "execution_count": 71
        },
        {
          "output_type": "display_data",
          "data": {
            "image/png": "[encoded data removed]",
            "text/plain": [
              "<Figure size 432x288 with 1 Axes>"
            ]
          },
          "metadata": {
            "tags": [],
            "needs_background": "light"
          }
        }
      ]
    },
    {
      "cell_type": "markdown",
      "metadata": {
        "id": "ni8D_5UUel-L"
      },
      "source": [
        "##Correlation Matrix\n",
        "We can have an overview of which variables are correlated by using the correlation matrix"
      ]
    },
    {
      "cell_type": "code",
      "metadata": {
        "id": "P1-n0njHebAm",
        "outputId": "1c115293-0c02-445f-82d6-2adf1e52bda8",
        "colab": {
          "base_uri": "https://localhost:8080/",
          "height": 554
        }
      },
      "source": [
        "import seaborn as sn\n",
        "plt.figure(figsize=(14,7))\n",
        "sn.heatmap(countryData.corr(), annot=True)"
      ],
      "execution_count": 78,
      "outputs": [
        {
          "output_type": "execute_result",
          "data": {
            "text/plain": [
              "<matplotlib.axes._subplots.AxesSubplot at 0x7f5e4c5f25f8>"
            ]
          },
          "metadata": {
            "tags": []
          },
          "execution_count": 78
        },
        {
          "output_type": "display_data",
          "data": {
            "image/png": "[encoded data removed]",
            "text/plain": [
              "<Figure size 1008x504 with 2 Axes>"
            ]
          },
          "metadata": {
            "tags": [],
            "needs_background": "light"
          }
        }
      ]
    },
    {
      "cell_type": "markdown",
      "metadata": {
        "id": "EDlSp34NexUZ"
      },
      "source": [
        "There is a strong correlation between area and population which is trivial.\n",
        "\n",
        "There is also a clear negative Correlation between Literacy Rate and Unemployment Percentage, lets plot it!\n"
      ]
    },
    {
      "cell_type": "markdown",
      "metadata": {
        "id": "M8ASwvBSd3KV"
      },
      "source": [
        "##Literacy VS Unemploymnet"
      ]
    },
    {
      "cell_type": "code",
      "metadata": {
        "id": "6Ki9-VFJdKdH",
        "outputId": "89a754c9-929d-4eab-fe6e-70dbc842c6d1",
        "colab": {
          "base_uri": "https://localhost:8080/",
          "height": 282
        }
      },
      "source": [
        "plt.scatter(countryData['Literacy Rate(%)'], countryData['Unemployement(%)'])"
      ],
      "execution_count": 76,
      "outputs": [
        {
          "output_type": "execute_result",
          "data": {
            "text/plain": [
              "<matplotlib.collections.PathCollection at 0x7f5e55fac940>"
            ]
          },
          "metadata": {
            "tags": []
          },
          "execution_count": 76
        },
        {
          "output_type": "display_data",
          "data": {
            "image/png": "[encoded data removed]",
            "text/plain": [
              "<Figure size 432x288 with 1 Axes>"
            ]
          },
          "metadata": {
            "tags": [],
            "needs_background": "light"
          }
        }
      ]
    },
    {
      "cell_type": "markdown",
      "metadata": {
        "id": "zlWWiLONd69t"
      },
      "source": [
        "It is clear that the lower the literacy rate, the higher the unemplyment percentage is."
      ]
    },
    {
      "cell_type": "code",
      "metadata": {
        "id": "3HW31dndfu_0",
        "outputId": "a32cbfdc-b96c-4c87-b34b-9e190671fd3d",
        "colab": {
          "base_uri": "https://localhost:8080/",
          "height": 360
        }
      },
      "source": [
        "countryData.boxplot(column=['gini','Real Growth Rating(%)', 'Literacy Rate(%)', 'Inflation(%)','Unemployement(%)'])\n",
        "plt.xticks(rotation=45)"
      ],
      "execution_count": 97,
      "outputs": [
        {
          "output_type": "execute_result",
          "data": {
            "text/plain": [
              "(array([1, 2, 3, 4, 5]), <a list of 5 Text major ticklabel objects>)"
            ]
          },
          "metadata": {
            "tags": []
          },
          "execution_count": 97
        },
        {
          "output_type": "display_data",
          "data": {
            "image/png": "[encoded data removed]",
            "text/plain": [
              "<Figure size 432x288 with 1 Axes>"
            ]
          },
          "metadata": {
            "tags": [],
            "needs_background": "light"
          }
        }
      ]
    },
    {
      "cell_type": "code",
      "metadata": {
        "id": "Jadxf1zzeGpI",
        "outputId": "3a76c75d-a548-40d0-8550-2908298cf982",
        "colab": {
          "base_uri": "https://localhost:8080/",
          "height": 282
        }
      },
      "source": [
        "plt.scatter(countryData['Real Growth Rating(%)'], countryData['Unemployement(%)'])"
      ],
      "execution_count": 100,
      "outputs": [
        {
          "output_type": "execute_result",
          "data": {
            "text/plain": [
              "<matplotlib.collections.PathCollection at 0x7f5e48c82d68>"
            ]
          },
          "metadata": {
            "tags": []
          },
          "execution_count": 100
        },
        {
          "output_type": "display_data",
          "data": {
            "image/png": "[encoded data removed]",
            "text/plain": [
              "<Figure size 432x288 with 1 Axes>"
            ]
          },
          "metadata": {
            "tags": [],
            "needs_background": "light"
          }
        }
      ]
    },
    {
      "cell_type": "code",
      "metadata": {
        "id": "v6tmli7urUkq",
        "outputId": "dfa29336-ba5f-471b-b47f-4dfd000e5c25",
        "colab": {
          "base_uri": "https://localhost:8080/",
          "height": 282
        }
      },
      "source": [
        "plt.scatter(countryData['Real Growth Rating(%)'], countryData['Literacy Rate(%)'])"
      ],
      "execution_count": 101,
      "outputs": [
        {
          "output_type": "execute_result",
          "data": {
            "text/plain": [
              "<matplotlib.collections.PathCollection at 0x7f5e48c655c0>"
            ]
          },
          "metadata": {
            "tags": []
          },
          "execution_count": 101
        },
        {
          "output_type": "display_data",
          "data": {
            "image/png": "[encoded data removed]",
            "text/plain": [
              "<Figure size 432x288 with 1 Axes>"
            ]
          },
          "metadata": {
            "tags": [],
            "needs_background": "light"
          }
        }
      ]
    },
    {
      "cell_type": "markdown",
      "metadata": {
        "id": "iC1Zi_6MPvGa"
      },
      "source": [
        "Possible Questions:\n"
      ]
    },
    {
      "cell_type": "code",
      "metadata": {
        "id": "XDSSHxUhrTs1"
      },
      "source": [
        ""
      ],
      "execution_count": null,
      "outputs": []
    }
  ]
}