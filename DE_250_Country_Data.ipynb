{
  "nbformat": 4,
  "nbformat_minor": 0,
  "metadata": {
    "colab": {
      "name": "DE_250 Country Data.ipynb",
      "provenance": [],
      "collapsed_sections": [],
      "toc_visible": true
    },
    "kernelspec": {
      "name": "python3",
      "display_name": "Python 3"
    }
  },
  "cells": [
    {
      "cell_type": "code",
      "metadata": {
        "id": "af158QzFK0pM"
      },
      "source": [
        "import pandas as pd\n",
        "import numpy as np\n",
        "import matplotlib.pyplot as plt"
      ],
      "execution_count": 14,
      "outputs": []
    },
    {
      "cell_type": "code",
      "metadata": {
        "id": "uekb5DCWPYvw",
        "colab": {
          "base_uri": "https://localhost:8080/",
          "height": 296
        },
        "outputId": "ac842439-e4c4-409e-dccf-a5bec1840654"
      },
      "source": [
        "countryData = pd.read_csv('/content/250 Country Data.csv', index_col=0)\n",
        "countryData.head()"
      ],
      "execution_count": 15,
      "outputs": [
        {
          "output_type": "execute_result",
          "data": {
            "text/html": [
              "<div>\n",
              "<style scoped>\n",
              "    .dataframe tbody tr th:only-of-type {\n",
              "        vertical-align: middle;\n",
              "    }\n",
              "\n",
              "    .dataframe tbody tr th {\n",
              "        vertical-align: top;\n",
              "    }\n",
              "\n",
              "    .dataframe thead th {\n",
              "        text-align: right;\n",
              "    }\n",
              "</style>\n",
              "<table border=\"1\" class=\"dataframe\">\n",
              "  <thead>\n",
              "    <tr style=\"text-align: right;\">\n",
              "      <th></th>\n",
              "      <th>name</th>\n",
              "      <th>region</th>\n",
              "      <th>subregion</th>\n",
              "      <th>population</th>\n",
              "      <th>area</th>\n",
              "      <th>gini</th>\n",
              "      <th>Real Growth Rating(%)</th>\n",
              "      <th>Literacy Rate(%)</th>\n",
              "      <th>Inflation(%)</th>\n",
              "      <th>Unemployement(%)</th>\n",
              "    </tr>\n",
              "  </thead>\n",
              "  <tbody>\n",
              "    <tr>\n",
              "      <th>0</th>\n",
              "      <td>Afghanistan</td>\n",
              "      <td>Asia</td>\n",
              "      <td>Southern Asia</td>\n",
              "      <td>27657145</td>\n",
              "      <td>652230.0</td>\n",
              "      <td>27.8</td>\n",
              "      <td>3.1% (2013 est.).</td>\n",
              "      <td>28.1% (2000 est.)</td>\n",
              "      <td>6.8% (2013 est.).</td>\n",
              "      <td>35% (2008 est.).</td>\n",
              "    </tr>\n",
              "    <tr>\n",
              "      <th>1</th>\n",
              "      <td>Åland Islands</td>\n",
              "      <td>Europe</td>\n",
              "      <td>Northern Europe</td>\n",
              "      <td>28875</td>\n",
              "      <td>1580.0</td>\n",
              "      <td>NaN</td>\n",
              "      <td>NaN</td>\n",
              "      <td>NaN</td>\n",
              "      <td>NaN</td>\n",
              "      <td>NaN</td>\n",
              "    </tr>\n",
              "    <tr>\n",
              "      <th>2</th>\n",
              "      <td>Albania</td>\n",
              "      <td>Europe</td>\n",
              "      <td>Southern Europe</td>\n",
              "      <td>2886026</td>\n",
              "      <td>28748.0</td>\n",
              "      <td>34.5</td>\n",
              "      <td>.7% (2013 est.).</td>\n",
              "      <td>98.7% (2011 est.)</td>\n",
              "      <td>1.7% (2013 est.).</td>\n",
              "      <td>16.9% official rate (2013 est.). Note: These a...</td>\n",
              "    </tr>\n",
              "    <tr>\n",
              "      <th>3</th>\n",
              "      <td>Algeria</td>\n",
              "      <td>Africa</td>\n",
              "      <td>Northern Africa</td>\n",
              "      <td>40400000</td>\n",
              "      <td>2381741.0</td>\n",
              "      <td>35.3</td>\n",
              "      <td>3.1%.</td>\n",
              "      <td>79%</td>\n",
              "      <td>3.9%.</td>\n",
              "      <td>10.3%.</td>\n",
              "    </tr>\n",
              "    <tr>\n",
              "      <th>4</th>\n",
              "      <td>American Samoa</td>\n",
              "      <td>Oceania</td>\n",
              "      <td>Polynesia</td>\n",
              "      <td>57100</td>\n",
              "      <td>199.0</td>\n",
              "      <td>NaN</td>\n",
              "      <td>3%.</td>\n",
              "      <td>97% (1980 est.)</td>\n",
              "      <td>NaN</td>\n",
              "      <td>NaN</td>\n",
              "    </tr>\n",
              "  </tbody>\n",
              "</table>\n",
              "</div>"
            ],
            "text/plain": [
              "             name  ...                                   Unemployement(%)\n",
              "0     Afghanistan  ...                                   35% (2008 est.).\n",
              "1   Åland Islands  ...                                                NaN\n",
              "2         Albania  ...  16.9% official rate (2013 est.). Note: These a...\n",
              "3         Algeria  ...                                             10.3%.\n",
              "4  American Samoa  ...                                                NaN\n",
              "\n",
              "[5 rows x 10 columns]"
            ]
          },
          "metadata": {
            "tags": []
          },
          "execution_count": 15
        }
      ]
    },
    {
      "cell_type": "code",
      "metadata": {
        "id": "oN4ZUXJ8PmPn",
        "colab": {
          "base_uri": "https://localhost:8080/",
          "height": 195
        },
        "outputId": "6d8fd81c-95da-4ad7-9749-e6eb81302725"
      },
      "source": [
        "countryData['Real Growth Rating(%)'] = countryData['Real Growth Rating(%)'].str.extract('(\\S+)%')[0].str.replace('–', '-').astype(float)\n",
        "countryData['Literacy Rate(%)'] = countryData['Literacy Rate(%)'].str.extract('(\\S+)%')[0].str.replace('–', '-').astype(float)\n",
        "countryData['Inflation(%)'] = countryData['Inflation(%)'].str.extract('(\\S+)%')[0].str.replace('–', '-').astype(float)\n",
        "countryData['Unemployement(%)'] = countryData['Unemployement(%)'].str.extract('(\\d+\\.?\\d*)\\D*%')[0].str.replace('–', '-').astype(float)\n",
        "countryData.head()"
      ],
      "execution_count": 16,
      "outputs": [
        {
          "output_type": "execute_result",
          "data": {
            "text/html": [
              "<div>\n",
              "<style scoped>\n",
              "    .dataframe tbody tr th:only-of-type {\n",
              "        vertical-align: middle;\n",
              "    }\n",
              "\n",
              "    .dataframe tbody tr th {\n",
              "        vertical-align: top;\n",
              "    }\n",
              "\n",
              "    .dataframe thead th {\n",
              "        text-align: right;\n",
              "    }\n",
              "</style>\n",
              "<table border=\"1\" class=\"dataframe\">\n",
              "  <thead>\n",
              "    <tr style=\"text-align: right;\">\n",
              "      <th></th>\n",
              "      <th>name</th>\n",
              "      <th>region</th>\n",
              "      <th>subregion</th>\n",
              "      <th>population</th>\n",
              "      <th>area</th>\n",
              "      <th>gini</th>\n",
              "      <th>Real Growth Rating(%)</th>\n",
              "      <th>Literacy Rate(%)</th>\n",
              "      <th>Inflation(%)</th>\n",
              "      <th>Unemployement(%)</th>\n",
              "    </tr>\n",
              "  </thead>\n",
              "  <tbody>\n",
              "    <tr>\n",
              "      <th>0</th>\n",
              "      <td>Afghanistan</td>\n",
              "      <td>Asia</td>\n",
              "      <td>Southern Asia</td>\n",
              "      <td>27657145</td>\n",
              "      <td>652230.0</td>\n",
              "      <td>27.8</td>\n",
              "      <td>3.1</td>\n",
              "      <td>28.1</td>\n",
              "      <td>6.8</td>\n",
              "      <td>35.0</td>\n",
              "    </tr>\n",
              "    <tr>\n",
              "      <th>1</th>\n",
              "      <td>Åland Islands</td>\n",
              "      <td>Europe</td>\n",
              "      <td>Northern Europe</td>\n",
              "      <td>28875</td>\n",
              "      <td>1580.0</td>\n",
              "      <td>NaN</td>\n",
              "      <td>NaN</td>\n",
              "      <td>NaN</td>\n",
              "      <td>NaN</td>\n",
              "      <td>NaN</td>\n",
              "    </tr>\n",
              "    <tr>\n",
              "      <th>2</th>\n",
              "      <td>Albania</td>\n",
              "      <td>Europe</td>\n",
              "      <td>Southern Europe</td>\n",
              "      <td>2886026</td>\n",
              "      <td>28748.0</td>\n",
              "      <td>34.5</td>\n",
              "      <td>0.7</td>\n",
              "      <td>98.7</td>\n",
              "      <td>1.7</td>\n",
              "      <td>16.9</td>\n",
              "    </tr>\n",
              "    <tr>\n",
              "      <th>3</th>\n",
              "      <td>Algeria</td>\n",
              "      <td>Africa</td>\n",
              "      <td>Northern Africa</td>\n",
              "      <td>40400000</td>\n",
              "      <td>2381741.0</td>\n",
              "      <td>35.3</td>\n",
              "      <td>3.1</td>\n",
              "      <td>79.0</td>\n",
              "      <td>3.9</td>\n",
              "      <td>10.3</td>\n",
              "    </tr>\n",
              "    <tr>\n",
              "      <th>4</th>\n",
              "      <td>American Samoa</td>\n",
              "      <td>Oceania</td>\n",
              "      <td>Polynesia</td>\n",
              "      <td>57100</td>\n",
              "      <td>199.0</td>\n",
              "      <td>NaN</td>\n",
              "      <td>3.0</td>\n",
              "      <td>97.0</td>\n",
              "      <td>NaN</td>\n",
              "      <td>NaN</td>\n",
              "    </tr>\n",
              "  </tbody>\n",
              "</table>\n",
              "</div>"
            ],
            "text/plain": [
              "             name   region  ... Inflation(%)  Unemployement(%)\n",
              "0     Afghanistan     Asia  ...          6.8              35.0\n",
              "1   Åland Islands   Europe  ...          NaN               NaN\n",
              "2         Albania   Europe  ...          1.7              16.9\n",
              "3         Algeria   Africa  ...          3.9              10.3\n",
              "4  American Samoa  Oceania  ...          NaN               NaN\n",
              "\n",
              "[5 rows x 10 columns]"
            ]
          },
          "metadata": {
            "tags": []
          },
          "execution_count": 16
        }
      ]
    },
    {
      "cell_type": "code",
      "metadata": {
        "id": "o1RUK1VkT7w2",
        "colab": {
          "base_uri": "https://localhost:8080/"
        },
        "outputId": "c33f0c14-8b24-41d7-b555-42710406ddb7"
      },
      "source": [
        "countryData.isna().sum()"
      ],
      "execution_count": 17,
      "outputs": [
        {
          "output_type": "execute_result",
          "data": {
            "text/plain": [
              "name                       0\n",
              "region                     2\n",
              "subregion                  3\n",
              "population                 0\n",
              "area                      10\n",
              "gini                      97\n",
              "Real Growth Rating(%)     85\n",
              "Literacy Rate(%)          77\n",
              "Inflation(%)              87\n",
              "Unemployement(%)         101\n",
              "dtype: int64"
            ]
          },
          "metadata": {
            "tags": []
          },
          "execution_count": 17
        }
      ]
    },
    {
      "cell_type": "code",
      "metadata": {
        "id": "XSnntv5raFVG",
        "colab": {
          "base_uri": "https://localhost:8080/",
          "height": 170
        },
        "outputId": "b986fbab-55b5-4bbe-e0f3-9d77c03342ac"
      },
      "source": [
        "countryData[countryData['subregion'].isna()]"
      ],
      "execution_count": 18,
      "outputs": [
        {
          "output_type": "execute_result",
          "data": {
            "text/html": [
              "<div>\n",
              "<style scoped>\n",
              "    .dataframe tbody tr th:only-of-type {\n",
              "        vertical-align: middle;\n",
              "    }\n",
              "\n",
              "    .dataframe tbody tr th {\n",
              "        vertical-align: top;\n",
              "    }\n",
              "\n",
              "    .dataframe thead th {\n",
              "        text-align: right;\n",
              "    }\n",
              "</style>\n",
              "<table border=\"1\" class=\"dataframe\">\n",
              "  <thead>\n",
              "    <tr style=\"text-align: right;\">\n",
              "      <th></th>\n",
              "      <th>name</th>\n",
              "      <th>region</th>\n",
              "      <th>subregion</th>\n",
              "      <th>population</th>\n",
              "      <th>area</th>\n",
              "      <th>gini</th>\n",
              "      <th>Real Growth Rating(%)</th>\n",
              "      <th>Literacy Rate(%)</th>\n",
              "      <th>Inflation(%)</th>\n",
              "      <th>Unemployement(%)</th>\n",
              "    </tr>\n",
              "  </thead>\n",
              "  <tbody>\n",
              "    <tr>\n",
              "      <th>8</th>\n",
              "      <td>Antarctica</td>\n",
              "      <td>Polar</td>\n",
              "      <td>NaN</td>\n",
              "      <td>1000</td>\n",
              "      <td>14000000.0</td>\n",
              "      <td>NaN</td>\n",
              "      <td>NaN</td>\n",
              "      <td>NaN</td>\n",
              "      <td>NaN</td>\n",
              "      <td>NaN</td>\n",
              "    </tr>\n",
              "    <tr>\n",
              "      <th>30</th>\n",
              "      <td>Bouvet Island</td>\n",
              "      <td>NaN</td>\n",
              "      <td>NaN</td>\n",
              "      <td>0</td>\n",
              "      <td>49.0</td>\n",
              "      <td>NaN</td>\n",
              "      <td>NaN</td>\n",
              "      <td>NaN</td>\n",
              "      <td>NaN</td>\n",
              "      <td>NaN</td>\n",
              "    </tr>\n",
              "    <tr>\n",
              "      <th>98</th>\n",
              "      <td>Heard Island and McDonald Islands</td>\n",
              "      <td>NaN</td>\n",
              "      <td>NaN</td>\n",
              "      <td>0</td>\n",
              "      <td>412.0</td>\n",
              "      <td>NaN</td>\n",
              "      <td>NaN</td>\n",
              "      <td>NaN</td>\n",
              "      <td>NaN</td>\n",
              "      <td>NaN</td>\n",
              "    </tr>\n",
              "  </tbody>\n",
              "</table>\n",
              "</div>"
            ],
            "text/plain": [
              "                                 name region  ... Inflation(%)  Unemployement(%)\n",
              "8                          Antarctica  Polar  ...          NaN               NaN\n",
              "30                      Bouvet Island    NaN  ...          NaN               NaN\n",
              "98  Heard Island and McDonald Islands    NaN  ...          NaN               NaN\n",
              "\n",
              "[3 rows x 10 columns]"
            ]
          },
          "metadata": {
            "tags": []
          },
          "execution_count": 18
        }
      ]
    },
    {
      "cell_type": "markdown",
      "metadata": {
        "id": "21hL9z52aJ-l"
      },
      "source": [
        "The columns are mostly NaNs to we can simply drop them"
      ]
    },
    {
      "cell_type": "code",
      "metadata": {
        "id": "0Jsob_HdUJlr"
      },
      "source": [
        "countryData = countryData.drop(countryData[countryData['subregion'].isna()].index)"
      ],
      "execution_count": 19,
      "outputs": []
    },
    {
      "cell_type": "code",
      "metadata": {
        "id": "t6qkfGMZWMGm",
        "colab": {
          "base_uri": "https://localhost:8080/"
        },
        "outputId": "c6d7b097-aa3f-444b-a26d-fac5506d1ca1"
      },
      "source": [
        "print(countryData.shape)\r\n",
        "countryData.isna().sum()"
      ],
      "execution_count": 20,
      "outputs": [
        {
          "output_type": "stream",
          "text": [
            "(247, 10)\n"
          ],
          "name": "stdout"
        },
        {
          "output_type": "execute_result",
          "data": {
            "text/plain": [
              "name                      0\n",
              "region                    0\n",
              "subregion                 0\n",
              "population                0\n",
              "area                     10\n",
              "gini                     94\n",
              "Real Growth Rating(%)    82\n",
              "Literacy Rate(%)         74\n",
              "Inflation(%)             84\n",
              "Unemployement(%)         98\n",
              "dtype: int64"
            ]
          },
          "metadata": {
            "tags": []
          },
          "execution_count": 20
        }
      ]
    },
    {
      "cell_type": "markdown",
      "metadata": {
        "id": "Trv-KbiKbDW3"
      },
      "source": [
        "NaN areas can be simply obtained from Google to avoid losing information."
      ]
    },
    {
      "cell_type": "code",
      "metadata": {
        "id": "utV-sKg_WPAx",
        "colab": {
          "base_uri": "https://localhost:8080/",
          "height": 478
        },
        "outputId": "7461a771-82a7-471c-eed9-e07ee1986e67"
      },
      "source": [
        "indicies = countryData[countryData['area'].isna()]['area'].index \n",
        "countryData.loc[indicies, 'area'] = [34.2, 83534, 1628, 1128, 374, 6220, 2512, 420, 3903, 61399]\n",
        "countryData.loc[indicies]"
      ],
      "execution_count": 21,
      "outputs": [
        {
          "output_type": "execute_result",
          "data": {
            "text/html": [
              "<div>\n",
              "<style scoped>\n",
              "    .dataframe tbody tr th:only-of-type {\n",
              "        vertical-align: middle;\n",
              "    }\n",
              "\n",
              "    .dataframe tbody tr th {\n",
              "        vertical-align: top;\n",
              "    }\n",
              "\n",
              "    .dataframe thead th {\n",
              "        text-align: right;\n",
              "    }\n",
              "</style>\n",
              "<table border=\"1\" class=\"dataframe\">\n",
              "  <thead>\n",
              "    <tr style=\"text-align: right;\">\n",
              "      <th></th>\n",
              "      <th>name</th>\n",
              "      <th>region</th>\n",
              "      <th>subregion</th>\n",
              "      <th>population</th>\n",
              "      <th>area</th>\n",
              "      <th>gini</th>\n",
              "      <th>Real Growth Rating(%)</th>\n",
              "      <th>Literacy Rate(%)</th>\n",
              "      <th>Inflation(%)</th>\n",
              "      <th>Unemployement(%)</th>\n",
              "    </tr>\n",
              "  </thead>\n",
              "  <tbody>\n",
              "    <tr>\n",
              "      <th>33</th>\n",
              "      <td>United States Minor Outlying Islands</td>\n",
              "      <td>Americas</td>\n",
              "      <td>Northern America</td>\n",
              "      <td>300</td>\n",
              "      <td>34.2</td>\n",
              "      <td>NaN</td>\n",
              "      <td>NaN</td>\n",
              "      <td>NaN</td>\n",
              "      <td>NaN</td>\n",
              "      <td>NaN</td>\n",
              "    </tr>\n",
              "    <tr>\n",
              "      <th>78</th>\n",
              "      <td>French Guiana</td>\n",
              "      <td>Americas</td>\n",
              "      <td>South America</td>\n",
              "      <td>254541</td>\n",
              "      <td>83534.0</td>\n",
              "      <td>NaN</td>\n",
              "      <td>NaN</td>\n",
              "      <td>NaN</td>\n",
              "      <td>NaN</td>\n",
              "      <td>NaN</td>\n",
              "    </tr>\n",
              "    <tr>\n",
              "      <th>90</th>\n",
              "      <td>Guadeloupe</td>\n",
              "      <td>Americas</td>\n",
              "      <td>Caribbean</td>\n",
              "      <td>400132</td>\n",
              "      <td>1628.0</td>\n",
              "      <td>NaN</td>\n",
              "      <td>NaN</td>\n",
              "      <td>98.0</td>\n",
              "      <td>NaN</td>\n",
              "      <td>27.8</td>\n",
              "    </tr>\n",
              "    <tr>\n",
              "      <th>140</th>\n",
              "      <td>Martinique</td>\n",
              "      <td>Americas</td>\n",
              "      <td>Caribbean</td>\n",
              "      <td>378243</td>\n",
              "      <td>1128.0</td>\n",
              "      <td>NaN</td>\n",
              "      <td>NaN</td>\n",
              "      <td>97.7</td>\n",
              "      <td>3.9</td>\n",
              "      <td>27.2</td>\n",
              "    </tr>\n",
              "    <tr>\n",
              "      <th>143</th>\n",
              "      <td>Mayotte</td>\n",
              "      <td>Africa</td>\n",
              "      <td>Eastern Africa</td>\n",
              "      <td>226915</td>\n",
              "      <td>374.0</td>\n",
              "      <td>NaN</td>\n",
              "      <td>NaN</td>\n",
              "      <td>NaN</td>\n",
              "      <td>NaN</td>\n",
              "      <td>38.0</td>\n",
              "    </tr>\n",
              "    <tr>\n",
              "      <th>171</th>\n",
              "      <td>Palestine, State of</td>\n",
              "      <td>Asia</td>\n",
              "      <td>Western Asia</td>\n",
              "      <td>4682467</td>\n",
              "      <td>6220.0</td>\n",
              "      <td>35.5</td>\n",
              "      <td>NaN</td>\n",
              "      <td>NaN</td>\n",
              "      <td>NaN</td>\n",
              "      <td>NaN</td>\n",
              "    </tr>\n",
              "    <tr>\n",
              "      <th>183</th>\n",
              "      <td>Réunion</td>\n",
              "      <td>Africa</td>\n",
              "      <td>Eastern Africa</td>\n",
              "      <td>840974</td>\n",
              "      <td>2512.0</td>\n",
              "      <td>NaN</td>\n",
              "      <td>2.5</td>\n",
              "      <td>89.0</td>\n",
              "      <td>NaN</td>\n",
              "      <td>36.0</td>\n",
              "    </tr>\n",
              "    <tr>\n",
              "      <th>188</th>\n",
              "      <td>Saint Helena, Ascension and Tristan da Cunha</td>\n",
              "      <td>Africa</td>\n",
              "      <td>Western Africa</td>\n",
              "      <td>4255</td>\n",
              "      <td>420.0</td>\n",
              "      <td>NaN</td>\n",
              "      <td>NaN</td>\n",
              "      <td>NaN</td>\n",
              "      <td>NaN</td>\n",
              "      <td>NaN</td>\n",
              "    </tr>\n",
              "    <tr>\n",
              "      <th>209</th>\n",
              "      <td>South Georgia and the South Sandwich Islands</td>\n",
              "      <td>Americas</td>\n",
              "      <td>South America</td>\n",
              "      <td>30</td>\n",
              "      <td>3903.0</td>\n",
              "      <td>NaN</td>\n",
              "      <td>NaN</td>\n",
              "      <td>NaN</td>\n",
              "      <td>NaN</td>\n",
              "      <td>NaN</td>\n",
              "    </tr>\n",
              "    <tr>\n",
              "      <th>216</th>\n",
              "      <td>Svalbard and Jan Mayen</td>\n",
              "      <td>Europe</td>\n",
              "      <td>Northern Europe</td>\n",
              "      <td>2562</td>\n",
              "      <td>61399.0</td>\n",
              "      <td>NaN</td>\n",
              "      <td>NaN</td>\n",
              "      <td>NaN</td>\n",
              "      <td>NaN</td>\n",
              "      <td>NaN</td>\n",
              "    </tr>\n",
              "  </tbody>\n",
              "</table>\n",
              "</div>"
            ],
            "text/plain": [
              "                                             name  ... Unemployement(%)\n",
              "33           United States Minor Outlying Islands  ...              NaN\n",
              "78                                  French Guiana  ...              NaN\n",
              "90                                     Guadeloupe  ...             27.8\n",
              "140                                    Martinique  ...             27.2\n",
              "143                                       Mayotte  ...             38.0\n",
              "171                           Palestine, State of  ...              NaN\n",
              "183                                       Réunion  ...             36.0\n",
              "188  Saint Helena, Ascension and Tristan da Cunha  ...              NaN\n",
              "209  South Georgia and the South Sandwich Islands  ...              NaN\n",
              "216                        Svalbard and Jan Mayen  ...              NaN\n",
              "\n",
              "[10 rows x 10 columns]"
            ]
          },
          "metadata": {
            "tags": []
          },
          "execution_count": 21
        }
      ]
    },
    {
      "cell_type": "markdown",
      "metadata": {
        "id": "vEqcR5JmbbjO"
      },
      "source": [
        "The rest of the missing data is replaced with the mean for each column as it is more than 3% of the data and cannot be dropped or obtained."
      ]
    },
    {
      "cell_type": "code",
      "metadata": {
        "colab": {
          "base_uri": "https://localhost:8080/",
          "height": 225
        },
        "id": "XEEhnatd1D7A",
        "outputId": "3c9acd82-34d3-4651-8ca7-d9647037f4ec"
      },
      "source": [
        "regionGroups = countryData.groupby(['region'])[['gini','Real Growth Rating(%)', 'Literacy Rate(%)', 'Inflation(%)', 'Unemployement(%)']].mean()\r\n",
        "regionGroups"
      ],
      "execution_count": 22,
      "outputs": [
        {
          "output_type": "execute_result",
          "data": {
            "text/html": [
              "<div>\n",
              "<style scoped>\n",
              "    .dataframe tbody tr th:only-of-type {\n",
              "        vertical-align: middle;\n",
              "    }\n",
              "\n",
              "    .dataframe tbody tr th {\n",
              "        vertical-align: top;\n",
              "    }\n",
              "\n",
              "    .dataframe thead th {\n",
              "        text-align: right;\n",
              "    }\n",
              "</style>\n",
              "<table border=\"1\" class=\"dataframe\">\n",
              "  <thead>\n",
              "    <tr style=\"text-align: right;\">\n",
              "      <th></th>\n",
              "      <th>gini</th>\n",
              "      <th>Real Growth Rating(%)</th>\n",
              "      <th>Literacy Rate(%)</th>\n",
              "      <th>Inflation(%)</th>\n",
              "      <th>Unemployement(%)</th>\n",
              "    </tr>\n",
              "    <tr>\n",
              "      <th>region</th>\n",
              "      <th></th>\n",
              "      <th></th>\n",
              "      <th></th>\n",
              "      <th></th>\n",
              "      <th></th>\n",
              "    </tr>\n",
              "  </thead>\n",
              "  <tbody>\n",
              "    <tr>\n",
              "      <th>Africa</th>\n",
              "      <td>44.580435</td>\n",
              "      <td>4.206818</td>\n",
              "      <td>64.979792</td>\n",
              "      <td>6.636585</td>\n",
              "      <td>28.062069</td>\n",
              "    </tr>\n",
              "    <tr>\n",
              "      <th>Americas</th>\n",
              "      <td>48.703704</td>\n",
              "      <td>4.257812</td>\n",
              "      <td>91.977778</td>\n",
              "      <td>4.181818</td>\n",
              "      <td>11.179412</td>\n",
              "    </tr>\n",
              "    <tr>\n",
              "      <th>Asia</th>\n",
              "      <td>37.020513</td>\n",
              "      <td>5.163514</td>\n",
              "      <td>85.755263</td>\n",
              "      <td>5.270270</td>\n",
              "      <td>11.210811</td>\n",
              "    </tr>\n",
              "    <tr>\n",
              "      <th>Europe</th>\n",
              "      <td>31.816216</td>\n",
              "      <td>0.434211</td>\n",
              "      <td>98.172973</td>\n",
              "      <td>1.897297</td>\n",
              "      <td>10.202703</td>\n",
              "    </tr>\n",
              "    <tr>\n",
              "      <th>Oceania</th>\n",
              "      <td>40.100000</td>\n",
              "      <td>1.964286</td>\n",
              "      <td>92.564286</td>\n",
              "      <td>2.613333</td>\n",
              "      <td>17.885833</td>\n",
              "    </tr>\n",
              "  </tbody>\n",
              "</table>\n",
              "</div>"
            ],
            "text/plain": [
              "               gini  Real Growth Rating(%)  ...  Inflation(%)  Unemployement(%)\n",
              "region                                      ...                                \n",
              "Africa    44.580435               4.206818  ...      6.636585         28.062069\n",
              "Americas  48.703704               4.257812  ...      4.181818         11.179412\n",
              "Asia      37.020513               5.163514  ...      5.270270         11.210811\n",
              "Europe    31.816216               0.434211  ...      1.897297         10.202703\n",
              "Oceania   40.100000               1.964286  ...      2.613333         17.885833\n",
              "\n",
              "[5 rows x 5 columns]"
            ]
          },
          "metadata": {
            "tags": []
          },
          "execution_count": 22
        }
      ]
    },
    {
      "cell_type": "code",
      "metadata": {
        "id": "mSGJeHGd5w2y"
      },
      "source": [
        "for i in countryData['region'].unique():\r\n",
        "  countryData.loc[(countryData['region']==i) & (countryData['gini'].isna()),'gini'] = regionGroups[regionGroups.index == i]['gini'].values[0]\r\n",
        "  countryData.loc[(countryData['region']==i) & (countryData['Real Growth Rating(%)'].isna()),'Real Growth Rating(%)'] = regionGroups[regionGroups.index == i]['Real Growth Rating(%)'].values[0]\r\n",
        "  countryData.loc[(countryData['region']==i) & (countryData['Literacy Rate(%)'].isna()),'Literacy Rate(%)'] = regionGroups[regionGroups.index == i]['Literacy Rate(%)'].values[0]\r\n",
        "  countryData.loc[(countryData['region']==i) & (countryData['Inflation(%)'].isna()),'Inflation(%)'] = regionGroups[regionGroups.index == i]['Inflation(%)'].values[0]\r\n",
        "  countryData.loc[(countryData['region']==i) & (countryData['Unemployement(%)'].isna()),'Unemployement(%)'] = regionGroups[regionGroups.index == i]['Unemployement(%)'].values[0]"
      ],
      "execution_count": 23,
      "outputs": []
    },
    {
      "cell_type": "code",
      "metadata": {
        "id": "W9usB0nOZCWI",
        "colab": {
          "base_uri": "https://localhost:8080/"
        },
        "outputId": "77c7a20c-3654-427e-86b6-599206a9c956"
      },
      "source": [
        "countryData.isna().sum()"
      ],
      "execution_count": 24,
      "outputs": [
        {
          "output_type": "execute_result",
          "data": {
            "text/plain": [
              "name                     0\n",
              "region                   0\n",
              "subregion                0\n",
              "population               0\n",
              "area                     0\n",
              "gini                     0\n",
              "Real Growth Rating(%)    0\n",
              "Literacy Rate(%)         0\n",
              "Inflation(%)             0\n",
              "Unemployement(%)         0\n",
              "dtype: int64"
            ]
          },
          "metadata": {
            "tags": []
          },
          "execution_count": 24
        }
      ]
    },
    {
      "cell_type": "markdown",
      "metadata": {
        "id": "_jT2-Gk79I-u"
      },
      "source": [
        "##Feature Engineering"
      ]
    },
    {
      "cell_type": "code",
      "metadata": {
        "colab": {
          "base_uri": "https://localhost:8080/",
          "height": 333
        },
        "id": "1Hi5i7pi9KoD",
        "outputId": "2d1a0111-48cf-448a-8718-7bd14d5c11eb"
      },
      "source": [
        "countryData['Population Density'] = countryData['population'] / countryData['area']\r\n",
        "countryData['Literate Count'] = countryData['population'] * (countryData['Literacy Rate(%)']/100)\r\n",
        "countryData['Illiterate Count'] = countryData['population'] - countryData['Literate Count']\r\n",
        "countryData['Unemployment Count'] = countryData['population'] * (countryData['Unemployement(%)']/100)\r\n",
        "countryData['Employment Count'] = countryData['population'] - countryData['Unemployment Count']\r\n",
        "countryData['Literate Working Rate'] = countryData['Employment Count'] / countryData['Literate Count']\r\n",
        "countryData.head()"
      ],
      "execution_count": 25,
      "outputs": [
        {
          "output_type": "execute_result",
          "data": {
            "text/html": [
              "<div>\n",
              "<style scoped>\n",
              "    .dataframe tbody tr th:only-of-type {\n",
              "        vertical-align: middle;\n",
              "    }\n",
              "\n",
              "    .dataframe tbody tr th {\n",
              "        vertical-align: top;\n",
              "    }\n",
              "\n",
              "    .dataframe thead th {\n",
              "        text-align: right;\n",
              "    }\n",
              "</style>\n",
              "<table border=\"1\" class=\"dataframe\">\n",
              "  <thead>\n",
              "    <tr style=\"text-align: right;\">\n",
              "      <th></th>\n",
              "      <th>name</th>\n",
              "      <th>region</th>\n",
              "      <th>subregion</th>\n",
              "      <th>population</th>\n",
              "      <th>area</th>\n",
              "      <th>gini</th>\n",
              "      <th>Real Growth Rating(%)</th>\n",
              "      <th>Literacy Rate(%)</th>\n",
              "      <th>Inflation(%)</th>\n",
              "      <th>Unemployement(%)</th>\n",
              "      <th>Population Density</th>\n",
              "      <th>Literate Count</th>\n",
              "      <th>Illiterate Count</th>\n",
              "      <th>Unemployment Count</th>\n",
              "      <th>Employment Count</th>\n",
              "      <th>Literate Working Rate</th>\n",
              "    </tr>\n",
              "  </thead>\n",
              "  <tbody>\n",
              "    <tr>\n",
              "      <th>0</th>\n",
              "      <td>Afghanistan</td>\n",
              "      <td>Asia</td>\n",
              "      <td>Southern Asia</td>\n",
              "      <td>27657145</td>\n",
              "      <td>652230.0</td>\n",
              "      <td>27.800000</td>\n",
              "      <td>3.100000</td>\n",
              "      <td>28.100000</td>\n",
              "      <td>6.800000</td>\n",
              "      <td>35.000000</td>\n",
              "      <td>42.403976</td>\n",
              "      <td>7.771658e+06</td>\n",
              "      <td>1.988549e+07</td>\n",
              "      <td>9.680001e+06</td>\n",
              "      <td>1.797714e+07</td>\n",
              "      <td>2.313167</td>\n",
              "    </tr>\n",
              "    <tr>\n",
              "      <th>1</th>\n",
              "      <td>Åland Islands</td>\n",
              "      <td>Europe</td>\n",
              "      <td>Northern Europe</td>\n",
              "      <td>28875</td>\n",
              "      <td>1580.0</td>\n",
              "      <td>31.816216</td>\n",
              "      <td>0.434211</td>\n",
              "      <td>98.172973</td>\n",
              "      <td>1.897297</td>\n",
              "      <td>10.202703</td>\n",
              "      <td>18.275316</td>\n",
              "      <td>2.834745e+04</td>\n",
              "      <td>5.275541e+02</td>\n",
              "      <td>2.946030e+03</td>\n",
              "      <td>2.592897e+04</td>\n",
              "      <td>0.914685</td>\n",
              "    </tr>\n",
              "    <tr>\n",
              "      <th>2</th>\n",
              "      <td>Albania</td>\n",
              "      <td>Europe</td>\n",
              "      <td>Southern Europe</td>\n",
              "      <td>2886026</td>\n",
              "      <td>28748.0</td>\n",
              "      <td>34.500000</td>\n",
              "      <td>0.700000</td>\n",
              "      <td>98.700000</td>\n",
              "      <td>1.700000</td>\n",
              "      <td>16.900000</td>\n",
              "      <td>100.390497</td>\n",
              "      <td>2.848508e+06</td>\n",
              "      <td>3.751834e+04</td>\n",
              "      <td>4.877384e+05</td>\n",
              "      <td>2.398288e+06</td>\n",
              "      <td>0.841945</td>\n",
              "    </tr>\n",
              "    <tr>\n",
              "      <th>3</th>\n",
              "      <td>Algeria</td>\n",
              "      <td>Africa</td>\n",
              "      <td>Northern Africa</td>\n",
              "      <td>40400000</td>\n",
              "      <td>2381741.0</td>\n",
              "      <td>35.300000</td>\n",
              "      <td>3.100000</td>\n",
              "      <td>79.000000</td>\n",
              "      <td>3.900000</td>\n",
              "      <td>10.300000</td>\n",
              "      <td>16.962382</td>\n",
              "      <td>3.191600e+07</td>\n",
              "      <td>8.484000e+06</td>\n",
              "      <td>4.161200e+06</td>\n",
              "      <td>3.623880e+07</td>\n",
              "      <td>1.135443</td>\n",
              "    </tr>\n",
              "    <tr>\n",
              "      <th>4</th>\n",
              "      <td>American Samoa</td>\n",
              "      <td>Oceania</td>\n",
              "      <td>Polynesia</td>\n",
              "      <td>57100</td>\n",
              "      <td>199.0</td>\n",
              "      <td>40.100000</td>\n",
              "      <td>3.000000</td>\n",
              "      <td>97.000000</td>\n",
              "      <td>2.613333</td>\n",
              "      <td>17.885833</td>\n",
              "      <td>286.934673</td>\n",
              "      <td>5.538700e+04</td>\n",
              "      <td>1.713000e+03</td>\n",
              "      <td>1.021281e+04</td>\n",
              "      <td>4.688719e+04</td>\n",
              "      <td>0.846538</td>\n",
              "    </tr>\n",
              "  </tbody>\n",
              "</table>\n",
              "</div>"
            ],
            "text/plain": [
              "             name   region  ... Employment Count  Literate Working Rate\n",
              "0     Afghanistan     Asia  ...     1.797714e+07               2.313167\n",
              "1   Åland Islands   Europe  ...     2.592897e+04               0.914685\n",
              "2         Albania   Europe  ...     2.398288e+06               0.841945\n",
              "3         Algeria   Africa  ...     3.623880e+07               1.135443\n",
              "4  American Samoa  Oceania  ...     4.688719e+04               0.846538\n",
              "\n",
              "[5 rows x 16 columns]"
            ]
          },
          "metadata": {
            "tags": []
          },
          "execution_count": 25
        }
      ]
    },
    {
      "cell_type": "code",
      "metadata": {
        "id": "4LHYbLOH9ZZ2"
      },
      "source": [
        "countryData.to_csv('250CountryDataGen.csv')"
      ],
      "execution_count": 26,
      "outputs": []
    },
    {
      "cell_type": "markdown",
      "metadata": {
        "id": "ni8D_5UUel-L"
      },
      "source": [
        "##Correlation Matrix\n",
        "We can have an overview of which variables are correlated by using the correlation matrix"
      ]
    },
    {
      "cell_type": "code",
      "metadata": {
        "id": "P1-n0njHebAm",
        "colab": {
          "base_uri": "https://localhost:8080/",
          "height": 554
        },
        "outputId": "1620c39f-a12a-4e26-c442-e8438e2743c1"
      },
      "source": [
        "import seaborn as sn\n",
        "plt.figure(figsize=(14,7))\n",
        "sn.heatmap(countryData.corr(), annot=True)"
      ],
      "execution_count": null,
      "outputs": [
        {
          "output_type": "execute_result",
          "data": {
            "text/plain": [
              "<matplotlib.axes._subplots.AxesSubplot at 0x7f6e4e300668>"
            ]
          },
          "metadata": {
            "tags": []
          },
          "execution_count": 14
        },
        {
          "output_type": "display_data",
          "data": {
            "image/png": "[encoded data removed]",
            "text/plain": [
              "<Figure size 1008x504 with 2 Axes>"
            ]
          },
          "metadata": {
            "tags": [],
            "needs_background": "light"
          }
        }
      ]
    },
    {
      "cell_type": "markdown",
      "metadata": {
        "id": "EDlSp34NexUZ"
      },
      "source": [
        "There is a strong correlation between area and population which is trivial.\n",
        "\n",
        "There is also a clear negative Correlation between Literacy Rate and Unemployment Percentage\n"
      ]
    },
    {
      "cell_type": "markdown",
      "metadata": {
        "id": "IvOzZEYDEZjj"
      },
      "source": [
        "##Box Plot"
      ]
    },
    {
      "cell_type": "code",
      "metadata": {
        "id": "3HW31dndfu_0",
        "colab": {
          "base_uri": "https://localhost:8080/",
          "height": 360
        },
        "outputId": "e81f01f3-359d-49c4-e6f6-10881ab5b9e0"
      },
      "source": [
        "countryData.boxplot(column=['gini','Real Growth Rating(%)', 'Literacy Rate(%)', 'Inflation(%)','Unemployement(%)'])\n",
        "plt.xticks(rotation=45)"
      ],
      "execution_count": null,
      "outputs": [
        {
          "output_type": "execute_result",
          "data": {
            "text/plain": [
              "(array([1, 2, 3, 4, 5]), <a list of 5 Text major ticklabel objects>)"
            ]
          },
          "metadata": {
            "tags": []
          },
          "execution_count": 16
        },
        {
          "output_type": "display_data",
          "data": {
            "image/png": "[encoded data removed]",
            "text/plain": [
              "<Figure size 432x288 with 1 Axes>"
            ]
          },
          "metadata": {
            "tags": [],
            "needs_background": "light"
          }
        }
      ]
    },
    {
      "cell_type": "markdown",
      "metadata": {
        "id": "At1rF1radLxU"
      },
      "source": [
        "##10 Least Literate Countries"
      ]
    },
    {
      "cell_type": "code",
      "metadata": {
        "id": "2Fh02SCmblTb",
        "colab": {
          "base_uri": "https://localhost:8080/",
          "height": 342
        },
        "outputId": "1a4fad53-e11b-47f9-d2ae-7e39380b09e4"
      },
      "source": [
        "literacyTop10 = countryData.sort_values('Literacy Rate(%)', ascending=True, ignore_index=True)[:10]\n",
        "plt.title(\"10 Least Literate Countries\")\n",
        "plt.bar(literacyTop10['name'], literacyTop10['Literacy Rate(%)'])\n",
        "plt.xticks(rotation=45)"
      ],
      "execution_count": null,
      "outputs": [
        {
          "output_type": "execute_result",
          "data": {
            "text/plain": [
              "([0, 1, 2, 3, 4, 5, 6, 7, 8, 9], <a list of 10 Text major ticklabel objects>)"
            ]
          },
          "metadata": {
            "tags": []
          },
          "execution_count": 32
        },
        {
          "output_type": "display_data",
          "data": {
            "image/png": "[encoded data removed]",
            "text/plain": [
              "<Figure size 432x288 with 1 Axes>"
            ]
          },
          "metadata": {
            "tags": [],
            "needs_background": "light"
          }
        }
      ]
    },
    {
      "cell_type": "markdown",
      "metadata": {
        "id": "IicCXMA9D6i0"
      },
      "source": [
        "##Employment Charts"
      ]
    },
    {
      "cell_type": "code",
      "metadata": {
        "colab": {
          "base_uri": "https://localhost:8080/",
          "height": 362
        },
        "id": "soFrANVCDAMt",
        "outputId": "56fb4026-1455-481a-a16f-6fd80b42b563"
      },
      "source": [
        "unemploymentTop10 = countryData.sort_values('Unemployement(%)', ascending=True, ignore_index=True)[:10]\r\n",
        "plt.title(\"10 Least Employed Countries\")\r\n",
        "plt.bar(unemploymentTop10['name'], unemploymentTop10['Unemployement(%)'])\r\n",
        "plt.xticks(rotation=45)"
      ],
      "execution_count": null,
      "outputs": [
        {
          "output_type": "execute_result",
          "data": {
            "text/plain": [
              "([0, 1, 2, 3, 4, 5, 6, 7, 8, 9], <a list of 10 Text major ticklabel objects>)"
            ]
          },
          "metadata": {
            "tags": []
          },
          "execution_count": 28
        },
        {
          "output_type": "display_data",
          "data": {
            "image/png": "[encoded data removed]",
            "text/plain": [
              "<Figure size 432x288 with 1 Axes>"
            ]
          },
          "metadata": {
            "tags": [],
            "needs_background": "light"
          }
        }
      ]
    },
    {
      "cell_type": "code",
      "metadata": {
        "colab": {
          "base_uri": "https://localhost:8080/",
          "height": 344
        },
        "id": "34hRXuSIDzfG",
        "outputId": "9693c8a2-689d-444e-aa74-d54b80611def"
      },
      "source": [
        "employmentTop10 = countryData.sort_values('Unemployement(%)', ascending=False, ignore_index=True)[:10]\r\n",
        "plt.title(\"10 Most Employed Countries\")\r\n",
        "plt.bar(employmentTop10['name'], employmentTop10['Unemployement(%)'])\r\n",
        "plt.xticks(rotation=45)"
      ],
      "execution_count": null,
      "outputs": [
        {
          "output_type": "execute_result",
          "data": {
            "text/plain": [
              "([0, 1, 2, 3, 4, 5, 6, 7, 8, 9], <a list of 10 Text major ticklabel objects>)"
            ]
          },
          "metadata": {
            "tags": []
          },
          "execution_count": 30
        },
        {
          "output_type": "display_data",
          "data": {
            "image/png": "[encoded data removed]",
            "text/plain": [
              "<Figure size 432x288 with 1 Axes>"
            ]
          },
          "metadata": {
            "tags": [],
            "needs_background": "light"
          }
        }
      ]
    },
    {
      "cell_type": "markdown",
      "metadata": {
        "id": "M8ASwvBSd3KV"
      },
      "source": [
        "##Literacy Rate vs Unemployement"
      ]
    },
    {
      "cell_type": "markdown",
      "metadata": {
        "id": "qYUxYJP4EtQK"
      },
      "source": [
        "According to the confusion matrix, there is a correlation between Literacy Rate and Unemployment, we plot them to see if there is something interesting."
      ]
    },
    {
      "cell_type": "code",
      "metadata": {
        "id": "6Ki9-VFJdKdH",
        "colab": {
          "base_uri": "https://localhost:8080/",
          "height": 298
        },
        "outputId": "6cf6c053-c5a9-4e16-a42b-b8c381bcffdd"
      },
      "source": [
        "plt.title(\"Literacy Rate(%) vs Unemployement(%)\")\r\n",
        "plt.scatter(countryData['Literacy Rate(%)'], countryData['Unemployement(%)'])"
      ],
      "execution_count": null,
      "outputs": [
        {
          "output_type": "execute_result",
          "data": {
            "text/plain": [
              "<matplotlib.collections.PathCollection at 0x7f6e4930d978>"
            ]
          },
          "metadata": {
            "tags": []
          },
          "execution_count": 20
        },
        {
          "output_type": "display_data",
          "data": {
            "image/png": "[encoded data removed]",
            "text/plain": [
              "<Figure size 432x288 with 1 Axes>"
            ]
          },
          "metadata": {
            "tags": [],
            "needs_background": "light"
          }
        }
      ]
    },
    {
      "cell_type": "markdown",
      "metadata": {
        "id": "Xn-uNlguFRSf"
      },
      "source": [
        "We can conclude that most countries with high literacy rate have a low unemployment rate, which is logical."
      ]
    }
  ]
}